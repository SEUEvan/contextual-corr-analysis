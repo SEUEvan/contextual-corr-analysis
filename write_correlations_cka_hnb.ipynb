{
 "cells": [
  {
   "cell_type": "code",
   "execution_count": 2,
   "metadata": {},
   "outputs": [],
   "source": [
    "import torch\n",
    "import json\n",
    "from tqdm import tqdm\n",
    "from itertools import product as p\n",
    "import numpy as np"
   ]
  },
  {
   "cell_type": "markdown",
   "metadata": {},
   "source": [
    "# Load fake activations"
   ]
  },
  {
   "cell_type": "code",
   "execution_count": 3,
   "metadata": {},
   "outputs": [],
   "source": [
    "class A:\n",
    "    pass\n",
    "self = A()"
   ]
  },
  {
   "cell_type": "code",
   "execution_count": 4,
   "metadata": {},
   "outputs": [],
   "source": [
    "self.num_neurons_d = {} # {fname, int}\n",
    "self.representations_d = {} # {fname, tensor}\n",
    "f1, f2, f3 = \"foo\", \"bar\", \"baz\"\n",
    "representation_files = [f1, f2, f3]"
   ]
  },
  {
   "cell_type": "code",
   "execution_count": 5,
   "metadata": {},
   "outputs": [],
   "source": [
    "# initialize `num_neurons_d`, `representations_d` with fake data\n",
    "n1, n2, n3 = 100, 80, 70\n",
    "nword = 1000\n",
    "t1 = torch.randn(nword, n1)\n",
    "t2 = torch.randn(nword, n2)\n",
    "t3 = torch.randn(nword, n3)\n",
    "self.num_neurons_d[f1] = n1\n",
    "self.num_neurons_d[f2] = n2\n",
    "self.num_neurons_d[f3] = n3\n",
    "self.representations_d[f1] = t1\n",
    "self.representations_d[f2] = t2\n",
    "self.representations_d[f3] = t3"
   ]
  },
  {
   "cell_type": "code",
   "execution_count": 6,
   "metadata": {},
   "outputs": [],
   "source": [
    "self.normalize_dimensions = True"
   ]
  },
  {
   "cell_type": "markdown",
   "metadata": {},
   "source": [
    "# Compute Correlations"
   ]
  },
  {
   "cell_type": "code",
   "execution_count": 7,
   "metadata": {},
   "outputs": [],
   "source": [
    "def compute_correlations(self):\n",
    "    \"\"\"\n",
    "    Set `self.similarities`. \n",
    "    \"\"\"\n",
    "    # Normalize\n",
    "    if self.normalize_dimensions:\n",
    "        for network in tqdm(self.representations_d, desc='mu, sigma'):\n",
    "            # TODO: might not need to normalize, only center\n",
    "            t = self.representations_d[network]\n",
    "            means = t.mean(0, keepdim=True)\n",
    "            stdevs = t.std(0, keepdim=True)\n",
    "\n",
    "            self.representations_d[network] = (t - means) / stdevs\n",
    "\n",
    "    # Set `self.similarities`\n",
    "    # {network: {other: cka_similarity}}\n",
    "    self.similarities = {network: {} for network in self.representations_d}\n",
    "    for network, other_network in tqdm(p(self.representations_d,\n",
    "                                         self.representations_d), desc='cka',\n",
    "                                       total=len(self.representations_d)**2):\n",
    "\n",
    "        if network == other_network:\n",
    "            continue\n",
    "\n",
    "        if other_network in self.similarities[network].keys(): # TO DO: optimize?\n",
    "            continue\n",
    "\n",
    "        X = self.representations_d[network]\n",
    "        Y = self.representations_d[other_network]\n",
    "\n",
    "        XtX_F = torch.norm(torch.mm(X.t(), X), p='fro').item()\n",
    "        YtY_F = torch.norm(torch.mm(Y.t(), Y), p='fro').item()\n",
    "        YtX_F = torch.norm(torch.mm(Y.t(), X), p='fro').item()\n",
    "\n",
    "        # eq 5 in paper\n",
    "        self.similarities[network][other_network] = YtX_F**2 / (XtX_F*YtY_F)"
   ]
  },
  {
   "cell_type": "code",
   "execution_count": 8,
   "metadata": {},
   "outputs": [
    {
     "name": "stderr",
     "output_type": "stream",
     "text": [
      "mu, sigma: 100%|█| 3/3 [00:00<00:00, 965.17it/s]\n",
      "cka: 100%|█| 9/9 [00:00<00:00, 1341.56it/s]\n"
     ]
    }
   ],
   "source": [
    "compute_correlations(self)"
   ]
  },
  {
   "cell_type": "markdown",
   "metadata": {},
   "source": [
    "# Build function"
   ]
  },
  {
   "cell_type": "code",
   "execution_count": 9,
   "metadata": {},
   "outputs": [],
   "source": [
    "output_file = \"temp\""
   ]
  },
  {
   "cell_type": "code",
   "execution_count": 11,
   "metadata": {},
   "outputs": [],
   "source": [
    "torch.save(self.similarities, output_file)"
   ]
  },
  {
   "cell_type": "code",
   "execution_count": 12,
   "metadata": {},
   "outputs": [
    {
     "data": {
      "text/plain": [
       "{'foo': {'bar': 0.08240745869842656, 'baz': 0.07658038898416103},\n",
       " 'bar': {'foo': 0.0824072311273204, 'baz': 0.06845917054715424},\n",
       " 'baz': {'foo': 0.07658026112880613, 'bar': 0.06845918481026368}}"
      ]
     },
     "execution_count": 12,
     "metadata": {},
     "output_type": "execute_result"
    }
   ],
   "source": [
    "torch.load(output_file)"
   ]
  },
  {
   "cell_type": "code",
   "execution_count": null,
   "metadata": {},
   "outputs": [],
   "source": []
  }
 ],
 "metadata": {
  "kernelspec": {
   "display_name": "Python 3",
   "language": "python",
   "name": "python3"
  },
  "language_info": {
   "codemirror_mode": {
    "name": "ipython",
    "version": 3
   },
   "file_extension": ".py",
   "mimetype": "text/x-python",
   "name": "python",
   "nbconvert_exporter": "python",
   "pygments_lexer": "ipython3",
   "version": "3.7.3"
  }
 },
 "nbformat": 4,
 "nbformat_minor": 2
}
