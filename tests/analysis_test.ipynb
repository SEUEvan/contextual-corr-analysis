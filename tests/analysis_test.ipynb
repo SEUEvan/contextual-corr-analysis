{
 "cells": [
  {
   "cell_type": "code",
   "execution_count": 1,
   "metadata": {},
   "outputs": [],
   "source": [
    "import pickle\n",
    "import matplotlib.pyplot as plt\n",
    "import numpy as np\n",
    "import pandas as pd\n",
    "from os.path import basename, dirname\n",
    "import torch\n",
    "import seaborn as sns\n",
    "from ipywidgets import FloatSlider, interactive"
   ]
  },
  {
   "cell_type": "code",
   "execution_count": 2,
   "metadata": {},
   "outputs": [],
   "source": [
    "method_l = [\n",
    "    \"maxcorr\", \n",
    "    \"mincorr\", \n",
    "    \"maxlinreg\", \n",
    "    \"minlinreg\", \n",
    "    \"cca\", \n",
    "    \"lincka\", \n",
    "    # \"rbfcka\",\n",
    "]"
   ]
  },
  {
   "cell_type": "code",
   "execution_count": 3,
   "metadata": {},
   "outputs": [],
   "source": [
    "# Set `res_d`, `network_l`, `num_neurons_d`\n",
    "base = \"/data/sls/temp/johnmwu/contextual-corr-analysis/results_test_\"\n",
    "res_fname = {method : base + method for method in \n",
    "                method_l}\n",
    "\n",
    "res_d = {}\n",
    "for method in method_l:\n",
    "    with open(res_fname[method], 'rb') as f:\n",
    "        res_d[method] = pickle.load(f)\n",
    "\n",
    "network_l = [network for network in res_d[\"maxcorr\"][\"corrs\"]]\n",
    "\n",
    "num_neurons_d = {}\n",
    "for network in network_l:\n",
    "    num_neurons_d[network] = len(next(iter(res_d[\"maxcorr\"][\"corrs\"][network].values()))) # god this is a hack"
   ]
  },
  {
   "cell_type": "markdown",
   "metadata": {},
   "source": [
    "# MaxCorr, MinCorr, MaxLinReg, MinLinReg"
   ]
  },
  {
   "cell_type": "markdown",
   "metadata": {},
   "source": [
    "### Sorts"
   ]
  },
  {
   "cell_type": "code",
   "execution_count": 4,
   "metadata": {},
   "outputs": [],
   "source": [
    "rk_methods = {\"maxcorr\", \"mincorr\", \"maxlinreg\", \"minlinreg\"}"
   ]
  },
  {
   "cell_type": "code",
   "execution_count": 5,
   "metadata": {},
   "outputs": [],
   "source": [
    "neuron_sorts = {network: {} for network in network_l}\n",
    "for network in network_l:\n",
    "    for method in rk_methods:\n",
    "        neuron_sorts[network][method] = res_d[method][\"neuron_sort\"][network]"
   ]
  },
  {
   "cell_type": "code",
   "execution_count": 6,
   "metadata": {},
   "outputs": [],
   "source": [
    "# Set `rk_ar_d`, `rk_df_d`, `spearman_d`\n",
    "rk_ar_d = {}\n",
    "rk_df_d = {}\n",
    "spearman_d = {}\n",
    "for network in network_l:\n",
    "    # rk_ar[method_ix, neuron] = rank\n",
    "    # need to invert the permutation\n",
    "    rk_ar = np.stack([\n",
    "            [neuron_sorts[network][method].index(neuron) for neuron in range(len(neuron_sorts[network][method]))]\n",
    "                      for method in rk_methods\n",
    "    ]).T\n",
    "    rk_df = pd.DataFrame(rk_ar, columns=list(rk_methods))\n",
    "    \n",
    "    rk_ar_d[network] = rk_ar\n",
    "    rk_df_d[network] = rk_df\n",
    "    spearman_d[network] = rk_df.corr()"
   ]
  },
  {
   "cell_type": "code",
   "execution_count": 7,
   "metadata": {},
   "outputs": [
    {
     "name": "stdout",
     "output_type": "stream",
     "text": [
      "elmo_original_0\n",
      "           maxlinreg  minlinreg   maxcorr   mincorr\n",
      "maxlinreg   1.000000   0.968794  0.722622  0.718241\n",
      "minlinreg   0.968794   1.000000  0.771616  0.770745\n",
      "maxcorr     0.722622   0.771616  1.000000  0.925646\n",
      "mincorr     0.718241   0.770745  0.925646  1.000000\n",
      "elmo_original_1\n",
      "           maxlinreg  minlinreg   maxcorr   mincorr\n",
      "maxlinreg   1.000000   0.842158  0.668498  0.639297\n",
      "minlinreg   0.842158   1.000000  0.482300  0.775074\n",
      "maxcorr     0.668498   0.482300  1.000000  0.286156\n",
      "mincorr     0.639297   0.775074  0.286156  1.000000\n",
      "elmo_original_2\n",
      "           maxlinreg  minlinreg   maxcorr   mincorr\n",
      "maxlinreg   1.000000   0.830274  0.745920  0.640194\n",
      "minlinreg   0.830274   1.000000  0.626508  0.802370\n",
      "maxcorr     0.745920   0.626508  1.000000  0.467828\n",
      "mincorr     0.640194   0.802370  0.467828  1.000000\n"
     ]
    }
   ],
   "source": [
    "for network in network_l:\n",
    "    print(network)\n",
    "    # print(rk_df_d[network])\n",
    "    print(spearman_d[network])"
   ]
  },
  {
   "cell_type": "markdown",
   "metadata": {},
   "source": [
    "### Distributions"
   ]
  },
  {
   "cell_type": "code",
   "execution_count": 9,
   "metadata": {},
   "outputs": [],
   "source": [
    "method = \"maxcorr\"\n",
    "network = \"elmo_original_0\""
   ]
  },
  {
   "cell_type": "code",
   "execution_count": 11,
   "metadata": {},
   "outputs": [],
   "source": [
    "notated_neuron = res_d[method][\"neuron_notated_sort\"][network][0]"
   ]
  },
  {
   "cell_type": "code",
   "execution_count": 16,
   "metadata": {},
   "outputs": [
    {
     "data": {
      "text/plain": [
       "{'elmo_original_1': array([0.2644712 , 0.24154745, 0.3417127 , ..., 0.14911196, 0.3287669 ,\n",
       "        0.1628318 ], dtype=float32),\n",
       " 'elmo_original_2': array([0.2790686 , 0.17504421, 0.2784313 , ..., 0.14538047, 0.22215934,\n",
       "        0.15905769], dtype=float32)}"
      ]
     },
     "execution_count": 16,
     "metadata": {},
     "output_type": "execute_result"
    }
   ],
   "source": [
    "res_d[method][\"corrs\"][network]"
   ]
  },
  {
   "cell_type": "code",
   "execution_count": 12,
   "metadata": {},
   "outputs": [
    {
     "data": {
      "text/plain": [
       "(184,\n",
       " {'elmo_original_1': (0.5912934, 814), 'elmo_original_2': (0.34182715, 839)})"
      ]
     },
     "execution_count": 12,
     "metadata": {},
     "output_type": "execute_result"
    }
   ],
   "source": [
    "notated_neuron"
   ]
  },
  {
   "cell_type": "code",
   "execution_count": 15,
   "metadata": {},
   "outputs": [],
   "source": [
    "np.hstack?"
   ]
  },
  {
   "cell_type": "code",
   "execution_count": 18,
   "metadata": {},
   "outputs": [
    {
     "name": "stdout",
     "output_type": "stream",
     "text": [
      "\n",
      "\n",
      "elmo_original_0:\n",
      "\n",
      "maxlinreg\n",
      "\n",
      "maxcounts\n",
      "elmo_original_1    1024\n",
      "dtype: int64\n",
      "\n",
      "mincounts\n",
      "elmo_original_2    1024\n",
      "dtype: int64\n",
      "\n",
      "corr_df_pctl\n",
      "          max       min       med\n",
      "max  1.000000  0.968794  0.989115\n",
      "min  0.968794  1.000000  0.994329\n",
      "med  0.989115  0.994329  1.000000\n",
      "\n",
      "minlinreg\n",
      "\n",
      "maxcounts\n",
      "elmo_original_1    1024\n",
      "dtype: int64\n",
      "\n",
      "mincounts\n",
      "elmo_original_2    1024\n",
      "dtype: int64\n",
      "\n",
      "corr_df_pctl\n",
      "          max       min       med\n",
      "max  1.000000  0.968794  0.989115\n",
      "min  0.968794  1.000000  0.994329\n",
      "med  0.989115  0.994329  1.000000\n",
      "\n",
      "maxcorr\n",
      "\n",
      "maxcounts\n",
      "elmo_original_1    712\n",
      "elmo_original_2    312\n",
      "dtype: int64\n",
      "\n",
      "mincounts\n",
      "elmo_original_2    712\n",
      "elmo_original_1    312\n",
      "dtype: int64\n",
      "\n",
      "corr_df_pctl\n",
      "          max       min       med\n",
      "max  1.000000  0.925646  0.985811\n",
      "min  0.925646  1.000000  0.974360\n",
      "med  0.985811  0.974360  1.000000\n",
      "\n",
      "mincorr\n",
      "\n",
      "maxcounts\n",
      "elmo_original_1    712\n",
      "elmo_original_2    312\n",
      "dtype: int64\n",
      "\n",
      "mincounts\n",
      "elmo_original_2    712\n",
      "elmo_original_1    312\n",
      "dtype: int64\n",
      "\n",
      "corr_df_pctl\n",
      "          max       min       med\n",
      "max  1.000000  0.925646  0.985811\n",
      "min  0.925646  1.000000  0.974360\n",
      "med  0.985811  0.974360  1.000000\n",
      "\n",
      "\n",
      "elmo_original_1:\n",
      "\n",
      "maxlinreg\n",
      "\n",
      "maxcounts\n",
      "elmo_original_2    1024\n",
      "dtype: int64\n",
      "\n",
      "mincounts\n",
      "elmo_original_0    1024\n",
      "dtype: int64\n",
      "\n",
      "corr_df_pctl\n",
      "          max       min       med\n",
      "max  1.000000  0.842158  0.929202\n",
      "min  0.842158  1.000000  0.980686\n",
      "med  0.929202  0.980686  1.000000\n",
      "\n",
      "minlinreg\n",
      "\n",
      "maxcounts\n",
      "elmo_original_2    1024\n",
      "dtype: int64\n",
      "\n",
      "mincounts\n",
      "elmo_original_0    1024\n",
      "dtype: int64\n",
      "\n",
      "corr_df_pctl\n",
      "          max       min       med\n",
      "max  1.000000  0.842158  0.929202\n",
      "min  0.842158  1.000000  0.980686\n",
      "med  0.929202  0.980686  1.000000\n",
      "\n",
      "maxcorr\n",
      "\n",
      "maxcounts\n",
      "elmo_original_2    1022\n",
      "elmo_original_0       2\n",
      "dtype: int64\n",
      "\n",
      "mincounts\n",
      "elmo_original_0    1022\n",
      "elmo_original_2       2\n",
      "dtype: int64\n",
      "\n",
      "corr_df_pctl\n",
      "          max       min       med\n",
      "max  1.000000  0.286156  0.693546\n",
      "min  0.286156  1.000000  0.849305\n",
      "med  0.693546  0.849305  1.000000\n",
      "\n",
      "mincorr\n",
      "\n",
      "maxcounts\n",
      "elmo_original_2    1022\n",
      "elmo_original_0       2\n",
      "dtype: int64\n",
      "\n",
      "mincounts\n",
      "elmo_original_0    1022\n",
      "elmo_original_2       2\n",
      "dtype: int64\n",
      "\n",
      "corr_df_pctl\n",
      "          max       min       med\n",
      "max  1.000000  0.286156  0.693546\n",
      "min  0.286156  1.000000  0.849305\n",
      "med  0.693546  0.849305  1.000000\n",
      "\n",
      "\n",
      "elmo_original_2:\n",
      "\n",
      "maxlinreg\n",
      "\n",
      "maxcounts\n",
      "elmo_original_1    1024\n",
      "dtype: int64\n",
      "\n",
      "mincounts\n",
      "elmo_original_0    1024\n",
      "dtype: int64\n",
      "\n",
      "corr_df_pctl\n",
      "          max       min       med\n",
      "max  1.000000  0.830274  0.921331\n",
      "min  0.830274  1.000000  0.979974\n",
      "med  0.921331  0.979974  1.000000\n",
      "\n",
      "minlinreg\n",
      "\n",
      "maxcounts\n",
      "elmo_original_1    1024\n",
      "dtype: int64\n",
      "\n",
      "mincounts\n",
      "elmo_original_0    1024\n",
      "dtype: int64\n",
      "\n",
      "corr_df_pctl\n",
      "          max       min       med\n",
      "max  1.000000  0.830274  0.921331\n",
      "min  0.830274  1.000000  0.979974\n",
      "med  0.921331  0.979974  1.000000\n",
      "\n",
      "maxcorr\n",
      "\n",
      "maxcounts\n",
      "elmo_original_1    1024\n",
      "dtype: int64\n",
      "\n",
      "mincounts\n",
      "elmo_original_0    1024\n",
      "dtype: int64\n",
      "\n",
      "corr_df_pctl\n",
      "          max       min       med\n",
      "max  1.000000  0.467828  0.820175\n",
      "min  0.467828  1.000000  0.861167\n",
      "med  0.820175  0.861167  1.000000\n",
      "\n",
      "mincorr\n",
      "\n",
      "maxcounts\n",
      "elmo_original_1    1024\n",
      "dtype: int64\n",
      "\n",
      "mincounts\n",
      "elmo_original_0    1024\n",
      "dtype: int64\n",
      "\n",
      "corr_df_pctl\n",
      "          max       min       med\n",
      "max  1.000000  0.467828  0.820175\n",
      "min  0.467828  1.000000  0.861167\n",
      "med  0.820175  0.861167  1.000000\n"
     ]
    }
   ],
   "source": [
    "for network in network_l:\n",
    "    print(\"\\n\\n\" + network + \":\")\n",
    "    for method in rk_methods:\n",
    "        print(\"\\n\" + method)\n",
    "        if method == \"maxlinreg\" or method == \"minlinreg\": \n",
    "            corr_df = pd.DataFrame(res_d[method]['pred_power'][network])\n",
    "        else:\n",
    "            corr_df = pd.DataFrame(res_d[method]['corrs'][network])\n",
    "        \n",
    "        print(\"\\nmaxcounts\")\n",
    "        print(corr_df.idxmax(axis=1).value_counts())\n",
    "        \n",
    "        print(\"\\nmincounts\")\n",
    "        print(corr_df.idxmin(axis=1).value_counts())\n",
    "        \n",
    "        print(\"\\ncorr_df_pctl\")\n",
    "        corr_df_pctl = pd.DataFrame()\n",
    "        corr_df_pctl[\"max\"] = corr_df.max(axis=1)\n",
    "        corr_df_pctl[\"min\"] = corr_df.min(axis=1)\n",
    "        corr_df_pctl[\"med\"] = corr_df.median(axis=1)\n",
    "        print(corr_df_pctl.rank().corr()) # spearman\n",
    "        \n",
    "#         corr_df.plot()\n",
    "#         plt.xlabel(\"neuron (sorted order)\")\n",
    "#         plt.ylabel(\"correlation\")\n",
    "#         plt.show()\n",
    "        \n",
    "#         plt.hist(corr_ar.ravel(), bins=100)\n",
    "#         plt.xlabel(\"correlation\")\n",
    "#         plt.ylabel(\"count\")\n",
    "#         plt.show()"
   ]
  },
  {
   "cell_type": "markdown",
   "metadata": {},
   "source": [
    "# LinCKA"
   ]
  },
  {
   "cell_type": "code",
   "execution_count": 19,
   "metadata": {},
   "outputs": [],
   "source": [
    "lincka_df = pd.DataFrame(res_d['lincka']['similarities'])"
   ]
  },
  {
   "cell_type": "code",
   "execution_count": 21,
   "metadata": {},
   "outputs": [
    {
     "data": {
      "text/plain": [
       "elmo_original_2    0.500197\n",
       "elmo_original_1    0.688917\n",
       "elmo_original_0         NaN\n",
       "Name: elmo_original_0, dtype: float64"
      ]
     },
     "execution_count": 21,
     "metadata": {},
     "output_type": "execute_result"
    }
   ],
   "source": [
    "network = \"elmo_original_0\"\n",
    "lincka_df.sort_values(by=network)[network]"
   ]
  },
  {
   "cell_type": "markdown",
   "metadata": {},
   "source": [
    "# RBFCKA"
   ]
  },
  {
   "cell_type": "code",
   "execution_count": null,
   "metadata": {},
   "outputs": [],
   "source": [
    "rbfcka_d = torch.load(res_fname[\"rbfcka\"])\n",
    "rbfcka_df = pd.DataFrame(rbfcka_d)"
   ]
  },
  {
   "cell_type": "code",
   "execution_count": null,
   "metadata": {},
   "outputs": [],
   "source": [
    "rbfcka_df"
   ]
  },
  {
   "cell_type": "code",
   "execution_count": null,
   "metadata": {},
   "outputs": [],
   "source": [
    "network = \"bert_large_cased_0\"\n",
    "rbfcka_df.sort_values(by=network)[network]"
   ]
  },
  {
   "cell_type": "markdown",
   "metadata": {},
   "source": [
    "# CCA"
   ]
  },
  {
   "cell_type": "code",
   "execution_count": 22,
   "metadata": {},
   "outputs": [],
   "source": [
    "corrs, sv_similarities, pw_similarities = res_d['cca']['corrs'], res_d['cca']['sv_similarities'], res_d['cca']['pw_similarities']"
   ]
  },
  {
   "cell_type": "code",
   "execution_count": 23,
   "metadata": {},
   "outputs": [],
   "source": [
    "sv_sim_df = pd.DataFrame(sv_similarities)\n",
    "pw_sim_df = pd.DataFrame(pw_similarities)\n",
    "corrs_df = pd.DataFrame(corrs)\n",
    "maxcorrs_df = corrs_df.applymap(lambda t: float('nan') if type(t) is float else t.max().item())"
   ]
  },
  {
   "cell_type": "code",
   "execution_count": 24,
   "metadata": {},
   "outputs": [
    {
     "data": {
      "text/html": [
       "<div>\n",
       "<style scoped>\n",
       "    .dataframe tbody tr th:only-of-type {\n",
       "        vertical-align: middle;\n",
       "    }\n",
       "\n",
       "    .dataframe tbody tr th {\n",
       "        vertical-align: top;\n",
       "    }\n",
       "\n",
       "    .dataframe thead th {\n",
       "        text-align: right;\n",
       "    }\n",
       "</style>\n",
       "<table border=\"1\" class=\"dataframe\">\n",
       "  <thead>\n",
       "    <tr style=\"text-align: right;\">\n",
       "      <th></th>\n",
       "      <th>elmo_original_0</th>\n",
       "      <th>elmo_original_1</th>\n",
       "      <th>elmo_original_2</th>\n",
       "    </tr>\n",
       "  </thead>\n",
       "  <tbody>\n",
       "    <tr>\n",
       "      <th>elmo_original_1</th>\n",
       "      <td>0.614226</td>\n",
       "      <td>NaN</td>\n",
       "      <td>0.697670</td>\n",
       "    </tr>\n",
       "    <tr>\n",
       "      <th>elmo_original_2</th>\n",
       "      <td>0.490601</td>\n",
       "      <td>0.701596</td>\n",
       "      <td>NaN</td>\n",
       "    </tr>\n",
       "    <tr>\n",
       "      <th>elmo_original_0</th>\n",
       "      <td>NaN</td>\n",
       "      <td>0.598978</td>\n",
       "      <td>0.471365</td>\n",
       "    </tr>\n",
       "  </tbody>\n",
       "</table>\n",
       "</div>"
      ],
      "text/plain": [
       "                 elmo_original_0  elmo_original_1  elmo_original_2\n",
       "elmo_original_1         0.614226              NaN         0.697670\n",
       "elmo_original_2         0.490601         0.701596              NaN\n",
       "elmo_original_0              NaN         0.598978         0.471365"
      ]
     },
     "execution_count": 24,
     "metadata": {},
     "output_type": "execute_result"
    }
   ],
   "source": [
    "pw_sim_df"
   ]
  },
  {
   "cell_type": "markdown",
   "metadata": {},
   "source": [
    "### SVCCA"
   ]
  },
  {
   "cell_type": "code",
   "execution_count": 26,
   "metadata": {},
   "outputs": [
    {
     "data": {
      "text/plain": [
       "elmo_original_2    0.404964\n",
       "elmo_original_1    0.531194\n",
       "elmo_original_0         NaN\n",
       "Name: elmo_original_0, dtype: float64"
      ]
     },
     "execution_count": 26,
     "metadata": {},
     "output_type": "execute_result"
    }
   ],
   "source": [
    "network = \"elmo_original_0\"\n",
    "sv_sim_df.sort_values(by=network)[network]"
   ]
  },
  {
   "cell_type": "markdown",
   "metadata": {},
   "source": [
    "### PWCCA"
   ]
  },
  {
   "cell_type": "code",
   "execution_count": 27,
   "metadata": {},
   "outputs": [
    {
     "data": {
      "text/plain": [
       "elmo_original_2    0.490601\n",
       "elmo_original_1    0.614226\n",
       "elmo_original_0         NaN\n",
       "Name: elmo_original_0, dtype: float64"
      ]
     },
     "execution_count": 27,
     "metadata": {},
     "output_type": "execute_result"
    }
   ],
   "source": [
    "network = \"elmo_original_0\"\n",
    "pw_sim_df.sort_values(by=network)[network]"
   ]
  },
  {
   "cell_type": "markdown",
   "metadata": {},
   "source": [
    "### Heatmaps"
   ]
  },
  {
   "cell_type": "code",
   "execution_count": 28,
   "metadata": {},
   "outputs": [],
   "source": [
    "plt.rcParams[\"figure.figsize\"] = (20,15)"
   ]
  },
  {
   "cell_type": "code",
   "execution_count": 29,
   "metadata": {
    "collapsed": true
   },
   "outputs": [
    {
     "data": {
      "text/plain": [
       "<matplotlib.axes._subplots.AxesSubplot at 0x7f84ec1e2d68>"
      ]
     },
     "execution_count": 29,
     "metadata": {},
     "output_type": "execute_result"
    },
    {
     "data": {
      "image/png": "[encoded data removed]",
      "text/plain": [
       "<Figure size 1440x1080 with 2 Axes>"
      ]
     },
     "metadata": {
      "needs_background": "light"
     },
     "output_type": "display_data"
    }
   ],
   "source": [
    "# lincka\n",
    "sns.heatmap(lincka_df.reindex(lincka_df.columns).fillna(1), vmin=0, vmax=1)"
   ]
  },
  {
   "cell_type": "code",
   "execution_count": 30,
   "metadata": {
    "collapsed": true
   },
   "outputs": [
    {
     "data": {
      "text/plain": [
       "<matplotlib.axes._subplots.AxesSubplot at 0x7f84ec0c57b8>"
      ]
     },
     "execution_count": 30,
     "metadata": {},
     "output_type": "execute_result"
    },
    {
     "data": {
      "image/png": "[encoded data removed]",
      "text/plain": [
       "<Figure size 1440x1080 with 2 Axes>"
      ]
     },
     "metadata": {
      "needs_background": "light"
     },
     "output_type": "display_data"
    }
   ],
   "source": [
    "# pwcca\n",
    "sns.heatmap(pw_sim_df.reindex(pw_sim_df.columns).fillna(1), vmin=0, vmax=1)"
   ]
  },
  {
   "cell_type": "code",
   "execution_count": null,
   "metadata": {},
   "outputs": [],
   "source": [
    "plt.savefig?"
   ]
  },
  {
   "cell_type": "code",
   "execution_count": 31,
   "metadata": {
    "collapsed": true
   },
   "outputs": [
    {
     "data": {
      "application/vnd.jupyter.widget-view+json": {
       "model_id": "3218a9b941014896949efe74aac04ec4",
       "version_major": 2,
       "version_minor": 0
      },
      "text/plain": [
       "interactive(children=(FloatSlider(value=0.0, description='f', max=1.0), Output()), _dom_classes=('widget-inter…"
      ]
     },
     "metadata": {},
     "output_type": "display_data"
    }
   ],
   "source": [
    "memo = {}\n",
    "fname = \"temp_\"\n",
    "def sv_update(f):\n",
    "    fname = \"{0:.2f}.png\".format(f)\n",
    "    try:\n",
    "        plt.imshow(fname+\"{0:.2f}\".format(f))\n",
    "    except:\n",
    "        pass\n",
    "    \n",
    "    try:\n",
    "        df = memo[f]\n",
    "    except:\n",
    "        df = corrs_df.applymap(lambda t: float('nan') if type(t) is float else t[:int(f*len(t))].mean().item())\n",
    "    sns.heatmap(df.fillna(1), vmin=0, vmax=1)\n",
    "    # sns.heatmap(df.fillna(1), )\n",
    "    plt.savefig(fname)\n",
    "    plt.show()\n",
    "slider = FloatSlider(min=0, max=1, step=0.1)\n",
    "\n",
    "interactive(sv_update, f=slider)"
   ]
  },
  {
   "cell_type": "code",
   "execution_count": null,
   "metadata": {},
   "outputs": [],
   "source": [
    "# rbfcka\n",
    "sns.heatmap(rbfcka_df.reindex(rbfcka_df.columns).fillna(1), vmin=0, vmax=1)"
   ]
  },
  {
   "cell_type": "code",
   "execution_count": null,
   "metadata": {},
   "outputs": [],
   "source": [
    "# comparing models\n",
    "# use lincka\n",
    "model1 = \"openai\"\n",
    "model2 = \"xlnet\"\n",
    "cols = [s for s in lincka_df.columns if s.find(model1) >= 0]\n",
    "rows = [s for s in lincka_df.columns if s.find(model2) >= 0]"
   ]
  },
  {
   "cell_type": "code",
   "execution_count": null,
   "metadata": {},
   "outputs": [],
   "source": [
    "df = lincka_df.loc[rows, cols]\n",
    "\n",
    "sns.heatmap(df, xticklabels=range(len(df.columns)), yticklabels=range(len(df.index)), annot=True)\n",
    "plt.xlabel(model1)\n",
    "plt.ylabel(model2)\n",
    "plt.show()"
   ]
  }
 ],
 "metadata": {
  "kernelspec": {
   "display_name": "Python [conda env:jmw0]",
   "language": "python",
   "name": "conda-env-jmw0-py"
  },
  "language_info": {
   "codemirror_mode": {
    "name": "ipython",
    "version": 3
   },
   "file_extension": ".py",
   "mimetype": "text/x-python",
   "name": "python",
   "nbconvert_exporter": "python",
   "pygments_lexer": "ipython3",
   "version": "3.6.8"
  }
 },
 "nbformat": 4,
 "nbformat_minor": 2
}
