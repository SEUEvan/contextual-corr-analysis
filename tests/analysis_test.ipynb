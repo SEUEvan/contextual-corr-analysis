{
 "cells": [
  {
   "cell_type": "code",
   "execution_count": 1,
   "metadata": {},
   "outputs": [],
   "source": [
    "import pickle\n",
    "import matplotlib.pyplot as plt\n",
    "import numpy as np\n",
    "import pandas as pd\n",
    "from os.path import basename, dirname\n",
    "import torch\n",
    "import seaborn as sns\n",
    "from ipywidgets import FloatSlider, interactive\n",
    "from var import fname2mname, network2pair, network_sort_key"
   ]
  },
  {
   "cell_type": "code",
   "execution_count": 2,
   "metadata": {},
   "outputs": [],
   "source": [
    "method_l = [\n",
    "    \"maxcorr\", \n",
    "    \"mincorr\", \n",
    "    \"maxlinreg\", \n",
    "    \"minlinreg\", \n",
    "    \"cca\", \n",
    "    \"lincka\", \n",
    "    # \"rbfcka\",\n",
    "]"
   ]
  },
  {
   "cell_type": "code",
   "execution_count": 3,
   "metadata": {},
   "outputs": [],
   "source": [
    "# Set `res_d`, `network_l`, `num_neurons_d`\n",
    "base = \"/data/sls/temp/johnmwu/contextual-corr-analysis/results_test_\"\n",
    "res_fname = {method : base + method for method in \n",
    "                method_l}\n",
    "\n",
    "res_d = {}\n",
    "for method in method_l:\n",
    "    with open(res_fname[method], 'rb') as f:\n",
    "        res_d[method] = pickle.load(f)\n",
    "\n",
    "network_l = [network for network in res_d[\"maxcorr\"][\"corrs\"]]\n",
    "\n",
    "num_neurons_d = {}\n",
    "for network in network_l:\n",
    "    num_neurons_d[network] = len(next(iter(res_d[\"maxcorr\"][\"corrs\"][network].values()))) # god this is a hack"
   ]
  },
  {
   "cell_type": "markdown",
   "metadata": {},
   "source": [
    "# MaxCorr, MinCorr, MaxLinReg, MinLinReg"
   ]
  },
  {
   "cell_type": "markdown",
   "metadata": {},
   "source": [
    "### Sorts"
   ]
  },
  {
   "cell_type": "code",
   "execution_count": 4,
   "metadata": {},
   "outputs": [],
   "source": [
    "rk_methods = {\"maxcorr\", \"mincorr\", \"maxlinreg\", \"minlinreg\"}"
   ]
  },
  {
   "cell_type": "code",
   "execution_count": 5,
   "metadata": {},
   "outputs": [],
   "source": [
    "neuron_sorts = {network: {} for network in network_l}\n",
    "for network in network_l:\n",
    "    for method in rk_methods:\n",
    "        neuron_sorts[network][method] = res_d[method][\"neuron_sort\"][network]"
   ]
  },
  {
   "cell_type": "code",
   "execution_count": 6,
   "metadata": {},
   "outputs": [],
   "source": [
    "# Set `rk_ar_d`, `rk_df_d`, `spearman_d`\n",
    "rk_ar_d = {}\n",
    "rk_df_d = {}\n",
    "spearman_d = {}\n",
    "for network in network_l:\n",
    "    # rk_ar[method_ix, neuron] = rank\n",
    "    # need to invert the permutation\n",
    "    rk_ar = np.stack([\n",
    "            [neuron_sorts[network][method].index(neuron) for neuron in range(len(neuron_sorts[network][method]))]\n",
    "                      for method in rk_methods\n",
    "    ]).T\n",
    "    rk_df = pd.DataFrame(rk_ar, columns=list(rk_methods))\n",
    "    \n",
    "    rk_ar_d[network] = rk_ar\n",
    "    rk_df_d[network] = rk_df\n",
    "    spearman_d[network] = rk_df.corr()"
   ]
  },
  {
   "cell_type": "code",
   "execution_count": 7,
   "metadata": {},
   "outputs": [
    {
     "name": "stdout",
     "output_type": "stream",
     "text": [
      "elmo_original_0\n",
      "           minlinreg   maxcorr   mincorr  maxlinreg\n",
      "minlinreg   1.000000  0.771616  0.770745   0.968793\n",
      "maxcorr     0.771616  1.000000  0.925646   0.722636\n",
      "mincorr     0.770745  0.925646  1.000000   0.718244\n",
      "maxlinreg   0.968793  0.722636  0.718244   1.000000\n",
      "elmo_original_1\n",
      "           minlinreg   maxcorr   mincorr  maxlinreg\n",
      "minlinreg   1.000000  0.480988  0.776608   0.842912\n",
      "maxcorr     0.480988  1.000000  0.286161   0.668495\n",
      "mincorr     0.776608  0.286161  1.000000   0.639306\n",
      "maxlinreg   0.842912  0.668495  0.639306   1.000000\n",
      "elmo_original_2\n",
      "           minlinreg   maxcorr   mincorr  maxlinreg\n",
      "minlinreg   1.000000  0.627049  0.803457   0.831522\n",
      "maxcorr     0.627049  1.000000  0.467823   0.745922\n",
      "mincorr     0.803457  0.467823  1.000000   0.640187\n",
      "maxlinreg   0.831522  0.745922  0.640187   1.000000\n"
     ]
    }
   ],
   "source": [
    "for network in network_l:\n",
    "    print(network)\n",
    "    # print(rk_df_d[network])\n",
    "    print(spearman_d[network])"
   ]
  },
  {
   "cell_type": "markdown",
   "metadata": {},
   "source": [
    "### Distributions"
   ]
  },
  {
   "cell_type": "code",
   "execution_count": 8,
   "metadata": {},
   "outputs": [
    {
     "name": "stdout",
     "output_type": "stream",
     "text": [
      "\n",
      "\n",
      "elmo_original_0:\n",
      "\n",
      "minlinreg\n",
      "\n",
      "maxcounts\n",
      "elmo_original_1    1024\n",
      "dtype: int64\n",
      "\n",
      "mincounts\n",
      "elmo_original_2    1024\n",
      "dtype: int64\n",
      "\n",
      "corr_df_pctl\n",
      "          max       min       med\n",
      "max  1.000000  0.968793  0.989114\n",
      "min  0.968793  1.000000  0.994329\n",
      "med  0.989114  0.994329  1.000000\n",
      "\n",
      "maxcorr\n",
      "\n",
      "maxcounts\n",
      "elmo_original_1    712\n",
      "elmo_original_2    312\n",
      "dtype: int64\n",
      "\n",
      "mincounts\n",
      "elmo_original_2    712\n",
      "elmo_original_1    312\n",
      "dtype: int64\n",
      "\n",
      "corr_df_pctl\n",
      "          max       min       med\n",
      "max  1.000000  0.925646  0.985811\n",
      "min  0.925646  1.000000  0.974360\n",
      "med  0.985811  0.974360  1.000000\n",
      "\n",
      "mincorr\n",
      "\n",
      "maxcounts\n",
      "elmo_original_1    712\n",
      "elmo_original_2    312\n",
      "dtype: int64\n",
      "\n",
      "mincounts\n",
      "elmo_original_2    712\n",
      "elmo_original_1    312\n",
      "dtype: int64\n",
      "\n",
      "corr_df_pctl\n",
      "          max       min       med\n",
      "max  1.000000  0.925646  0.985811\n",
      "min  0.925646  1.000000  0.974360\n",
      "med  0.985811  0.974360  1.000000\n",
      "\n",
      "maxlinreg\n",
      "\n",
      "maxcounts\n",
      "elmo_original_1    1024\n",
      "dtype: int64\n",
      "\n",
      "mincounts\n",
      "elmo_original_2    1024\n",
      "dtype: int64\n",
      "\n",
      "corr_df_pctl\n",
      "          max       min       med\n",
      "max  1.000000  0.968793  0.989114\n",
      "min  0.968793  1.000000  0.994329\n",
      "med  0.989114  0.994329  1.000000\n",
      "\n",
      "\n",
      "elmo_original_1:\n",
      "\n",
      "minlinreg\n",
      "\n",
      "maxcounts\n",
      "elmo_original_2    1024\n",
      "dtype: int64\n",
      "\n",
      "mincounts\n",
      "elmo_original_0    1024\n",
      "dtype: int64\n",
      "\n",
      "corr_df_pctl\n",
      "          max       min       med\n",
      "max  1.000000  0.842912  0.928893\n",
      "min  0.842912  1.000000  0.981119\n",
      "med  0.928893  0.981119  1.000000\n",
      "\n",
      "maxcorr\n",
      "\n",
      "maxcounts\n",
      "elmo_original_2    1022\n",
      "elmo_original_0       2\n",
      "dtype: int64\n",
      "\n",
      "mincounts\n",
      "elmo_original_0    1022\n",
      "elmo_original_2       2\n",
      "dtype: int64\n",
      "\n",
      "corr_df_pctl\n",
      "          max       min       med\n",
      "max  1.000000  0.286159  0.693547\n",
      "min  0.286159  1.000000  0.849307\n",
      "med  0.693547  0.849307  1.000000\n",
      "\n",
      "mincorr\n",
      "\n",
      "maxcounts\n",
      "elmo_original_2    1022\n",
      "elmo_original_0       2\n",
      "dtype: int64\n",
      "\n",
      "mincounts\n",
      "elmo_original_0    1022\n",
      "elmo_original_2       2\n",
      "dtype: int64\n",
      "\n",
      "corr_df_pctl\n",
      "          max       min       med\n",
      "max  1.000000  0.286159  0.693547\n",
      "min  0.286159  1.000000  0.849307\n",
      "med  0.693547  0.849307  1.000000\n",
      "\n",
      "maxlinreg\n",
      "\n",
      "maxcounts\n",
      "elmo_original_2    1024\n",
      "dtype: int64\n",
      "\n",
      "mincounts\n",
      "elmo_original_0    1024\n",
      "dtype: int64\n",
      "\n",
      "corr_df_pctl\n",
      "          max       min       med\n",
      "max  1.000000  0.842912  0.928893\n",
      "min  0.842912  1.000000  0.981119\n",
      "med  0.928893  0.981119  1.000000\n",
      "\n",
      "\n",
      "elmo_original_2:\n",
      "\n",
      "minlinreg\n",
      "\n",
      "maxcounts\n",
      "elmo_original_1    1024\n",
      "dtype: int64\n",
      "\n",
      "mincounts\n",
      "elmo_original_0    1024\n",
      "dtype: int64\n",
      "\n",
      "corr_df_pctl\n",
      "          max       min      med\n",
      "max  1.000000  0.831523  0.92175\n",
      "min  0.831523  1.000000  0.98026\n",
      "med  0.921750  0.980260  1.00000\n",
      "\n",
      "maxcorr\n",
      "\n",
      "maxcounts\n",
      "elmo_original_1    1024\n",
      "dtype: int64\n",
      "\n",
      "mincounts\n",
      "elmo_original_0    1024\n",
      "dtype: int64\n",
      "\n",
      "corr_df_pctl\n",
      "          max       min       med\n",
      "max  1.000000  0.467821  0.820175\n",
      "min  0.467821  1.000000  0.861163\n",
      "med  0.820175  0.861163  1.000000\n",
      "\n",
      "mincorr\n",
      "\n",
      "maxcounts\n",
      "elmo_original_1    1024\n",
      "dtype: int64\n",
      "\n",
      "mincounts\n",
      "elmo_original_0    1024\n",
      "dtype: int64\n",
      "\n",
      "corr_df_pctl\n",
      "          max       min       med\n",
      "max  1.000000  0.467821  0.820175\n",
      "min  0.467821  1.000000  0.861163\n",
      "med  0.820175  0.861163  1.000000\n",
      "\n",
      "maxlinreg\n",
      "\n",
      "maxcounts\n",
      "elmo_original_1    1024\n",
      "dtype: int64\n",
      "\n",
      "mincounts\n",
      "elmo_original_0    1024\n",
      "dtype: int64\n",
      "\n",
      "corr_df_pctl\n",
      "          max       min      med\n",
      "max  1.000000  0.831523  0.92175\n",
      "min  0.831523  1.000000  0.98026\n",
      "med  0.921750  0.980260  1.00000\n"
     ]
    }
   ],
   "source": [
    "for network in network_l:\n",
    "    print(\"\\n\\n\" + network + \":\")\n",
    "    for method in rk_methods:\n",
    "        print(\"\\n\" + method)\n",
    "        if method == \"maxlinreg\" or method == \"minlinreg\": \n",
    "            corr_df = pd.DataFrame(res_d[method]['pred_power'][network])\n",
    "        else:\n",
    "            corr_df = pd.DataFrame(res_d[method]['corrs'][network])\n",
    "        \n",
    "        print(\"\\nmaxcounts\")\n",
    "        print(corr_df.idxmax(axis=1).value_counts())\n",
    "        \n",
    "        print(\"\\nmincounts\")\n",
    "        print(corr_df.idxmin(axis=1).value_counts())\n",
    "        \n",
    "        print(\"\\ncorr_df_pctl\")\n",
    "        corr_df_pctl = pd.DataFrame()\n",
    "        corr_df_pctl[\"max\"] = corr_df.max(axis=1)\n",
    "        corr_df_pctl[\"min\"] = corr_df.min(axis=1)\n",
    "        corr_df_pctl[\"med\"] = corr_df.median(axis=1)\n",
    "        print(corr_df_pctl.rank().corr()) # spearman\n",
    "        \n",
    "#         corr_df.plot()\n",
    "#         plt.xlabel(\"neuron (sorted order)\")\n",
    "#         plt.ylabel(\"correlation\")\n",
    "#         plt.show()\n",
    "        \n",
    "#         plt.hist(corr_ar.ravel(), bins=100)\n",
    "#         plt.xlabel(\"correlation\")\n",
    "#         plt.ylabel(\"count\")\n",
    "#         plt.show()"
   ]
  },
  {
   "cell_type": "markdown",
   "metadata": {},
   "source": [
    "# LinCKA"
   ]
  },
  {
   "cell_type": "code",
   "execution_count": 9,
   "metadata": {},
   "outputs": [],
   "source": [
    "lincka_df = pd.DataFrame(res_d['lincka']['similarities'])\n",
    "lincka_df = lincka_df.reindex(lincka_df.columns)"
   ]
  },
  {
   "cell_type": "code",
   "execution_count": 10,
   "metadata": {},
   "outputs": [
    {
     "data": {
      "text/plain": [
       "elmo_original_2    0.500198\n",
       "elmo_original_1    0.688916\n",
       "elmo_original_0         NaN\n",
       "Name: elmo_original_0, dtype: float64"
      ]
     },
     "execution_count": 10,
     "metadata": {},
     "output_type": "execute_result"
    }
   ],
   "source": [
    "network = \"elmo_original_0\"\n",
    "lincka_df.sort_values(by=network)[network]"
   ]
  },
  {
   "cell_type": "markdown",
   "metadata": {},
   "source": [
    "# RBFCKA"
   ]
  },
  {
   "cell_type": "code",
   "execution_count": 11,
   "metadata": {},
   "outputs": [],
   "source": [
    "# rbfcka_d = torch.load(res_fname[\"rbfcka\"])\n",
    "# rbfcka_df = pd.DataFrame(rbfcka_d)"
   ]
  },
  {
   "cell_type": "code",
   "execution_count": 12,
   "metadata": {},
   "outputs": [],
   "source": [
    "# rbfcka_df"
   ]
  },
  {
   "cell_type": "code",
   "execution_count": 13,
   "metadata": {},
   "outputs": [],
   "source": [
    "# network = \"bert_large_cased_0\"\n",
    "# rbfcka_df.sort_values(by=network)[network]"
   ]
  },
  {
   "cell_type": "markdown",
   "metadata": {},
   "source": [
    "# CCA"
   ]
  },
  {
   "cell_type": "code",
   "execution_count": 14,
   "metadata": {},
   "outputs": [],
   "source": [
    "sv_corrs = res_d['cca']['corrs']\n",
    "sv_similarities = res_d['cca']['sv_similarities']\n",
    "pw_similarities = res_d['cca']['pw_similarities']\n",
    "pw_corrs = res_d['cca']['pw_corrs']\n",
    "pw_alignments = res_d['cca']['pw_alignments']"
   ]
  },
  {
   "cell_type": "code",
   "execution_count": 15,
   "metadata": {},
   "outputs": [],
   "source": [
    "sv_sim_df = pd.DataFrame(sv_similarities)\n",
    "sv_sim_df = sv_sim_df.reindex(network_l)\n",
    "sv_sim_df = sv_sim_df.reindex(sv_sim_df.columns)\n",
    "\n",
    "pw_sim_df = pd.DataFrame(pw_similarities)\n",
    "pw_sim_df = pw_sim_df.reindex(network_l)\n",
    "pw_sim_df = pw_sim_df.reindex(pw_sim_df.columns)\n",
    "\n",
    "sv_corrs_df = pd.DataFrame(sv_corrs)\n",
    "sv_corrs_df = sv_corrs_df.reindex(network_l)\n",
    "sv_corrs_df = sv_corrs_df.reindex(sv_corrs_df.columns)\n",
    "\n",
    "pw_corrs_df = pd.DataFrame(pw_corrs)\n",
    "pw_corrs_df = pw_corrs_df.reindex(network_l)\n",
    "pw_corrs_df = pw_corrs_df.reindex(pw_corrs_df.columns)\n",
    "\n",
    "pw_alignments_df = pd.DataFrame(pw_alignments)\n",
    "pw_alignments_df = pw_alignments_df.reindex(network_l)\n",
    "pw_alignments_df = pw_alignments_df.reindex(pw_alignments_df.columns)"
   ]
  },
  {
   "cell_type": "code",
   "execution_count": 16,
   "metadata": {},
   "outputs": [],
   "source": [
    "max_corrs_df = sv_corrs_df.applymap(lambda t: float('nan') if type(t) is float else t.max().item())"
   ]
  },
  {
   "cell_type": "markdown",
   "metadata": {},
   "source": [
    "### SVCCA"
   ]
  },
  {
   "cell_type": "code",
   "execution_count": 17,
   "metadata": {},
   "outputs": [
    {
     "data": {
      "text/plain": [
       "elmo_original_2    0.404964\n",
       "elmo_original_1    0.531194\n",
       "elmo_original_0         NaN\n",
       "Name: elmo_original_0, dtype: float64"
      ]
     },
     "execution_count": 17,
     "metadata": {},
     "output_type": "execute_result"
    }
   ],
   "source": [
    "network = \"elmo_original_0\"\n",
    "sv_sim_df.sort_values(by=network)[network]"
   ]
  },
  {
   "cell_type": "markdown",
   "metadata": {},
   "source": [
    "### PWCCA"
   ]
  },
  {
   "cell_type": "code",
   "execution_count": 18,
   "metadata": {},
   "outputs": [
    {
     "data": {
      "text/plain": [
       "elmo_original_2    0.490601\n",
       "elmo_original_1    0.614226\n",
       "elmo_original_0         NaN\n",
       "Name: elmo_original_0, dtype: float64"
      ]
     },
     "execution_count": 18,
     "metadata": {},
     "output_type": "execute_result"
    }
   ],
   "source": [
    "network = \"elmo_original_0\"\n",
    "pw_sim_df.sort_values(by=network)[network]"
   ]
  },
  {
   "cell_type": "markdown",
   "metadata": {},
   "source": [
    "# Heatmaps"
   ]
  },
  {
   "cell_type": "code",
   "execution_count": 19,
   "metadata": {},
   "outputs": [],
   "source": [
    "plt.rcParams[\"figure.figsize\"] = (20,15)"
   ]
  },
  {
   "cell_type": "code",
   "execution_count": 20,
   "metadata": {},
   "outputs": [
    {
     "data": {
      "text/plain": [
       "<matplotlib.axes._subplots.AxesSubplot at 0x7fd7167e3208>"
      ]
     },
     "execution_count": 20,
     "metadata": {},
     "output_type": "execute_result"
    },
    {
     "data": {
      "image/png": "[encoded data removed]",
      "text/plain": [
       "<Figure size 1440x1080 with 2 Axes>"
      ]
     },
     "metadata": {
      "needs_background": "light"
     },
     "output_type": "display_data"
    }
   ],
   "source": [
    "# lincka\n",
    "sns.heatmap(lincka_df.fillna(1), vmin=0, vmax=1)"
   ]
  },
  {
   "cell_type": "code",
   "execution_count": 21,
   "metadata": {},
   "outputs": [],
   "source": [
    "def corrs_update(fl, corr_df, fname_prefix, weights_df=None):\n",
    "    fname = \"{0}{1:.2f}.png\".format(fname_prefix, fl)\n",
    "    try:\n",
    "        im = plt.imread(fname)\n",
    "        plt.imshow(im)\n",
    "    except:\n",
    "        if weights_df is None: # eg. svcca, don't need to do special division\n",
    "            df = corr_df.applymap(lambda t: float('nan') if type(t) is float else \n",
    "                                              t[:int(fl*len(t))].mean())\n",
    "        else:\n",
    "            denominator_df = weights_df.applymap(lambda t: float('nan') if type(t) is float else \n",
    "                                                             t[:int(fl*len(t))].sum())\n",
    "            df = corr_df.applymap(lambda t: float('nan') if type(t) is float else\n",
    "                                            t[:int(fl*len(t))].sum())\n",
    "            df /= denominator_df\n",
    "        sns.heatmap(df.fillna(1), vmin=0, vmax=1)\n",
    "        # sns.heatmap(df.fillna(1), )\n",
    "        plt.savefig(fname, transparent=True)\n",
    "        plt.show()"
   ]
  },
  {
   "cell_type": "code",
   "execution_count": 22,
   "metadata": {},
   "outputs": [
    {
     "data": {
      "application/vnd.jupyter.widget-view+json": {
       "model_id": "d520a9790fef44879173a4ebc99b4a70",
       "version_major": 2,
       "version_minor": 0
      },
      "text/plain": [
       "interactive(children=(FloatSlider(value=0.0, description='fl', max=1.0), Output()), _dom_classes=('widget-inte…"
      ]
     },
     "metadata": {},
     "output_type": "display_data"
    }
   ],
   "source": [
    "# interactive updates\n",
    "def pw_update(fl):\n",
    "    corrs_update(fl, pw_corrs_df, \"temp_test_pw_\", weights_df=pw_alignments_df)\n",
    "slider = FloatSlider(min=0, max=1, step=0.1)\n",
    "interactive(pw_update, fl=slider)"
   ]
  },
  {
   "cell_type": "code",
   "execution_count": 23,
   "metadata": {},
   "outputs": [
    {
     "data": {
      "application/vnd.jupyter.widget-view+json": {
       "model_id": "f85f4032852c4c5abafdcd39b68d62d8",
       "version_major": 2,
       "version_minor": 0
      },
      "text/plain": [
       "interactive(children=(FloatSlider(value=0.0, description='fl', max=1.0), Output()), _dom_classes=('widget-inte…"
      ]
     },
     "metadata": {},
     "output_type": "display_data"
    }
   ],
   "source": [
    "# interactive updates\n",
    "def sv_update(fl):\n",
    "    corrs_update(fl, sv_corrs_df, \"temp_test_sv_\", weights_df=None)\n",
    "slider = FloatSlider(min=0, max=1, step=0.1)\n",
    "interactive(sv_update, fl=slider)"
   ]
  },
  {
   "cell_type": "code",
   "execution_count": 24,
   "metadata": {},
   "outputs": [
    {
     "data": {
      "application/vnd.jupyter.widget-view+json": {
       "model_id": "157084e5c2a9476e98fa903ca880d2cd",
       "version_major": 2,
       "version_minor": 0
      },
      "text/plain": [
       "interactive(children=(FloatSlider(value=0.0, description='fl', max=1.0), Output()), _dom_classes=('widget-inte…"
      ]
     },
     "metadata": {},
     "output_type": "display_data"
    }
   ],
   "source": [
    "# interactive for maxmincorr\n",
    "maxmin_corrs = res_d['maxcorr']['corrs']\n",
    "maxmin_corrs_df = pd.DataFrame(maxmin_corrs).applymap(lambda a: float('nan') if type(a) is float else -np.sort(-a)) # np sort has no reverse keyword\n",
    "maxmin_corrs_df = maxmin_corrs_df.reindex(maxmin_corrs_df.columns)\n",
    "def maxmincorr_update(fl):\n",
    "    corrs_update(fl, maxmin_corrs_df, \"temp_test_maxmincorr_\", weights_df=None)\n",
    "slider = FloatSlider(min=0, max=1, step=0.1)\n",
    "interactive(maxmincorr_update, fl=slider)"
   ]
  },
  {
   "cell_type": "code",
   "execution_count": 25,
   "metadata": {},
   "outputs": [
    {
     "data": {
      "application/vnd.jupyter.widget-view+json": {
       "model_id": "9c8a608d0dc540b8a359016a2bc5f051",
       "version_major": 2,
       "version_minor": 0
      },
      "text/plain": [
       "interactive(children=(FloatSlider(value=0.0, description='fl', max=1.0), Output()), _dom_classes=('widget-inte…"
      ]
     },
     "metadata": {},
     "output_type": "display_data"
    }
   ],
   "source": [
    "# interactive for linregcorr\n",
    "linreg_corrs = res_d['maxlinreg']['pred_power']\n",
    "linreg_corrs_df = pd.DataFrame(linreg_corrs).applymap(lambda a: float('nan') if type(a) is float else -np.sort(-a)) # np sort has no reverse keyword\n",
    "linreg_corrs_df = linreg_corrs_df.reindex(linreg_corrs_df.columns)\n",
    "def linregcorr_update(fl):\n",
    "    corrs_update(fl, linreg_corrs_df, \"temp_test_linregcorr_\", weights_df=None)\n",
    "slider = FloatSlider(min=0, max=1, step=0.1)\n",
    "interactive(linregcorr_update, fl=slider)"
   ]
  },
  {
   "cell_type": "code",
   "execution_count": 26,
   "metadata": {},
   "outputs": [],
   "source": [
    "# rbfcka\n",
    "# sns.heatmap(rbfcka_df.reindex(rbfcka_df.columns).fillna(1), vmin=0, vmax=1)"
   ]
  },
  {
   "cell_type": "code",
   "execution_count": 27,
   "metadata": {},
   "outputs": [],
   "source": [
    "# comparing models\n",
    "# use lincka\n",
    "model1 = \"elmo\"\n",
    "model2 = \"elmo\"\n",
    "cols = [s for s in lincka_df.columns if s.find(model1) >= 0]\n",
    "rows = [s for s in lincka_df.columns if s.find(model2) >= 0]"
   ]
  },
  {
   "cell_type": "code",
   "execution_count": 28,
   "metadata": {},
   "outputs": [
    {
     "data": {
      "image/png": "[encoded data removed]",
      "text/plain": [
       "<Figure size 1440x1080 with 2 Axes>"
      ]
     },
     "metadata": {
      "needs_background": "light"
     },
     "output_type": "display_data"
    }
   ],
   "source": [
    "df = lincka_df.loc[rows, cols]\n",
    "\n",
    "sns.heatmap(df, xticklabels=range(len(df.columns)), yticklabels=range(len(df.index)), annot=True)\n",
    "plt.xlabel(model1)\n",
    "plt.ylabel(model2)\n",
    "plt.show()"
   ]
  },
  {
   "cell_type": "markdown",
   "metadata": {},
   "source": [
    "# Localized vs distributed"
   ]
  },
  {
   "cell_type": "code",
   "execution_count": 29,
   "metadata": {},
   "outputs": [],
   "source": [
    "locl_meth = \"maxcorr\"\n",
    "dist_meth = \"lincka\""
   ]
  },
  {
   "cell_type": "code",
   "execution_count": 34,
   "metadata": {},
   "outputs": [],
   "source": [
    "# Localized and distributed dataframes\n",
    "locl_df = pd.DataFrame(res_d[locl_meth]['similarities'])\n",
    "locl_df = locl_df.reindex(locl_df.columns)\n",
    "\n",
    "dist_df = pd.DataFrame(res_d[dist_meth]['similarities'])\n",
    "dist_df = dist_df.reindex(dist_df.columns)"
   ]
  },
  {
   "cell_type": "code",
   "execution_count": 45,
   "metadata": {},
   "outputs": [],
   "source": [
    "# Localization and distributivity statistics\n",
    "locl_ser = locl_df.mean(axis=1)\n",
    "locl_ser = (locl_ser - locl_ser.mean()) / locl_ser.std()\n",
    "\n",
    "dist_ser = dist_df.mean(axis=1)\n",
    "dist_ser = (dist_ser - dist_ser.mean()) / dist_ser.std()"
   ]
  },
  {
   "cell_type": "code",
   "execution_count": 49,
   "metadata": {},
   "outputs": [],
   "source": [
    "# diff_ser\n",
    "diff_ser = locl_ser - dist_ser"
   ]
  },
  {
   "cell_type": "code",
   "execution_count": 54,
   "metadata": {},
   "outputs": [
    {
     "data": {
      "text/plain": [
       "elmo_original_1   -0.629896\n",
       "elmo_original_2    0.634602\n",
       "elmo_original_0    1.066226\n",
       "dtype: float64"
      ]
     },
     "execution_count": 54,
     "metadata": {},
     "output_type": "execute_result"
    }
   ],
   "source": [
    "diff_ser.sort_values()"
   ]
  }
 ],
 "metadata": {
  "kernelspec": {
   "display_name": "Python [conda env:jmw0]",
   "language": "python",
   "name": "conda-env-jmw0-py"
  },
  "language_info": {
   "codemirror_mode": {
    "name": "ipython",
    "version": 3
   },
   "file_extension": ".py",
   "mimetype": "text/x-python",
   "name": "python",
   "nbconvert_exporter": "python",
   "pygments_lexer": "ipython3",
   "version": "3.6.8"
  }
 },
 "nbformat": 4,
 "nbformat_minor": 2
}
