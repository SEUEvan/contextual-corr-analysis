{
 "cells": [
  {
   "cell_type": "code",
   "execution_count": 1,
   "metadata": {},
   "outputs": [],
   "source": [
    "import torch\n",
    "import json\n",
    "from tqdm import tqdm\n",
    "from itertools import product as p\n",
    "import numpy as np"
   ]
  },
  {
   "cell_type": "markdown",
   "metadata": {},
   "source": [
    "# Load fake activations"
   ]
  },
  {
   "cell_type": "code",
   "execution_count": 2,
   "metadata": {},
   "outputs": [],
   "source": [
    "class A:\n",
    "    pass\n",
    "self = A()"
   ]
  },
  {
   "cell_type": "code",
   "execution_count": 3,
   "metadata": {},
   "outputs": [],
   "source": [
    "self.num_neurons_d = {} # {fname, int}\n",
    "self.representations_d = {} # {fname, tensor}\n",
    "f1, f2, f3 = \"foo\", \"bar\", \"baz\"\n",
    "representation_files = [f1, f2, f3]"
   ]
  },
  {
   "cell_type": "code",
   "execution_count": 4,
   "metadata": {},
   "outputs": [],
   "source": [
    "# initialize `num_neurons_d`, `representations_d` with fake data\n",
    "n1, n2, n3 = 100, 80, 70\n",
    "nword = 1000\n",
    "t1 = torch.randn(nword, n1)\n",
    "t2 = torch.randn(nword, n2)\n",
    "t3 = torch.randn(nword, n3)\n",
    "self.num_neurons_d[f1] = n1\n",
    "self.num_neurons_d[f2] = n2\n",
    "self.num_neurons_d[f3] = n3\n",
    "self.representations_d[f1] = t1\n",
    "self.representations_d[f2] = t2\n",
    "self.representations_d[f3] = t3"
   ]
  },
  {
   "cell_type": "markdown",
   "metadata": {},
   "source": [
    "### Normalize"
   ]
  },
  {
   "cell_type": "code",
   "execution_count": 5,
   "metadata": {},
   "outputs": [
    {
     "name": "stderr",
     "output_type": "stream",
     "text": [
      "mu, sigma: 100%|█| 3/3 [00:00<00:00, 503.20it/s]\n"
     ]
    }
   ],
   "source": [
    "# Set `means_d`, `stdevs_d`, normalize\n",
    "means_d = {}\n",
    "stdevs_d = {}\n",
    "\n",
    "for network in tqdm(self.representations_d, desc='mu, sigma'):\n",
    "    t = self.representations_d[network]\n",
    "    means = t.mean(0, keepdim=True)\n",
    "    stdevs = (t - means).pow(2).mean(0, keepdim=True).pow(0.5)\n",
    "\n",
    "    means_d[network] = means\n",
    "    stdevs_d[network] = stdevs\n",
    "    self.representations_d[network] = (t - means) / stdevs"
   ]
  },
  {
   "cell_type": "markdown",
   "metadata": {},
   "source": [
    "### Set `self.errors` loop"
   ]
  },
  {
   "cell_type": "code",
   "execution_count": 6,
   "metadata": {},
   "outputs": [],
   "source": [
    "self.errors = {network: {} for network in self.representations_d}"
   ]
  },
  {
   "cell_type": "code",
   "execution_count": 7,
   "metadata": {},
   "outputs": [],
   "source": [
    "# loop variable\n",
    "network = f1\n",
    "other_network = f2"
   ]
  },
  {
   "cell_type": "code",
   "execution_count": 8,
   "metadata": {},
   "outputs": [],
   "source": [
    "# if network == other_network:\n",
    "#     continue"
   ]
  },
  {
   "cell_type": "code",
   "execution_count": 9,
   "metadata": {},
   "outputs": [],
   "source": [
    "X = self.representations_d[other_network].cpu().numpy()\n",
    "Y = self.representations_d[network].cpu().numpy()"
   ]
  },
  {
   "cell_type": "code",
   "execution_count": 10,
   "metadata": {},
   "outputs": [],
   "source": [
    "# solve with ordinary least squares \n",
    "error = np.linalg.lstsq(X, Y, rcond=None)[1]\n",
    "error = torch.from_numpy(error)"
   ]
  },
  {
   "cell_type": "code",
   "execution_count": 11,
   "metadata": {},
   "outputs": [],
   "source": [
    "self.errors[network][other_network] = error"
   ]
  },
  {
   "cell_type": "code",
   "execution_count": 12,
   "metadata": {},
   "outputs": [
    {
     "name": "stderr",
     "output_type": "stream",
     "text": [
      "correlate: 100%|█| 9/9 [00:00<00:00, 267.99it/s]"
     ]
    },
    {
     "name": "stdout",
     "output_type": "stream",
     "text": [
      "(100,)\n",
      "(100,)\n",
      "(80,)\n",
      "(80,)\n",
      "(70,)\n",
      "(70,)\n"
     ]
    },
    {
     "name": "stderr",
     "output_type": "stream",
     "text": [
      "\n"
     ]
    }
   ],
   "source": [
    "# Set `self.errors`\n",
    "# {network: {other: error_tensor}}\n",
    "for network, other_network in tqdm(p(self.representations_d, self.representations_d), desc='correlate', total=len(self.representations_d)**2):\n",
    "    if network == other_network:\n",
    "        continue\n",
    "\n",
    "    # Try to predict this network given the other one\n",
    "    X = self.representations_d[other_network].cpu().numpy()\n",
    "    Y = self.representations_d[network].cpu().numpy()\n",
    "\n",
    "    # solve with ordinary least squares \n",
    "    error = np.linalg.lstsq(X, Y, rcond=None)[1] # TO DO: don't use numpy, or at least use CUDA\n",
    "    # Possibilities are use torch (torch.svd or smth), or use another library (cupy)\n",
    "    error = torch.from_numpy(error)\n",
    "\n",
    "    self.errors[network][other_network] = error"
   ]
  },
  {
   "cell_type": "code",
   "execution_count": 13,
   "metadata": {
    "collapsed": true
   },
   "outputs": [
    {
     "data": {
      "text/plain": [
       "{'foo': {'bar': tensor([909.0477, 931.8926, 925.4075, 911.4684, 898.3582, 883.4199, 910.2272,\n",
       "          917.4545, 908.2744, 916.7164, 907.1227, 917.1426, 913.2227, 925.6381,\n",
       "          911.5452, 933.3781, 920.3215, 921.1205, 909.6570, 910.8798, 932.5266,\n",
       "          930.8191, 925.1227, 928.0283, 933.5466, 926.8748, 917.5969, 918.5745,\n",
       "          918.3296, 903.1541, 911.8093, 924.6309, 927.8109, 933.6752, 898.6085,\n",
       "          933.2340, 904.3768, 914.6415, 922.4907, 924.1975, 909.6744, 946.7028,\n",
       "          892.7957, 910.7985, 904.0025, 931.7461, 905.6818, 915.7996, 934.2261,\n",
       "          916.9269, 916.3373, 922.0054, 877.2310, 902.3813, 930.7200, 878.0267,\n",
       "          934.4856, 899.2604, 875.0659, 915.6265, 926.8925, 915.1988, 922.2410,\n",
       "          915.5558, 938.5184, 938.1669, 903.6459, 893.1216, 930.3840, 904.7031,\n",
       "          907.9333, 924.9750, 938.7953, 930.3270, 939.5958, 914.6122, 923.0024,\n",
       "          928.2825, 908.7150, 919.4897, 936.3714, 941.4680, 916.0426, 911.4482,\n",
       "          921.9346, 918.7983, 937.1719, 924.6204, 927.9050, 931.4266, 914.3110,\n",
       "          930.6184, 915.7919, 930.4148, 948.6993, 915.1296, 893.9587, 912.2189,\n",
       "          907.4257, 923.7079]),\n",
       "  'baz': tensor([940.9043, 896.5800, 945.0562, 925.1437, 924.7756, 932.5891, 925.5129,\n",
       "          929.3124, 917.3156, 944.7645, 935.4150, 948.1894, 943.7775, 921.7477,\n",
       "          926.9313, 912.8205, 947.2185, 936.5215, 937.1955, 931.0573, 911.2820,\n",
       "          939.0637, 916.7417, 915.5799, 944.7104, 921.9191, 918.0559, 911.9097,\n",
       "          934.5899, 937.4166, 920.4220, 928.7456, 906.4932, 926.3997, 929.4144,\n",
       "          940.0334, 940.4062, 932.5573, 953.1517, 926.6767, 926.4814, 913.3528,\n",
       "          923.2622, 949.8799, 942.8909, 922.2363, 950.4135, 937.5488, 944.0373,\n",
       "          920.3403, 928.4019, 916.5821, 929.2178, 912.8023, 920.4598, 944.2590,\n",
       "          922.0058, 938.8829, 937.2303, 925.2809, 929.4376, 923.3635, 936.0991,\n",
       "          931.1027, 932.2567, 925.0497, 922.8049, 926.0693, 932.5692, 935.8964,\n",
       "          954.9275, 921.9893, 919.1240, 926.5211, 911.7360, 931.0923, 954.9023,\n",
       "          943.3944, 949.4860, 933.1299, 920.9817, 953.6874, 900.9190, 903.7512,\n",
       "          927.1315, 944.0889, 911.0649, 931.5375, 937.6421, 942.9031, 938.1930,\n",
       "          928.8171, 951.5238, 916.5536, 937.5280, 908.4522, 922.9943, 944.6002,\n",
       "          915.5312, 939.9243])},\n",
       " 'bar': {'foo': tensor([913.8363, 908.6358, 875.2617, 888.4249, 876.2679, 902.9954, 894.4095,\n",
       "          884.9238, 905.7520, 907.3984, 903.6934, 929.6284, 897.7791, 893.0689,\n",
       "          912.2316, 906.0164, 898.6770, 899.6862, 911.4554, 910.7094, 882.8922,\n",
       "          899.6749, 903.6430, 899.9821, 904.2360, 888.2326, 887.7485, 878.2800,\n",
       "          911.8168, 899.5026, 913.2991, 894.2982, 869.4721, 904.9125, 896.1356,\n",
       "          889.0934, 914.8871, 902.9999, 876.3185, 884.6402, 884.9918, 914.7952,\n",
       "          899.5615, 891.2518, 867.8941, 901.7881, 888.7810, 899.7682, 880.2480,\n",
       "          914.2314, 899.1356, 914.4506, 887.6755, 904.0859, 889.2670, 901.0092,\n",
       "          881.0297, 902.2032, 899.3353, 900.8799, 887.9855, 896.4109, 924.1937,\n",
       "          870.4841, 905.3437, 917.9424, 890.0630, 905.0192, 899.3413, 887.9013,\n",
       "          857.7629, 912.7750, 897.3116, 872.3710, 905.9514, 882.5872, 901.0331,\n",
       "          931.5023, 911.8872, 906.5855]),\n",
       "  'baz': tensor([919.2507, 922.8215, 939.8183, 934.8438, 932.8838, 933.0555, 934.8741,\n",
       "          937.6625, 905.3964, 907.9429, 923.0304, 932.3981, 939.3259, 931.6620,\n",
       "          940.9183, 922.6420, 918.8193, 932.1929, 949.6957, 931.0267, 934.1479,\n",
       "          934.5706, 921.8354, 917.6300, 944.9975, 913.2578, 931.5317, 914.2489,\n",
       "          928.7405, 933.4401, 936.7436, 908.2804, 935.3719, 943.7358, 937.0424,\n",
       "          927.7546, 951.1921, 923.7418, 934.5972, 925.3227, 932.9248, 941.5753,\n",
       "          936.1212, 919.0989, 922.0111, 914.0157, 922.2678, 908.4420, 933.1147,\n",
       "          919.6958, 924.5587, 939.3184, 927.2874, 923.4897, 949.4338, 921.1957,\n",
       "          928.4872, 932.2021, 934.6559, 903.2623, 923.5601, 932.2545, 917.3993,\n",
       "          943.9613, 933.5531, 925.5670, 924.6841, 929.5693, 937.2097, 922.1602,\n",
       "          945.0757, 926.6175, 933.7845, 929.0967, 918.3918, 941.9443, 938.2447,\n",
       "          945.8779, 927.6901, 938.6667])},\n",
       " 'baz': {'foo': tensor([893.0519, 890.7055, 894.3922, 879.0549, 908.5934, 883.5530, 918.6406,\n",
       "          887.7495, 897.7847, 897.3229, 896.7672, 922.2920, 893.7002, 906.5932,\n",
       "          878.6111, 900.6490, 917.4478, 895.1996, 888.0135, 907.3063, 897.0853,\n",
       "          893.1749, 892.2511, 866.7711, 925.0526, 844.5432, 903.9817, 919.8466,\n",
       "          903.7814, 922.8198, 911.2399, 887.0428, 906.8998, 854.4551, 894.0858,\n",
       "          901.5182, 913.0460, 906.6988, 895.6273, 923.2169, 872.4059, 908.7587,\n",
       "          920.7619, 886.7729, 906.6979, 918.8048, 920.8942, 904.2045, 900.2361,\n",
       "          906.0339, 915.2017, 905.1849, 886.4796, 902.0670, 902.0950, 903.1819,\n",
       "          911.0015, 916.8698, 897.9824, 901.7507, 909.7853, 867.6929, 890.3826,\n",
       "          905.4012, 895.1453, 909.1425, 908.3362, 921.3739, 906.6440, 874.9259]),\n",
       "  'bar': tensor([919.2139, 912.0741, 909.6971, 919.8467, 923.9819, 928.9980, 928.1661,\n",
       "          917.0934, 911.4279, 930.7807, 933.3341, 922.6673, 901.8449, 919.9291,\n",
       "          932.2684, 930.3124, 914.2584, 910.6592, 917.5777, 893.6168, 917.2947,\n",
       "          923.2191, 928.4610, 918.2395, 912.8148, 912.7630, 912.0966, 914.3387,\n",
       "          899.0370, 921.4881, 917.0907, 915.9239, 930.1803, 926.6293, 911.4709,\n",
       "          917.6479, 898.9796, 939.3312, 914.3689, 929.6863, 905.5120, 922.4073,\n",
       "          898.1111, 920.3808, 938.7231, 926.5542, 919.0544, 931.3945, 913.8099,\n",
       "          919.1556, 935.0222, 928.3160, 905.8610, 932.1429, 929.1537, 912.0404,\n",
       "          909.2975, 915.9038, 927.8098, 922.3561, 935.1517, 919.7549, 895.9330,\n",
       "          934.3951, 910.7648, 922.3735, 911.2975, 916.4042, 914.5126, 923.8945])}}"
      ]
     },
     "execution_count": 13,
     "metadata": {},
     "output_type": "execute_result"
    }
   ],
   "source": [
    "self.errors"
   ]
  },
  {
   "cell_type": "markdown",
   "metadata": {},
   "source": [
    "### Set `self.neuron_sort`"
   ]
  },
  {
   "cell_type": "code",
   "execution_count": 14,
   "metadata": {},
   "outputs": [],
   "source": [
    "self.neuron_sort = {}"
   ]
  },
  {
   "cell_type": "code",
   "execution_count": 15,
   "metadata": {},
   "outputs": [],
   "source": [
    "# loop variable\n",
    "network = f1"
   ]
  },
  {
   "cell_type": "code",
   "execution_count": 16,
   "metadata": {
    "collapsed": true
   },
   "outputs": [
    {
     "data": {
      "text/plain": [
       "[83,\n",
       " 53,\n",
       " 95,\n",
       " 98,\n",
       " 82,\n",
       " 8,\n",
       " 26,\n",
       " 27,\n",
       " 49,\n",
       " 30,\n",
       " 51,\n",
       " 66,\n",
       " 96,\n",
       " 42,\n",
       " 61,\n",
       " 4,\n",
       " 71,\n",
       " 22,\n",
       " 3,\n",
       " 59,\n",
       " 6,\n",
       " 13,\n",
       " 67,\n",
       " 40,\n",
       " 39,\n",
       " 25,\n",
       " 14,\n",
       " 84,\n",
       " 32,\n",
       " 23,\n",
       " 50,\n",
       " 31,\n",
       " 52,\n",
       " 7,\n",
       " 34,\n",
       " 60,\n",
       " 73,\n",
       " 93,\n",
       " 91,\n",
       " 54,\n",
       " 19,\n",
       " 75,\n",
       " 63,\n",
       " 87,\n",
       " 45,\n",
       " 1,\n",
       " 20,\n",
       " 37,\n",
       " 68,\n",
       " 5,\n",
       " 79,\n",
       " 15,\n",
       " 33,\n",
       " 56,\n",
       " 28,\n",
       " 10,\n",
       " 69,\n",
       " 62,\n",
       " 80,\n",
       " 17,\n",
       " 86,\n",
       " 18,\n",
       " 58,\n",
       " 29,\n",
       " 47,\n",
       " 88,\n",
       " 65,\n",
       " 90,\n",
       " 64,\n",
       " 72,\n",
       " 57,\n",
       " 21,\n",
       " 74,\n",
       " 99,\n",
       " 35,\n",
       " 36,\n",
       " 0,\n",
       " 44,\n",
       " 89,\n",
       " 77,\n",
       " 12,\n",
       " 48,\n",
       " 85,\n",
       " 55,\n",
       " 97,\n",
       " 24,\n",
       " 9,\n",
       " 2,\n",
       " 41,\n",
       " 16,\n",
       " 11,\n",
       " 94,\n",
       " 78,\n",
       " 43,\n",
       " 46,\n",
       " 92,\n",
       " 38,\n",
       " 81,\n",
       " 76,\n",
       " 70]"
      ]
     },
     "execution_count": 16,
     "metadata": {},
     "output_type": "execute_result"
    }
   ],
   "source": [
    "sorted(\n",
    "    range(self.num_neurons_d[network]),\n",
    "    key = lambda i: max(\n",
    "        self.errors[network][other][i] \n",
    "        for other in self.errors[network]\n",
    "    )\n",
    ")"
   ]
  },
  {
   "cell_type": "code",
   "execution_count": 17,
   "metadata": {},
   "outputs": [
    {
     "name": "stderr",
     "output_type": "stream",
     "text": [
      "annotation: 100%|█| 3/3 [00:00<00:00, 227.92it/s]\n"
     ]
    }
   ],
   "source": [
    "# Set `self.neuron_sort`\n",
    "# {network: sorted_list}\n",
    "self.neuron_sort = {}\n",
    "# Sort neurons by worst correlation (highest regression error) with another network\n",
    "for network in tqdm(self.representations_d, desc='annotation'):\n",
    "    self.neuron_sort[network] = sorted(\n",
    "        range(self.num_neurons_d[network]),\n",
    "        key = lambda i: max(\n",
    "            self.errors[network][other][i] \n",
    "            for other in self.errors[network]\n",
    "        )\n",
    "    )"
   ]
  },
  {
   "cell_type": "code",
   "execution_count": 19,
   "metadata": {
    "collapsed": true
   },
   "outputs": [
    {
     "data": {
      "text/plain": [
       "{'foo': [83,\n",
       "  53,\n",
       "  95,\n",
       "  98,\n",
       "  82,\n",
       "  8,\n",
       "  26,\n",
       "  27,\n",
       "  49,\n",
       "  30,\n",
       "  51,\n",
       "  66,\n",
       "  96,\n",
       "  42,\n",
       "  61,\n",
       "  4,\n",
       "  71,\n",
       "  22,\n",
       "  3,\n",
       "  59,\n",
       "  6,\n",
       "  13,\n",
       "  67,\n",
       "  40,\n",
       "  39,\n",
       "  25,\n",
       "  14,\n",
       "  84,\n",
       "  32,\n",
       "  23,\n",
       "  50,\n",
       "  31,\n",
       "  52,\n",
       "  7,\n",
       "  34,\n",
       "  60,\n",
       "  73,\n",
       "  93,\n",
       "  91,\n",
       "  54,\n",
       "  19,\n",
       "  75,\n",
       "  63,\n",
       "  87,\n",
       "  45,\n",
       "  1,\n",
       "  20,\n",
       "  37,\n",
       "  68,\n",
       "  5,\n",
       "  79,\n",
       "  15,\n",
       "  33,\n",
       "  56,\n",
       "  28,\n",
       "  10,\n",
       "  69,\n",
       "  62,\n",
       "  80,\n",
       "  17,\n",
       "  86,\n",
       "  18,\n",
       "  58,\n",
       "  29,\n",
       "  47,\n",
       "  88,\n",
       "  65,\n",
       "  90,\n",
       "  64,\n",
       "  72,\n",
       "  57,\n",
       "  21,\n",
       "  74,\n",
       "  99,\n",
       "  35,\n",
       "  36,\n",
       "  0,\n",
       "  44,\n",
       "  89,\n",
       "  77,\n",
       "  12,\n",
       "  48,\n",
       "  85,\n",
       "  55,\n",
       "  97,\n",
       "  24,\n",
       "  9,\n",
       "  2,\n",
       "  41,\n",
       "  16,\n",
       "  11,\n",
       "  94,\n",
       "  78,\n",
       "  43,\n",
       "  46,\n",
       "  92,\n",
       "  38,\n",
       "  81,\n",
       "  76,\n",
       "  70],\n",
       " 'bar': [59,\n",
       "  8,\n",
       "  9,\n",
       "  31,\n",
       "  47,\n",
       "  25,\n",
       "  45,\n",
       "  27,\n",
       "  23,\n",
       "  74,\n",
       "  16,\n",
       "  43,\n",
       "  0,\n",
       "  49,\n",
       "  55,\n",
       "  22,\n",
       "  44,\n",
       "  69,\n",
       "  46,\n",
       "  15,\n",
       "  1,\n",
       "  10,\n",
       "  53,\n",
       "  60,\n",
       "  37,\n",
       "  62,\n",
       "  50,\n",
       "  66,\n",
       "  39,\n",
       "  65,\n",
       "  71,\n",
       "  52,\n",
       "  78,\n",
       "  35,\n",
       "  56,\n",
       "  28,\n",
       "  73,\n",
       "  67,\n",
       "  19,\n",
       "  26,\n",
       "  13,\n",
       "  17,\n",
       "  57,\n",
       "  61,\n",
       "  11,\n",
       "  4,\n",
       "  40,\n",
       "  5,\n",
       "  48,\n",
       "  29,\n",
       "  64,\n",
       "  72,\n",
       "  20,\n",
       "  21,\n",
       "  38,\n",
       "  58,\n",
       "  3,\n",
       "  6,\n",
       "  32,\n",
       "  42,\n",
       "  30,\n",
       "  34,\n",
       "  68,\n",
       "  7,\n",
       "  76,\n",
       "  79,\n",
       "  51,\n",
       "  12,\n",
       "  2,\n",
       "  14,\n",
       "  41,\n",
       "  75,\n",
       "  33,\n",
       "  63,\n",
       "  24,\n",
       "  70,\n",
       "  77,\n",
       "  54,\n",
       "  18,\n",
       "  36],\n",
       " 'baz': [62,\n",
       "  12,\n",
       "  28,\n",
       "  40,\n",
       "  52,\n",
       "  19,\n",
       "  2,\n",
       "  17,\n",
       "  64,\n",
       "  56,\n",
       "  66,\n",
       "  8,\n",
       "  34,\n",
       "  55,\n",
       "  1,\n",
       "  26,\n",
       "  25,\n",
       "  36,\n",
       "  48,\n",
       "  38,\n",
       "  68,\n",
       "  31,\n",
       "  57,\n",
       "  30,\n",
       "  7,\n",
       "  20,\n",
       "  16,\n",
       "  18,\n",
       "  35,\n",
       "  23,\n",
       "  49,\n",
       "  0,\n",
       "  61,\n",
       "  27,\n",
       "  3,\n",
       "  13,\n",
       "  43,\n",
       "  42,\n",
       "  46,\n",
       "  67,\n",
       "  59,\n",
       "  65,\n",
       "  41,\n",
       "  11,\n",
       "  29,\n",
       "  21,\n",
       "  69,\n",
       "  4,\n",
       "  24,\n",
       "  45,\n",
       "  33,\n",
       "  58,\n",
       "  6,\n",
       "  51,\n",
       "  22,\n",
       "  5,\n",
       "  54,\n",
       "  39,\n",
       "  32,\n",
       "  15,\n",
       "  9,\n",
       "  47,\n",
       "  53,\n",
       "  14,\n",
       "  10,\n",
       "  63,\n",
       "  50,\n",
       "  60,\n",
       "  44,\n",
       "  37]}"
      ]
     },
     "execution_count": 19,
     "metadata": {},
     "output_type": "execute_result"
    }
   ],
   "source": [
    "self.neuron_sort"
   ]
  },
  {
   "cell_type": "code",
   "execution_count": 24,
   "metadata": {
    "collapsed": true
   },
   "outputs": [
    {
     "data": {
      "text/plain": [
       "tensor([911.4482, 912.8023, 915.1296, 915.5312, 916.0426, 917.3156, 918.0559,\n",
       "        918.5745, 920.3403, 920.4220, 922.0054, 922.8049, 922.9943, 923.2622,\n",
       "        923.3635, 924.7756, 924.9750, 925.1227, 925.1437, 925.2809, 925.5129,\n",
       "        925.6381, 926.0693, 926.4814, 926.6767, 926.8748, 926.9313, 927.1315,\n",
       "        927.8109, 928.0283, 928.4019, 928.7456, 929.2178, 929.3124, 929.4144,\n",
       "        929.4376, 930.3270, 930.4148, 930.6184, 930.7200, 931.0573, 931.0923,\n",
       "        931.1027, 931.5375, 931.7461, 931.8926, 932.5266, 932.5573, 932.5692,\n",
       "        932.5891, 933.1299, 933.3781, 933.6752, 934.4856, 934.5899, 935.4150,\n",
       "        935.8964, 936.0991, 936.3714, 936.5215, 937.1719, 937.1955, 937.2303,\n",
       "        937.4166, 937.5488, 937.6421, 938.1669, 938.1930, 938.5184, 938.7953,\n",
       "        938.8829, 939.0637, 939.5958, 939.9243, 940.0334, 940.4062, 940.9043,\n",
       "        942.8909, 942.9031, 943.3944, 943.7775, 944.0373, 944.0889, 944.2590,\n",
       "        944.6002, 944.7104, 944.7645, 945.0562, 946.7028, 947.2185, 948.1894,\n",
       "        948.6993, 949.4860, 949.8799, 950.4135, 951.5238, 953.1517, 953.6874,\n",
       "        954.9023, 954.9275])"
      ]
     },
     "execution_count": 24,
     "metadata": {},
     "output_type": "execute_result"
    }
   ],
   "source": [
    "# Nice, seems to be correct\n",
    "np.maximum(self.errors[f1][f2][self.neuron_sort[f1]],\n",
    "           self.errors[f1][f3][self.neuron_sort[f1]])"
   ]
  },
  {
   "cell_type": "markdown",
   "metadata": {},
   "source": [
    "# Create final function"
   ]
  },
  {
   "cell_type": "code",
   "execution_count": 5,
   "metadata": {},
   "outputs": [
    {
     "name": "stderr",
     "output_type": "stream",
     "text": [
      "mu, sigma: 100%|█| 3/3 [00:00<00:00, 503.20it/s]\n"
     ]
    }
   ],
   "source": [
    "def compute_correlations(self):\n",
    "    # Set `means_d`, `stdevs_d`, normalize to mean 0 std 1\n",
    "    means_d = {}\n",
    "    stdevs_d = {}\n",
    "\n",
    "    for network in tqdm(self.representations_d, desc='mu, sigma'):\n",
    "        t = self.representations_d[network]\n",
    "        means = t.mean(0, keepdim=True)\n",
    "        stdevs = (t - means).pow(2).mean(0, keepdim=True).pow(0.5)\n",
    "\n",
    "        means_d[network] = means\n",
    "        stdevs_d[network] = stdevs\n",
    "        self.representations_d[network] = (t - means) / stdevs\n",
    "\n",
    "    # Set `self.errors`\n",
    "    # {network: {other: error_tensor}}\n",
    "    for network, other_network in tqdm(p(self.representations_d, self.representations_d), desc='correlate', total=len(self.representations_d)**2):\n",
    "        if network == other_network:\n",
    "            continue\n",
    "\n",
    "        # Try to predict this network given the other one\n",
    "        X = self.representations_d[other_network].cpu().numpy()\n",
    "        Y = self.representations_d[network].cpu().numpy()\n",
    "\n",
    "        # solve with ordinary least squares \n",
    "        error = np.linalg.lstsq(X, Y, rcond=None)[1] # TO DO: don't use numpy, or at least use CUDA\n",
    "        # Possibilities are use torch (torch.svd or smth), or use another library (cupy)\n",
    "        error = torch.from_numpy(error)\n",
    "\n",
    "        self.errors[network][other_network] = error\n",
    "\n",
    "    # Set `self.neuron_sort`\n",
    "    # {network: sorted_list}\n",
    "    self.neuron_sort = {}\n",
    "    # Sort neurons by worst correlation (highest regression error) with another network\n",
    "    for network in tqdm(self.representations_d, desc='annotation'):\n",
    "        self.neuron_sort[network] = sorted(\n",
    "            range(self.num_neurons_d[network]),\n",
    "            key = lambda i: max(\n",
    "                self.errors[network][other][i] \n",
    "                for other in self.errors[network]\n",
    "            )\n",
    "        )"
   ]
  }
 ],
 "metadata": {
  "kernelspec": {
   "display_name": "Python 3",
   "language": "python",
   "name": "python3"
  },
  "language_info": {
   "codemirror_mode": {
    "name": "ipython",
    "version": 3
   },
   "file_extension": ".py",
   "mimetype": "text/x-python",
   "name": "python",
   "nbconvert_exporter": "python",
   "pygments_lexer": "ipython3",
   "version": "3.7.3"
  }
 },
 "nbformat": 4,
 "nbformat_minor": 2
}
