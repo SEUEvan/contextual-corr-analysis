{
 "cells": [
  {
   "cell_type": "code",
   "execution_count": 2,
   "metadata": {},
   "outputs": [],
   "source": [
    "import torch\n",
    "import json\n",
    "from tqdm import tqdm\n",
    "from itertools import product as p\n",
    "import numpy as np"
   ]
  },
  {
   "cell_type": "markdown",
   "metadata": {},
   "source": [
    "# Load fake activations"
   ]
  },
  {
   "cell_type": "code",
   "execution_count": 3,
   "metadata": {},
   "outputs": [],
   "source": [
    "class A:\n",
    "    pass\n",
    "self = A()"
   ]
  },
  {
   "cell_type": "code",
   "execution_count": 4,
   "metadata": {},
   "outputs": [],
   "source": [
    "self.num_neurons_d = {} # {fname, int}\n",
    "self.representations_d = {} # {fname, tensor}\n",
    "f1, f2, f3 = \"foo\", \"bar\", \"baz\"\n",
    "representation_files = [f1, f2, f3]"
   ]
  },
  {
   "cell_type": "code",
   "execution_count": 5,
   "metadata": {},
   "outputs": [],
   "source": [
    "# initialize `num_neurons_d`, `representations_d` with fake data\n",
    "n1, n2, n3 = 100, 80, 70\n",
    "nword = 1000\n",
    "t1 = torch.randn(nword, n1)\n",
    "t2 = torch.randn(nword, n2)\n",
    "t3 = torch.randn(nword, n3)\n",
    "self.num_neurons_d[f1] = n1\n",
    "self.num_neurons_d[f2] = n2\n",
    "self.num_neurons_d[f3] = n3\n",
    "self.representations_d[f1] = t1\n",
    "self.representations_d[f2] = t2\n",
    "self.representations_d[f3] = t3"
   ]
  },
  {
   "cell_type": "code",
   "execution_count": 6,
   "metadata": {},
   "outputs": [],
   "source": [
    "self.percent_variance = 0.99\n",
    "self.normalize_dimensions = True\n",
    "self.save_cca_transforms = False"
   ]
  },
  {
   "cell_type": "markdown",
   "metadata": {},
   "source": [
    "# Function"
   ]
  },
  {
   "cell_type": "code",
   "execution_count": 7,
   "metadata": {},
   "outputs": [
    {
     "name": "stderr",
     "output_type": "stream",
     "text": [
      "mu, sigma: 100%|███████████████████████████████| 3/3 [00:00<00:00, 58.87it/s]\n"
     ]
    }
   ],
   "source": [
    "# Normalize\n",
    "# Set `self.nrepresentations_d`\n",
    "self.nrepresentations_d = {}\n",
    "if self.normalize_dimensions:\n",
    "    for network in tqdm(self.representations_d, desc='mu, sigma'):\n",
    "        t = self.representations_d[network]\n",
    "        means = t.mean(0, keepdim=True)\n",
    "        stdevs = t.std(0, keepdim=True)\n",
    "\n",
    "        self.nrepresentations_d[network] = (t - means) / stdevs"
   ]
  },
  {
   "cell_type": "code",
   "execution_count": 8,
   "metadata": {},
   "outputs": [
    {
     "name": "stderr",
     "output_type": "stream",
     "text": [
      "pca: 100%|█████████████████████████████████████| 3/3 [00:04<00:00,  1.39s/it]"
     ]
    },
    {
     "name": "stdout",
     "output_type": "stream",
     "text": [
      "For network foo wanted size is 97\n",
      "For network bar wanted size is 78\n",
      "For network baz wanted size is 68\n"
     ]
    },
    {
     "name": "stderr",
     "output_type": "stream",
     "text": [
      "\n"
     ]
    }
   ],
   "source": [
    "# Set `whitening_transforms`, `pca_directions`\n",
    "# {network: whitening_tensor}\n",
    "whitening_transforms = {} \n",
    "pca_directions = {} \n",
    "for network in tqdm(self.nrepresentations_d, desc='pca'):\n",
    "    X = self.nrepresentations_d[network]\n",
    "    U, S, V = torch.svd(X)\n",
    "\n",
    "    var_sums = torch.cumsum(S.pow(2), 0)\n",
    "    wanted_size = torch.sum(var_sums.lt(var_sums[-1] * self.percent_variance)).item()\n",
    "\n",
    "    print('For network', network, 'wanted size is', wanted_size)\n",
    "\n",
    "    whitening_transform = torch.mm(V, torch.diag(1/S))\n",
    "    whitening_transforms[network] = whitening_transform[:, :wanted_size]\n",
    "    pca_directions[network] = U[:, :wanted_size]"
   ]
  },
  {
   "cell_type": "code",
   "execution_count": 9,
   "metadata": {},
   "outputs": [],
   "source": [
    "# Set \n",
    "# `self.transforms`: {network: {other: svcca_transform}}\n",
    "# `self.corrs`: {network: {other: canonical_corrs}}\n",
    "# `self.pw_alignments`: {network: {other: unnormalized pw weights}}\n",
    "# `self.pw_corrs`: {network: {other: pw_alignments*corrs}}\n",
    "# `self.sv_similarities`: {network: {other: svcca_similarities}}\n",
    "# `self.pw_similarities`: {network: {other: pwcca_similarities}}\n",
    "self.transforms = {network: {} for network in self.nrepresentations_d}\n",
    "self.corrs = {network: {} for network in self.nrepresentations_d}\n",
    "self.pw_alignments = {network: {} for network in self.nrepresentations_d}\n",
    "self.pw_corrs = {network: {} for network in self.nrepresentations_d}\n",
    "self.sv_similarities = {network: {} for network in self.nrepresentations_d}\n",
    "self.pw_similarities = {network: {} for network in self.nrepresentations_d}"
   ]
  },
  {
   "cell_type": "markdown",
   "metadata": {},
   "source": [
    "# For network in ... loop"
   ]
  },
  {
   "cell_type": "code",
   "execution_count": 9,
   "metadata": {},
   "outputs": [],
   "source": [
    "# arbitrary loop params\n",
    "network = f1\n",
    "other_network = f2"
   ]
  },
  {
   "cell_type": "code",
   "execution_count": 10,
   "metadata": {},
   "outputs": [],
   "source": [
    "X = pca_directions[network]\n",
    "Y = pca_directions[other_network]"
   ]
  },
  {
   "cell_type": "code",
   "execution_count": 11,
   "metadata": {},
   "outputs": [],
   "source": [
    "# Perform SVD for CCA.\n",
    "# u s vt = Xt Y\n",
    "# s = ut Xt Y v\n",
    "u, s, v = torch.svd(torch.mm(X.t(), Y))\n",
    "\n",
    "# `self.transforms`, `self.corrs`, `self.sv_similarities`\n",
    "self.transforms[network][other_network] = torch.mm(whitening_transforms[network], u)\n",
    "self.transforms[other_network][network] = torch.mm(whitening_transforms[other_network], v)\n",
    "\n",
    "self.corrs[network][other_network] = s\n",
    "self.corrs[other_network][network] = s\n",
    "\n",
    "self.sv_similarities[network][other_network] = s.mean().item()\n",
    "self.sv_similarities[other_network][network] = s.mean().item()"
   ]
  },
  {
   "cell_type": "code",
   "execution_count": 12,
   "metadata": {},
   "outputs": [],
   "source": [
    "# Compute `self.pw_alignments`, `self.pw_corrs`, `self.pw_similarities`. \n",
    "# This is not symmetric\n",
    "\n",
    "# For X\n",
    "H = torch.mm(X, u)\n",
    "Z = self.representations_d[network]\n",
    "align = torch.abs(torch.mm(H.t(), Z))\n",
    "a = torch.sum(align, dim=1, keepdim=False)\n",
    "self.pw_alignments[network][other_network] = a\n",
    "self.pw_corrs[network][other_network] = s*a\n",
    "self.pw_similarities[network][other_network] = (torch.sum(s*a)/torch.sum(a)).item()\n",
    "\n",
    "# For Y\n",
    "H = torch.mm(Y, v)\n",
    "Z = self.representations_d[other_network]\n",
    "align = torch.abs(torch.mm(H.t(), Z))\n",
    "a = torch.sum(align, dim=1, keepdim=False)\n",
    "self.pw_alignments[other_network][network] = a\n",
    "self.pw_corrs[other_network][network] = s*a\n",
    "self.pw_similarities[other_network][network] = (torch.sum(s*a)/torch.sum(a)).item()"
   ]
  },
  {
   "cell_type": "code",
   "execution_count": 13,
   "metadata": {},
   "outputs": [
    {
     "name": "stderr",
     "output_type": "stream",
     "text": [
      "cca: 100%|███████████████████████████████████| 9/9 [00:00<00:00, 1571.36it/s]\n"
     ]
    }
   ],
   "source": [
    "# full loop\n",
    "for network, other_network in tqdm(p(self.nrepresentations_d,\n",
    "                                     self.nrepresentations_d),\n",
    "                                   desc='cca',\n",
    "                                   total=len(self.nrepresentations_d)**2):\n",
    "\n",
    "    if network == other_network:\n",
    "        continue\n",
    "\n",
    "    if other_network in self.transforms[network]: \n",
    "        continue\n",
    "    \n",
    "    X = pca_directions[network]\n",
    "    Y = pca_directions[other_network]\n",
    "\n",
    "    # Perform SVD for CCA.\n",
    "    # u s vt = Xt Y\n",
    "    # s = ut Xt Y v\n",
    "    u, s, v = torch.svd(torch.mm(X.t(), Y))\n",
    "\n",
    "    # `self.transforms`, `self.corrs`, `self.sv_similarities`\n",
    "    self.transforms[network][other_network] = torch.mm(whitening_transforms[network], u)\n",
    "    self.transforms[other_network][network] = torch.mm(whitening_transforms[other_network], v)\n",
    "\n",
    "    self.corrs[network][other_network] = s\n",
    "    self.corrs[other_network][network] = s\n",
    "\n",
    "    self.sv_similarities[network][other_network] = s.mean().item()\n",
    "    self.sv_similarities[other_network][network] = s.mean().item()\n",
    "\n",
    "    # Compute `self.pw_alignments`, `self.pw_corrs`, `self.pw_similarities`. \n",
    "    # This is not symmetric\n",
    "\n",
    "    # For X\n",
    "    H = torch.mm(X, u)\n",
    "    Z = self.representations_d[network]\n",
    "    align = torch.abs(torch.mm(H.t(), Z))\n",
    "    a = torch.sum(align, dim=1, keepdim=False)\n",
    "    self.pw_alignments[network][other_network] = a\n",
    "    self.pw_corrs[network][other_network] = s*a\n",
    "    self.pw_similarities[network][other_network] = (torch.sum(s*a)/torch.sum(a)).item()\n",
    "\n",
    "    # For Y\n",
    "    H = torch.mm(Y, v)\n",
    "    Z = self.representations_d[other_network]\n",
    "    align = torch.abs(torch.mm(H.t(), Z))\n",
    "    a = torch.sum(align, dim=1, keepdim=False)\n",
    "    self.pw_alignments[other_network][network] = a\n",
    "    self.pw_corrs[other_network][network] = s*a\n",
    "    self.pw_similarities[other_network][network] = (torch.sum(s*a)/torch.sum(a)).item()"
   ]
  },
  {
   "cell_type": "code",
   "execution_count": 17,
   "metadata": {},
   "outputs": [
    {
     "data": {
      "text/plain": [
       "{'foo': {'bar': 0.28253406286239624, 'baz': 0.28071942925453186},\n",
       " 'bar': {'foo': 0.28259754180908203, 'baz': 0.24323876202106476},\n",
       " 'baz': {'foo': 0.2819087505340576, 'bar': 0.24311821162700653}}"
      ]
     },
     "execution_count": 17,
     "metadata": {},
     "output_type": "execute_result"
    }
   ],
   "source": [
    "self.pw_similarities"
   ]
  },
  {
   "cell_type": "markdown",
   "metadata": {},
   "source": [
    "# Full function"
   ]
  },
  {
   "cell_type": "code",
   "execution_count": 18,
   "metadata": {},
   "outputs": [],
   "source": [
    "def compute_correlations(self):\n",
    "    # Normalize\n",
    "    # Set `self.nrepresentations_d`\n",
    "    self.nrepresentations_d = {}\n",
    "    if self.normalize_dimensions:\n",
    "        for network in tqdm(self.representations_d, desc='mu, sigma'):\n",
    "            t = self.representations_d[network]\n",
    "            means = t.mean(0, keepdim=True)\n",
    "            stdevs = t.std(0, keepdim=True)\n",
    "\n",
    "            self.nrepresentations_d[network] = (t - means) / stdevs\n",
    "\n",
    "    # Set `whitening_transforms`, `pca_directions`\n",
    "    # {network: whitening_tensor}\n",
    "    whitening_transforms = {} \n",
    "    pca_directions = {} \n",
    "    for network in tqdm(self.nrepresentations_d, desc='pca'):\n",
    "        X = self.nrepresentations_d[network]\n",
    "        U, S, V = torch.svd(X)\n",
    "\n",
    "        var_sums = torch.cumsum(S.pow(2), 0)\n",
    "        wanted_size = torch.sum(var_sums.lt(var_sums[-1] * self.percent_variance)).item()\n",
    "\n",
    "        print('For network', network, 'wanted size is', wanted_size)\n",
    "\n",
    "        whitening_transform = torch.mm(V, torch.diag(1/S))\n",
    "        whitening_transforms[network] = whitening_transform[:, :wanted_size]\n",
    "        pca_directions[network] = U[:, :wanted_size]\n",
    "    \n",
    "    # Set \n",
    "    # `self.transforms`: {network: {other: svcca_transform}}\n",
    "    # `self.corrs`: {network: {other: canonical_corrs}}\n",
    "    # `self.pw_alignments`: {network: {other: unnormalized pw weights}}\n",
    "    # `self.pw_corrs`: {network: {other: pw_alignments*corrs}}\n",
    "    # `self.sv_similarities`: {network: {other: svcca_similarities}}\n",
    "    # `self.pw_similarities`: {network: {other: pwcca_similarities}}\n",
    "    self.transforms = {network: {} for network in self.nrepresentations_d}\n",
    "    self.corrs = {network: {} for network in self.nrepresentations_d}\n",
    "    self.pw_alignments = {network: {} for network in self.nrepresentations_d}\n",
    "    self.pw_corrs = {network: {} for network in self.nrepresentations_d}\n",
    "    self.sv_similarities = {network: {} for network in self.nrepresentations_d}\n",
    "    self.pw_similarities = {network: {} for network in self.nrepresentations_d}\n",
    "    for network, other_network in tqdm(p(self.nrepresentations_d,\n",
    "                                         self.nrepresentations_d),\n",
    "                                       desc='cca',\n",
    "                                       total=len(self.nrepresentations_d)**2):\n",
    "\n",
    "        if other_network in self.transforms[network]: \n",
    "            continue\n",
    "\n",
    "        X = pca_directions[network]\n",
    "        Y = pca_directions[other_network]\n",
    "\n",
    "        # Perform SVD for CCA.\n",
    "        # u s vt = Xt Y\n",
    "        # s = ut Xt Y v\n",
    "        u, s, v = torch.svd(torch.mm(X.t(), Y))\n",
    "\n",
    "        # `self.transforms`, `self.corrs`, `self.sv_similarities`\n",
    "        self.transforms[network][other_network] = torch.mm(whitening_transforms[network], u)\n",
    "        self.transforms[other_network][network] = torch.mm(whitening_transforms[other_network], v)\n",
    "\n",
    "        self.corrs[network][other_network] = s\n",
    "        self.corrs[other_network][network] = s\n",
    "\n",
    "        self.sv_similarities[network][other_network] = s.mean().item()\n",
    "        self.sv_similarities[other_network][network] = s.mean().item()\n",
    "\n",
    "        # Compute `self.pw_alignments`, `self.pw_corrs`, `self.pw_similarities`. \n",
    "        # This is not symmetric\n",
    "\n",
    "        # For X\n",
    "        H = torch.mm(X, u)\n",
    "        Z = self.representations_d[network]\n",
    "        align = torch.abs(torch.mm(H.t(), Z))\n",
    "        a = torch.sum(align, dim=1, keepdim=False)\n",
    "        self.pw_alignments[network][other_network] = a\n",
    "        self.pw_corrs[network][other_network] = s*a\n",
    "        self.pw_similarities[network][other_network] = (torch.sum(s*a)/torch.sum(a)).item()\n",
    "\n",
    "        # For Y\n",
    "        H = torch.mm(Y, v)\n",
    "        Z = self.representations_d[other_network]\n",
    "        align = torch.abs(torch.mm(H.t(), Z))\n",
    "        a = torch.sum(align, dim=1, keepdim=False)\n",
    "        self.pw_alignments[other_network][network] = a\n",
    "        self.pw_corrs[other_network][network] = s*a\n",
    "        self.pw_similarities[other_network][network] = (torch.sum(s*a)/torch.sum(a)).item()"
   ]
  },
  {
   "cell_type": "code",
   "execution_count": 19,
   "metadata": {},
   "outputs": [
    {
     "name": "stderr",
     "output_type": "stream",
     "text": [
      "mu, sigma: 100%|█████████████████████████████| 3/3 [00:00<00:00, 1903.62it/s]\n",
      "pca: 100%|████████████████████████████████████| 3/3 [00:00<00:00, 240.29it/s]\n",
      "cca: 100%|████████████████████████████████████| 9/9 [00:00<00:00, 873.07it/s]"
     ]
    },
    {
     "name": "stdout",
     "output_type": "stream",
     "text": [
      "For network foo wanted size is 97\n",
      "For network bar wanted size is 78\n",
      "For network baz wanted size is 68\n"
     ]
    },
    {
     "name": "stderr",
     "output_type": "stream",
     "text": [
      "\n"
     ]
    }
   ],
   "source": [
    "compute_correlations(self)"
   ]
  },
  {
   "cell_type": "code",
   "execution_count": 21,
   "metadata": {},
   "outputs": [
    {
     "data": {
      "text/plain": [
       "{'foo': {'bar': tensor([139.9517, 140.7342, 140.8350, 128.5976, 134.9371, 129.0182, 139.3720,\n",
       "          119.7300, 122.1407, 124.5879, 117.4110, 120.1342, 109.9069, 116.9453,\n",
       "          112.3361, 110.1559, 104.3443, 106.3454,  96.7515, 107.5248,  98.3512,\n",
       "           99.8768,  96.0159,  94.7809,  98.3115,  88.1688,  91.3338,  82.3340,\n",
       "           86.3369,  84.8769,  81.3848,  81.4239,  79.3815,  77.9744,  73.5487,\n",
       "           80.3439,  76.5836,  76.9173,  69.9647,  67.2655,  69.3710,  64.4150,\n",
       "           60.7970,  61.8085,  64.7805,  57.1003,  58.7008,  62.3385,  56.0259,\n",
       "           51.0174,  58.0377,  53.8280,  52.1599,  50.3478,  49.2290,  47.3323,\n",
       "           44.2947,  43.9474,  38.9249,  37.9358,  38.0542,  36.7693,  35.7900,\n",
       "           33.2676,  32.5004,  31.8194,  28.2865,  28.0051,  29.1439,  22.9423,\n",
       "           20.1307,  20.0695,  19.4042,  17.9061,  14.5332,  12.6117,  11.7166,\n",
       "            8.4762]),\n",
       "  'baz': tensor([133.5720, 141.4685, 132.1705, 129.7212, 119.4776, 119.0930, 123.7582,\n",
       "          121.1759, 115.3161, 112.8176, 107.7661, 106.7915, 102.0640, 108.7865,\n",
       "          103.6507,  97.9682, 101.8502,  89.9269,  94.0179,  95.2684,  93.6718,\n",
       "           87.8519,  88.6343,  89.9889,  86.4085,  85.9531,  81.3409,  77.5492,\n",
       "           82.1765,  71.4469,  72.9545,  72.1202,  70.0080,  67.6993,  66.6559,\n",
       "           65.4874,  68.3115,  60.6421,  63.3175,  60.2229,  59.8541,  56.5373,\n",
       "           55.7636,  57.3438,  54.2022,  53.0820,  52.3546,  47.5199,  48.4087,\n",
       "           47.9342,  44.1894,  42.7877,  42.5812,  42.3209,  41.0941,  35.8006,\n",
       "           35.3076,  34.9690,  31.7969,  28.9709,  30.1374,  27.6374,  25.7265,\n",
       "           23.6756,  23.7087,  21.6561,  16.7191,  13.7915])},\n",
       " 'bar': {'foo': tensor([133.2894, 126.8457, 122.3205, 121.5459, 116.9294, 122.8997, 110.3643,\n",
       "          118.2830, 111.8531, 108.1297, 107.8809, 103.6985, 100.8209, 102.7170,\n",
       "           96.6851,  97.6635,  96.0003,  93.8036,  93.9380,  87.7084,  96.2754,\n",
       "           90.2756,  94.3657,  88.9491,  83.1749,  77.7120,  82.8147,  75.2582,\n",
       "           81.8098,  80.0805,  65.5469,  68.8585,  71.3089,  66.2993,  68.4853,\n",
       "           67.1444,  66.6460,  65.1313,  64.5937,  62.2729,  55.8327,  59.4138,\n",
       "           61.1662,  57.2894,  55.5777,  51.6123,  55.3647,  52.7983,  52.1185,\n",
       "           47.4421,  48.7683,  49.5904,  42.6376,  45.3232,  42.2410,  43.0155,\n",
       "           40.4319,  40.1158,  36.4388,  34.4226,  34.5033,  32.0573,  31.0593,\n",
       "           30.1391,  29.8557,  27.7273,  26.6802,  26.3354,  22.4797,  22.1096,\n",
       "           16.9002,  18.5974,  16.4564,  15.7339,  13.9201,  11.3629,  10.9465,\n",
       "            8.1087]),\n",
       "  'baz': tensor([114.7701, 109.4676, 106.4408, 104.5603,  98.9785, 101.3991, 104.7818,\n",
       "          100.0419,  94.7439,  93.5116,  95.3681,  95.5733,  91.1809,  83.3666,\n",
       "           84.0864,  85.6104,  79.6239,  75.6996,  75.8520,  70.4763,  75.7135,\n",
       "           72.3893,  73.0899,  70.0921,  69.1404,  64.7017,  63.7659,  61.7679,\n",
       "           62.3666,  63.8485,  60.7836,  59.8656,  58.8621,  53.4245,  54.3248,\n",
       "           55.4344,  51.1501,  53.4879,  47.8678,  45.2093,  43.0121,  45.1418,\n",
       "           39.0301,  38.1295,  40.2242,  39.9625,  33.9676,  33.9803,  33.1037,\n",
       "           31.6382,  31.9744,  29.3043,  29.1241,  27.5560,  22.8772,  22.2672,\n",
       "           18.3150,  21.0338,  19.5561,  17.9395,  18.5120,  14.5196,  12.0857,\n",
       "           10.5537,  10.3074,   7.1416,   5.5394,   4.1953])},\n",
       " 'baz': {'foo': tensor([110.8748, 112.6937, 110.0595, 113.4142,  99.7772,  98.6685, 104.7263,\n",
       "          100.2700,  98.2984,  95.8364,  97.6108,  93.4129,  89.4865,  85.3506,\n",
       "           90.2298,  82.6995,  79.4758,  80.3452,  76.0913,  71.5131,  78.5624,\n",
       "           78.2392,  76.3216,  72.3719,  69.2408,  71.6573,  73.7964,  65.3943,\n",
       "           66.1390,  66.0930,  66.8724,  58.3538,  61.6793,  58.8106,  52.9992,\n",
       "           56.9986,  61.9492,  54.8960,  53.8398,  51.7141,  48.4054,  51.1028,\n",
       "           44.2590,  47.4180,  42.0239,  43.6974,  42.4886,  38.8612,  40.6354,\n",
       "           36.1494,  39.8916,  35.9157,  33.5221,  34.0862,  30.0675,  27.8953,\n",
       "           27.6111,  27.7486,  27.5245,  23.6951,  24.7770,  23.3339,  20.5193,\n",
       "           20.5787,  19.4139,  16.9563,  14.7836,  11.8473]),\n",
       "  'bar': tensor([ 97.6055, 110.3703, 101.8986,  98.0630,  94.4110,  95.9294,  86.3202,\n",
       "           94.8877,  90.6136,  86.0367,  88.0900,  85.2239,  86.9347,  85.0280,\n",
       "           82.6776,  75.5585,  72.9242,  72.3730,  70.0830,  68.8763,  64.2544,\n",
       "           68.5824,  63.8943,  70.2211,  61.4875,  60.6085,  57.8128,  60.7484,\n",
       "           57.8166,  55.3707,  53.8609,  53.2727,  52.0130,  51.4201,  50.7708,\n",
       "           49.0711,  50.0155,  43.1881,  46.3028,  42.8751,  40.8257,  37.1271,\n",
       "           38.4599,  36.9003,  35.8984,  32.8438,  32.9833,  31.4894,  30.2510,\n",
       "           29.5309,  28.4338,  26.1274,  27.7893,  25.9392,  20.1816,  21.2308,\n",
       "           18.7498,  19.6154,  20.3978,  17.4614,  15.8646,  13.8597,  11.3441,\n",
       "            9.2104,   8.9589,   7.0853,   5.0731,   4.1701])}}"
      ]
     },
     "execution_count": 21,
     "metadata": {},
     "output_type": "execute_result"
    }
   ],
   "source": [
    "self.pw_corrs"
   ]
  }
 ],
 "metadata": {
  "kernelspec": {
   "display_name": "Python [conda env:jmw0]",
   "language": "python",
   "name": "conda-env-jmw0-py"
  },
  "language_info": {
   "codemirror_mode": {
    "name": "ipython",
    "version": 3
   },
   "file_extension": ".py",
   "mimetype": "text/x-python",
   "name": "python",
   "nbconvert_exporter": "python",
   "pygments_lexer": "ipython3",
   "version": "3.6.8"
  }
 },
 "nbformat": 4,
 "nbformat_minor": 2
}
