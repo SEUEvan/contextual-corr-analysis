{
 "cells": [
  {
   "cell_type": "code",
   "execution_count": 1,
   "metadata": {},
   "outputs": [],
   "source": [
    "import torch\n",
    "import json\n",
    "from tqdm import tqdm\n",
    "from itertools import product as p\n",
    "import numpy as np"
   ]
  },
  {
   "cell_type": "markdown",
   "metadata": {},
   "source": [
    "# Load fake activations"
   ]
  },
  {
   "cell_type": "code",
   "execution_count": 2,
   "metadata": {},
   "outputs": [],
   "source": [
    "class A:\n",
    "    pass\n",
    "self = A()"
   ]
  },
  {
   "cell_type": "code",
   "execution_count": 3,
   "metadata": {},
   "outputs": [],
   "source": [
    "self.num_neurons_d = {} # {fname, int}\n",
    "self.representations_d = {} # {fname, tensor}\n",
    "f1, f2, f3 = \"foo\", \"bar\", \"baz\"\n",
    "representation_files = [f1, f2, f3]"
   ]
  },
  {
   "cell_type": "code",
   "execution_count": 4,
   "metadata": {},
   "outputs": [],
   "source": [
    "# initialize `num_neurons_d`, `representations_d` with fake data\n",
    "n1, n2, n3 = 100, 80, 70\n",
    "nword = 1000\n",
    "t1 = torch.randn(nword, n1)\n",
    "t2 = torch.randn(nword, n2)\n",
    "t3 = torch.randn(nword, n3)\n",
    "self.num_neurons_d[f1] = n1\n",
    "self.num_neurons_d[f2] = n2\n",
    "self.num_neurons_d[f3] = n3\n",
    "self.representations_d[f1] = t1\n",
    "self.representations_d[f2] = t2\n",
    "self.representations_d[f3] = t3"
   ]
  },
  {
   "cell_type": "code",
   "execution_count": 5,
   "metadata": {},
   "outputs": [],
   "source": [
    "self.percent_variance = 0.99\n",
    "self.normalize_dimensions = False\n",
    "self.save_cca_transforms = False"
   ]
  },
  {
   "cell_type": "markdown",
   "metadata": {},
   "source": [
    "# Function"
   ]
  },
  {
   "cell_type": "code",
   "execution_count": 6,
   "metadata": {},
   "outputs": [],
   "source": [
    "# Set `self.nrepresentations_d`, \"normalized representations\". \n",
    "# Call it this regardless of if it's actually normalized\n",
    "self.nrepresentations_d = {}\n",
    "if self.normalize_dimensions:\n",
    "    for network in tqdm(self.representations_d, desc='mu, sigma'):\n",
    "        t = self.representations_d[network]\n",
    "        means = t.mean(0, keepdim=True)\n",
    "        stdevs = t.std(0, keepdim=True)\n",
    "\n",
    "        self.nrepresentations_d[network] = (t - means) / stdevs\n",
    "else:\n",
    "    self.nrepresentations_d = self.representations_d"
   ]
  },
  {
   "cell_type": "code",
   "execution_count": 7,
   "metadata": {},
   "outputs": [
    {
     "name": "stderr",
     "output_type": "stream",
     "text": [
      "pca: 100%|█████████████████████████████████████| 3/3 [00:00<00:00,  9.21it/s]"
     ]
    },
    {
     "name": "stdout",
     "output_type": "stream",
     "text": [
      "For network foo wanted size is 97\n",
      "For network bar wanted size is 78\n",
      "For network baz wanted size is 68\n"
     ]
    },
    {
     "name": "stderr",
     "output_type": "stream",
     "text": [
      "\n"
     ]
    }
   ],
   "source": [
    "# Set `whitening_transforms`, `pca_directions`\n",
    "# {network: whitening_tensor}\n",
    "whitening_transforms = {} \n",
    "pca_directions = {} \n",
    "for network in tqdm(self.nrepresentations_d, desc='pca'):\n",
    "    X = self.nrepresentations_d[network]\n",
    "    U, S, V = torch.svd(X)\n",
    "\n",
    "    var_sums = torch.cumsum(S.pow(2), 0)\n",
    "    wanted_size = torch.sum(var_sums.lt(var_sums[-1] * self.percent_variance)).item()\n",
    "\n",
    "    print('For network', network, 'wanted size is', wanted_size)\n",
    "\n",
    "    if self.save_cca_transforms:\n",
    "        whitening_transform = torch.mm(V, torch.diag(1/S))\n",
    "        whitening_transforms[network] = whitening_transform[:, :wanted_size]\n",
    "    \n",
    "    pca_directions[network] = U[:, :wanted_size]"
   ]
  },
  {
   "cell_type": "code",
   "execution_count": 8,
   "metadata": {},
   "outputs": [],
   "source": [
    "# Set \n",
    "# `self.transforms`: {network: {other: svcca_transform}}\n",
    "# `self.corrs`: {network: {other: canonical_corrs}}\n",
    "# `self.pw_alignments`: {network: {other: unnormalized pw weights}}\n",
    "# `self.pw_corrs`: {network: {other: pw_alignments*corrs}}\n",
    "# `self.sv_similarities`: {network: {other: svcca_similarities}}\n",
    "# `self.pw_similarities`: {network: {other: pwcca_similarities}}\n",
    "self.transforms = {network: {} for network in self.nrepresentations_d}\n",
    "self.corrs = {network: {} for network in self.nrepresentations_d}\n",
    "self.pw_alignments = {network: {} for network in self.nrepresentations_d}\n",
    "self.pw_corrs = {network: {} for network in self.nrepresentations_d}\n",
    "self.sv_similarities = {network: {} for network in self.nrepresentations_d}\n",
    "self.pw_similarities = {network: {} for network in self.nrepresentations_d}"
   ]
  },
  {
   "cell_type": "markdown",
   "metadata": {},
   "source": [
    "# For network in ... loop"
   ]
  },
  {
   "cell_type": "code",
   "execution_count": 9,
   "metadata": {},
   "outputs": [],
   "source": [
    "# arbitrary loop params\n",
    "network = f1\n",
    "other_network = f2"
   ]
  },
  {
   "cell_type": "code",
   "execution_count": 10,
   "metadata": {},
   "outputs": [],
   "source": [
    "X = pca_directions[network]\n",
    "Y = pca_directions[other_network]"
   ]
  },
  {
   "cell_type": "code",
   "execution_count": 11,
   "metadata": {},
   "outputs": [],
   "source": [
    "# Perform SVD for CCA.\n",
    "# u s vt = Xt Y\n",
    "# s = ut Xt Y v\n",
    "u, s, v = torch.svd(torch.mm(X.t(), Y))\n",
    "\n",
    "# `self.transforms`, `self.corrs`, `self.sv_similarities`\n",
    "if self.save_cca_transforms:\n",
    "    self.transforms[network][other_network] = torch.mm(whitening_transforms[network], u).cpu().numpy()\n",
    "    self.transforms[other_network][network] = torch.mm(whitening_transforms[other_network], v).cpu().numpy()\n",
    "\n",
    "self.corrs[network][other_network] = s.cpu().numpy()\n",
    "self.corrs[other_network][network] = s.cpu().numpy()\n",
    "\n",
    "self.sv_similarities[network][other_network] = s.mean().item()\n",
    "self.sv_similarities[other_network][network] = s.mean().item()"
   ]
  },
  {
   "cell_type": "code",
   "execution_count": 12,
   "metadata": {},
   "outputs": [],
   "source": [
    "# Compute `self.pw_alignments`, `self.pw_corrs`, `self.pw_similarities`. \n",
    "# This is not symmetric\n",
    "\n",
    "# For X\n",
    "H = torch.mm(X, u)\n",
    "Z = self.representations_d[network]\n",
    "align = torch.abs(torch.mm(H.t(), Z))\n",
    "a = torch.sum(align, dim=1, keepdim=False)\n",
    "self.pw_alignments[network][other_network] = a.cpu().numpy()\n",
    "self.pw_corrs[network][other_network] = (s*a).cpu().numpy()\n",
    "self.pw_similarities[network][other_network] = (torch.sum(s*a)/torch.sum(a)).item()\n",
    "\n",
    "# For Y\n",
    "H = torch.mm(Y, v)\n",
    "Z = self.representations_d[other_network]\n",
    "align = torch.abs(torch.mm(H.t(), Z))\n",
    "a = torch.sum(align, dim=1, keepdim=False)\n",
    "self.pw_alignments[other_network][network] = a.cpu().numpy()\n",
    "self.pw_corrs[other_network][network] = (s*a).cpu().numpy()\n",
    "self.pw_similarities[other_network][network] = (torch.sum(s*a)/torch.sum(a)).item()"
   ]
  },
  {
   "cell_type": "code",
   "execution_count": 15,
   "metadata": {},
   "outputs": [
    {
     "name": "stderr",
     "output_type": "stream",
     "text": [
      "cca: 100%|████████████████████████████████████| 9/9 [00:00<00:00, 669.35it/s]\n"
     ]
    }
   ],
   "source": [
    "# full loop\n",
    "for network, other_network in tqdm(p(self.nrepresentations_d,\n",
    "                                     self.nrepresentations_d),\n",
    "                                   desc='cca',\n",
    "                                   total=len(self.nrepresentations_d)**2):\n",
    "\n",
    "    if network == other_network:\n",
    "        continue\n",
    "\n",
    "    if other_network in self.transforms[network]: \n",
    "        continue\n",
    "    \n",
    "    X = pca_directions[network]\n",
    "    Y = pca_directions[other_network]\n",
    "\n",
    "    # Perform SVD for CCA.\n",
    "    # u s vt = Xt Y\n",
    "    # s = ut Xt Y v\n",
    "    u, s, v = torch.svd(torch.mm(X.t(), Y))\n",
    "\n",
    "    # `self.transforms`, `self.corrs`, `self.sv_similarities`\n",
    "    if self.save_cca_transforms:\n",
    "        self.transforms[network][other_network] = torch.mm(whitening_transforms[network], u).cpu().numpy()\n",
    "        self.transforms[other_network][network] = torch.mm(whitening_transforms[other_network], v).cpu().numpy()\n",
    "\n",
    "    self.corrs[network][other_network] = s.cpu().numpy()\n",
    "    self.corrs[other_network][network] = s.cpu().numpy()\n",
    "\n",
    "    self.sv_similarities[network][other_network] = s.mean().item()\n",
    "    self.sv_similarities[other_network][network] = s.mean().item()\n",
    "\n",
    "    # Compute `self.pw_alignments`, `self.pw_corrs`, `self.pw_similarities`. \n",
    "    # This is not symmetric\n",
    "\n",
    "    # For X\n",
    "    H = torch.mm(X, u)\n",
    "    Z = self.representations_d[network]\n",
    "    align = torch.abs(torch.mm(H.t(), Z))\n",
    "    a = torch.sum(align, dim=1, keepdim=False)\n",
    "    self.pw_alignments[network][other_network] = a.cpu().numpy()\n",
    "    self.pw_corrs[network][other_network] = (s*a).cpu().numpy()\n",
    "    self.pw_similarities[network][other_network] = (torch.sum(s*a)/torch.sum(a)).item()\n",
    "\n",
    "    # For Y\n",
    "    H = torch.mm(Y, v)\n",
    "    Z = self.representations_d[other_network]\n",
    "    align = torch.abs(torch.mm(H.t(), Z))\n",
    "    a = torch.sum(align, dim=1, keepdim=False)\n",
    "    self.pw_alignments[other_network][network] = a.cpu().numpy()\n",
    "    self.pw_corrs[other_network][network] = (s*a).cpu().numpy()\n",
    "    self.pw_similarities[other_network][network] = (torch.sum(s*a)/torch.sum(a)).item()"
   ]
  },
  {
   "cell_type": "markdown",
   "metadata": {},
   "source": [
    "# Full function"
   ]
  },
  {
   "cell_type": "code",
   "execution_count": 6,
   "metadata": {},
   "outputs": [],
   "source": [
    "def compute_correlations(self):\n",
    "    # Set `self.nrepresentations_d`, \"normalized representations\". \n",
    "    # Call it this regardless of if it's actually \"normalized\"\n",
    "    self.nrepresentations_d = {}\n",
    "    if self.normalize_dimensions:\n",
    "        for network in tqdm(self.representations_d, desc='mu, sigma'):\n",
    "            t = self.representations_d[network]\n",
    "            means = t.mean(0, keepdim=True)\n",
    "            stdevs = t.std(0, keepdim=True)\n",
    "\n",
    "            self.nrepresentations_d[network] = (t - means) / stdevs\n",
    "    else:\n",
    "        self.nrepresentations_d = self.representations_d\n",
    "\n",
    "    # Set `whitening_transforms`, `pca_directions`\n",
    "    # {network: whitening_tensor}\n",
    "    whitening_transforms = {} \n",
    "    pca_directions = {} \n",
    "    for network in tqdm(self.nrepresentations_d, desc='pca'):\n",
    "        X = self.nrepresentations_d[network]\n",
    "        U, S, V = torch.svd(X)\n",
    "\n",
    "        var_sums = torch.cumsum(S.pow(2), 0)\n",
    "        wanted_size = torch.sum(var_sums.lt(var_sums[-1] * self.percent_variance)).item()\n",
    "\n",
    "        print('For network', network, 'wanted size is', wanted_size)\n",
    "\n",
    "        if self.save_cca_transforms:\n",
    "            whitening_transform = torch.mm(V, torch.diag(1/S))\n",
    "            whitening_transforms[network] = whitening_transform[:, :wanted_size]\n",
    "\n",
    "        pca_directions[network] = U[:, :wanted_size]\n",
    "\n",
    "    # Set \n",
    "    # `self.transforms`: {network: {other: svcca_transform}}\n",
    "    # `self.corrs`: {network: {other: canonical_corrs}}\n",
    "    # `self.pw_alignments`: {network: {other: unnormalized pw weights}}\n",
    "    # `self.pw_corrs`: {network: {other: pw_alignments*corrs}}\n",
    "    # `self.sv_similarities`: {network: {other: svcca_similarities}}\n",
    "    # `self.pw_similarities`: {network: {other: pwcca_similarities}}\n",
    "    self.transforms = {network: {} for network in self.nrepresentations_d}\n",
    "    self.corrs = {network: {} for network in self.nrepresentations_d}\n",
    "    self.pw_alignments = {network: {} for network in self.nrepresentations_d}\n",
    "    self.pw_corrs = {network: {} for network in self.nrepresentations_d}\n",
    "    self.sv_similarities = {network: {} for network in self.nrepresentations_d}\n",
    "    self.pw_similarities = {network: {} for network in self.nrepresentations_d}\n",
    "    for network, other_network in tqdm(p(self.nrepresentations_d,\n",
    "                                         self.nrepresentations_d),\n",
    "                                       desc='cca',\n",
    "                                       total=len(self.nrepresentations_d)**2):\n",
    "\n",
    "        if network == other_network:\n",
    "            continue\n",
    "\n",
    "        if other_network in self.transforms[network]: \n",
    "            continue\n",
    "\n",
    "        X = pca_directions[network]\n",
    "        Y = pca_directions[other_network]\n",
    "\n",
    "        # Perform SVD for CCA.\n",
    "        # u s vt = Xt Y\n",
    "        # s = ut Xt Y v\n",
    "        u, s, v = torch.svd(torch.mm(X.t(), Y))\n",
    "\n",
    "        # `self.transforms`, `self.corrs`, `self.sv_similarities`\n",
    "        if self.save_cca_transforms:\n",
    "            self.transforms[network][other_network] = torch.mm(whitening_transforms[network], u).cpu().numpy()\n",
    "            self.transforms[other_network][network] = torch.mm(whitening_transforms[other_network], v).cpu().numpy()\n",
    "\n",
    "        self.corrs[network][other_network] = s.cpu().numpy()\n",
    "        self.corrs[other_network][network] = s.cpu().numpy()\n",
    "\n",
    "        self.sv_similarities[network][other_network] = s.mean().item()\n",
    "        self.sv_similarities[other_network][network] = s.mean().item()\n",
    "\n",
    "        # Compute `self.pw_alignments`, `self.pw_corrs`, `self.pw_similarities`. \n",
    "        # This is not symmetric\n",
    "\n",
    "        # For X\n",
    "        H = torch.mm(X, u)\n",
    "        Z = self.representations_d[network]\n",
    "        align = torch.abs(torch.mm(H.t(), Z))\n",
    "        a = torch.sum(align, dim=1, keepdim=False)\n",
    "        self.pw_alignments[network][other_network] = a.cpu().numpy()\n",
    "        self.pw_corrs[network][other_network] = (s*a).cpu().numpy()\n",
    "        self.pw_similarities[network][other_network] = (torch.sum(s*a)/torch.sum(a)).item()\n",
    "\n",
    "        # For Y\n",
    "        H = torch.mm(Y, v)\n",
    "        Z = self.representations_d[other_network]\n",
    "        align = torch.abs(torch.mm(H.t(), Z))\n",
    "        a = torch.sum(align, dim=1, keepdim=False)\n",
    "        self.pw_alignments[other_network][network] = a.cpu().numpy()\n",
    "        self.pw_corrs[other_network][network] = (s*a).cpu().numpy()\n",
    "        self.pw_similarities[other_network][network] = (torch.sum(s*a)/torch.sum(a)).item()"
   ]
  },
  {
   "cell_type": "code",
   "execution_count": 7,
   "metadata": {},
   "outputs": [
    {
     "name": "stderr",
     "output_type": "stream",
     "text": [
      "pca: 100%|█████████████████████████████████████| 3/3 [00:00<00:00, 87.65it/s]\n",
      "cca: 100%|████████████████████████████████████| 9/9 [00:00<00:00, 539.38it/s]"
     ]
    },
    {
     "name": "stdout",
     "output_type": "stream",
     "text": [
      "For network foo wanted size is 97\n",
      "For network bar wanted size is 78\n",
      "For network baz wanted size is 68\n"
     ]
    },
    {
     "name": "stderr",
     "output_type": "stream",
     "text": [
      "\n"
     ]
    }
   ],
   "source": [
    "compute_correlations(self)"
   ]
  },
  {
   "cell_type": "code",
   "execution_count": 8,
   "metadata": {},
   "outputs": [
    {
     "data": {
      "text/plain": [
       "{'foo': {'bar': array([251.97348, 260.81625, 255.077  , 275.73474, 256.24982, 257.5581 ,\n",
       "         259.6351 , 257.06528, 262.96936, 254.49544, 250.53667, 236.20905,\n",
       "         252.74142, 262.22662, 249.7028 , 256.1499 , 256.25308, 251.71135,\n",
       "         255.15184, 251.54121, 267.07938, 259.43402, 258.43118, 251.3825 ,\n",
       "         242.11292, 266.68982, 245.26556, 260.9492 , 259.05383, 255.66913,\n",
       "         254.6817 , 255.97926, 250.11707, 270.2134 , 243.4038 , 271.04242,\n",
       "         260.8858 , 263.7016 , 259.79315, 253.11787, 268.34558, 275.30338,\n",
       "         260.15234, 255.72946, 257.3257 , 259.2988 , 254.91328, 261.27917,\n",
       "         254.07199, 258.81763, 261.5435 , 252.48909, 267.74344, 275.60687,\n",
       "         264.9771 , 256.6436 , 272.45782, 259.81717, 263.23416, 259.08066,\n",
       "         259.57907, 262.90054, 246.1847 , 248.96051, 247.92561, 259.30035,\n",
       "         241.10927, 258.95767, 262.53665, 256.79718, 250.05742, 256.76492,\n",
       "         243.58519, 269.09012, 260.75836, 255.06744, 259.09225, 258.03223],\n",
       "        dtype=float32),\n",
       "  'baz': array([270.04144, 249.82648, 254.0947 , 248.40916, 247.41971, 260.47192,\n",
       "         261.40424, 264.0465 , 258.67264, 254.58505, 262.092  , 240.51924,\n",
       "         259.62537, 257.34988, 256.0904 , 264.47455, 235.51268, 268.13425,\n",
       "         249.32849, 267.33777, 272.36383, 252.31184, 266.4159 , 249.31331,\n",
       "         266.078  , 250.46295, 275.0936 , 277.6581 , 248.09972, 253.77087,\n",
       "         262.89008, 260.8686 , 258.01044, 257.04636, 259.28412, 250.22466,\n",
       "         263.28897, 270.33377, 265.1923 , 256.77298, 253.74617, 259.49414,\n",
       "         241.20634, 247.81805, 264.47067, 256.31995, 252.5002 , 257.48538,\n",
       "         250.89627, 228.55458, 248.13892, 249.1467 , 245.33473, 248.50186,\n",
       "         253.80695, 259.73676, 254.84833, 261.70416, 262.55643, 242.06384,\n",
       "         268.89133, 244.65865, 263.00943, 261.7256 , 255.53592, 253.0245 ,\n",
       "         261.26907, 262.47318], dtype=float32)},\n",
       " 'bar': {'foo': array([228.61176, 232.34639, 221.68723, 231.06529, 226.58636, 228.24551,\n",
       "         234.60112, 220.14514, 231.44792, 222.42148, 229.52971, 219.11948,\n",
       "         225.56071, 225.55266, 243.03378, 224.00781, 216.13689, 230.04016,\n",
       "         232.55885, 245.78656, 238.65141, 222.21074, 227.62065, 232.99924,\n",
       "         224.92456, 221.5564 , 212.44861, 216.71156, 215.8906 , 229.2616 ,\n",
       "         236.5741 , 229.27791, 226.37326, 214.85495, 241.21465, 229.72499,\n",
       "         226.0467 , 239.07588, 220.51291, 235.32077, 216.82697, 220.61542,\n",
       "         233.65263, 229.27106, 220.45609, 237.80148, 210.93056, 235.90877,\n",
       "         222.6313 , 224.00003, 230.56468, 229.22734, 224.23409, 232.90378,\n",
       "         234.98412, 229.34775, 234.9238 , 225.99286, 219.00356, 221.8888 ,\n",
       "         243.24869, 233.87898, 230.35106, 234.89955, 218.58482, 223.39517,\n",
       "         234.38458, 218.53033, 220.257  , 223.54427, 223.07953, 229.61302,\n",
       "         205.69698, 242.995  , 231.0666 , 224.59322, 219.71689, 224.70622],\n",
       "        dtype=float32),\n",
       "  'baz': array([214.3963 , 233.44678, 238.4998 , 223.94908, 237.14642, 210.66606,\n",
       "         237.5736 , 230.97661, 232.34033, 226.2675 , 218.7438 , 228.15082,\n",
       "         224.54626, 221.65944, 219.35109, 211.9394 , 240.48099, 218.46957,\n",
       "         216.03543, 223.55293, 219.90056, 218.95932, 218.84526, 230.30937,\n",
       "         241.03922, 243.83147, 220.15396, 241.5002 , 213.63966, 224.38898,\n",
       "         229.09326, 243.03694, 223.67514, 232.88492, 233.10226, 229.7994 ,\n",
       "         233.50781, 209.26262, 243.0031 , 215.38011, 225.0021 , 240.05019,\n",
       "         224.90382, 217.74384, 233.58504, 231.69957, 237.8983 , 229.9889 ,\n",
       "         222.80313, 229.55542, 224.88438, 226.31996, 205.14453, 220.36792,\n",
       "         230.32794, 220.08803, 220.25674, 228.52267, 227.22891, 227.35391,\n",
       "         239.01329, 214.81418, 233.21384, 228.32048, 223.37982, 238.43758,\n",
       "         228.00394, 236.67592], dtype=float32)},\n",
       " 'baz': {'foo': array([193.08076, 213.60963, 207.49033, 201.36116, 230.55072, 221.0033 ,\n",
       "         204.56209, 221.17125, 206.17303, 193.32896, 208.97923, 209.45308,\n",
       "         229.48845, 210.88611, 220.13402, 211.39638, 201.2369 , 211.9876 ,\n",
       "         209.67804, 216.12888, 208.28806, 209.4436 , 210.92802, 207.80905,\n",
       "         215.21452, 219.98738, 208.84344, 212.9172 , 213.82825, 213.47069,\n",
       "         205.05751, 211.79672, 222.72595, 221.04265, 227.33156, 208.67847,\n",
       "         213.98193, 213.19438, 209.78398, 220.57652, 223.04317, 204.69284,\n",
       "         221.265  , 226.77585, 207.33618, 217.70068, 222.30887, 225.05893,\n",
       "         219.34616, 218.73645, 216.60109, 218.2665 , 211.29863, 216.62334,\n",
       "         211.08495, 219.96109, 214.35893, 204.23065, 211.79901, 209.93114,\n",
       "         204.01006, 205.32904, 217.5258 , 206.13046, 218.51186, 220.24136,\n",
       "         215.32327, 215.19765], dtype=float32),\n",
       "  'bar': array([195.04648, 216.6789 , 224.1509 , 215.08966, 215.26385, 221.18242,\n",
       "         214.14598, 206.34322, 210.28319, 208.82294, 216.79698, 217.2444 ,\n",
       "         222.87633, 212.92706, 200.79121, 201.85042, 208.61969, 218.69127,\n",
       "         209.01596, 208.69974, 215.29485, 207.62218, 213.45297, 212.6022 ,\n",
       "         221.72467, 199.47214, 214.7451 , 214.22981, 211.73244, 217.49167,\n",
       "         206.2988 , 214.31107, 210.235  , 211.17218, 204.07579, 222.30006,\n",
       "         209.7741 , 211.30464, 218.12672, 216.8455 , 196.97482, 211.3333 ,\n",
       "         208.2518 , 218.84354, 209.5463 , 199.57758, 209.68498, 210.90729,\n",
       "         211.91803, 217.47903, 203.91702, 218.36931, 221.71016, 198.24364,\n",
       "         226.12767, 205.90425, 204.59787, 228.09709, 223.17873, 229.09529,\n",
       "         209.13864, 206.25722, 191.5344 , 199.27538, 227.3765 , 198.97748,\n",
       "         197.61078, 205.5576 ], dtype=float32)}}"
      ]
     },
     "execution_count": 8,
     "metadata": {},
     "output_type": "execute_result"
    }
   ],
   "source": [
    "self.pw_alignments"
   ]
  }
 ],
 "metadata": {
  "kernelspec": {
   "display_name": "Python [conda env:jmw0]",
   "language": "python",
   "name": "conda-env-jmw0-py"
  },
  "language_info": {
   "codemirror_mode": {
    "name": "ipython",
    "version": 3
   },
   "file_extension": ".py",
   "mimetype": "text/x-python",
   "name": "python",
   "nbconvert_exporter": "python",
   "pygments_lexer": "ipython3",
   "version": "3.6.8"
  }
 },
 "nbformat": 4,
 "nbformat_minor": 2
}
