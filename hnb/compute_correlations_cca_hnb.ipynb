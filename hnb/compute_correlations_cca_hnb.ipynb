{
 "cells": [
  {
   "cell_type": "code",
   "execution_count": 2,
   "metadata": {},
   "outputs": [],
   "source": [
    "import torch\n",
    "import json\n",
    "from tqdm import tqdm\n",
    "from itertools import product as p\n",
    "import numpy as np"
   ]
  },
  {
   "cell_type": "markdown",
   "metadata": {},
   "source": [
    "# Load fake activations"
   ]
  },
  {
   "cell_type": "code",
   "execution_count": 2,
   "metadata": {},
   "outputs": [],
   "source": [
    "class A:\n",
    "    pass\n",
    "self = A()"
   ]
  },
  {
   "cell_type": "code",
   "execution_count": 3,
   "metadata": {},
   "outputs": [],
   "source": [
    "self.num_neurons_d = {} # {fname, int}\n",
    "self.representations_d = {} # {fname, tensor}\n",
    "f1, f2, f3 = \"foo\", \"bar\", \"baz\"\n",
    "representation_files = [f1, f2, f3]"
   ]
  },
  {
   "cell_type": "code",
   "execution_count": 4,
   "metadata": {},
   "outputs": [],
   "source": [
    "# initialize `num_neurons_d`, `representations_d` with fake data\n",
    "n1, n2, n3 = 100, 80, 70\n",
    "nword = 1000\n",
    "t1 = torch.randn(nword, n1)\n",
    "t2 = torch.randn(nword, n2)\n",
    "t3 = torch.randn(nword, n3)\n",
    "self.num_neurons_d[f1] = n1\n",
    "self.num_neurons_d[f2] = n2\n",
    "self.num_neurons_d[f3] = n3\n",
    "self.representations_d[f1] = t1\n",
    "self.representations_d[f2] = t2\n",
    "self.representations_d[f3] = t3"
   ]
  },
  {
   "cell_type": "code",
   "execution_count": 5,
   "metadata": {},
   "outputs": [],
   "source": [
    "self.percent_variance = 0.99\n",
    "self.normalize_dimensions = True\n",
    "self.save_cca_transforms = False"
   ]
  },
  {
   "cell_type": "markdown",
   "metadata": {},
   "source": [
    "# Function"
   ]
  },
  {
   "cell_type": "code",
   "execution_count": 7,
   "metadata": {},
   "outputs": [
    {
     "name": "stderr",
     "output_type": "stream",
     "text": [
      "mu, sigma: 100%|█| 3/3 [00:00<00:00, 515.12it/s]\n"
     ]
    }
   ],
   "source": [
    "# Normalize\n",
    "# Set `self.nrepresentations_d`\n",
    "self.nrepresentations_d = {}\n",
    "if self.normalize_dimensions:\n",
    "    for network in tqdm(self.representations_d, desc='mu, sigma'):\n",
    "        t = self.representations_d[network]\n",
    "        means = t.mean(0, keepdim=True)\n",
    "        stdevs = t.std(0, keepdim=True)\n",
    "\n",
    "        self.nrepresentations_d[network] = (t - means) / stdevs"
   ]
  },
  {
   "cell_type": "code",
   "execution_count": 8,
   "metadata": {},
   "outputs": [
    {
     "name": "stderr",
     "output_type": "stream",
     "text": [
      "pca: 100%|█| 3/3 [00:01<00:00,  2.83it/s]"
     ]
    },
    {
     "name": "stdout",
     "output_type": "stream",
     "text": [
      "For network foo wanted size is 97\n",
      "For network bar wanted size is 78\n",
      "For network baz wanted size is 68\n"
     ]
    },
    {
     "name": "stderr",
     "output_type": "stream",
     "text": [
      "\n"
     ]
    }
   ],
   "source": [
    "# Set `whitening_transforms`, `pca_directions`\n",
    "# {network: whitening_tensor}\n",
    "whitening_transforms = {} \n",
    "pca_directions = {} \n",
    "for network in tqdm(self.nrepresentations_d, desc='pca'):\n",
    "    X = self.nrepresentations_d[network]\n",
    "    U, S, V = torch.svd(X)\n",
    "\n",
    "    var_sums = torch.cumsum(S.pow(2), 0)\n",
    "    wanted_size = torch.sum(var_sums.lt(var_sums[-1] * self.percent_variance)).item()\n",
    "\n",
    "    print('For network', network, 'wanted size is', wanted_size)\n",
    "\n",
    "    whitening_transform = torch.mm(V, torch.diag(1/S))\n",
    "    whitening_transforms[network] = whitening_transform[:, :wanted_size]\n",
    "    pca_directions[network] = U[:, :wanted_size]"
   ]
  },
  {
   "cell_type": "code",
   "execution_count": 38,
   "metadata": {},
   "outputs": [],
   "source": [
    "# Set \n",
    "# `self.transforms`: {network: {other: svcca_transform}}\n",
    "# `self.corrs`: {network: {other: canonical_corrs}}\n",
    "# `self.sv_similarities`: {network: {other: svcca_similarities}}\n",
    "# `self.pw_similarities`: {network: {other: pwcca_similarities}}\n",
    "self.transforms = {network: {} for network in self.nrepresentations_d}\n",
    "self.corrs = {network: {} for network in self.nrepresentations_d}\n",
    "self.sv_similarities = {network: {} for network in self.nrepresentations_d}\n",
    "self.pw_similarities = {network: {} for network in self.nrepresentations_d}"
   ]
  },
  {
   "cell_type": "markdown",
   "metadata": {},
   "source": [
    "# For network in ... loop"
   ]
  },
  {
   "cell_type": "code",
   "execution_count": 10,
   "metadata": {},
   "outputs": [],
   "source": [
    "# arbitrary loop params\n",
    "network = f1\n",
    "other_network = f2"
   ]
  },
  {
   "cell_type": "code",
   "execution_count": 11,
   "metadata": {},
   "outputs": [],
   "source": [
    "X = pca_directions[network]\n",
    "Y = pca_directions[other_network]"
   ]
  },
  {
   "cell_type": "code",
   "execution_count": 12,
   "metadata": {},
   "outputs": [],
   "source": [
    "# Perform SVD for CCA.\n",
    "# u s vt = Xt Y\n",
    "# s = ut Xt Y v\n",
    "u, s, v = torch.svd(torch.mm(X.t(), Y))\n",
    "\n",
    "# `self.transforms`, `self.corrs`, `self.sv_similarities`\n",
    "self.transforms[network][other_network] = torch.mm(whitening_transforms[network], u)\n",
    "self.transforms[other_network][network] = torch.mm(whitening_transforms[other_network], v)\n",
    "\n",
    "self.corrs[network][other_network] = s\n",
    "self.corrs[other_network][network] = s\n",
    "\n",
    "self.sv_similarities[network][other_network] = s.mean().item()\n",
    "self.sv_similarities[other_network][network] = s.mean().item()"
   ]
  },
  {
   "cell_type": "code",
   "execution_count": 32,
   "metadata": {},
   "outputs": [],
   "source": [
    "# Compute `self.pw_similarities`. \n",
    "# This is not symmetric\n",
    "\n",
    "# For X\n",
    "H = torch.mm(X, u)\n",
    "Z = self.representations_d[network]\n",
    "align = torch.abs(torch.mm(H.t(), Z))\n",
    "a = torch.sum(align, dim=1, keepdim=False)\n",
    "a = a / torch.sum(a)\n",
    "self.pw_similarities[network][other_network] = torch.sum(s*a).item()\n",
    "\n",
    "# For Y\n",
    "H = torch.mm(Y, v)\n",
    "Z = self.representations_d[other_network]\n",
    "align = torch.abs(torch.mm(H.t(), Z))\n",
    "a = torch.sum(align, dim=1, keepdim=False)\n",
    "a = a / torch.sum(a)\n",
    "self.pw_similarities[other_network][network] = torch.sum(s*a).item()"
   ]
  },
  {
   "cell_type": "code",
   "execution_count": 33,
   "metadata": {},
   "outputs": [
    {
     "data": {
      "text/plain": [
       "{'foo': {'bar': 0.27772951126098633},\n",
       " 'bar': {'foo': 0.2768635153770447},\n",
       " 'baz': {}}"
      ]
     },
     "execution_count": 33,
     "metadata": {},
     "output_type": "execute_result"
    }
   ],
   "source": [
    "self.pw_similarities"
   ]
  },
  {
   "cell_type": "code",
   "execution_count": 39,
   "metadata": {},
   "outputs": [
    {
     "name": "stderr",
     "output_type": "stream",
     "text": [
      "cca: 100%|█| 9/9 [00:00<00:00, 786.68it/s]\n"
     ]
    }
   ],
   "source": [
    "# full loop\n",
    "for network, other_network in tqdm(p(self.nrepresentations_d,\n",
    "                                     self.nrepresentations_d),\n",
    "                                   desc='cca',\n",
    "                                   total=len(self.nrepresentations_d)**2):\n",
    "\n",
    "    if network == other_network:\n",
    "        continue\n",
    "\n",
    "    if other_network in self.transforms[network]: \n",
    "        continue\n",
    "    \n",
    "    X = pca_directions[network]\n",
    "    Y = pca_directions[other_network]\n",
    "\n",
    "    # Perform SVD for CCA.\n",
    "    # u s vt = Xt Y\n",
    "    # s = ut Xt Y v\n",
    "    u, s, v = torch.svd(torch.mm(X.t(), Y))\n",
    "\n",
    "    # `self.transforms`, `self.corrs`, `self.sv_similarities`\n",
    "    self.transforms[network][other_network] = torch.mm(whitening_transforms[network], u)\n",
    "    self.transforms[other_network][network] = torch.mm(whitening_transforms[other_network], v)\n",
    "\n",
    "    self.corrs[network][other_network] = s\n",
    "    self.corrs[other_network][network] = s\n",
    "\n",
    "    self.sv_similarities[network][other_network] = s.mean().item()\n",
    "    self.sv_similarities[other_network][network] = s.mean().item()\n",
    "\n",
    "    # Compute `self.pw_similarities`. \n",
    "    # This is not symmetric\n",
    "\n",
    "    # For X\n",
    "    H = torch.mm(X, u)\n",
    "    Z = self.representations_d[network]\n",
    "    align = torch.abs(torch.mm(H.t(), Z))\n",
    "    a = torch.sum(align, dim=1, keepdim=False)\n",
    "    a = a / torch.sum(a)\n",
    "    self.pw_similarities[network][other_network] = torch.sum(s*a).item()\n",
    "\n",
    "    # For Y\n",
    "    H = torch.mm(Y, v)\n",
    "    Z = self.representations_d[other_network]\n",
    "    align = torch.abs(torch.mm(H.t(), Z))\n",
    "    a = torch.sum(align, dim=1, keepdim=False)\n",
    "    a = a / torch.sum(a)\n",
    "    self.pw_similarities[other_network][network] = torch.sum(s*a).item()"
   ]
  },
  {
   "cell_type": "markdown",
   "metadata": {},
   "source": [
    "# Full function"
   ]
  },
  {
   "cell_type": "code",
   "execution_count": 42,
   "metadata": {},
   "outputs": [],
   "source": [
    "def compute_correlations(self):\n",
    "    # Normalize\n",
    "    # Set `self.nrepresentations_d`\n",
    "    self.nrepresentations_d = {}\n",
    "    if self.normalize_dimensions:\n",
    "        for network in tqdm(self.representations_d, desc='mu, sigma'):\n",
    "            t = self.representations_d[network]\n",
    "            means = t.mean(0, keepdim=True)\n",
    "            stdevs = t.std(0, keepdim=True)\n",
    "\n",
    "            self.nrepresentations_d[network] = (t - means) / stdevs\n",
    "\n",
    "    # Set `whitening_transforms`, `pca_directions`\n",
    "    # {network: whitening_tensor}\n",
    "    whitening_transforms = {} \n",
    "    pca_directions = {} \n",
    "    for network in tqdm(self.nrepresentations_d, desc='pca'):\n",
    "        X = self.nrepresentations_d[network]\n",
    "        U, S, V = torch.svd(X)\n",
    "\n",
    "        var_sums = torch.cumsum(S.pow(2), 0)\n",
    "        wanted_size = torch.sum(var_sums.lt(var_sums[-1] * self.percent_variance)).item()\n",
    "\n",
    "        print('For network', network, 'wanted size is', wanted_size)\n",
    "\n",
    "        whitening_transform = torch.mm(V, torch.diag(1/S))\n",
    "        whitening_transforms[network] = whitening_transform[:, :wanted_size]\n",
    "        pca_directions[network] = U[:, :wanted_size]\n",
    "\n",
    "    # Set \n",
    "    # `self.transforms`: {network: {other: svcca_transform}}\n",
    "    # `self.corrs`: {network: {other: canonical_corrs}}\n",
    "    # `self.sv_similarities`: {network: {other: svcca_similarities}}\n",
    "    # `self.pw_similarities`: {network: {other: pwcca_similarities}}\n",
    "    self.transforms = {network: {} for network in self.nrepresentations_d}\n",
    "    self.corrs = {network: {} for network in self.nrepresentations_d}\n",
    "    self.sv_similarities = {network: {} for network in self.nrepresentations_d}\n",
    "    self.pw_similarities = {network: {} for network in self.nrepresentations_d}\n",
    "    for network, other_network in tqdm(p(self.nrepresentations_d,\n",
    "                                         self.nrepresentations_d),\n",
    "                                       desc='cca',\n",
    "                                       total=len(self.nrepresentations_d)**2):\n",
    "\n",
    "        if network == other_network:\n",
    "            continue\n",
    "\n",
    "        if other_network in self.transforms[network]: \n",
    "            continue\n",
    "\n",
    "        X = pca_directions[network]\n",
    "        Y = pca_directions[other_network]\n",
    "\n",
    "        # Perform SVD for CCA.\n",
    "        # u s vt = Xt Y\n",
    "        # s = ut Xt Y v\n",
    "        u, s, v = torch.svd(torch.mm(X.t(), Y))\n",
    "\n",
    "        # `self.transforms`, `self.corrs`, `self.sv_similarities`\n",
    "        self.transforms[network][other_network] = torch.mm(whitening_transforms[network], u)\n",
    "        self.transforms[other_network][network] = torch.mm(whitening_transforms[other_network], v)\n",
    "\n",
    "        self.corrs[network][other_network] = s\n",
    "        self.corrs[other_network][network] = s\n",
    "\n",
    "        self.sv_similarities[network][other_network] = s.mean().item()\n",
    "        self.sv_similarities[other_network][network] = s.mean().item()\n",
    "\n",
    "        # Compute `self.pw_similarities`. See https://arxiv.org/abs/1806.05759\n",
    "        # This is not symmetric\n",
    "\n",
    "        # For X\n",
    "        H = torch.mm(X, u)\n",
    "        Z = self.representations_d[network]\n",
    "        align = torch.abs(torch.mm(H.t(), Z))\n",
    "        a = torch.sum(align, dim=1, keepdim=False)\n",
    "        a = a / torch.sum(a)\n",
    "        self.pw_similarities[network][other_network] = torch.sum(s*a).item()\n",
    "\n",
    "        # For Y\n",
    "        H = torch.mm(Y, v)\n",
    "        Z = self.representations_d[other_network]\n",
    "        align = torch.abs(torch.mm(H.t(), Z))\n",
    "        a = torch.sum(align, dim=1, keepdim=False)\n",
    "        a = a / torch.sum(a)\n",
    "        self.pw_similarities[other_network][network] = torch.sum(s*a).item()"
   ]
  },
  {
   "cell_type": "code",
   "execution_count": 44,
   "metadata": {},
   "outputs": [
    {
     "name": "stderr",
     "output_type": "stream",
     "text": [
      "mu, sigma: 100%|█| 3/3 [00:00<00:00, 752.66it/s]\n",
      "pca: 100%|█| 3/3 [00:00<00:00, 144.38it/s]\n",
      "cca: 100%|█| 9/9 [00:00<00:00, 720.45it/s]"
     ]
    },
    {
     "name": "stdout",
     "output_type": "stream",
     "text": [
      "For network foo wanted size is 97\n",
      "For network bar wanted size is 78\n",
      "For network baz wanted size is 68\n"
     ]
    },
    {
     "name": "stderr",
     "output_type": "stream",
     "text": [
      "\n"
     ]
    }
   ],
   "source": [
    "compute_correlations(self)"
   ]
  },
  {
   "cell_type": "code",
   "execution_count": 45,
   "metadata": {},
   "outputs": [
    {
     "data": {
      "text/plain": [
       "{'foo': {'bar': 0.27772951126098633, 'baz': 0.2857367694377899},\n",
       " 'bar': {'foo': 0.2768635153770447, 'baz': 0.2438175231218338},\n",
       " 'baz': {'foo': 0.2860521078109741, 'bar': 0.24418248236179352}}"
      ]
     },
     "execution_count": 45,
     "metadata": {},
     "output_type": "execute_result"
    }
   ],
   "source": [
    "self.pw_similarities"
   ]
  }
 ],
 "metadata": {
  "kernelspec": {
   "display_name": "Python [conda env:jmw0]",
   "language": "python",
   "name": "conda-env-jmw0-py"
  },
  "language_info": {
   "codemirror_mode": {
    "name": "ipython",
    "version": 3
   },
   "file_extension": ".py",
   "mimetype": "text/x-python",
   "name": "python",
   "nbconvert_exporter": "python",
   "pygments_lexer": "ipython3",
   "version": "3.7.3"
  }
 },
 "nbformat": 4,
 "nbformat_minor": 2
}
