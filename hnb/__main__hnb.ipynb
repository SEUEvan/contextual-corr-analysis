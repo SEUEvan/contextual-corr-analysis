{
 "cells": [
  {
   "cell_type": "code",
   "execution_count": 1,
   "metadata": {},
   "outputs": [],
   "source": [
    "import argparse"
   ]
  },
  {
   "cell_type": "code",
   "execution_count": 2,
   "metadata": {},
   "outputs": [
    {
     "data": {
      "text/plain": [
       "_StoreTrueAction(option_strings=['--disable_cuda'], dest='disable_cuda', nargs=0, const=True, default=False, type=None, choices=None, help=None, metavar=None)"
      ]
     },
     "execution_count": 2,
     "metadata": {},
     "output_type": "execute_result"
    }
   ],
   "source": [
    "parser = argparse.ArgumentParser()\n",
    "parser.add_argument(\"--methods\", nargs=\"+\")\n",
    "parser.add_argument(\"representation_files\")\n",
    "parser.add_argument(\"output_file\")\n",
    "parser.add_argument(\"--opt_fname\", default=None)\n",
    "parser.add_argument(\"--limit\", type=int, default=None)\n",
    "parser.add_argument(\"--disable_cuda\", action=\"store_true\")"
   ]
  },
  {
   "cell_type": "code",
   "execution_count": 4,
   "metadata": {},
   "outputs": [
    {
     "data": {
      "text/plain": [
       "Namespace(disable_cuda=True, limit=None, methods=['maxcorr', 'mincorr', 'maxlinreg', 'minlinreg', 'cca'], opt_fname='opt5', output_file='results5', representation_files='repr_files1')"
      ]
     },
     "execution_count": 4,
     "metadata": {},
     "output_type": "execute_result"
    }
   ],
   "source": [
    "parser.parse_args(\"repr_files1 results5 --opt_fname opt5 --methods maxcorr mincorr maxlinreg minlinreg cca --disable_cuda\".split())"
   ]
  }
 ],
 "metadata": {
  "kernelspec": {
   "display_name": "Python [conda env:jmw0]",
   "language": "python",
   "name": "conda-env-jmw0-py"
  },
  "language_info": {
   "codemirror_mode": {
    "name": "ipython",
    "version": 3
   },
   "file_extension": ".py",
   "mimetype": "text/x-python",
   "name": "python",
   "nbconvert_exporter": "python",
   "pygments_lexer": "ipython3",
   "version": "3.7.3"
  }
 },
 "nbformat": 4,
 "nbformat_minor": 2
}
