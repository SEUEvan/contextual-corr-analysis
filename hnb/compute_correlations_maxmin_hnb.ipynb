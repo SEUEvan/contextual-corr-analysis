{
 "cells": [
  {
   "cell_type": "code",
   "execution_count": 1,
   "metadata": {},
   "outputs": [],
   "source": [
    "import torch\n",
    "import json\n",
    "from tqdm import tqdm\n",
    "from itertools import product as p\n",
    "import numpy as np"
   ]
  },
  {
   "cell_type": "markdown",
   "metadata": {},
   "source": [
    "# Load fake activations"
   ]
  },
  {
   "cell_type": "code",
   "execution_count": 2,
   "metadata": {},
   "outputs": [],
   "source": [
    "class A:\n",
    "    pass\n",
    "self = A()"
   ]
  },
  {
   "cell_type": "code",
   "execution_count": 3,
   "metadata": {},
   "outputs": [],
   "source": [
    "self.num_neurons_d = {} # {fname, int}\n",
    "self.representations_d = {} # {fname, tensor}\n",
    "f1, f2, f3 = \"foo\", \"bar\", \"baz\"\n",
    "representation_files = [f1, f2, f3]"
   ]
  },
  {
   "cell_type": "code",
   "execution_count": 4,
   "metadata": {},
   "outputs": [],
   "source": [
    "# initialize `num_neurons_d`, `representations_d` with fake data\n",
    "n1, n2, n3 = 100, 80, 70\n",
    "nword = 1000\n",
    "t1 = torch.randn(nword, n1)\n",
    "t2 = torch.randn(nword, n2)\n",
    "t3 = torch.randn(nword, n3)\n",
    "self.num_neurons_d[f1] = n1\n",
    "self.num_neurons_d[f2] = n2\n",
    "self.num_neurons_d[f3] = n3\n",
    "self.representations_d[f1] = t1\n",
    "self.representations_d[f2] = t2\n",
    "self.representations_d[f3] = t3"
   ]
  },
  {
   "cell_type": "code",
   "execution_count": 5,
   "metadata": {},
   "outputs": [],
   "source": [
    "self.device = torch.device('cpu')\n",
    "self.op = min"
   ]
  },
  {
   "cell_type": "markdown",
   "metadata": {},
   "source": [
    "### Set `means_d`, `stdevs_d` loop"
   ]
  },
  {
   "cell_type": "code",
   "execution_count": 75,
   "metadata": {},
   "outputs": [
    {
     "name": "stderr",
     "output_type": "stream",
     "text": [
      "mu, sigma: 100%|██████████████████████████████| 3/3 [00:00<00:00, 979.67it/s]\n"
     ]
    }
   ],
   "source": [
    "# full\n",
    "# Set `means_d`, `stdevs_d`\n",
    "means_d = {}\n",
    "stdevs_d = {}\n",
    "for network in tqdm(self.representations_d, desc='mu, sigma'):\n",
    "    t = self.representations_d[network]\n",
    "\n",
    "    means_d[network] = t.mean(0, keepdim=True)\n",
    "    stdevs_d[network] = (t - means_d[network]).pow(2).mean(0, keepdim=True).pow(0.5)"
   ]
  },
  {
   "cell_type": "markdown",
   "metadata": {},
   "source": [
    "### Set `self.corrs`, `self.similarities`, `self.pairs`"
   ]
  },
  {
   "cell_type": "code",
   "execution_count": 76,
   "metadata": {},
   "outputs": [],
   "source": [
    "self.corrs = {network: {} for network in\n",
    "                     self.representations_d}\n",
    "self.similarities = {network: {} for network in\n",
    "                     self.representations_d}\n",
    "self.pairs = {network: {} for network in\n",
    "                     self.representations_d}\n",
    "num_words = next(iter(self.representations_d.values())).size()[0]"
   ]
  },
  {
   "cell_type": "code",
   "execution_count": 77,
   "metadata": {},
   "outputs": [],
   "source": [
    "network = f1\n",
    "other_network = f2"
   ]
  },
  {
   "cell_type": "code",
   "execution_count": 78,
   "metadata": {},
   "outputs": [],
   "source": [
    "device = self.device\n",
    "\n",
    "t1 = self.representations_d[network].to(device) # \"tensor\"\n",
    "t2 = self.representations_d[other_network].to(device)\n",
    "m1 = means_d[network].to(device) # \"means\"\n",
    "m2 = means_d[other_network].to(device)\n",
    "s1 = stdevs_d[network].to(device) # \"stdevs\"\n",
    "s2 = stdevs_d[other_network].to(device)\n",
    "\n",
    "covariance = (torch.mm(t1.t(), t2) / num_words # E[ab]\n",
    "              - torch.mm(m1.t(), m2)) # E[a]E[b]\n",
    "correlation = covariance / torch.mm(s1.t(), s2)"
   ]
  },
  {
   "cell_type": "code",
   "execution_count": 79,
   "metadata": {},
   "outputs": [],
   "source": [
    "correlation = correlation.cpu().numpy()\n",
    "correlation = np.abs(correlation)"
   ]
  },
  {
   "cell_type": "code",
   "execution_count": 80,
   "metadata": {},
   "outputs": [],
   "source": [
    "self.corrs[network][other_network] = correlation.max(axis=1)\n",
    "self.corrs[other_network][network] = correlation.max(axis=0)"
   ]
  },
  {
   "cell_type": "code",
   "execution_count": 81,
   "metadata": {},
   "outputs": [],
   "source": [
    "self.similarities[network][other_network] = self.corrs[network][other_network].mean()\n",
    "self.similarities[other_network][network] = self.corrs[other_network][network].mean()"
   ]
  },
  {
   "cell_type": "code",
   "execution_count": 82,
   "metadata": {},
   "outputs": [],
   "source": [
    "self.pairs[network][other_network] = correlation.argmax(axis=1)\n",
    "self.pairs[other_network][network] = correlation.argmax(axis=0)"
   ]
  },
  {
   "cell_type": "code",
   "execution_count": 86,
   "metadata": {},
   "outputs": [
    {
     "name": "stderr",
     "output_type": "stream",
     "text": [
      "correlate: 100%|█████████████████████████████| 9/9 [00:00<00:00, 3664.57it/s]\n"
     ]
    }
   ],
   "source": [
    "# Full\n",
    "# Set `self.corrs` : {network: {other: [corr]}}\n",
    "# Set `self.pairs` : {network: {other: [pair]}}\n",
    "# pair is index of neuron in other network\n",
    "self.corrs = {network: {} for network in\n",
    "                     self.representations_d}\n",
    "self.pairs = {network: {} for network in\n",
    "                     self.representations_d}\n",
    "num_words = next(iter(self.representations_d.values())).size()[0]\n",
    "for network, other_network in tqdm(p(self.representations_d,\n",
    "                                     self.representations_d),\n",
    "                                     desc='correlate',\n",
    "                                     total=len(self.representations_d)**2):\n",
    "    if network == other_network:\n",
    "        continue\n",
    "\n",
    "    if other_network in self.corrs[network]: \n",
    "        continue\n",
    "\n",
    "    device = self.device\n",
    "\n",
    "    t1 = self.representations_d[network].to(device) # \"tensor\"\n",
    "    t2 = self.representations_d[other_network].to(device)\n",
    "    m1 = means_d[network].to(device) # \"means\"\n",
    "    m2 = means_d[other_network].to(device)\n",
    "    s1 = stdevs_d[network].to(device) # \"stdevs\"\n",
    "    s2 = stdevs_d[other_network].to(device)\n",
    "\n",
    "    covariance = (torch.mm(t1.t(), t2) / num_words # E[ab]\n",
    "                  - torch.mm(m1.t(), m2)) # E[a]E[b]\n",
    "    correlation = covariance / torch.mm(s1.t(), s2)\n",
    "    correlation = correlation.cpu().numpy()\n",
    "    correlation = np.abs(correlation)\n",
    "\n",
    "    self.corrs[network][other_network] = correlation.max(axis=1)\n",
    "    self.corrs[other_network][network] = correlation.max(axis=0)\n",
    "    \n",
    "    self.similarities[network][other_network] = self.corrs[network][other_network].mean()\n",
    "    self.similarities[other_network][network] = self.corrs[other_network][network].mean()\n",
    "\n",
    "    self.pairs[network][other_network] = correlation.argmax(axis=1)\n",
    "    self.pairs[other_network][network] = correlation.argmax(axis=0)"
   ]
  },
  {
   "cell_type": "markdown",
   "metadata": {},
   "source": [
    "### Set `self.neuron_sort`, `self.neuron_notated_sort`"
   ]
  },
  {
   "cell_type": "code",
   "execution_count": 84,
   "metadata": {},
   "outputs": [
    {
     "name": "stderr",
     "output_type": "stream",
     "text": [
      "annotation: 100%|████████████████████████████| 3/3 [00:00<00:00, 3538.50it/s]\n"
     ]
    }
   ],
   "source": [
    "# full\n",
    "# Set `self.neuron_sort` : {network, sorted_list}\n",
    "# Set `self.neuron_notated_sort` : {network: [(neuron, {other: (corr, pair)})]}\n",
    "self.neuron_sort = {} \n",
    "self.neuron_notated_sort = {}\n",
    "for network in tqdm(self.representations_d, desc='annotation'):\n",
    "    self.neuron_sort[network] = sorted(\n",
    "        range(self.num_neurons_d[network]), \n",
    "        key=lambda i: self.op(\n",
    "            self.corrs[network][other][i] for other in self.corrs[network]\n",
    "        ), \n",
    "        reverse=True,\n",
    "    )\n",
    "    self.neuron_notated_sort[network] = [\n",
    "        (\n",
    "            neuron,\n",
    "            {\n",
    "                other : (\n",
    "                    self.corrs[network][other][neuron], \n",
    "                    self.pairs[network][other][neuron],\n",
    "                ) \n",
    "                for other in self.corrs[network]\n",
    "            }\n",
    "        ) \n",
    "        for neuron in self.neuron_sort[network]\n",
    "    ]"
   ]
  },
  {
   "cell_type": "markdown",
   "metadata": {},
   "source": [
    "# Full function"
   ]
  },
  {
   "cell_type": "code",
   "execution_count": 6,
   "metadata": {},
   "outputs": [],
   "source": [
    "def compute_correlations(self):\n",
    "    # Set `means_d`, `stdevs_d`\n",
    "    means_d = {}\n",
    "    stdevs_d = {}\n",
    "    for network in tqdm(self.representations_d, desc='mu, sigma'):\n",
    "        t = self.representations_d[network]\n",
    "\n",
    "        means_d[network] = t.mean(0, keepdim=True)\n",
    "        stdevs_d[network] = (t - means_d[network]).pow(2).mean(0, keepdim=True).pow(0.5)\n",
    "\n",
    "    # Set `self.corrs` : {network: {other: [corr]}}\n",
    "    # Set `self.pairs` : {network: {other: [pair]}}\n",
    "    # pair is index of neuron in other network\n",
    "    # Set `self.similarities` : {network: {other: sim}}\n",
    "    self.corrs = {network: {} for network in\n",
    "                         self.representations_d}\n",
    "    self.pairs = {network: {} for network in\n",
    "                         self.representations_d}\n",
    "    self.similarities = {network: {} for network in\n",
    "                     self.representations_d}\n",
    "    num_words = next(iter(self.representations_d.values())).size()[0]\n",
    "    for network, other_network in tqdm(p(self.representations_d,\n",
    "                                         self.representations_d),\n",
    "                                         desc='correlate',\n",
    "                                         total=len(self.representations_d)**2):\n",
    "        if network == other_network:\n",
    "            continue\n",
    "\n",
    "        if other_network in self.corrs[network]: \n",
    "            continue\n",
    "\n",
    "        device = self.device\n",
    "\n",
    "        t1 = self.representations_d[network].to(device) # \"tensor\"\n",
    "        t2 = self.representations_d[other_network].to(device)\n",
    "        m1 = means_d[network].to(device) # \"means\"\n",
    "        m2 = means_d[other_network].to(device)\n",
    "        s1 = stdevs_d[network].to(device) # \"stdevs\"\n",
    "        s2 = stdevs_d[other_network].to(device)\n",
    "\n",
    "        covariance = (torch.mm(t1.t(), t2) / num_words # E[ab]\n",
    "                      - torch.mm(m1.t(), m2)) # E[a]E[b]\n",
    "        correlation = covariance / torch.mm(s1.t(), s2)\n",
    "        correlation = correlation.cpu().numpy()\n",
    "        correlation = np.abs(correlation)\n",
    "\n",
    "        self.corrs[network][other_network] = correlation.max(axis=1)\n",
    "        self.corrs[other_network][network] = correlation.max(axis=0)\n",
    "        \n",
    "        self.similarities[network][other_network] = self.corrs[network][other_network].mean()\n",
    "        self.similarities[other_network][network] = self.corrs[other_network][network].mean()\n",
    "        \n",
    "        self.pairs[network][other_network] = correlation.argmax(axis=1)\n",
    "        self.pairs[other_network][network] = correlation.argmax(axis=0)\n",
    "\n",
    "    # Set `self.neuron_sort` : {network, sorted_list}\n",
    "    # Set `self.neuron_notated_sort` : {network: [(neuron, {other: (corr, pair)})]}\n",
    "    self.neuron_sort = {} \n",
    "    self.neuron_notated_sort = {}\n",
    "    for network in tqdm(self.representations_d, desc='annotation'):\n",
    "        self.neuron_sort[network] = sorted(\n",
    "            range(self.num_neurons_d[network]), \n",
    "            key=lambda i: self.op(\n",
    "                self.corrs[network][other][i] for other in self.corrs[network]\n",
    "            ), \n",
    "            reverse=True,\n",
    "        )\n",
    "        self.neuron_notated_sort[network] = [\n",
    "            (\n",
    "                neuron,\n",
    "                {\n",
    "                    other : (\n",
    "                        self.corrs[network][other][neuron], \n",
    "                        self.pairs[network][other][neuron],\n",
    "                    ) \n",
    "                    for other in self.corrs[network]\n",
    "                }\n",
    "            ) \n",
    "            for neuron in self.neuron_sort[network]\n",
    "        ]"
   ]
  },
  {
   "cell_type": "code",
   "execution_count": 7,
   "metadata": {},
   "outputs": [
    {
     "name": "stderr",
     "output_type": "stream",
     "text": [
      "mu, sigma: 100%|██████████████████████████████| 3/3 [00:00<00:00, 133.37it/s]\n",
      "correlate: 100%|█████████████████████████████| 9/9 [00:00<00:00, 3259.54it/s]\n",
      "annotation: 100%|████████████████████████████| 3/3 [00:00<00:00, 2172.46it/s]\n"
     ]
    }
   ],
   "source": [
    "compute_correlations(self)"
   ]
  },
  {
   "cell_type": "code",
   "execution_count": 8,
   "metadata": {},
   "outputs": [
    {
     "data": {
      "text/plain": [
       "{'foo': {'bar': 0.08205225, 'baz': 0.08246259},\n",
       " 'bar': {'foo': 0.085321024, 'baz': 0.08407295},\n",
       " 'baz': {'foo': 0.08618133, 'bar': 0.08577694}}"
      ]
     },
     "execution_count": 8,
     "metadata": {},
     "output_type": "execute_result"
    }
   ],
   "source": [
    "self.similarities"
   ]
  }
 ],
 "metadata": {
  "kernelspec": {
   "display_name": "Python [conda env:jmw0]",
   "language": "python",
   "name": "conda-env-jmw0-py"
  },
  "language_info": {
   "codemirror_mode": {
    "name": "ipython",
    "version": 3
   },
   "file_extension": ".py",
   "mimetype": "text/x-python",
   "name": "python",
   "nbconvert_exporter": "python",
   "pygments_lexer": "ipython3",
   "version": "3.6.8"
  }
 },
 "nbformat": 4,
 "nbformat_minor": 2
}
