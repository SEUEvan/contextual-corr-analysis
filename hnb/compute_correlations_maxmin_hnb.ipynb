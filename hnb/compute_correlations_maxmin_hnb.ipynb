{
 "cells": [
  {
   "cell_type": "code",
   "execution_count": 125,
   "metadata": {},
   "outputs": [],
   "source": [
    "import torch\n",
    "import json\n",
    "from tqdm import tqdm\n",
    "from itertools import product as p"
   ]
  },
  {
   "cell_type": "markdown",
   "metadata": {},
   "source": [
    "# Load fake activations"
   ]
  },
  {
   "cell_type": "code",
   "execution_count": 49,
   "metadata": {},
   "outputs": [],
   "source": [
    "num_neurons_d = {} # {fname, int}\n",
    "representations_d = {} # {fname, tensor}\n",
    "f1, f2, f3 = \"foo\", \"bar\", \"baz\"\n",
    "representation_files = [f1, f2, f3]"
   ]
  },
  {
   "cell_type": "code",
   "execution_count": 50,
   "metadata": {},
   "outputs": [],
   "source": [
    "# initialize `num_neurons_d`, `representations_d` with fake data\n",
    "n1, n2, n3 = 100, 80, 70\n",
    "nword = 1000\n",
    "t1 = torch.randn(nword, n1)\n",
    "t2 = torch.randn(nword, n2)\n",
    "t3 = torch.randn(nword, n3)\n",
    "num_neurons_d[f1] = n1\n",
    "num_neurons_d[f2] = n2\n",
    "num_neurons_d[f3] = n3\n",
    "representations_d[f1] = t1\n",
    "representations_d[f2] = t2\n",
    "representations_d[f3] = t3"
   ]
  },
  {
   "cell_type": "markdown",
   "metadata": {},
   "source": [
    "### Set `means_d`, `stdevs_d` loop"
   ]
  },
  {
   "cell_type": "code",
   "execution_count": 19,
   "metadata": {},
   "outputs": [],
   "source": [
    "means_d = {}\n",
    "stdevs_d = {}"
   ]
  },
  {
   "cell_type": "code",
   "execution_count": 6,
   "metadata": {},
   "outputs": [],
   "source": [
    "# arbitrary loop variable\n",
    "network = f1"
   ]
  },
  {
   "cell_type": "code",
   "execution_count": 8,
   "metadata": {},
   "outputs": [
    {
     "data": {
      "text/plain": [
       "torch.Size([1, 100])"
      ]
     },
     "execution_count": 8,
     "metadata": {},
     "output_type": "execute_result"
    }
   ],
   "source": [
    "t = representations_d[network]\n",
    "means = t.mean(0, keepdim=True)\n",
    "means.shape"
   ]
  },
  {
   "cell_type": "code",
   "execution_count": 17,
   "metadata": {},
   "outputs": [
    {
     "data": {
      "text/plain": [
       "torch.Size([1, 100])"
      ]
     },
     "execution_count": 17,
     "metadata": {},
     "output_type": "execute_result"
    }
   ],
   "source": [
    "stdevs = (t - means).pow(2).mean(0, keepdim=True).pow(0.5)\n",
    "stdevs.shape"
   ]
  },
  {
   "cell_type": "code",
   "execution_count": 20,
   "metadata": {},
   "outputs": [],
   "source": [
    "means_d[network] = means\n",
    "stdevs_d[network] = stdevs"
   ]
  },
  {
   "cell_type": "markdown",
   "metadata": {},
   "source": [
    "### For network, other_network in loop"
   ]
  },
  {
   "cell_type": "code",
   "execution_count": 84,
   "metadata": {},
   "outputs": [],
   "source": [
    "# Set `means_d`, `stdevs_d`\n",
    "means_d = {}\n",
    "stdevs_d = {}\n",
    "\n",
    "for network in tqdm(representations_d, desc='mu, sigma'):\n",
    "    t = representations_d[network]\n",
    "\n",
    "    means_d[network] = t.mean(0, keepdim=True)\n",
    "    stdevs_d[network] = (t - means_d[network]).pow(2).mean(0, keepdim=True).pow(0.5)"
   ]
  },
  {
   "cell_type": "code",
   "execution_count": null,
   "metadata": {},
   "outputs": [],
   "source": [
    "correlations = {network: {} for network in representations_d}\n",
    "num_words = list(representations_d.values())[0].size()[0] # TO DO: make more elegant"
   ]
  },
  {
   "cell_type": "code",
   "execution_count": 87,
   "metadata": {},
   "outputs": [],
   "source": [
    "# arbitrary loop variable\n",
    "network = f1\n",
    "other_network = f2"
   ]
  },
  {
   "cell_type": "code",
   "execution_count": 88,
   "metadata": {},
   "outputs": [],
   "source": [
    "# if network == other_network:\n",
    "#     continue"
   ]
  },
  {
   "cell_type": "code",
   "execution_count": 89,
   "metadata": {},
   "outputs": [],
   "source": [
    "# if other_network in correlations[network].keys(): # TO DO: optimize?\n",
    "#     continue"
   ]
  },
  {
   "cell_type": "code",
   "execution_count": 90,
   "metadata": {},
   "outputs": [],
   "source": [
    "t1 = representations_d[network] # \"tensor\"\n",
    "t2 = representations_d[other_network] \n",
    "\n",
    "m1 = means_d[network] # \"means\"\n",
    "m2 = means_d[other_network]"
   ]
  },
  {
   "cell_type": "code",
   "execution_count": 91,
   "metadata": {},
   "outputs": [],
   "source": [
    "covariance = (torch.mm(t1.t(), t2) / num_words # E[ab]\n",
    "              - torch.mm(m1.t(), m2)) # E[a]E[b]"
   ]
  },
  {
   "cell_type": "code",
   "execution_count": 92,
   "metadata": {},
   "outputs": [],
   "source": [
    "s1 = stdevs_d[network] # \"stdevs\"\n",
    "s2 = stdevs_d[other_network]\n",
    "\n",
    "correlation = covariance / torch.mm(s1.t(), s2)"
   ]
  },
  {
   "cell_type": "code",
   "execution_count": 93,
   "metadata": {},
   "outputs": [],
   "source": [
    "correlation = correlation.cpu().numpy()\n",
    "\n",
    "correlations[network][other_network] = correlation\n",
    "correlations[other_network][network] = correlation.T"
   ]
  },
  {
   "cell_type": "code",
   "execution_count": 94,
   "metadata": {},
   "outputs": [
    {
     "data": {
      "text/plain": [
       "(100, 80)"
      ]
     },
     "execution_count": 94,
     "metadata": {},
     "output_type": "execute_result"
    }
   ],
   "source": [
    "correlations[network][other_network].shape"
   ]
  },
  {
   "cell_type": "code",
   "execution_count": 108,
   "metadata": {
    "collapsed": true
   },
   "outputs": [
    {
     "data": {
      "text/plain": [
       "array([[-8.82273012e-09, -1.24303668e-09,  4.47088536e-09, ...,\n",
       "         1.38618124e-08,  1.82512717e-09, -4.95861063e-09],\n",
       "       [-1.40548824e-08, -4.86076822e-09,  1.41226910e-08, ...,\n",
       "         2.09053897e-09,  2.99413491e-09, -1.26816585e-08],\n",
       "       [-6.18208061e-09,  1.20600668e-08, -9.40264474e-09, ...,\n",
       "         5.83043260e-10,  5.81605704e-09,  1.09122010e-08],\n",
       "       ...,\n",
       "       [ 1.25254017e-08,  4.01380670e-09,  6.42151650e-09, ...,\n",
       "        -2.86913503e-09,  2.39079806e-08, -2.91457821e-09],\n",
       "       [-1.70283885e-09, -3.63192508e-09, -2.91479070e-10, ...,\n",
       "         1.04786853e-08, -6.40657440e-10,  5.07498338e-09],\n",
       "       [-1.23479733e-08, -8.25447331e-09,  2.17075951e-09, ...,\n",
       "         2.24927934e-08, -8.89444305e-09, -1.90452193e-08]])"
      ]
     },
     "execution_count": 108,
     "metadata": {},
     "output_type": "execute_result"
    }
   ],
   "source": [
    "# Test against numpy. Great. \n",
    "import numpy as np\n",
    "a1 = t1.numpy()\n",
    "a2 = t2.numpy()\n",
    "np.corrcoef(a1, a2, rowvar=False)[:n1, -n2:] - correlations[network][other_network]"
   ]
  },
  {
   "cell_type": "markdown",
   "metadata": {},
   "source": [
    "### Setting `clusters`"
   ]
  },
  {
   "cell_type": "code",
   "execution_count": 129,
   "metadata": {},
   "outputs": [
    {
     "name": "stderr",
     "output_type": "stream",
     "text": [
      "mu, sigma: 100%|█| 3/3 [00:00<00:00, 1276.55it/s]\n",
      "correlate: 100%|█| 9/9 [00:00<00:00, 4087.13it/s]\n"
     ]
    }
   ],
   "source": [
    "# Set `means_d`, `stdevs_d`\n",
    "means_d = {}\n",
    "stdevs_d = {}\n",
    "\n",
    "for network in tqdm(representations_d, desc='mu, sigma'):\n",
    "    t = representations_d[network]\n",
    "\n",
    "    means_d[network] = t.mean(0, keepdim=True)\n",
    "    stdevs_d[network] = (t - means_d[network]).pow(2).mean(0, keepdim=True).pow(0.5)\n",
    "\n",
    "# Set `correlations`\n",
    "correlations = {network: {} for network in representations_d}\n",
    "num_words = list(representations_d.values())[0].size()[0] # TO DO: make more elegant\n",
    "\n",
    "for network, other_network in tqdm(p(representations_d,\n",
    "                                     representations_d),\n",
    "                                   desc='correlate',\n",
    "                                   total=len(representations_d)**2):\n",
    "\n",
    "    if network == other_network:\n",
    "        continue\n",
    "\n",
    "    if other_network in correlations[network].keys(): # TO DO: optimize?\n",
    "        continue\n",
    "\n",
    "    t1 = representations_d[network] # \"tensor\"\n",
    "    t2 = representations_d[other_network] \n",
    "    m1 = means_d[network] # \"means\"\n",
    "    m2 = means_d[other_network]\n",
    "    s1 = stdevs_d[network] # \"stdevs\"\n",
    "    s2 = stdevs_d[other_network]\n",
    "\n",
    "    covariance = (torch.mm(t1.t(), t2) / num_words # E[ab]\n",
    "                  - torch.mm(m1.t(), m2)) # E[a]E[b]\n",
    "    correlation = covariance / torch.mm(s1.t(), s2)\n",
    "    \n",
    "    correlation = correlation.cpu().numpy()\n",
    "    correlations[network][other_network] = correlation\n",
    "    correlations[other_network][network] = correlation.T"
   ]
  },
  {
   "cell_type": "code",
   "execution_count": 131,
   "metadata": {},
   "outputs": [],
   "source": [
    "clusters = {network: {} for network in representations_d}"
   ]
  },
  {
   "cell_type": "code",
   "execution_count": 132,
   "metadata": {},
   "outputs": [],
   "source": [
    "# Loop variable\n",
    "network = f1\n",
    "neuron = 0"
   ]
  },
  {
   "cell_type": "code",
   "execution_count": 136,
   "metadata": {},
   "outputs": [
    {
     "data": {
      "text/plain": [
       "{'bar': 74, 'baz': 22}"
      ]
     },
     "execution_count": 136,
     "metadata": {},
     "output_type": "execute_result"
    }
   ],
   "source": [
    "{other : max(range(num_neurons_d[other]),\n",
    "             key = lambda i: abs(correlations[network][other][neuron][i])) \n",
    "     for other in correlations[network]}"
   ]
  },
  {
   "cell_type": "markdown",
   "metadata": {},
   "source": [
    "### Set `neuron_sort`"
   ]
  },
  {
   "cell_type": "code",
   "execution_count": 140,
   "metadata": {},
   "outputs": [
    {
     "name": "stderr",
     "output_type": "stream",
     "text": [
      "clusters: 100%|█| 3/3 [00:00<00:00, 66.24it/s]\n"
     ]
    }
   ],
   "source": [
    "# Set `clusters`\n",
    "clusters = {network: {} for network in representations_d}\n",
    "for network in tqdm(representations_d, desc='clusters', total=len(representations_d)):\n",
    "    for neuron in range(num_neurons_d[network]): \n",
    "        clusters[network][neuron] = {\n",
    "            other : max(range(num_neurons_d[other]),\n",
    "                         key = lambda i: abs(correlations[network][other][neuron][i])) \n",
    "             for other in correlations[network]\n",
    "        }"
   ]
  },
  {
   "cell_type": "code",
   "execution_count": 141,
   "metadata": {
    "collapsed": true
   },
   "outputs": [
    {
     "data": {
      "text/plain": [
       "{'foo': {0: {'bar': 74, 'baz': 22},\n",
       "  1: {'bar': 3, 'baz': 63},\n",
       "  2: {'bar': 48, 'baz': 35},\n",
       "  3: {'bar': 6, 'baz': 22},\n",
       "  4: {'bar': 20, 'baz': 10},\n",
       "  5: {'bar': 68, 'baz': 47},\n",
       "  6: {'bar': 6, 'baz': 12},\n",
       "  7: {'bar': 17, 'baz': 58},\n",
       "  8: {'bar': 11, 'baz': 23},\n",
       "  9: {'bar': 20, 'baz': 52},\n",
       "  10: {'bar': 56, 'baz': 35},\n",
       "  11: {'bar': 51, 'baz': 60},\n",
       "  12: {'bar': 1, 'baz': 52},\n",
       "  13: {'bar': 67, 'baz': 54},\n",
       "  14: {'bar': 20, 'baz': 55},\n",
       "  15: {'bar': 10, 'baz': 65},\n",
       "  16: {'bar': 36, 'baz': 41},\n",
       "  17: {'bar': 70, 'baz': 8},\n",
       "  18: {'bar': 55, 'baz': 12},\n",
       "  19: {'bar': 46, 'baz': 1},\n",
       "  20: {'bar': 17, 'baz': 7},\n",
       "  21: {'bar': 64, 'baz': 39},\n",
       "  22: {'bar': 1, 'baz': 65},\n",
       "  23: {'bar': 38, 'baz': 43},\n",
       "  24: {'bar': 22, 'baz': 5},\n",
       "  25: {'bar': 16, 'baz': 2},\n",
       "  26: {'bar': 31, 'baz': 50},\n",
       "  27: {'bar': 34, 'baz': 62},\n",
       "  28: {'bar': 9, 'baz': 64},\n",
       "  29: {'bar': 2, 'baz': 37},\n",
       "  30: {'bar': 71, 'baz': 54},\n",
       "  31: {'bar': 51, 'baz': 27},\n",
       "  32: {'bar': 68, 'baz': 15},\n",
       "  33: {'bar': 46, 'baz': 62},\n",
       "  34: {'bar': 60, 'baz': 10},\n",
       "  35: {'bar': 3, 'baz': 64},\n",
       "  36: {'bar': 10, 'baz': 26},\n",
       "  37: {'bar': 36, 'baz': 64},\n",
       "  38: {'bar': 62, 'baz': 43},\n",
       "  39: {'bar': 8, 'baz': 53},\n",
       "  40: {'bar': 54, 'baz': 66},\n",
       "  41: {'bar': 21, 'baz': 61},\n",
       "  42: {'bar': 4, 'baz': 5},\n",
       "  43: {'bar': 65, 'baz': 11},\n",
       "  44: {'bar': 62, 'baz': 57},\n",
       "  45: {'bar': 61, 'baz': 54},\n",
       "  46: {'bar': 23, 'baz': 25},\n",
       "  47: {'bar': 29, 'baz': 28},\n",
       "  48: {'bar': 35, 'baz': 49},\n",
       "  49: {'bar': 9, 'baz': 57},\n",
       "  50: {'bar': 77, 'baz': 24},\n",
       "  51: {'bar': 46, 'baz': 23},\n",
       "  52: {'bar': 42, 'baz': 27},\n",
       "  53: {'bar': 69, 'baz': 40},\n",
       "  54: {'bar': 17, 'baz': 23},\n",
       "  55: {'bar': 43, 'baz': 62},\n",
       "  56: {'bar': 65, 'baz': 31},\n",
       "  57: {'bar': 0, 'baz': 27},\n",
       "  58: {'bar': 0, 'baz': 43},\n",
       "  59: {'bar': 17, 'baz': 52},\n",
       "  60: {'bar': 4, 'baz': 30},\n",
       "  61: {'bar': 75, 'baz': 43},\n",
       "  62: {'bar': 6, 'baz': 56},\n",
       "  63: {'bar': 41, 'baz': 61},\n",
       "  64: {'bar': 52, 'baz': 65},\n",
       "  65: {'bar': 0, 'baz': 67},\n",
       "  66: {'bar': 64, 'baz': 13},\n",
       "  67: {'bar': 26, 'baz': 7},\n",
       "  68: {'bar': 31, 'baz': 12},\n",
       "  69: {'bar': 34, 'baz': 29},\n",
       "  70: {'bar': 76, 'baz': 35},\n",
       "  71: {'bar': 25, 'baz': 33},\n",
       "  72: {'bar': 46, 'baz': 51},\n",
       "  73: {'bar': 50, 'baz': 5},\n",
       "  74: {'bar': 63, 'baz': 5},\n",
       "  75: {'bar': 26, 'baz': 12},\n",
       "  76: {'bar': 13, 'baz': 64},\n",
       "  77: {'bar': 3, 'baz': 35},\n",
       "  78: {'bar': 61, 'baz': 63},\n",
       "  79: {'bar': 1, 'baz': 0},\n",
       "  80: {'bar': 68, 'baz': 14},\n",
       "  81: {'bar': 53, 'baz': 31},\n",
       "  82: {'bar': 73, 'baz': 27},\n",
       "  83: {'bar': 4, 'baz': 27},\n",
       "  84: {'bar': 42, 'baz': 39},\n",
       "  85: {'bar': 43, 'baz': 45},\n",
       "  86: {'bar': 60, 'baz': 34},\n",
       "  87: {'bar': 42, 'baz': 23},\n",
       "  88: {'bar': 36, 'baz': 3},\n",
       "  89: {'bar': 43, 'baz': 40},\n",
       "  90: {'bar': 23, 'baz': 6},\n",
       "  91: {'bar': 30, 'baz': 50},\n",
       "  92: {'bar': 49, 'baz': 53},\n",
       "  93: {'bar': 4, 'baz': 28},\n",
       "  94: {'bar': 21, 'baz': 0},\n",
       "  95: {'bar': 46, 'baz': 57},\n",
       "  96: {'bar': 53, 'baz': 20},\n",
       "  97: {'bar': 66, 'baz': 48},\n",
       "  98: {'bar': 20, 'baz': 60},\n",
       "  99: {'bar': 76, 'baz': 5}},\n",
       " 'bar': {0: {'foo': 57, 'baz': 7},\n",
       "  1: {'foo': 12, 'baz': 48},\n",
       "  2: {'foo': 50, 'baz': 62},\n",
       "  3: {'foo': 77, 'baz': 26},\n",
       "  4: {'foo': 42, 'baz': 8},\n",
       "  5: {'foo': 58, 'baz': 25},\n",
       "  6: {'foo': 3, 'baz': 8},\n",
       "  7: {'foo': 10, 'baz': 68},\n",
       "  8: {'foo': 32, 'baz': 69},\n",
       "  9: {'foo': 49, 'baz': 20},\n",
       "  10: {'foo': 36, 'baz': 66},\n",
       "  11: {'foo': 48, 'baz': 8},\n",
       "  12: {'foo': 24, 'baz': 9},\n",
       "  13: {'foo': 76, 'baz': 3},\n",
       "  14: {'foo': 56, 'baz': 2},\n",
       "  15: {'foo': 70, 'baz': 11},\n",
       "  16: {'foo': 67, 'baz': 5},\n",
       "  17: {'foo': 7, 'baz': 12},\n",
       "  18: {'foo': 36, 'baz': 9},\n",
       "  19: {'foo': 55, 'baz': 10},\n",
       "  20: {'foo': 98, 'baz': 59},\n",
       "  21: {'foo': 41, 'baz': 10},\n",
       "  22: {'foo': 24, 'baz': 21},\n",
       "  23: {'foo': 46, 'baz': 61},\n",
       "  24: {'foo': 6, 'baz': 12},\n",
       "  25: {'foo': 7, 'baz': 58},\n",
       "  26: {'foo': 67, 'baz': 61},\n",
       "  27: {'foo': 60, 'baz': 63},\n",
       "  28: {'foo': 77, 'baz': 51},\n",
       "  29: {'foo': 47, 'baz': 19},\n",
       "  30: {'foo': 78, 'baz': 65},\n",
       "  31: {'foo': 68, 'baz': 26},\n",
       "  32: {'foo': 4, 'baz': 11},\n",
       "  33: {'foo': 74, 'baz': 2},\n",
       "  34: {'foo': 69, 'baz': 11},\n",
       "  35: {'foo': 48, 'baz': 67},\n",
       "  36: {'foo': 37, 'baz': 26},\n",
       "  37: {'foo': 60, 'baz': 67},\n",
       "  38: {'foo': 69, 'baz': 26},\n",
       "  39: {'foo': 33, 'baz': 51},\n",
       "  40: {'foo': 86, 'baz': 33},\n",
       "  41: {'foo': 63, 'baz': 7},\n",
       "  42: {'foo': 52, 'baz': 62},\n",
       "  43: {'foo': 55, 'baz': 39},\n",
       "  44: {'foo': 42, 'baz': 38},\n",
       "  45: {'foo': 62, 'baz': 62},\n",
       "  46: {'foo': 33, 'baz': 3},\n",
       "  47: {'foo': 36, 'baz': 6},\n",
       "  48: {'foo': 2, 'baz': 39},\n",
       "  49: {'foo': 92, 'baz': 40},\n",
       "  50: {'foo': 64, 'baz': 9},\n",
       "  51: {'foo': 11, 'baz': 19},\n",
       "  52: {'foo': 64, 'baz': 38},\n",
       "  53: {'foo': 58, 'baz': 0},\n",
       "  54: {'foo': 64, 'baz': 24},\n",
       "  55: {'foo': 18, 'baz': 12},\n",
       "  56: {'foo': 10, 'baz': 58},\n",
       "  57: {'foo': 98, 'baz': 53},\n",
       "  58: {'foo': 24, 'baz': 52},\n",
       "  59: {'foo': 41, 'baz': 34},\n",
       "  60: {'foo': 34, 'baz': 18},\n",
       "  61: {'foo': 55, 'baz': 26},\n",
       "  62: {'foo': 38, 'baz': 63},\n",
       "  63: {'foo': 74, 'baz': 48},\n",
       "  64: {'foo': 66, 'baz': 21},\n",
       "  65: {'foo': 43, 'baz': 51},\n",
       "  66: {'foo': 97, 'baz': 26},\n",
       "  67: {'foo': 13, 'baz': 65},\n",
       "  68: {'foo': 5, 'baz': 47},\n",
       "  69: {'foo': 78, 'baz': 69},\n",
       "  70: {'foo': 70, 'baz': 2},\n",
       "  71: {'foo': 55, 'baz': 59},\n",
       "  72: {'foo': 15, 'baz': 58},\n",
       "  73: {'foo': 59, 'baz': 15},\n",
       "  74: {'foo': 0, 'baz': 26},\n",
       "  75: {'foo': 61, 'baz': 2},\n",
       "  76: {'foo': 70, 'baz': 36},\n",
       "  77: {'foo': 50, 'baz': 55},\n",
       "  78: {'foo': 78, 'baz': 18},\n",
       "  79: {'foo': 85, 'baz': 34}},\n",
       " 'baz': {0: {'foo': 94, 'bar': 51},\n",
       "  1: {'foo': 22, 'bar': 67},\n",
       "  2: {'foo': 25, 'bar': 14},\n",
       "  3: {'foo': 88, 'bar': 13},\n",
       "  4: {'foo': 45, 'bar': 67},\n",
       "  5: {'foo': 24, 'bar': 16},\n",
       "  6: {'foo': 9, 'bar': 47},\n",
       "  7: {'foo': 20, 'bar': 41},\n",
       "  8: {'foo': 76, 'bar': 11},\n",
       "  9: {'foo': 27, 'bar': 12},\n",
       "  10: {'foo': 4, 'bar': 19},\n",
       "  11: {'foo': 43, 'bar': 32},\n",
       "  12: {'foo': 18, 'bar': 24},\n",
       "  13: {'foo': 77, 'bar': 9},\n",
       "  14: {'foo': 80, 'bar': 30},\n",
       "  15: {'foo': 80, 'bar': 54},\n",
       "  16: {'foo': 68, 'bar': 57},\n",
       "  17: {'foo': 73, 'bar': 32},\n",
       "  18: {'foo': 3, 'bar': 60},\n",
       "  19: {'foo': 56, 'bar': 54},\n",
       "  20: {'foo': 96, 'bar': 9},\n",
       "  21: {'foo': 77, 'bar': 22},\n",
       "  22: {'foo': 0, 'bar': 77},\n",
       "  23: {'foo': 87, 'bar': 72},\n",
       "  24: {'foo': 27, 'bar': 54},\n",
       "  25: {'foo': 46, 'bar': 5},\n",
       "  26: {'foo': 36, 'bar': 36},\n",
       "  27: {'foo': 31, 'bar': 73},\n",
       "  28: {'foo': 93, 'bar': 72},\n",
       "  29: {'foo': 69, 'bar': 47},\n",
       "  30: {'foo': 60, 'bar': 2},\n",
       "  31: {'foo': 56, 'bar': 4},\n",
       "  32: {'foo': 68, 'bar': 2},\n",
       "  33: {'foo': 54, 'bar': 40},\n",
       "  34: {'foo': 86, 'bar': 59},\n",
       "  35: {'foo': 2, 'bar': 11},\n",
       "  36: {'foo': 88, 'bar': 76},\n",
       "  37: {'foo': 97, 'bar': 4},\n",
       "  38: {'foo': 31, 'bar': 44},\n",
       "  39: {'foo': 84, 'bar': 43},\n",
       "  40: {'foo': 53, 'bar': 49},\n",
       "  41: {'foo': 16, 'bar': 57},\n",
       "  42: {'foo': 72, 'bar': 41},\n",
       "  43: {'foo': 58, 'bar': 54},\n",
       "  44: {'foo': 0, 'bar': 50},\n",
       "  45: {'foo': 85, 'bar': 37},\n",
       "  46: {'foo': 76, 'bar': 32},\n",
       "  47: {'foo': 5, 'bar': 68},\n",
       "  48: {'foo': 97, 'bar': 1},\n",
       "  49: {'foo': 6, 'bar': 65},\n",
       "  50: {'foo': 26, 'bar': 77},\n",
       "  51: {'foo': 55, 'bar': 39},\n",
       "  52: {'foo': 9, 'bar': 58},\n",
       "  53: {'foo': 5, 'bar': 57},\n",
       "  54: {'foo': 13, 'bar': 9},\n",
       "  55: {'foo': 27, 'bar': 77},\n",
       "  56: {'foo': 62, 'bar': 31},\n",
       "  57: {'foo': 49, 'bar': 36},\n",
       "  58: {'foo': 73, 'bar': 25},\n",
       "  59: {'foo': 40, 'bar': 20},\n",
       "  60: {'foo': 36, 'bar': 20},\n",
       "  61: {'foo': 1, 'bar': 60},\n",
       "  62: {'foo': 27, 'bar': 2},\n",
       "  63: {'foo': 1, 'bar': 62},\n",
       "  64: {'foo': 35, 'bar': 59},\n",
       "  65: {'foo': 22, 'bar': 30},\n",
       "  66: {'foo': 40, 'bar': 10},\n",
       "  67: {'foo': 38, 'bar': 37},\n",
       "  68: {'foo': 69, 'bar': 7},\n",
       "  69: {'foo': 77, 'bar': 49}}}"
      ]
     },
     "execution_count": 141,
     "metadata": {},
     "output_type": "execute_result"
    }
   ],
   "source": [
    "clusters"
   ]
  },
  {
   "cell_type": "code",
   "execution_count": 149,
   "metadata": {},
   "outputs": [],
   "source": [
    "neuron_sort = {}\n",
    "network = f1\n",
    "op = max"
   ]
  },
  {
   "cell_type": "code",
   "execution_count": 148,
   "metadata": {
    "collapsed": true
   },
   "outputs": [
    {
     "data": {
      "text/plain": [
       "[18,\n",
       " 24,\n",
       " 97,\n",
       " 12,\n",
       " 48,\n",
       " 31,\n",
       " 0,\n",
       " 3,\n",
       " 34,\n",
       " 60,\n",
       " 56,\n",
       " 43,\n",
       " 87,\n",
       " 52,\n",
       " 64,\n",
       " 57,\n",
       " 58,\n",
       " 13,\n",
       " 66,\n",
       " 4,\n",
       " 49,\n",
       " 35,\n",
       " 53,\n",
       " 2,\n",
       " 6,\n",
       " 70,\n",
       " 86,\n",
       " 5,\n",
       " 80,\n",
       " 37,\n",
       " 62,\n",
       " 68,\n",
       " 50,\n",
       " 77,\n",
       " 22,\n",
       " 42,\n",
       " 85,\n",
       " 7,\n",
       " 76,\n",
       " 40,\n",
       " 27,\n",
       " 9,\n",
       " 69,\n",
       " 10,\n",
       " 74,\n",
       " 11,\n",
       " 55,\n",
       " 67,\n",
       " 59,\n",
       " 36,\n",
       " 88,\n",
       " 38,\n",
       " 41,\n",
       " 47,\n",
       " 19,\n",
       " 61,\n",
       " 1,\n",
       " 99,\n",
       " 94,\n",
       " 46,\n",
       " 44,\n",
       " 29,\n",
       " 73,\n",
       " 25,\n",
       " 45,\n",
       " 26,\n",
       " 96,\n",
       " 33,\n",
       " 28,\n",
       " 16,\n",
       " 63,\n",
       " 82,\n",
       " 54,\n",
       " 20,\n",
       " 30,\n",
       " 98,\n",
       " 71,\n",
       " 8,\n",
       " 84,\n",
       " 32,\n",
       " 78,\n",
       " 51,\n",
       " 95,\n",
       " 81,\n",
       " 75,\n",
       " 23,\n",
       " 83,\n",
       " 89,\n",
       " 90,\n",
       " 93,\n",
       " 15,\n",
       " 17,\n",
       " 92,\n",
       " 39,\n",
       " 72,\n",
       " 79,\n",
       " 21,\n",
       " 65,\n",
       " 91,\n",
       " 14]"
      ]
     },
     "execution_count": 148,
     "metadata": {},
     "output_type": "execute_result"
    }
   ],
   "source": [
    "sorted(\n",
    "    range(num_neurons_d[network]),\n",
    "    key = lambda i : op(\n",
    "        abs(correlations[network][other][i][clusters[network][i][other]])\n",
    "        for other in clusters[network][i]),\n",
    "    reverse=True\n",
    ")"
   ]
  },
  {
   "cell_type": "code",
   "execution_count": 150,
   "metadata": {},
   "outputs": [
    {
     "name": "stderr",
     "output_type": "stream",
     "text": [
      "annotation: 100%|█| 3/3 [00:00<00:00, 1362.97it/s]\n"
     ]
    }
   ],
   "source": [
    "neuron_sort = {} # {network, sorted_list}\n",
    "# Sort neurons by worst (or best) best correlation with another neuron\n",
    "# in another network.\n",
    "for network in tqdm(representations_d, desc='annotation'):\n",
    "    neuron_sort[network] = sorted(\n",
    "        range(num_neurons_d[network]),\n",
    "        key = lambda i : op(\n",
    "            abs(correlations[network][other][i][clusters[network][i][other]])\n",
    "            for other in clusters[network][i]),\n",
    "        reverse=True\n",
    "    )"
   ]
  },
  {
   "cell_type": "code",
   "execution_count": 151,
   "metadata": {
    "collapsed": true
   },
   "outputs": [
    {
     "data": {
      "text/plain": [
       "{'foo': [18,\n",
       "  24,\n",
       "  97,\n",
       "  12,\n",
       "  48,\n",
       "  31,\n",
       "  0,\n",
       "  3,\n",
       "  34,\n",
       "  60,\n",
       "  56,\n",
       "  43,\n",
       "  87,\n",
       "  52,\n",
       "  64,\n",
       "  57,\n",
       "  58,\n",
       "  13,\n",
       "  66,\n",
       "  4,\n",
       "  49,\n",
       "  35,\n",
       "  53,\n",
       "  2,\n",
       "  6,\n",
       "  70,\n",
       "  86,\n",
       "  5,\n",
       "  80,\n",
       "  37,\n",
       "  62,\n",
       "  68,\n",
       "  50,\n",
       "  77,\n",
       "  22,\n",
       "  42,\n",
       "  85,\n",
       "  7,\n",
       "  76,\n",
       "  40,\n",
       "  27,\n",
       "  9,\n",
       "  69,\n",
       "  10,\n",
       "  74,\n",
       "  11,\n",
       "  55,\n",
       "  67,\n",
       "  59,\n",
       "  36,\n",
       "  88,\n",
       "  38,\n",
       "  41,\n",
       "  47,\n",
       "  19,\n",
       "  61,\n",
       "  1,\n",
       "  99,\n",
       "  94,\n",
       "  46,\n",
       "  44,\n",
       "  29,\n",
       "  73,\n",
       "  25,\n",
       "  45,\n",
       "  26,\n",
       "  96,\n",
       "  33,\n",
       "  28,\n",
       "  16,\n",
       "  63,\n",
       "  82,\n",
       "  54,\n",
       "  20,\n",
       "  30,\n",
       "  98,\n",
       "  71,\n",
       "  8,\n",
       "  84,\n",
       "  32,\n",
       "  78,\n",
       "  51,\n",
       "  95,\n",
       "  81,\n",
       "  75,\n",
       "  23,\n",
       "  83,\n",
       "  89,\n",
       "  90,\n",
       "  93,\n",
       "  15,\n",
       "  17,\n",
       "  92,\n",
       "  39,\n",
       "  72,\n",
       "  79,\n",
       "  21,\n",
       "  65,\n",
       "  91,\n",
       "  14],\n",
       " 'bar': [57,\n",
       "  22,\n",
       "  66,\n",
       "  1,\n",
       "  35,\n",
       "  74,\n",
       "  6,\n",
       "  25,\n",
       "  60,\n",
       "  11,\n",
       "  62,\n",
       "  65,\n",
       "  49,\n",
       "  44,\n",
       "  54,\n",
       "  59,\n",
       "  12,\n",
       "  42,\n",
       "  36,\n",
       "  52,\n",
       "  31,\n",
       "  77,\n",
       "  41,\n",
       "  64,\n",
       "  9,\n",
       "  76,\n",
       "  55,\n",
       "  16,\n",
       "  2,\n",
       "  17,\n",
       "  13,\n",
       "  68,\n",
       "  34,\n",
       "  24,\n",
       "  4,\n",
       "  56,\n",
       "  10,\n",
       "  63,\n",
       "  0,\n",
       "  51,\n",
       "  38,\n",
       "  19,\n",
       "  70,\n",
       "  43,\n",
       "  26,\n",
       "  47,\n",
       "  32,\n",
       "  72,\n",
       "  3,\n",
       "  61,\n",
       "  21,\n",
       "  29,\n",
       "  75,\n",
       "  50,\n",
       "  15,\n",
       "  5,\n",
       "  39,\n",
       "  14,\n",
       "  37,\n",
       "  7,\n",
       "  67,\n",
       "  46,\n",
       "  33,\n",
       "  20,\n",
       "  45,\n",
       "  53,\n",
       "  18,\n",
       "  69,\n",
       "  30,\n",
       "  58,\n",
       "  27,\n",
       "  78,\n",
       "  79,\n",
       "  48,\n",
       "  40,\n",
       "  71,\n",
       "  73,\n",
       "  28,\n",
       "  8,\n",
       "  23],\n",
       " 'baz': [12,\n",
       "  53,\n",
       "  5,\n",
       "  27,\n",
       "  58,\n",
       "  8,\n",
       "  63,\n",
       "  30,\n",
       "  31,\n",
       "  40,\n",
       "  23,\n",
       "  18,\n",
       "  38,\n",
       "  24,\n",
       "  34,\n",
       "  9,\n",
       "  26,\n",
       "  55,\n",
       "  22,\n",
       "  43,\n",
       "  7,\n",
       "  54,\n",
       "  10,\n",
       "  48,\n",
       "  64,\n",
       "  11,\n",
       "  35,\n",
       "  19,\n",
       "  56,\n",
       "  47,\n",
       "  14,\n",
       "  57,\n",
       "  42,\n",
       "  65,\n",
       "  20,\n",
       "  41,\n",
       "  45,\n",
       "  61,\n",
       "  62,\n",
       "  66,\n",
       "  52,\n",
       "  6,\n",
       "  1,\n",
       "  50,\n",
       "  3,\n",
       "  49,\n",
       "  0,\n",
       "  25,\n",
       "  51,\n",
       "  2,\n",
       "  69,\n",
       "  16,\n",
       "  32,\n",
       "  15,\n",
       "  13,\n",
       "  36,\n",
       "  59,\n",
       "  67,\n",
       "  39,\n",
       "  68,\n",
       "  60,\n",
       "  46,\n",
       "  44,\n",
       "  21,\n",
       "  33,\n",
       "  28,\n",
       "  4,\n",
       "  37,\n",
       "  17,\n",
       "  29]}"
      ]
     },
     "execution_count": 151,
     "metadata": {},
     "output_type": "execute_result"
    }
   ],
   "source": [
    "neuron_sort"
   ]
  },
  {
   "cell_type": "markdown",
   "metadata": {},
   "source": [
    "# Create full function"
   ]
  },
  {
   "cell_type": "code",
   "execution_count": 129,
   "metadata": {},
   "outputs": [
    {
     "name": "stderr",
     "output_type": "stream",
     "text": [
      "mu, sigma: 100%|█| 3/3 [00:00<00:00, 1276.55it/s]\n",
      "correlate: 100%|█| 9/9 [00:00<00:00, 4087.13it/s]\n"
     ]
    }
   ],
   "source": [
    "# Set `means_d`, `stdevs_d`\n",
    "means_d = {}\n",
    "stdevs_d = {}\n",
    "\n",
    "for network in tqdm(representations_d, desc='mu, sigma'):\n",
    "    t = representations_d[network]\n",
    "\n",
    "    means_d[network] = t.mean(0, keepdim=True)\n",
    "    stdevs_d[network] = (t - means_d[network]).pow(2).mean(0, keepdim=True).pow(0.5)\n",
    "\n",
    "# Set `correlations`\n",
    "correlations = {network: {} for network in representations_d} # {network: {other: tensor}}\n",
    "num_words = list(representations_d.values())[0].size()[0] # TO DO: make more elegant\n",
    "\n",
    "for network, other_network in tqdm(p(representations_d,\n",
    "                                     representations_d),\n",
    "                                   desc='correlate',\n",
    "                                   total=len(representations_d)**2):\n",
    "\n",
    "    if network == other_network:\n",
    "        continue\n",
    "\n",
    "    if other_network in correlations[network].keys(): # TO DO: optimize?\n",
    "        continue\n",
    "\n",
    "    t1 = representations_d[network] # \"tensor\"\n",
    "    t2 = representations_d[other_network] \n",
    "    m1 = means_d[network] # \"means\"\n",
    "    m2 = means_d[other_network]\n",
    "    s1 = stdevs_d[network] # \"stdevs\"\n",
    "    s2 = stdevs_d[other_network]\n",
    "\n",
    "    covariance = (torch.mm(t1.t(), t2) / num_words # E[ab]\n",
    "                  - torch.mm(m1.t(), m2)) # E[a]E[b]\n",
    "    correlation = covariance / torch.mm(s1.t(), s2)\n",
    "    \n",
    "    correlation = correlation.cpu().numpy()\n",
    "    correlations[network][other_network] = correlation\n",
    "    correlations[other_network][network] = correlation.T\n",
    "\n",
    "# Set `clusters`\n",
    "clusters = {network: {} for network in representations_d} # {network: {neuron: {other: other_neuron}}}\n",
    "for network in tqdm(representations_d, desc='clusters', total=len(representations_d)):\n",
    "    for neuron in range(num_neurons_d[network]): \n",
    "        clusters[network][neuron] = {\n",
    "            other : max(range(num_neurons_d[other]),\n",
    "                         key = lambda i: abs(correlations[network][other][neuron][i])) \n",
    "             for other in correlations[network]\n",
    "        }\n",
    "\n",
    "neuron_sort = {} # {network, sorted_list}\n",
    "# Sort neurons by worst (or best) best correlation with another neuron\n",
    "# in another network.\n",
    "for network in tqdm(representations_d, desc='annotation'):\n",
    "    neuron_sort[network] = sorted(\n",
    "        range(num_neurons_d[network]),\n",
    "        key = lambda i : op(\n",
    "            abs(correlations[network][other][i][clusters[network][i][other]])\n",
    "            for other in clusters[network][i]),\n",
    "        reverse=True\n",
    "    )"
   ]
  }
 ],
 "metadata": {
  "kernelspec": {
   "display_name": "Python 3",
   "language": "python",
   "name": "python3"
  },
  "language_info": {
   "codemirror_mode": {
    "name": "ipython",
    "version": 3
   },
   "file_extension": ".py",
   "mimetype": "text/x-python",
   "name": "python",
   "nbconvert_exporter": "python",
   "pygments_lexer": "ipython3",
   "version": "3.7.3"
  }
 },
 "nbformat": 4,
 "nbformat_minor": 2
}
