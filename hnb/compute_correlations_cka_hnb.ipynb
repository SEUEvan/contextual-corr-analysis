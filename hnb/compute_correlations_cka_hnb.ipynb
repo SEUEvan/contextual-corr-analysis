{
 "cells": [
  {
   "cell_type": "code",
   "execution_count": 1,
   "metadata": {},
   "outputs": [],
   "source": [
    "import torch\n",
    "import json\n",
    "from tqdm import tqdm\n",
    "from itertools import product as p\n",
    "import numpy as np"
   ]
  },
  {
   "cell_type": "markdown",
   "metadata": {},
   "source": [
    "# Load fake activations"
   ]
  },
  {
   "cell_type": "code",
   "execution_count": 2,
   "metadata": {},
   "outputs": [],
   "source": [
    "class A:\n",
    "    pass\n",
    "self = A()"
   ]
  },
  {
   "cell_type": "code",
   "execution_count": 3,
   "metadata": {},
   "outputs": [],
   "source": [
    "self.num_neurons_d = {} # {fname, int}\n",
    "self.representations_d = {} # {fname, tensor}\n",
    "f1, f2, f3 = \"foo\", \"bar\", \"baz\"\n",
    "representation_files = [f1, f2, f3]"
   ]
  },
  {
   "cell_type": "code",
   "execution_count": 4,
   "metadata": {},
   "outputs": [],
   "source": [
    "# initialize `num_neurons_d`, `representations_d` with fake data\n",
    "n1, n2, n3 = 100, 80, 70\n",
    "nword = 1000\n",
    "t1 = torch.randn(nword, n1)\n",
    "t2 = torch.randn(nword, n2)\n",
    "t3 = torch.randn(nword, n3)\n",
    "self.num_neurons_d[f1] = n1\n",
    "self.num_neurons_d[f2] = n2\n",
    "self.num_neurons_d[f3] = n3\n",
    "self.representations_d[f1] = t1\n",
    "self.representations_d[f2] = t2\n",
    "self.representations_d[f3] = t3"
   ]
  },
  {
   "cell_type": "code",
   "execution_count": 5,
   "metadata": {},
   "outputs": [],
   "source": [
    "self.normalize_dimensions = True"
   ]
  },
  {
   "cell_type": "markdown",
   "metadata": {},
   "source": [
    "# Build function"
   ]
  },
  {
   "cell_type": "markdown",
   "metadata": {},
   "source": [
    "### Normalize"
   ]
  },
  {
   "cell_type": "code",
   "execution_count": 6,
   "metadata": {},
   "outputs": [
    {
     "name": "stderr",
     "output_type": "stream",
     "text": [
      "mu, sigma: 100%|█| 3/3 [00:00<00:00, 389.94it/s]\n"
     ]
    }
   ],
   "source": [
    "# Normalize\n",
    "if self.normalize_dimensions:\n",
    "    for network in tqdm(self.representations_d, desc='mu, sigma'):\n",
    "        # TODO: might not need to normalize, only center\n",
    "        t = self.representations_d[network]\n",
    "        means = t.mean(0, keepdim=True)\n",
    "        stdevs = t.std(0, keepdim=True)\n",
    "\n",
    "        self.representations_d[network] = (t - means) / stdevs"
   ]
  },
  {
   "cell_type": "markdown",
   "metadata": {},
   "source": [
    "### Set `self.similarities`"
   ]
  },
  {
   "cell_type": "code",
   "execution_count": 8,
   "metadata": {},
   "outputs": [],
   "source": [
    "self.similarities = {network: {} for network in self.representations_d}"
   ]
  },
  {
   "cell_type": "code",
   "execution_count": 7,
   "metadata": {},
   "outputs": [],
   "source": [
    "# loop variables\n",
    "network = f1\n",
    "other_network = f2"
   ]
  },
  {
   "cell_type": "code",
   "execution_count": null,
   "metadata": {},
   "outputs": [],
   "source": [
    "# if network == other_network:\n",
    "#     continue\n",
    "\n",
    "# if other_network in self.transforms[network].keys(): # TO DO: optimize?\n",
    "#     continue"
   ]
  },
  {
   "cell_type": "code",
   "execution_count": 9,
   "metadata": {},
   "outputs": [],
   "source": [
    "X = self.representations_d[network]\n",
    "Y = self.representations_d[other_network]"
   ]
  },
  {
   "cell_type": "code",
   "execution_count": 16,
   "metadata": {},
   "outputs": [],
   "source": [
    "XtX_F = torch.norm(torch.mm(X.t(), X), p='fro').item()\n",
    "YtY_F = torch.norm(torch.mm(Y.t(), Y), p='fro').item()\n",
    "YtX_F = torch.norm(torch.mm(Y.t(), X), p='fro').item()"
   ]
  },
  {
   "cell_type": "code",
   "execution_count": 17,
   "metadata": {},
   "outputs": [],
   "source": [
    "self.similarities[network][other_network] = YtX_F**2 / (XtX_F*YtY_F)"
   ]
  },
  {
   "cell_type": "code",
   "execution_count": 19,
   "metadata": {},
   "outputs": [
    {
     "name": "stderr",
     "output_type": "stream",
     "text": [
      "cca: 100%|█| 9/9 [00:00<00:00, 739.45it/s]\n"
     ]
    }
   ],
   "source": [
    "# full\n",
    "self.similarities = {network: {} for network in self.representations_d}\n",
    "for network, other_network in tqdm(p(self.representations_d,\n",
    "                                     self.representations_d), desc='cka',\n",
    "                                   total=len(self.representations_d)**2):\n",
    "\n",
    "    if network == other_network:\n",
    "        continue\n",
    "\n",
    "    if other_network in self.similarities[network].keys(): # TO DO: optimize?\n",
    "        continue\n",
    "\n",
    "    X = self.representations_d[network]\n",
    "    Y = self.representations_d[other_network]\n",
    "\n",
    "    XtX_F = torch.norm(torch.mm(X.t(), X), p='fro').item()\n",
    "    YtY_F = torch.norm(torch.mm(Y.t(), Y), p='fro').item()\n",
    "    YtX_F = torch.norm(torch.mm(Y.t(), X), p='fro').item()\n",
    "\n",
    "    self.similarities[network][other_network] = YtX_F**2 / (XtX_F*YtY_F)"
   ]
  },
  {
   "cell_type": "markdown",
   "metadata": {},
   "source": [
    "# Build full function"
   ]
  },
  {
   "cell_type": "code",
   "execution_count": 21,
   "metadata": {},
   "outputs": [],
   "source": [
    "def compute_correlations(self):\n",
    "    \"\"\"\n",
    "    Set `self.similarities`. \n",
    "    \"\"\"\n",
    "    # Normalize\n",
    "    if self.normalize_dimensions:\n",
    "        for network in tqdm(self.representations_d, desc='mu, sigma'):\n",
    "            # TODO: might not need to normalize, only center\n",
    "            t = self.representations_d[network]\n",
    "            means = t.mean(0, keepdim=True)\n",
    "            stdevs = t.std(0, keepdim=True)\n",
    "\n",
    "            self.representations_d[network] = (t - means) / stdevs\n",
    "\n",
    "    # Set `self.similarities`\n",
    "    # {network: {other: cka_similarity}}\n",
    "    self.similarities = {network: {} for network in self.representations_d}\n",
    "    for network, other_network in tqdm(p(self.representations_d,\n",
    "                                         self.representations_d), desc='cka',\n",
    "                                       total=len(self.representations_d)**2):\n",
    "\n",
    "        if network == other_network:\n",
    "            continue\n",
    "\n",
    "        if other_network in self.similarities[network].keys(): # TO DO: optimize?\n",
    "            continue\n",
    "\n",
    "        X = self.representations_d[network]\n",
    "        Y = self.representations_d[other_network]\n",
    "\n",
    "        XtX_F = torch.norm(torch.mm(X.t(), X), p='fro').item()\n",
    "        YtY_F = torch.norm(torch.mm(Y.t(), Y), p='fro').item()\n",
    "        YtX_F = torch.norm(torch.mm(Y.t(), X), p='fro').item()\n",
    "\n",
    "        self.similarities[network][other_network] = YtX_F**2 / (XtX_F*YtY_F)"
   ]
  },
  {
   "cell_type": "code",
   "execution_count": 23,
   "metadata": {},
   "outputs": [
    {
     "name": "stderr",
     "output_type": "stream",
     "text": [
      "mu, sigma: 100%|█| 3/3 [00:00<00:00, 727.08it/s]\n",
      "cca: 100%|█| 9/9 [00:00<00:00, 646.50it/s]\n"
     ]
    },
    {
     "data": {
      "text/plain": [
       "{'foo': {'bar': 0.0836337778605439, 'baz': 0.07792939252860141},\n",
       " 'bar': {'foo': 0.08363383516681212, 'baz': 0.06839857736053304},\n",
       " 'baz': {'foo': 0.07792963611245719, 'bar': 0.06839859161987433}}"
      ]
     },
     "execution_count": 23,
     "metadata": {},
     "output_type": "execute_result"
    }
   ],
   "source": [
    "compute_correlations(self)\n",
    "self.similarities"
   ]
  }
 ],
 "metadata": {
  "kernelspec": {
   "display_name": "Python 3",
   "language": "python",
   "name": "python3"
  },
  "language_info": {
   "codemirror_mode": {
    "name": "ipython",
    "version": 3
   },
   "file_extension": ".py",
   "mimetype": "text/x-python",
   "name": "python",
   "nbconvert_exporter": "python",
   "pygments_lexer": "ipython3",
   "version": "3.7.3"
  }
 },
 "nbformat": 4,
 "nbformat_minor": 2
}
