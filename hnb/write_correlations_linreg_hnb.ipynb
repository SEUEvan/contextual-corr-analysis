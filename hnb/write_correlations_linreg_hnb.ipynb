{
 "cells": [
  {
   "cell_type": "code",
   "execution_count": 1,
   "metadata": {},
   "outputs": [],
   "source": [
    "import torch\n",
    "import json\n",
    "from tqdm import tqdm\n",
    "from itertools import product as p\n",
    "import numpy as np"
   ]
  },
  {
   "cell_type": "markdown",
   "metadata": {},
   "source": [
    "# Load fake activations"
   ]
  },
  {
   "cell_type": "code",
   "execution_count": 2,
   "metadata": {},
   "outputs": [],
   "source": [
    "class A:\n",
    "    pass\n",
    "self = A()"
   ]
  },
  {
   "cell_type": "code",
   "execution_count": 3,
   "metadata": {},
   "outputs": [],
   "source": [
    "self.num_neurons_d = {} # {fname, int}\n",
    "self.representations_d = {} # {fname, tensor}\n",
    "f1, f2, f3 = \"foo\", \"bar\", \"baz\"\n",
    "representation_files = [f1, f2, f3]"
   ]
  },
  {
   "cell_type": "code",
   "execution_count": 4,
   "metadata": {},
   "outputs": [],
   "source": [
    "# initialize `num_neurons_d`, `representations_d` with fake data\n",
    "n1, n2, n3 = 100, 80, 70\n",
    "nword = 1000\n",
    "t1 = torch.randn(nword, n1)\n",
    "t2 = torch.randn(nword, n2)\n",
    "t3 = torch.randn(nword, n3)\n",
    "self.num_neurons_d[f1] = n1\n",
    "self.num_neurons_d[f2] = n2\n",
    "self.num_neurons_d[f3] = n3\n",
    "self.representations_d[f1] = t1\n",
    "self.representations_d[f2] = t2\n",
    "self.representations_d[f3] = t3"
   ]
  },
  {
   "cell_type": "code",
   "execution_count": 5,
   "metadata": {},
   "outputs": [],
   "source": [
    "self.device = torch.device('cpu')\n",
    "self.op = min"
   ]
  },
  {
   "cell_type": "markdown",
   "metadata": {},
   "source": [
    "# Compute correlations"
   ]
  },
  {
   "cell_type": "code",
   "execution_count": 6,
   "metadata": {},
   "outputs": [],
   "source": [
    "def compute_correlations(self):\n",
    "    \"\"\"\n",
    "    Set `self.neuron_sort`. \n",
    "    \"\"\"\n",
    "    # Set `means_d`, `stdevs_d`\n",
    "    # Set `self.nrepresentations_d` to be normalized. \n",
    "    means_d = {}\n",
    "    stdevs_d = {}\n",
    "    self.nrepresentations_d = {}\n",
    "\n",
    "    for network in tqdm(self.representations_d, desc='mu, sigma'):\n",
    "        t = self.representations_d[network]\n",
    "        means = t.mean(0, keepdim=True)\n",
    "        stdevs = (t - means).pow(2).mean(0, keepdim=True).pow(0.5)\n",
    "\n",
    "        means_d[network] = means\n",
    "        stdevs_d[network] = stdevs\n",
    "        self.nrepresentations_d[network] = (t - means) / stdevs\n",
    "\n",
    "    # Set `self.pred_power`\n",
    "    # If the data is centered, it is the r value. \n",
    "    self.pred_power = {network: {} for network in self.representations_d}\n",
    "    for network, other_network in tqdm(p(self.representations_d,\n",
    "                                         self.representations_d),\n",
    "                                       desc='correlate',\n",
    "                                       total=len(self.representations_d)**2):\n",
    "\n",
    "        if network == other_network:\n",
    "            continue\n",
    "\n",
    "        X = self.nrepresentations_d[other_network].to(self.device)\n",
    "        Y = self.nrepresentations_d[network].to(self.device)\n",
    "\n",
    "        # SVD method of linreg\n",
    "        U, S, V = torch.svd(X) \n",
    "        UtY = torch.mm(U.t(), Y) # b for Ub = Y\n",
    "\n",
    "        bnorms = torch.norm(UtY, dim=0)\n",
    "        ynorms = torch.norm(Y, dim=0)\n",
    "\n",
    "        self.pred_power[network][other_network] = (bnorms / ynorms).cpu()\n",
    "\n",
    "    # Set `self.neuron_sort` : {network: sorted_list}\n",
    "    # Set `self.neuron_notated_sort` : {network: [(neuron, {other_network: pred_power})]}\n",
    "    self.neuron_sort = {}\n",
    "    self.neuron_notated_sort = {}\n",
    "    # Sort neurons by correlation with another network\n",
    "    for network in tqdm(self.nrepresentations_d, desc='annotation'):\n",
    "        self.neuron_sort[network] = sorted(\n",
    "                range(self.num_neurons_d[network]),\n",
    "                key = lambda i: self.op(\n",
    "                    self.pred_power[network][other][i] \n",
    "                    for other in self.pred_power[network]),\n",
    "                reverse=True\n",
    "            )\n",
    "\n",
    "        self.neuron_notated_sort[network] = [\n",
    "            (\n",
    "                neuron,\n",
    "                {\n",
    "                    other: float(self.pred_power[network][other][neuron])\n",
    "                    for other in self.pred_power[network]\n",
    "                }\n",
    "            )\n",
    "            for neuron in self.neuron_sort[network]\n",
    "        ]"
   ]
  },
  {
   "cell_type": "code",
   "execution_count": 7,
   "metadata": {},
   "outputs": [
    {
     "name": "stderr",
     "output_type": "stream",
     "text": [
      "mu, sigma: 100%|██████████████████████████████| 3/3 [00:00<00:00, 438.37it/s]\n",
      "correlate: 100%|██████████████████████████████| 9/9 [00:00<00:00, 338.20it/s]\n",
      "annotation: 100%|█████████████████████████████| 3/3 [00:00<00:00, 130.57it/s]\n"
     ]
    }
   ],
   "source": [
    "compute_correlations(self)"
   ]
  },
  {
   "cell_type": "markdown",
   "metadata": {},
   "source": [
    "# Build `write_correlations`"
   ]
  },
  {
   "cell_type": "code",
   "execution_count": 8,
   "metadata": {},
   "outputs": [],
   "source": [
    "# param\n",
    "output_file = \"temp\""
   ]
  },
  {
   "cell_type": "code",
   "execution_count": 9,
   "metadata": {},
   "outputs": [],
   "source": [
    "output = {\n",
    "    \"pred_power\" : self.pred_power,\n",
    "    \"neuron_sort\" : self.neuron_sort,\n",
    "    \"neuron_notated_sort\" : self.neuron_notated_sort,    \n",
    "}\n",
    "torch.save(output, output_file)"
   ]
  },
  {
   "cell_type": "markdown",
   "metadata": {},
   "source": [
    "# Final Function"
   ]
  },
  {
   "cell_type": "code",
   "execution_count": 10,
   "metadata": {},
   "outputs": [],
   "source": [
    "def write_correlations(self, output_file):\n",
    "    output = {\n",
    "        \"pred_power\" : self.pred_power,\n",
    "        \"neuron_sort\" : self.neuron_sort,\n",
    "        \"neuron_notated_sort\" : self.neuron_notated_sort,    \n",
    "    }\n",
    "    torch.save(output, output_file)"
   ]
  },
  {
   "cell_type": "code",
   "execution_count": 11,
   "metadata": {},
   "outputs": [],
   "source": [
    "output_file = \"temp\"\n",
    "write_correlations(self, output_file)"
   ]
  },
  {
   "cell_type": "code",
   "execution_count": 12,
   "metadata": {},
   "outputs": [
    {
     "data": {
      "text/plain": [
       "{'bar': tensor([0.2906, 0.2562, 0.2893, 0.2935, 0.2618, 0.2636, 0.2666, 0.2958, 0.2787,\n",
       "         0.2671, 0.2544, 0.2575, 0.2863, 0.2532, 0.2858, 0.2770, 0.3161, 0.2492,\n",
       "         0.2764, 0.2803, 0.3063, 0.2913, 0.2903, 0.2743, 0.2809, 0.2906, 0.2877,\n",
       "         0.2635, 0.3639, 0.2494, 0.2934, 0.2965, 0.2484, 0.2793, 0.3088, 0.2750,\n",
       "         0.2506, 0.2390, 0.2848, 0.2891, 0.2960, 0.3027, 0.2939, 0.3122, 0.2834,\n",
       "         0.3005, 0.2919, 0.2968, 0.3116, 0.2886, 0.3077, 0.2433, 0.2395, 0.2909,\n",
       "         0.2594, 0.2953, 0.2982, 0.3060, 0.2606, 0.2619, 0.2695, 0.2809, 0.2750,\n",
       "         0.2828, 0.2467, 0.2468, 0.2788, 0.2751, 0.2897, 0.2813, 0.2809, 0.2990,\n",
       "         0.2976, 0.2952, 0.2980, 0.2878, 0.2654, 0.2377, 0.2822, 0.2633, 0.2936,\n",
       "         0.2611, 0.2867, 0.2833, 0.2490, 0.2594, 0.2843, 0.3101, 0.3282, 0.2949,\n",
       "         0.2791, 0.2994, 0.2723, 0.2845, 0.3110, 0.2752, 0.2855, 0.2707, 0.2634,\n",
       "         0.2539]),\n",
       " 'baz': tensor([0.2742, 0.2408, 0.2626, 0.2831, 0.2630, 0.2438, 0.2583, 0.2686, 0.2324,\n",
       "         0.2701, 0.2632, 0.2517, 0.2210, 0.2843, 0.2713, 0.2948, 0.2425, 0.2662,\n",
       "         0.2872, 0.2502, 0.2723, 0.2831, 0.2690, 0.2508, 0.2485, 0.2394, 0.2509,\n",
       "         0.2556, 0.2779, 0.2538, 0.2662, 0.2193, 0.2416, 0.2474, 0.3004, 0.2498,\n",
       "         0.2827, 0.2302, 0.2822, 0.2605, 0.2669, 0.2306, 0.2832, 0.2207, 0.2640,\n",
       "         0.2863, 0.2829, 0.2205, 0.2584, 0.2752, 0.2683, 0.3089, 0.2452, 0.2702,\n",
       "         0.2462, 0.2931, 0.2566, 0.2967, 0.2931, 0.2549, 0.2641, 0.2401, 0.2856,\n",
       "         0.2822, 0.2673, 0.2350, 0.2495, 0.2512, 0.2601, 0.3214, 0.2955, 0.2406,\n",
       "         0.2793, 0.2879, 0.2590, 0.2805, 0.2633, 0.2382, 0.2727, 0.2483, 0.2346,\n",
       "         0.2531, 0.2745, 0.3069, 0.2611, 0.2640, 0.3092, 0.2773, 0.2344, 0.2626,\n",
       "         0.2483, 0.2510, 0.2739, 0.2819, 0.2590, 0.2265, 0.2561, 0.2585, 0.2885,\n",
       "         0.2774])}"
      ]
     },
     "execution_count": 12,
     "metadata": {},
     "output_type": "execute_result"
    }
   ],
   "source": [
    "d = torch.load(\"temp\")\n",
    "d['pred_power'][f1]"
   ]
  }
 ],
 "metadata": {
  "kernelspec": {
   "display_name": "Python [conda env:jmw0]",
   "language": "python",
   "name": "conda-env-jmw0-py"
  },
  "language_info": {
   "codemirror_mode": {
    "name": "ipython",
    "version": 3
   },
   "file_extension": ".py",
   "mimetype": "text/x-python",
   "name": "python",
   "nbconvert_exporter": "python",
   "pygments_lexer": "ipython3",
   "version": "3.6.8"
  }
 },
 "nbformat": 4,
 "nbformat_minor": 2
}
