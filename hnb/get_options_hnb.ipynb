{
 "cells": [
  {
   "cell_type": "code",
   "execution_count": 2,
   "metadata": {},
   "outputs": [],
   "source": [
    "def get_options(opt_fname):\n",
    "    if opt_fname == None:\n",
    "        layerspec_l = [-1] * len(representation_fname_l)\n",
    "        first_half_only_l = [False] * len(representation_fname_l)\n",
    "        second_half_only_l = [False] * len(representation_fname_l)\n",
    "    else:\n",
    "        with open(opt_fname, 'r') as f:\n",
    "            opt_l = [line.strip().split(',') for line in f]\n",
    "            l, f, s = zip(*opt_l)\n",
    "\n",
    "            layerspec_l = []\n",
    "            for ls in l:\n",
    "                if ls == \"all\":\n",
    "                    layerspec_l.append(ls)\n",
    "                else:\n",
    "                    layerspec_l.append(int(ls))\n",
    "\n",
    "            first_half_only_l = []\n",
    "            for fho in f:\n",
    "                if fho == 't':\n",
    "                    first_half_only_l.append(True)\n",
    "                else:\n",
    "                    first_half_only_l.append(False)\n",
    "\n",
    "            second_half_only_l = []\n",
    "            for sho in s:\n",
    "                if sho == 't':\n",
    "                    second_half_only_l.append(True)\n",
    "                else:\n",
    "                    second_half_only_l.append(False)\n",
    "\n",
    "    return layerspec_l, first_half_only_l, second_half_only_l"
   ]
  },
  {
   "cell_type": "code",
   "execution_count": 1,
   "metadata": {},
   "outputs": [],
   "source": [
    "opt_fname=\"../slurm/opt5\"\n",
    "layerspec_l, first_half_only_l, second_half_only_l = get_options(opt_fname)"
   ]
  },
  {
   "cell_type": "markdown",
   "metadata": {},
   "source": [
    "# Testing"
   ]
  },
  {
   "cell_type": "code",
   "execution_count": 4,
   "metadata": {},
   "outputs": [
    {
     "data": {
      "text/plain": [
       "['all', 'all', 'all', 'all', 'all', 'all']"
      ]
     },
     "execution_count": 4,
     "metadata": {},
     "output_type": "execute_result"
    }
   ],
   "source": [
    "layerspec_l"
   ]
  },
  {
   "cell_type": "code",
   "execution_count": 5,
   "metadata": {},
   "outputs": [
    {
     "data": {
      "text/plain": [
       "[False, False, False, False, False, False]"
      ]
     },
     "execution_count": 5,
     "metadata": {},
     "output_type": "execute_result"
    }
   ],
   "source": [
    "first_half_only_l"
   ]
  },
  {
   "cell_type": "code",
   "execution_count": 6,
   "metadata": {},
   "outputs": [
    {
     "data": {
      "text/plain": [
       "[False, False, False, False, False, False]"
      ]
     },
     "execution_count": 6,
     "metadata": {},
     "output_type": "execute_result"
    }
   ],
   "source": [
    "second_half_only_l"
   ]
  },
  {
   "cell_type": "code",
   "execution_count": 7,
   "metadata": {},
   "outputs": [],
   "source": [
    "opt_fname=\"test_opt1\"\n",
    "layerspec_l, first_half_only_l, second_half_only_l = get_options(opt_fname)"
   ]
  },
  {
   "cell_type": "code",
   "execution_count": 8,
   "metadata": {},
   "outputs": [
    {
     "data": {
      "text/plain": [
       "[3, 'all', 'all', 9, -1, 'all']"
      ]
     },
     "execution_count": 8,
     "metadata": {},
     "output_type": "execute_result"
    }
   ],
   "source": [
    "layerspec_l"
   ]
  },
  {
   "cell_type": "code",
   "execution_count": 9,
   "metadata": {},
   "outputs": [
    {
     "data": {
      "text/plain": [
       "[False, False, False, True, False, False]"
      ]
     },
     "execution_count": 9,
     "metadata": {},
     "output_type": "execute_result"
    }
   ],
   "source": [
    "first_half_only_l"
   ]
  },
  {
   "cell_type": "code",
   "execution_count": 10,
   "metadata": {},
   "outputs": [
    {
     "data": {
      "text/plain": [
       "[True, True, False, False, False, False]"
      ]
     },
     "execution_count": 10,
     "metadata": {},
     "output_type": "execute_result"
    }
   ],
   "source": [
    "second_half_only_l"
   ]
  }
 ],
 "metadata": {
  "kernelspec": {
   "display_name": "Python [conda env:jmw0]",
   "language": "python",
   "name": "conda-env-jmw0-py"
  },
  "language_info": {
   "codemirror_mode": {
    "name": "ipython",
    "version": 3
   },
   "file_extension": ".py",
   "mimetype": "text/x-python",
   "name": "python",
   "nbconvert_exporter": "python",
   "pygments_lexer": "ipython3",
   "version": "3.7.3"
  }
 },
 "nbformat": 4,
 "nbformat_minor": 2
}
