{
 "cells": [
  {
   "cell_type": "code",
   "execution_count": 1,
   "metadata": {},
   "outputs": [],
   "source": [
    "import torch\n",
    "import h5py\n",
    "import json"
   ]
  },
  {
   "cell_type": "code",
   "execution_count": 2,
   "metadata": {},
   "outputs": [],
   "source": [
    "representation_files = \"/usr/users/johnmwu/contextual-corr-analysis/slurm/repr_files1\"\n",
    "output_file = \"/data/sls/temp/johnmwu/contextual-corr-analysis/results3\""
   ]
  },
  {
   "cell_type": "code",
   "execution_count": 3,
   "metadata": {},
   "outputs": [],
   "source": [
    "with open(representation_files) as f:\n",
    "    representation_fname_l = [line.strip() for line in f]"
   ]
  },
  {
   "cell_type": "code",
   "execution_count": 4,
   "metadata": {},
   "outputs": [],
   "source": [
    "# Set `means_d`, `stdevs_d`\n",
    "# {fname: tensor}\n",
    "means_d = {}\n",
    "stdevs_d = {}"
   ]
  },
  {
   "cell_type": "markdown",
   "metadata": {},
   "source": [
    "### for fname in ... loop"
   ]
  },
  {
   "cell_type": "code",
   "execution_count": 6,
   "metadata": {},
   "outputs": [],
   "source": [
    "# arbitrary loop variable\n",
    "# fname = representation_fname_l[0] # bert large. Takes up 13GiB of memory. No. \n",
    "fname = representation_fname_l[3] # elmo original"
   ]
  },
  {
   "cell_type": "code",
   "execution_count": 7,
   "metadata": {},
   "outputs": [],
   "source": [
    "# Create `activations_h5`, `sentence_d`, `indices`\n",
    "activations_h5 = h5py.File(fname, 'r')\n",
    "sentence_d = json.loads(activations_h5['sentence_to_index'][0])\n",
    "temp = {} \n",
    "for k, v in sentence_d.items():\n",
    "    temp[v] = k\n",
    "sentence_d = temp # {str ix, sentence}\n",
    "indices = list(sentence_d.keys())"
   ]
  },
  {
   "cell_type": "code",
   "execution_count": 8,
   "metadata": {},
   "outputs": [
    {
     "data": {
      "text/plain": [
       "3"
      ]
     },
     "execution_count": 8,
     "metadata": {},
     "output_type": "execute_result"
    }
   ],
   "source": [
    "# Dimension of activations tensor\n",
    "# 2 if 1 layer, 3 if multiple\n",
    "dim = len(activations_h5['0'].shape)\n",
    "dim"
   ]
  },
  {
   "cell_type": "code",
   "execution_count": 11,
   "metadata": {},
   "outputs": [],
   "source": [
    "# Set `activations` tensor\n",
    "activations = torch.cat([torch.tensor(activations_h5[str_ix])\n",
    "                            for str_ix in sentence_d],\n",
    "                        dim=0 if dim==2 else 1)"
   ]
  },
  {
   "cell_type": "code",
   "execution_count": 14,
   "metadata": {},
   "outputs": [],
   "source": [
    "if dim == 2:\n",
    "    means_d[fname] = torch.mean(activations, dim=0, keepdim=False)\n",
    "    stdevs_d[fname] = torch.std(activations, dim=0, keepdim=False, unbiased=False)\n",
    "elif dim == 3:\n",
    "    means_d[fname] = torch.mean(activations, dim=1, keepdim=False)\n",
    "    stdevs_d[fname] = torch.std(activations, dim=1, keepdim=False, unbiased=False)"
   ]
  },
  {
   "cell_type": "code",
   "execution_count": null,
   "metadata": {},
   "outputs": [],
   "source": [
    "# full\n",
    "for fname in tqdm(representation_fname_l, desc='mu, sigma'):\n",
    "    # Create `activations_h5`, `sentence_d`, `indices`\n",
    "    activations_h5 = h5py.File(fname, 'r')\n",
    "    sentence_d = json.loads(activations_h5['sentence_to_index'][0])\n",
    "    temp = {} \n",
    "    for k, v in sentence_d.items():\n",
    "        temp[v] = k\n",
    "    sentence_d = temp # {str ix, sentence}\n",
    "    indices = list(sentence_d.keys())\n",
    "\n",
    "    # Set `activations` tensor, `dim`\n",
    "    dim = len(activations_h5['0'].shape)\n",
    "    activations = torch.cat([torch.tensor(activations_h5[str_ix])\n",
    "                                for str_ix in sentence_d],\n",
    "                            dim=0 if dim==2 else 1)\n",
    "\n",
    "    if dim == 2: \n",
    "        means_d[fname] = torch.mean(activations, dim=0, keepdim=False)\n",
    "        stdevs_d[fname] = torch.std(activations, dim=0, keepdim=False, unbiased=False)\n",
    "    elif dim == 3:\n",
    "        means_d[fname] = torch.mean(activations, dim=1, keepdim=False)\n",
    "        stdevs_d[fname] = torch.std(activations, dim=1, keepdim=False, unbiased=False)"
   ]
  }
 ],
 "metadata": {
  "kernelspec": {
   "display_name": "Python [conda env:jmw0]",
   "language": "python",
   "name": "conda-env-jmw0-py"
  },
  "language_info": {
   "codemirror_mode": {
    "name": "ipython",
    "version": 3
   },
   "file_extension": ".py",
   "mimetype": "text/x-python",
   "name": "python",
   "nbconvert_exporter": "python",
   "pygments_lexer": "ipython3",
   "version": "3.7.3"
  }
 },
 "nbformat": 4,
 "nbformat_minor": 2
}
