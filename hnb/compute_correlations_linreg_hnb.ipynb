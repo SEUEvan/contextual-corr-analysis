{
 "cells": [
  {
   "cell_type": "code",
   "execution_count": 1,
   "metadata": {},
   "outputs": [],
   "source": [
    "%load_ext line_profiler"
   ]
  },
  {
   "cell_type": "code",
   "execution_count": 2,
   "metadata": {},
   "outputs": [],
   "source": [
    "import torch\n",
    "import json\n",
    "from tqdm import tqdm\n",
    "from itertools import product as p\n",
    "import numpy as np"
   ]
  },
  {
   "cell_type": "markdown",
   "metadata": {},
   "source": [
    "# Load fake activations"
   ]
  },
  {
   "cell_type": "code",
   "execution_count": 3,
   "metadata": {},
   "outputs": [],
   "source": [
    "class A:\n",
    "    pass\n",
    "self = A()"
   ]
  },
  {
   "cell_type": "code",
   "execution_count": 4,
   "metadata": {},
   "outputs": [],
   "source": [
    "self.num_neurons_d = {} # {fname, int}\n",
    "self.representations_d = {} # {fname, tensor}\n",
    "f1, f2, f3 = \"foo\", \"bar\", \"baz\"\n",
    "representation_files = [f1, f2, f3]"
   ]
  },
  {
   "cell_type": "code",
   "execution_count": 5,
   "metadata": {},
   "outputs": [],
   "source": [
    "# initialize `num_neurons_d`, `representations_d` with fake data\n",
    "n1, n2, n3 = 100, 80, 70\n",
    "nword = 1000\n",
    "t1 = torch.randn(nword, n1)\n",
    "t2 = torch.randn(nword, n2)\n",
    "t3 = torch.randn(nword, n3)\n",
    "self.num_neurons_d[f1] = n1\n",
    "self.num_neurons_d[f2] = n2\n",
    "self.num_neurons_d[f3] = n3\n",
    "self.representations_d[f1] = t1\n",
    "self.representations_d[f2] = t2\n",
    "self.representations_d[f3] = t3"
   ]
  },
  {
   "cell_type": "code",
   "execution_count": 6,
   "metadata": {},
   "outputs": [],
   "source": [
    "self.device = torch.device('cpu')\n",
    "self.op = min"
   ]
  },
  {
   "cell_type": "markdown",
   "metadata": {},
   "source": [
    "# Build Function"
   ]
  },
  {
   "cell_type": "markdown",
   "metadata": {},
   "source": [
    "### Normalize"
   ]
  },
  {
   "cell_type": "code",
   "execution_count": 7,
   "metadata": {},
   "outputs": [
    {
     "name": "stderr",
     "output_type": "stream",
     "text": [
      "mu, sigma: 100%|██████████████████████████████| 3/3 [00:00<00:00, 197.95it/s]\n"
     ]
    }
   ],
   "source": [
    "# Set `means_d`, `stdevs_d`\n",
    "# Set `self.nrepresentations_d` to be normalized. \n",
    "means_d = {}\n",
    "stdevs_d = {}\n",
    "self.nrepresentations_d = {}\n",
    "self.lsingularv_d = {}\n",
    "\n",
    "for network in tqdm(self.representations_d, desc='mu, sigma'):\n",
    "    t = self.representations_d[network].to(self.device)\n",
    "    means = t.mean(0, keepdim=True)\n",
    "    stdevs = (t - means).pow(2).mean(0, keepdim=True).pow(0.5)\n",
    "\n",
    "    means_d[network] = means.cpu()\n",
    "    stdevs_d[network] = stdevs.cpu()\n",
    "    self.nrepresentations_d[network] = ((t - means) / stdevs).cpu()\n",
    "    self.lsingularv_d[network], _, _ = torch.svd(self.nrepresentations_d[network])\n",
    "    \n",
    "    self.representations_d[network] = None # free up memory"
   ]
  },
  {
   "cell_type": "markdown",
   "metadata": {},
   "source": [
    "### Set `self.pred_power` loop"
   ]
  },
  {
   "cell_type": "code",
   "execution_count": 8,
   "metadata": {},
   "outputs": [
    {
     "name": "stderr",
     "output_type": "stream",
     "text": [
      "correlate: 100%|█████████████████████████████| 9/9 [00:00<00:00, 1156.91it/s]\n"
     ]
    }
   ],
   "source": [
    "# Set `self.pred_power`\n",
    "# If the data is centered, it is the r value.\n",
    "# Set `self.similarities`\n",
    "self.pred_power = {network: {} for network in self.nrepresentations_d}\n",
    "self.similarities = {network: {} for network in self.nrepresentations_d}        \n",
    "for network, other_network in tqdm(p(self.nrepresentations_d,\n",
    "                                     self.nrepresentations_d),\n",
    "                                   desc='correlate',\n",
    "                                   total=len(self.nrepresentations_d)**2):\n",
    "\n",
    "    if network == other_network:\n",
    "        continue\n",
    "\n",
    "    U = self.lsingularv_d[other_network].to(self.device)\n",
    "    Y = self.nrepresentations_d[network].to(self.device)\n",
    "\n",
    "    # SVD method of linreg\n",
    "    UtY = torch.mm(U.t(), Y) # b for Ub = Y\n",
    "\n",
    "    bnorms = torch.norm(UtY, dim=0)\n",
    "    ynorms = torch.norm(Y, dim=0)\n",
    "\n",
    "    self.pred_power[network][other_network] = (bnorms / ynorms).cpu().numpy()\n",
    "    self.similarities[network][other_network] = self.pred_power[network][other_network].mean()"
   ]
  },
  {
   "cell_type": "code",
   "execution_count": 9,
   "metadata": {},
   "outputs": [
    {
     "data": {
      "text/plain": [
       "{'foo': {'bar': 0.2811418, 'baz': 0.26937106},\n",
       " 'bar': {'foo': 0.31526232, 'baz': 0.26253238},\n",
       " 'baz': {'foo': 0.3210931, 'bar': 0.28089473}}"
      ]
     },
     "execution_count": 9,
     "metadata": {},
     "output_type": "execute_result"
    }
   ],
   "source": [
    "self.similarities"
   ]
  },
  {
   "cell_type": "markdown",
   "metadata": {},
   "source": [
    "### Set `self.neuron_sort`, `self.neuron_notated_sort`"
   ]
  },
  {
   "cell_type": "code",
   "execution_count": 10,
   "metadata": {},
   "outputs": [
    {
     "name": "stderr",
     "output_type": "stream",
     "text": [
      "annotation: 100%|████████████████████████████| 3/3 [00:00<00:00, 1959.65it/s]\n"
     ]
    }
   ],
   "source": [
    "# Set `self.neuron_sort` : {network: sorted_list}\n",
    "# Set `self.neuron_notated_sort` : {network: [(neuron, {other_network: pred_power})]}\n",
    "self.neuron_sort = {}\n",
    "self.neuron_notated_sort = {}\n",
    "# Sort neurons by correlation with another network\n",
    "for network in tqdm(self.nrepresentations_d, desc='annotation'):\n",
    "    self.neuron_sort[network] = sorted(\n",
    "            range(self.num_neurons_d[network]),\n",
    "            key = lambda i: self.op(\n",
    "                self.pred_power[network][other][i] \n",
    "                for other in self.pred_power[network]),\n",
    "            reverse=True\n",
    "        )\n",
    "    \n",
    "    self.neuron_notated_sort[network] = [\n",
    "        (\n",
    "            neuron,\n",
    "            {\n",
    "                other: float(self.pred_power[network][other][neuron])\n",
    "                for other in self.pred_power[network]\n",
    "            }\n",
    "        )\n",
    "        for neuron in self.neuron_sort[network]\n",
    "    ]"
   ]
  },
  {
   "cell_type": "markdown",
   "metadata": {},
   "source": [
    "# Create final function"
   ]
  },
  {
   "cell_type": "code",
   "execution_count": 11,
   "metadata": {},
   "outputs": [],
   "source": [
    "def compute_correlations(self):\n",
    "    # Set `means_d`, `stdevs_d`\n",
    "    # Set `self.nrepresentations_d` to be normalized. \n",
    "    means_d = {}\n",
    "    stdevs_d = {}\n",
    "    self.nrepresentations_d = {}\n",
    "    self.lsingularv_d = {}\n",
    "\n",
    "    for network in tqdm(self.representations_d, desc='mu, sigma'):\n",
    "        t = self.representations_d[network].to(self.device)\n",
    "        means = t.mean(0, keepdim=True)\n",
    "        stdevs = (t - means).pow(2).mean(0, keepdim=True).pow(0.5)\n",
    "\n",
    "        means_d[network] = means.cpu()\n",
    "        stdevs_d[network] = stdevs.cpu()\n",
    "        self.nrepresentations_d[network] = ((t - means) / stdevs).cpu()\n",
    "        self.lsingularv_d[network], _, _ = torch.svd(self.nrepresentations_d[network])\n",
    "\n",
    "        self.representations_d[network] = None # free up memory\n",
    "    \n",
    "    # Set `self.pred_power`\n",
    "    # If the data is centered, it is the r value.\n",
    "    # Set `self.similarities`\n",
    "    self.pred_power = {network: {} for network in self.nrepresentations_d}\n",
    "    self.similarities = {network: {} for network in self.nrepresentations_d}        \n",
    "    for network, other_network in tqdm(p(self.nrepresentations_d,\n",
    "                                         self.nrepresentations_d),\n",
    "                                       desc='correlate',\n",
    "                                       total=len(self.nrepresentations_d)**2):\n",
    "\n",
    "        if network == other_network:\n",
    "            continue\n",
    "\n",
    "        U = self.lsingularv_d[other_network].to(self.device)\n",
    "        Y = self.nrepresentations_d[network].to(self.device)\n",
    "\n",
    "        # SVD method of linreg\n",
    "        UtY = torch.mm(U.t(), Y) # b for Ub = Y\n",
    "\n",
    "        bnorms = torch.norm(UtY, dim=0)\n",
    "        ynorms = torch.norm(Y, dim=0)\n",
    "\n",
    "        self.pred_power[network][other_network] = (bnorms / ynorms).cpu().numpy()\n",
    "        self.similarities[network][other_network] = self.pred_power[network][other_network].mean()\n",
    "    \n",
    "\n",
    "    # Set `self.neuron_sort` : {network: sorted_list}\n",
    "    # Set `self.neuron_notated_sort` : {network: [(neuron, {other_network: pred_power})]}\n",
    "    self.neuron_sort = {}\n",
    "    self.neuron_notated_sort = {}\n",
    "    # Sort neurons by correlation with another network\n",
    "    for network in tqdm(self.nrepresentations_d, desc='annotation'):\n",
    "        self.neuron_sort[network] = sorted(\n",
    "                range(self.num_neurons_d[network]),\n",
    "                key = lambda i: self.op(\n",
    "                    self.pred_power[network][other][i] \n",
    "                    for other in self.pred_power[network]),\n",
    "                reverse=True\n",
    "            )\n",
    "\n",
    "        self.neuron_notated_sort[network] = [\n",
    "            (\n",
    "                neuron,\n",
    "                {\n",
    "                    other: float(self.pred_power[network][other][neuron])\n",
    "                    for other in self.pred_power[network]\n",
    "                }\n",
    "            )\n",
    "            for neuron in self.neuron_sort[network]\n",
    "        ]"
   ]
  },
  {
   "cell_type": "code",
   "execution_count": 12,
   "metadata": {},
   "outputs": [
    {
     "name": "stderr",
     "output_type": "stream",
     "text": [
      "mu, sigma: 100%|██████████████████████████████| 3/3 [00:00<00:00, 263.14it/s]\n",
      "correlate: 100%|█████████████████████████████| 9/9 [00:00<00:00, 1126.22it/s]\n",
      "annotation: 100%|████████████████████████████| 3/3 [00:00<00:00, 2227.46it/s]\n"
     ]
    }
   ],
   "source": [
    "self.num_neurons_d = {} # {fname, int}\n",
    "self.representations_d = {} # {fname, tensor}\n",
    "f1, f2, f3 = \"foo\", \"bar\", \"baz\"\n",
    "representation_files = [f1, f2, f3]\n",
    "\n",
    "# initialize `num_neurons_d`, `representations_d` with fake data\n",
    "n1, n2, n3 = 100, 80, 70\n",
    "nword = 1000\n",
    "t1 = torch.randn(nword, n1)\n",
    "t2 = torch.randn(nword, n2)\n",
    "t3 = torch.randn(nword, n3)\n",
    "self.num_neurons_d[f1] = n1\n",
    "self.num_neurons_d[f2] = n2\n",
    "self.num_neurons_d[f3] = n3\n",
    "self.representations_d[f1] = t1\n",
    "self.representations_d[f2] = t2\n",
    "self.representations_d[f3] = t3\n",
    "\n",
    "compute_correlations(self)"
   ]
  },
  {
   "cell_type": "code",
   "execution_count": 13,
   "metadata": {},
   "outputs": [
    {
     "data": {
      "text/plain": [
       "{'foo': {'bar': 0.27981272, 'baz': 0.26539588},\n",
       " 'bar': {'foo': 0.31423888, 'baz': 0.26473776},\n",
       " 'baz': {'foo': 0.3172621, 'bar': 0.2835274}}"
      ]
     },
     "execution_count": 13,
     "metadata": {},
     "output_type": "execute_result"
    }
   ],
   "source": [
    "self.similarities"
   ]
  }
 ],
 "metadata": {
  "kernelspec": {
   "display_name": "Python [conda env:jmw0]",
   "language": "python",
   "name": "conda-env-jmw0-py"
  },
  "language_info": {
   "codemirror_mode": {
    "name": "ipython",
    "version": 3
   },
   "file_extension": ".py",
   "mimetype": "text/x-python",
   "name": "python",
   "nbconvert_exporter": "python",
   "pygments_lexer": "ipython3",
   "version": "3.6.8"
  }
 },
 "nbformat": 4,
 "nbformat_minor": 2
}
