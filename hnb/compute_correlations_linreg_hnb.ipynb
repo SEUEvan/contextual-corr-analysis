{
 "cells": [
  {
   "cell_type": "code",
   "execution_count": 1,
   "metadata": {},
   "outputs": [],
   "source": [
    "import torch\n",
    "import json\n",
    "from tqdm import tqdm\n",
    "from itertools import product as p\n",
    "import numpy as np"
   ]
  },
  {
   "cell_type": "markdown",
   "metadata": {},
   "source": [
    "# Load fake activations"
   ]
  },
  {
   "cell_type": "code",
   "execution_count": 2,
   "metadata": {},
   "outputs": [],
   "source": [
    "class A:\n",
    "    pass\n",
    "self = A()"
   ]
  },
  {
   "cell_type": "code",
   "execution_count": 3,
   "metadata": {},
   "outputs": [],
   "source": [
    "self.num_neurons_d = {} # {fname, int}\n",
    "self.representations_d = {} # {fname, tensor}\n",
    "f1, f2, f3 = \"foo\", \"bar\", \"baz\"\n",
    "representation_files = [f1, f2, f3]"
   ]
  },
  {
   "cell_type": "code",
   "execution_count": 4,
   "metadata": {},
   "outputs": [],
   "source": [
    "# initialize `num_neurons_d`, `representations_d` with fake data\n",
    "n1, n2, n3 = 100, 80, 70\n",
    "nword = 1000\n",
    "t1 = torch.randn(nword, n1)\n",
    "t2 = torch.randn(nword, n2)\n",
    "t3 = torch.randn(nword, n3)\n",
    "self.num_neurons_d[f1] = n1\n",
    "self.num_neurons_d[f2] = n2\n",
    "self.num_neurons_d[f3] = n3\n",
    "self.representations_d[f1] = t1\n",
    "self.representations_d[f2] = t2\n",
    "self.representations_d[f3] = t3"
   ]
  },
  {
   "cell_type": "markdown",
   "metadata": {},
   "source": [
    "# Build Function"
   ]
  },
  {
   "cell_type": "markdown",
   "metadata": {},
   "source": [
    "### Normalize"
   ]
  },
  {
   "cell_type": "code",
   "execution_count": 5,
   "metadata": {},
   "outputs": [
    {
     "name": "stderr",
     "output_type": "stream",
     "text": [
      "mu, sigma: 100%|███████████████████████| 3/3 [00:00<00:00, 1189.20it/s]\n"
     ]
    }
   ],
   "source": [
    "# Set `means_d`, `stdevs_d`, normalize\n",
    "means_d = {}\n",
    "stdevs_d = {}\n",
    "\n",
    "for network in tqdm(self.representations_d, desc='mu, sigma'):\n",
    "    t = self.representations_d[network]\n",
    "    means = t.mean(0, keepdim=True)\n",
    "    stdevs = t.std(0, keepdim=True)\n",
    "\n",
    "    means_d[network] = means\n",
    "    stdevs_d[network] = stdevs\n",
    "    self.representations_d[network] = (t - means) / stdevs"
   ]
  },
  {
   "cell_type": "markdown",
   "metadata": {},
   "source": [
    "### Set `self.pred_power` loop"
   ]
  },
  {
   "cell_type": "code",
   "execution_count": 8,
   "metadata": {},
   "outputs": [],
   "source": [
    "self.pred_power = {network: {} for network in self.representations_d} # \"predictive power\""
   ]
  },
  {
   "cell_type": "code",
   "execution_count": 9,
   "metadata": {},
   "outputs": [],
   "source": [
    "# loop variable\n",
    "network = f1\n",
    "other_network = f2"
   ]
  },
  {
   "cell_type": "code",
   "execution_count": 8,
   "metadata": {},
   "outputs": [],
   "source": [
    "# if network == other_network:\n",
    "#     continue"
   ]
  },
  {
   "cell_type": "code",
   "execution_count": 30,
   "metadata": {},
   "outputs": [],
   "source": [
    "X = self.representations_d[other_network]\n",
    "Y = self.representations_d[network]"
   ]
  },
  {
   "cell_type": "code",
   "execution_count": 31,
   "metadata": {},
   "outputs": [],
   "source": [
    "U, S, V = torch.svd(X)\n",
    "UtY = torch.mm(U.t(), Y)\n",
    "UtY.shape"
   ]
  },
  {
   "cell_type": "code",
   "execution_count": 33,
   "metadata": {
    "collapsed": true
   },
   "outputs": [
    {
     "data": {
      "text/plain": [
       "tensor([ 7.7806,  7.7896,  8.7355,  7.4009,  9.0961,  7.9801,  9.4549,  8.8950,\n",
       "         7.6728,  7.4388,  9.1603,  8.0455,  8.9774,  7.9507,  7.9269,  8.9536,\n",
       "         7.7259,  9.2478,  7.3973,  8.8610,  8.8618,  7.7693,  9.3108,  7.8104,\n",
       "         8.6636,  9.0483,  9.5713,  8.5912,  8.5695,  8.9725,  7.9784,  7.9550,\n",
       "         8.2758,  8.2214,  7.4071,  8.2919,  7.1655,  8.6621,  7.9327,  9.7438,\n",
       "         9.2245,  9.2718,  7.1527,  9.1338,  9.3417,  7.8857,  7.8490,  7.8729,\n",
       "         7.4691,  8.1648,  9.0727,  8.1953,  8.3313,  8.1932,  8.6896,  7.5120,\n",
       "         7.6955,  8.6970,  8.4486,  8.4324,  9.1421,  9.2351,  7.9386,  9.6027,\n",
       "         7.0667,  8.3023,  8.5285,  8.1558,  7.5736,  8.6171,  9.0789,  8.6213,\n",
       "         6.8395,  6.8569,  9.3115,  8.2080,  9.0286,  8.3749,  7.7418,  8.5681,\n",
       "         7.8323,  6.5963,  8.1163,  8.4784,  7.7956,  7.3548,  8.2077,  7.2818,\n",
       "         8.3593,  8.0570,  8.9142,  9.2577,  8.4241,  8.3338, 10.2262,  8.1552,\n",
       "         7.7836,  8.2849,  7.3795,  7.4971])"
      ]
     },
     "execution_count": 33,
     "metadata": {},
     "output_type": "execute_result"
    }
   ],
   "source": [
    "torch.norm(UtY, dim=0)"
   ]
  },
  {
   "cell_type": "code",
   "execution_count": 28,
   "metadata": {},
   "outputs": [],
   "source": [
    "self.pred_power[network][other_network] = torch.norm(UtY, dim=0)"
   ]
  },
  {
   "cell_type": "code",
   "execution_count": 41,
   "metadata": {},
   "outputs": [
    {
     "name": "stderr",
     "output_type": "stream",
     "text": [
      "correlate: 100%|████████████████████████| 9/9 [00:00<00:00, 342.91it/s]\n"
     ]
    }
   ],
   "source": [
    "# full\n",
    "# Set `self.pred_power`\n",
    "for network, other_network in tqdm(p(self.representations_d, self.representations_d), desc='correlate', total=len(self.representations_d)**2):\n",
    "    if network == other_network:\n",
    "        continue\n",
    "\n",
    "    X = self.representations_d[other_network]\n",
    "    Y = self.representations_d[network]\n",
    "\n",
    "    U, S, V = torch.svd(X)\n",
    "    UtY = torch.mm(U.t(), Y) # x for Ux = Y\n",
    "\n",
    "    self.pred_power[network][other_network] = torch.norm(UtY, dim=0) # cols of U are orthogonal"
   ]
  },
  {
   "cell_type": "code",
   "execution_count": 19,
   "metadata": {},
   "outputs": [
    {
     "name": "stderr",
     "output_type": "stream",
     "text": [
      "correlate: 100%|████████████████████████| 9/9 [00:00<00:00, 218.85it/s]\n"
     ]
    }
   ],
   "source": [
    "# old\n",
    "# full\n",
    "# Set `self.errors`\n",
    "# {network: {other: error_tensor}}\n",
    "for network, other_network in tqdm(p(self.representations_d, self.representations_d), desc='correlate', total=len(self.representations_d)**2):\n",
    "    if network == other_network:\n",
    "        continue\n",
    "\n",
    "    # Try to predict this network given the other one\n",
    "    X = self.representations_d[other_network].cpu().numpy()\n",
    "    Y = self.representations_d[network].cpu().numpy()\n",
    "\n",
    "    # solve with ordinary least squares \n",
    "    error = np.linalg.lstsq(X, Y, rcond=None)[1] # TO DO: don't use numpy, or at least use CUDA\n",
    "    # Possibilities are use torch (torch.svd or smth), or use another library (cupy)\n",
    "    error = torch.from_numpy(error)\n",
    "\n",
    "    self.errors[network][other_network] = error"
   ]
  },
  {
   "cell_type": "markdown",
   "metadata": {},
   "source": [
    "### Set `self.neuron_sort`"
   ]
  },
  {
   "cell_type": "code",
   "execution_count": 14,
   "metadata": {},
   "outputs": [],
   "source": [
    "self.neuron_sort = {}"
   ]
  },
  {
   "cell_type": "code",
   "execution_count": 39,
   "metadata": {},
   "outputs": [],
   "source": [
    "# loop variable\n",
    "network = f1"
   ]
  },
  {
   "cell_type": "code",
   "execution_count": 43,
   "metadata": {
    "collapsed": true
   },
   "outputs": [
    {
     "data": {
      "text/plain": [
       "[15,\n",
       " 36,\n",
       " 17,\n",
       " 29,\n",
       " 54,\n",
       " 52,\n",
       " 20,\n",
       " 8,\n",
       " 51,\n",
       " 27,\n",
       " 68,\n",
       " 22,\n",
       " 3,\n",
       " 43,\n",
       " 35,\n",
       " 19,\n",
       " 40,\n",
       " 50,\n",
       " 30,\n",
       " 23,\n",
       " 53,\n",
       " 0,\n",
       " 42,\n",
       " 48,\n",
       " 1,\n",
       " 69,\n",
       " 7,\n",
       " 21,\n",
       " 49,\n",
       " 24,\n",
       " 4,\n",
       " 14,\n",
       " 26,\n",
       " 64,\n",
       " 39,\n",
       " 9,\n",
       " 44,\n",
       " 60,\n",
       " 31,\n",
       " 16,\n",
       " 13,\n",
       " 41,\n",
       " 6,\n",
       " 66,\n",
       " 37,\n",
       " 67,\n",
       " 33,\n",
       " 2,\n",
       " 28,\n",
       " 62,\n",
       " 45,\n",
       " 63,\n",
       " 25,\n",
       " 55,\n",
       " 56,\n",
       " 12,\n",
       " 59,\n",
       " 38,\n",
       " 65,\n",
       " 10,\n",
       " 58,\n",
       " 57,\n",
       " 61,\n",
       " 11,\n",
       " 32,\n",
       " 5,\n",
       " 34,\n",
       " 18,\n",
       " 46,\n",
       " 47]"
      ]
     },
     "execution_count": 43,
     "metadata": {},
     "output_type": "execute_result"
    }
   ],
   "source": [
    "sorted(\n",
    "    range(self.num_neurons_d[network]),\n",
    "    key = lambda i: min(\n",
    "        self.pred_power[network][other][i] \n",
    "        for other in self.errors[network]\n",
    "    ),\n",
    "    reverse=True\n",
    ")"
   ]
  },
  {
   "cell_type": "code",
   "execution_count": 42,
   "metadata": {
    "collapsed": true
   },
   "outputs": [
    {
     "data": {
      "text/plain": [
       "[15,\n",
       " 36,\n",
       " 17,\n",
       " 29,\n",
       " 54,\n",
       " 52,\n",
       " 20,\n",
       " 8,\n",
       " 51,\n",
       " 27,\n",
       " 68,\n",
       " 22,\n",
       " 3,\n",
       " 43,\n",
       " 35,\n",
       " 19,\n",
       " 40,\n",
       " 50,\n",
       " 30,\n",
       " 23,\n",
       " 53,\n",
       " 0,\n",
       " 42,\n",
       " 48,\n",
       " 1,\n",
       " 69,\n",
       " 7,\n",
       " 21,\n",
       " 49,\n",
       " 24,\n",
       " 4,\n",
       " 14,\n",
       " 26,\n",
       " 64,\n",
       " 39,\n",
       " 9,\n",
       " 44,\n",
       " 60,\n",
       " 31,\n",
       " 16,\n",
       " 13,\n",
       " 41,\n",
       " 6,\n",
       " 66,\n",
       " 37,\n",
       " 67,\n",
       " 33,\n",
       " 2,\n",
       " 28,\n",
       " 62,\n",
       " 45,\n",
       " 63,\n",
       " 25,\n",
       " 55,\n",
       " 56,\n",
       " 12,\n",
       " 59,\n",
       " 38,\n",
       " 65,\n",
       " 10,\n",
       " 58,\n",
       " 57,\n",
       " 61,\n",
       " 11,\n",
       " 32,\n",
       " 5,\n",
       " 34,\n",
       " 18,\n",
       " 46,\n",
       " 47]"
      ]
     },
     "execution_count": 42,
     "metadata": {},
     "output_type": "execute_result"
    }
   ],
   "source": [
    "# old. They are equal\n",
    "sorted(\n",
    "    range(self.num_neurons_d[network]),\n",
    "    key = lambda i: max(\n",
    "        self.errors[network][other][i] \n",
    "        for other in self.errors[network]\n",
    "    )\n",
    ")"
   ]
  },
  {
   "cell_type": "code",
   "execution_count": 44,
   "metadata": {},
   "outputs": [
    {
     "name": "stderr",
     "output_type": "stream",
     "text": [
      "annotation: 100%|████████████████████████| 3/3 [00:00<00:00, 95.03it/s]\n"
     ]
    }
   ],
   "source": [
    "# Set `self.neuron_sort`\n",
    "# {network: sorted_list}\n",
    "self.neuron_sort = {}\n",
    "# Sort neurons by worst correlation (highest regression error) with another network\n",
    "for network in tqdm(self.representations_d, desc='annotation'):\n",
    "    self.neuron_sort[network] = sorted(\n",
    "            range(self.num_neurons_d[network]),\n",
    "            key = lambda i: min(\n",
    "                self.pred_power[network][other][i] \n",
    "                for other in self.errors[network]),\n",
    "            reverse=True\n",
    "        )"
   ]
  },
  {
   "cell_type": "code",
   "execution_count": 46,
   "metadata": {
    "collapsed": true
   },
   "outputs": [
    {
     "data": {
      "text/plain": [
       "tensor([9.6027, 9.3417, 9.2718, 9.2577, 9.2245, 9.1421, 9.0789, 9.0727, 9.0699,\n",
       "        9.0425, 9.0286, 9.0131, 8.9774, 8.9725, 8.9689, 8.9536, 8.9498, 8.8968,\n",
       "        8.8610, 8.7355, 8.7266, 8.6970, 8.6896, 8.6802, 8.6636, 8.6621, 8.6472,\n",
       "        8.6213, 8.6171, 8.5912, 8.5695, 8.5681, 8.4641, 8.4486, 8.4241, 8.4035,\n",
       "        8.3749, 8.3593, 8.3441, 8.3338, 8.3313, 8.3023, 8.2849, 8.2758, 8.2303,\n",
       "        8.2080, 8.2077, 8.1953, 8.1932, 8.1648, 8.1558, 8.1552, 8.1163, 8.0594,\n",
       "        8.0455, 8.0426, 8.0406, 7.9801, 7.9784, 7.9550, 7.9507, 7.9386, 7.9269,\n",
       "        7.8857, 7.8848, 7.8490, 7.8323, 7.8104, 7.8018, 7.7956, 7.7896, 7.7836,\n",
       "        7.7806, 7.7693, 7.7418, 7.7259, 7.6955, 7.6728, 7.6017, 7.5736, 7.5120,\n",
       "        7.4971, 7.4691, 7.4388, 7.4071, 7.4009, 7.3973, 7.3795, 7.3548, 7.3247,\n",
       "        7.2818, 7.2402, 7.2235, 7.1655, 7.1527, 7.0667, 6.8569, 6.8395, 6.5963,\n",
       "        6.5023])"
      ]
     },
     "execution_count": 46,
     "metadata": {},
     "output_type": "execute_result"
    }
   ],
   "source": [
    "# Nice, seems to be correct\n",
    "np.minimum(self.pred_power[f1][f2][self.neuron_sort[f1]],\n",
    "           self.pred_power[f1][f3][self.neuron_sort[f1]])"
   ]
  },
  {
   "cell_type": "markdown",
   "metadata": {},
   "source": [
    "# Create final function"
   ]
  },
  {
   "cell_type": "code",
   "execution_count": 5,
   "metadata": {},
   "outputs": [
    {
     "name": "stderr",
     "output_type": "stream",
     "text": [
      "mu, sigma: 100%|█| 3/3 [00:00<00:00, 503.20it/s]\n"
     ]
    }
   ],
   "source": [
    "def compute_correlations(self):\n",
    "    # Set `means_d`, `stdevs_d`, normalize to mean 0 std 1\n",
    "    means_d = {}\n",
    "    stdevs_d = {}\n",
    "\n",
    "    for network in tqdm(self.representations_d, desc='mu, sigma'):\n",
    "        t = self.representations_d[network]\n",
    "        means = t.mean(0, keepdim=True)\n",
    "        stdevs = (t - means).pow(2).mean(0, keepdim=True).pow(0.5)\n",
    "\n",
    "        means_d[network] = means\n",
    "        stdevs_d[network] = stdevs\n",
    "        self.representations_d[network] = (t - means) / stdevs\n",
    "\n",
    "    # Set `self.pred_power`\n",
    "    for network, other_network in tqdm(p(self.representations_d, self.representations_d), desc='correlate', total=len(self.representations_d)**2):\n",
    "        if network == other_network:\n",
    "            continue\n",
    "\n",
    "        X = self.representations_d[other_network]\n",
    "        Y = self.representations_d[network]\n",
    "\n",
    "        U, S, V = torch.svd(X)\n",
    "        UtY = torch.mm(U.t(), Y) # x for Ux = Y\n",
    "\n",
    "        self.pred_power[network][other_network] = torch.norm(UtY, dim=0) / torch.norm(Y, dim=0) # cols of U are orthogonal\n",
    "\n",
    "    # Set `self.neuron_sort`\n",
    "    # {network: sorted_list}\n",
    "    self.neuron_sort = {}\n",
    "    # Sort neurons by worst correlation (highest regression error) with another network\n",
    "    for network in tqdm(self.representations_d, desc='annotation'):\n",
    "        self.neuron_sort[network] = sorted(\n",
    "                range(self.num_neurons_d[network]),\n",
    "                key = lambda i: min(\n",
    "                    self.pred_power[network][other][i] \n",
    "                    for other in self.errors[network]),\n",
    "                reverse=True\n",
    "            )"
   ]
  }
 ],
 "metadata": {
  "kernelspec": {
   "display_name": "Python 3",
   "language": "python",
   "name": "python3"
  },
  "language_info": {
   "codemirror_mode": {
    "name": "ipython",
    "version": 3
   },
   "file_extension": ".py",
   "mimetype": "text/x-python",
   "name": "python",
   "nbconvert_exporter": "python",
   "pygments_lexer": "ipython3",
   "version": "3.7.3"
  }
 },
 "nbformat": 4,
 "nbformat_minor": 2
}
