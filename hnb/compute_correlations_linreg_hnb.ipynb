{
 "cells": [
  {
   "cell_type": "code",
   "execution_count": 3,
   "metadata": {},
   "outputs": [
    {
     "name": "stdout",
     "output_type": "stream",
     "text": [
      "The line_profiler extension is already loaded. To reload it, use:\n",
      "  %reload_ext line_profiler\n"
     ]
    }
   ],
   "source": [
    "%load_ext line_profiler"
   ]
  },
  {
   "cell_type": "code",
   "execution_count": 50,
   "metadata": {},
   "outputs": [],
   "source": [
    "import torch\n",
    "import json\n",
    "from tqdm import tqdm\n",
    "from itertools import product as p\n",
    "import numpy as np"
   ]
  },
  {
   "cell_type": "markdown",
   "metadata": {},
   "source": [
    "# Load fake activations"
   ]
  },
  {
   "cell_type": "code",
   "execution_count": 77,
   "metadata": {},
   "outputs": [],
   "source": [
    "class A:\n",
    "    pass\n",
    "self = A()"
   ]
  },
  {
   "cell_type": "code",
   "execution_count": 78,
   "metadata": {},
   "outputs": [],
   "source": [
    "self.num_neurons_d = {} # {fname, int}\n",
    "self.representations_d = {} # {fname, tensor}\n",
    "f1, f2, f3 = \"foo\", \"bar\", \"baz\"\n",
    "representation_files = [f1, f2, f3]"
   ]
  },
  {
   "cell_type": "code",
   "execution_count": 79,
   "metadata": {},
   "outputs": [],
   "source": [
    "# initialize `num_neurons_d`, `representations_d` with fake data\n",
    "n1, n2, n3 = 100, 80, 70\n",
    "nword = 1000\n",
    "t1 = torch.randn(nword, n1)\n",
    "t2 = torch.randn(nword, n2)\n",
    "t3 = torch.randn(nword, n3)\n",
    "self.num_neurons_d[f1] = n1\n",
    "self.num_neurons_d[f2] = n2\n",
    "self.num_neurons_d[f3] = n3\n",
    "self.representations_d[f1] = t1\n",
    "self.representations_d[f2] = t2\n",
    "self.representations_d[f3] = t3"
   ]
  },
  {
   "cell_type": "code",
   "execution_count": 80,
   "metadata": {},
   "outputs": [],
   "source": [
    "self.device = torch.device('cpu')\n",
    "self.op = min"
   ]
  },
  {
   "cell_type": "markdown",
   "metadata": {},
   "source": [
    "# Build Function"
   ]
  },
  {
   "cell_type": "markdown",
   "metadata": {},
   "source": [
    "### Normalize"
   ]
  },
  {
   "cell_type": "code",
   "execution_count": 68,
   "metadata": {},
   "outputs": [
    {
     "name": "stderr",
     "output_type": "stream",
     "text": [
      "mu, sigma: 100%|██████████████████████████████████████████████████████████████████████████████████████████████████████████████| 3/3 [00:00<00:00, 212.81it/s]\n"
     ]
    }
   ],
   "source": [
    "# Set `means_d`, `stdevs_d`\n",
    "# Set `self.nrepresentations_d` to be normalized. \n",
    "means_d = {}\n",
    "stdevs_d = {}\n",
    "self.nrepresentations_d = {}\n",
    "self.lsingularv_d = {}\n",
    "\n",
    "for network in tqdm(self.representations_d, desc='mu, sigma'):\n",
    "    t = self.representations_d[network].to(self.device)\n",
    "    means = t.mean(0, keepdim=True)\n",
    "    stdevs = (t - means).pow(2).mean(0, keepdim=True).pow(0.5)\n",
    "\n",
    "    means_d[network] = means.cpu()\n",
    "    stdevs_d[network] = stdevs.cpu()\n",
    "    self.nrepresentations_d[network] = ((t - means) / stdevs).cpu()\n",
    "    self.lsingularv_d[network], _, _ = torch.svd(self.nrepresentations_d[network])\n",
    "    \n",
    "del self.representations_d"
   ]
  },
  {
   "cell_type": "markdown",
   "metadata": {},
   "source": [
    "### Set `self.pred_power` loop"
   ]
  },
  {
   "cell_type": "code",
   "execution_count": 69,
   "metadata": {},
   "outputs": [
    {
     "name": "stderr",
     "output_type": "stream",
     "text": [
      "correlate: 100%|█████████████████████████████████████████████████████████████████████████████████████████████████████████████| 9/9 [00:00<00:00, 1218.25it/s]\n"
     ]
    }
   ],
   "source": [
    "# Set `self.pred_power`\n",
    "# If the data is centered, it is the r value.\n",
    "# Set `self.similarities`\n",
    "self.pred_power = {network: {} for network in self.nrepresentations_d}\n",
    "self.similarities = {network: {} for network in self.nrepresentations_d}        \n",
    "for network, other_network in tqdm(p(self.nrepresentations_d,\n",
    "                                     self.nrepresentations_d),\n",
    "                                   desc='correlate',\n",
    "                                   total=len(self.nrepresentations_d)**2):\n",
    "\n",
    "    if network == other_network:\n",
    "        continue\n",
    "\n",
    "    U = self.lsingularv_d[other_network].to(self.device)\n",
    "    Y = self.nrepresentations_d[network].to(self.device)\n",
    "\n",
    "    # SVD method of linreg\n",
    "    UtY = torch.mm(U.t(), Y) # b for Ub = Y\n",
    "\n",
    "    bnorms = torch.norm(UtY, dim=0)\n",
    "    ynorms = torch.norm(Y, dim=0)\n",
    "\n",
    "    self.pred_power[network][other_network] = (bnorms / ynorms).cpu().numpy()\n",
    "    self.similarities[network][other_network] = self.pred_power[network][other_network].mean()"
   ]
  },
  {
   "cell_type": "code",
   "execution_count": 70,
   "metadata": {},
   "outputs": [
    {
     "data": {
      "text/plain": [
       "{'foo': {'bar': 0.2804998, 'baz': 0.26484612},\n",
       " 'bar': {'foo': 0.3134351, 'baz': 0.26393247},\n",
       " 'baz': {'foo': 0.31717753, 'bar': 0.2807093}}"
      ]
     },
     "execution_count": 70,
     "metadata": {},
     "output_type": "execute_result"
    }
   ],
   "source": [
    "self.similarities"
   ]
  },
  {
   "cell_type": "markdown",
   "metadata": {},
   "source": [
    "### Set `self.neuron_sort`, `self.neuron_notated_sort`"
   ]
  },
  {
   "cell_type": "code",
   "execution_count": 71,
   "metadata": {},
   "outputs": [
    {
     "name": "stderr",
     "output_type": "stream",
     "text": [
      "annotation: 100%|████████████████████████████████████████████████████████████████████████████████████████████████████████████| 3/3 [00:00<00:00, 3387.97it/s]\n"
     ]
    }
   ],
   "source": [
    "# Set `self.neuron_sort` : {network: sorted_list}\n",
    "# Set `self.neuron_notated_sort` : {network: [(neuron, {other_network: pred_power})]}\n",
    "self.neuron_sort = {}\n",
    "self.neuron_notated_sort = {}\n",
    "# Sort neurons by correlation with another network\n",
    "for network in tqdm(self.nrepresentations_d, desc='annotation'):\n",
    "    self.neuron_sort[network] = sorted(\n",
    "            range(self.num_neurons_d[network]),\n",
    "            key = lambda i: self.op(\n",
    "                self.pred_power[network][other][i] \n",
    "                for other in self.pred_power[network]),\n",
    "            reverse=True\n",
    "        )\n",
    "    \n",
    "    self.neuron_notated_sort[network] = [\n",
    "        (\n",
    "            neuron,\n",
    "            {\n",
    "                other: float(self.pred_power[network][other][neuron])\n",
    "                for other in self.pred_power[network]\n",
    "            }\n",
    "        )\n",
    "        for neuron in self.neuron_sort[network]\n",
    "    ]"
   ]
  },
  {
   "cell_type": "markdown",
   "metadata": {},
   "source": [
    "# Create final function"
   ]
  },
  {
   "cell_type": "code",
   "execution_count": 82,
   "metadata": {},
   "outputs": [
    {
     "name": "stderr",
     "output_type": "stream",
     "text": [
      "mu, sigma: 100%|██████████████████████████████████████████████████████████████████████████████████████████████████████████████| 3/3 [00:00<00:00, 258.52it/s]\n",
      "correlate: 100%|█████████████████████████████████████████████████████████████████████████████████████████████████████████████| 9/9 [00:00<00:00, 1097.00it/s]\n",
      "annotation: 100%|█████████████████████████████████████████████████████████████████████████████████████████████████████████████| 3/3 [00:00<00:00, 663.45it/s]\n"
     ]
    }
   ],
   "source": [
    "%lprun -f compute_correlations compute_correlations(self)"
   ]
  },
  {
   "cell_type": "code",
   "execution_count": 81,
   "metadata": {},
   "outputs": [],
   "source": [
    "def compute_correlations(self):\n",
    "    \"\"\"\n",
    "    Set `self.neuron_sort`. \n",
    "    \"\"\"\n",
    "\n",
    "    # Set `means_d`, `stdevs_d`\n",
    "    # Set `self.nrepresentations_d` to be normalized. \n",
    "    means_d = {}\n",
    "    stdevs_d = {}\n",
    "    self.nrepresentations_d = {}\n",
    "    self.lsingularv_d = {}\n",
    "\n",
    "    for network in tqdm(self.representations_d, desc='mu, sigma'):\n",
    "        t = self.representations_d[network].to(self.device)\n",
    "        means = t.mean(0, keepdim=True)\n",
    "        stdevs = (t - means).pow(2).mean(0, keepdim=True).pow(0.5)\n",
    "\n",
    "        means_d[network] = means.cpu()\n",
    "        stdevs_d[network] = stdevs.cpu()\n",
    "        self.nrepresentations_d[network] = ((t - means) / stdevs).cpu()\n",
    "        self.lsingularv_d[network], _, _ = torch.svd(self.nrepresentations_d[network])\n",
    "\n",
    "    del self.representations_d\n",
    "    \n",
    "    # Set `self.pred_power`\n",
    "    # If the data is centered, it is the r value.\n",
    "    # Set `self.similarities`\n",
    "    self.pred_power = {network: {} for network in self.nrepresentations_d}\n",
    "    self.similarities = {network: {} for network in self.nrepresentations_d}        \n",
    "    for network, other_network in tqdm(p(self.nrepresentations_d,\n",
    "                                         self.nrepresentations_d),\n",
    "                                       desc='correlate',\n",
    "                                       total=len(self.nrepresentations_d)**2):\n",
    "\n",
    "        if network == other_network:\n",
    "            continue\n",
    "\n",
    "        U = self.lsingularv_d[other_network].to(self.device)\n",
    "        Y = self.nrepresentations_d[network].to(self.device)\n",
    "\n",
    "        # SVD method of linreg\n",
    "        UtY = torch.mm(U.t(), Y) # b for Ub = Y\n",
    "\n",
    "        bnorms = torch.norm(UtY, dim=0)\n",
    "        ynorms = torch.norm(Y, dim=0)\n",
    "\n",
    "        self.pred_power[network][other_network] = (bnorms / ynorms).cpu().numpy()\n",
    "        self.similarities[network][other_network] = self.pred_power[network][other_network].mean()\n",
    "    \n",
    "\n",
    "    # Set `self.neuron_sort` : {network: sorted_list}\n",
    "    # Set `self.neuron_notated_sort` : {network: [(neuron, {other_network: pred_power})]}\n",
    "    self.neuron_sort = {}\n",
    "    self.neuron_notated_sort = {}\n",
    "    # Sort neurons by correlation with another network\n",
    "    for network in tqdm(self.nrepresentations_d, desc='annotation'):\n",
    "        self.neuron_sort[network] = sorted(\n",
    "                range(self.num_neurons_d[network]),\n",
    "                key = lambda i: self.op(\n",
    "                    self.pred_power[network][other][i] \n",
    "                    for other in self.pred_power[network]),\n",
    "                reverse=True\n",
    "            )\n",
    "\n",
    "        self.neuron_notated_sort[network] = [\n",
    "            (\n",
    "                neuron,\n",
    "                {\n",
    "                    other: float(self.pred_power[network][other][neuron])\n",
    "                    for other in self.pred_power[network]\n",
    "                }\n",
    "            )\n",
    "            for neuron in self.neuron_sort[network]\n",
    "        ]"
   ]
  },
  {
   "cell_type": "code",
   "execution_count": 55,
   "metadata": {},
   "outputs": [
    {
     "name": "stderr",
     "output_type": "stream",
     "text": [
      "mu, sigma: 100%|██████████████████████████████████████████████████████████████████████████████████████████████████████████████| 3/3 [00:00<00:00, 270.72it/s]\n"
     ]
    },
    {
     "ename": "AttributeError",
     "evalue": "'A' object has no attribute 'representations_d'",
     "output_type": "error",
     "traceback": [
      "\u001b[0;31m---------------------------------------------------------------------------\u001b[0m",
      "\u001b[0;31mAttributeError\u001b[0m                            Traceback (most recent call last)",
      "\u001b[0;32m<ipython-input-55-3add9d04479e>\u001b[0m in \u001b[0;36m<module>\u001b[0;34m\u001b[0m\n\u001b[0;32m----> 1\u001b[0;31m \u001b[0mcompute_correlations\u001b[0m\u001b[0;34m(\u001b[0m\u001b[0mself\u001b[0m\u001b[0;34m)\u001b[0m\u001b[0;34m\u001b[0m\u001b[0;34m\u001b[0m\u001b[0m\n\u001b[0m",
      "\u001b[0;32m<ipython-input-47-9a8e3cf87299>\u001b[0m in \u001b[0;36mcompute_correlations\u001b[0;34m(self)\u001b[0m\n\u001b[1;32m     26\u001b[0m     \u001b[0;31m# If the data is centered, it is the r value.\u001b[0m\u001b[0;34m\u001b[0m\u001b[0;34m\u001b[0m\u001b[0;34m\u001b[0m\u001b[0m\n\u001b[1;32m     27\u001b[0m     \u001b[0;31m# Set `self.similarities`\u001b[0m\u001b[0;34m\u001b[0m\u001b[0;34m\u001b[0m\u001b[0;34m\u001b[0m\u001b[0m\n\u001b[0;32m---> 28\u001b[0;31m     \u001b[0mself\u001b[0m\u001b[0;34m.\u001b[0m\u001b[0mpred_power\u001b[0m \u001b[0;34m=\u001b[0m \u001b[0;34m{\u001b[0m\u001b[0mnetwork\u001b[0m\u001b[0;34m:\u001b[0m \u001b[0;34m{\u001b[0m\u001b[0;34m}\u001b[0m \u001b[0;32mfor\u001b[0m \u001b[0mnetwork\u001b[0m \u001b[0;32min\u001b[0m \u001b[0mself\u001b[0m\u001b[0;34m.\u001b[0m\u001b[0mrepresentations_d\u001b[0m\u001b[0;34m}\u001b[0m\u001b[0;34m\u001b[0m\u001b[0;34m\u001b[0m\u001b[0m\n\u001b[0m\u001b[1;32m     29\u001b[0m     \u001b[0mself\u001b[0m\u001b[0;34m.\u001b[0m\u001b[0msimilarities\u001b[0m \u001b[0;34m=\u001b[0m \u001b[0;34m{\u001b[0m\u001b[0mnetwork\u001b[0m\u001b[0;34m:\u001b[0m \u001b[0;34m{\u001b[0m\u001b[0;34m}\u001b[0m \u001b[0;32mfor\u001b[0m \u001b[0mnetwork\u001b[0m \u001b[0;32min\u001b[0m \u001b[0mself\u001b[0m\u001b[0;34m.\u001b[0m\u001b[0mrepresentations_d\u001b[0m\u001b[0;34m}\u001b[0m\u001b[0;34m\u001b[0m\u001b[0;34m\u001b[0m\u001b[0m\n\u001b[1;32m     30\u001b[0m     for network, other_network in tqdm(p(self.representations_d,\n",
      "\u001b[0;31mAttributeError\u001b[0m: 'A' object has no attribute 'representations_d'"
     ]
    }
   ],
   "source": [
    "compute_correlations(self)"
   ]
  }
 ],
 "metadata": {
  "kernelspec": {
   "display_name": "Python [conda env:jmw0]",
   "language": "python",
   "name": "conda-env-jmw0-py"
  },
  "language_info": {
   "codemirror_mode": {
    "name": "ipython",
    "version": 3
   },
   "file_extension": ".py",
   "mimetype": "text/x-python",
   "name": "python",
   "nbconvert_exporter": "python",
   "pygments_lexer": "ipython3",
   "version": "3.6.8"
  }
 },
 "nbformat": 4,
 "nbformat_minor": 2
}
