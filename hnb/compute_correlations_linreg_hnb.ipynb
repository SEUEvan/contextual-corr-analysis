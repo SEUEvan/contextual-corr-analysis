{
 "cells": [
  {
   "cell_type": "code",
   "execution_count": 1,
   "metadata": {},
   "outputs": [],
   "source": [
    "import torch\n",
    "import json\n",
    "from tqdm import tqdm\n",
    "from itertools import product as p\n",
    "import numpy as np"
   ]
  },
  {
   "cell_type": "markdown",
   "metadata": {},
   "source": [
    "# Load fake activations"
   ]
  },
  {
   "cell_type": "code",
   "execution_count": 12,
   "metadata": {},
   "outputs": [],
   "source": [
    "class A:\n",
    "    pass\n",
    "self = A()"
   ]
  },
  {
   "cell_type": "code",
   "execution_count": 13,
   "metadata": {},
   "outputs": [],
   "source": [
    "self.num_neurons_d = {} # {fname, int}\n",
    "self.representations_d = {} # {fname, tensor}\n",
    "f1, f2, f3 = \"foo\", \"bar\", \"baz\"\n",
    "representation_files = [f1, f2, f3]"
   ]
  },
  {
   "cell_type": "code",
   "execution_count": 14,
   "metadata": {},
   "outputs": [],
   "source": [
    "# initialize `num_neurons_d`, `representations_d` with fake data\n",
    "n1, n2, n3 = 100, 80, 70\n",
    "nword = 1000\n",
    "t1 = torch.randn(nword, n1)\n",
    "t2 = torch.randn(nword, n2)\n",
    "t3 = torch.randn(nword, n3)\n",
    "self.num_neurons_d[f1] = n1\n",
    "self.num_neurons_d[f2] = n2\n",
    "self.num_neurons_d[f3] = n3\n",
    "self.representations_d[f1] = t1\n",
    "self.representations_d[f2] = t2\n",
    "self.representations_d[f3] = t3"
   ]
  },
  {
   "cell_type": "code",
   "execution_count": 15,
   "metadata": {},
   "outputs": [],
   "source": [
    "self.device = torch.device('cpu')\n",
    "self.op = min"
   ]
  },
  {
   "cell_type": "markdown",
   "metadata": {},
   "source": [
    "# Build Function"
   ]
  },
  {
   "cell_type": "markdown",
   "metadata": {},
   "source": [
    "### Normalize"
   ]
  },
  {
   "cell_type": "code",
   "execution_count": 6,
   "metadata": {},
   "outputs": [
    {
     "name": "stderr",
     "output_type": "stream",
     "text": [
      "mu, sigma: 100%|██████████████████████████████| 3/3 [00:00<00:00, 626.30it/s]\n"
     ]
    }
   ],
   "source": [
    "# Set `means_d`, `stdevs_d`\n",
    "# Set `self.nrepresentations_d` to be normalized. \n",
    "means_d = {}\n",
    "stdevs_d = {}\n",
    "self.nrepresentations_d = {}\n",
    "\n",
    "for network in tqdm(self.representations_d, desc='mu, sigma'):\n",
    "    t = self.representations_d[network]\n",
    "    means = t.mean(0, keepdim=True)\n",
    "    stdevs = (t - means).pow(2).mean(0, keepdim=True).pow(0.5)\n",
    "\n",
    "    means_d[network] = means\n",
    "    stdevs_d[network] = stdevs\n",
    "    self.nrepresentations_d[network] = (t - means) / stdevs"
   ]
  },
  {
   "cell_type": "markdown",
   "metadata": {},
   "source": [
    "### Set `self.pred_power` loop"
   ]
  },
  {
   "cell_type": "code",
   "execution_count": 7,
   "metadata": {},
   "outputs": [
    {
     "name": "stderr",
     "output_type": "stream",
     "text": [
      "correlate: 100%|██████████████████████████████| 9/9 [00:00<00:00, 334.77it/s]\n"
     ]
    }
   ],
   "source": [
    "# full\n",
    "self.pred_power = {network: {} for network in self.representations_d}\n",
    "for network, other_network in tqdm(p(self.representations_d,\n",
    "                                     self.representations_d),\n",
    "                                   desc='correlate',\n",
    "                                   total=len(self.representations_d)**2):\n",
    "\n",
    "    if network == other_network:\n",
    "        continue\n",
    "\n",
    "    X = self.nrepresentations_d[other_network].to(self.device)\n",
    "    Y = self.nrepresentations_d[network].to(self.device)\n",
    "\n",
    "    # SVD method of linreg\n",
    "    U, S, V = torch.svd(X) \n",
    "    UtY = torch.mm(U.t(), Y) # b for Ub = Y\n",
    "\n",
    "    bnorms = torch.norm(UtY, dim=0)\n",
    "    ynorms = torch.norm(Y, dim=0)\n",
    "\n",
    "    self.pred_power[network][other_network] = (bnorms / ynorms).cpu()"
   ]
  },
  {
   "cell_type": "markdown",
   "metadata": {},
   "source": [
    "### Set `self.neuron_sort`, `self.neuron_notated_sort`"
   ]
  },
  {
   "cell_type": "code",
   "execution_count": 8,
   "metadata": {},
   "outputs": [
    {
     "name": "stderr",
     "output_type": "stream",
     "text": [
      "annotation: 100%|█████████████████████████████| 3/3 [00:00<00:00, 181.07it/s]\n"
     ]
    }
   ],
   "source": [
    "# Set `self.neuron_sort` : {network: sorted_list}\n",
    "# Set `self.neuron_notated_sort` : {network: [(neuron, {other_network: pred_power})]}\n",
    "self.neuron_sort = {}\n",
    "self.neuron_notated_sort = {}\n",
    "# Sort neurons by correlation with another network\n",
    "for network in tqdm(self.nrepresentations_d, desc='annotation'):\n",
    "    self.neuron_sort[network] = sorted(\n",
    "            range(self.num_neurons_d[network]),\n",
    "            key = lambda i: self.op(\n",
    "                self.pred_power[network][other][i] \n",
    "                for other in self.pred_power[network]),\n",
    "            reverse=True\n",
    "        )\n",
    "    \n",
    "    self.neuron_notated_sort[network] = [\n",
    "        (\n",
    "            neuron,\n",
    "            {\n",
    "                other: float(self.pred_power[network][other][neuron])\n",
    "                for other in self.pred_power[network]\n",
    "            }\n",
    "        )\n",
    "        for neuron in self.neuron_sort[network]\n",
    "    ]"
   ]
  },
  {
   "cell_type": "code",
   "execution_count": 9,
   "metadata": {},
   "outputs": [
    {
     "data": {
      "text/plain": [
       "tensor([0.2938, 0.2898, 0.2892, 0.2847, 0.2843, 0.2836, 0.2827, 0.2808, 0.2797,\n",
       "        0.2796, 0.2787, 0.2784, 0.2766, 0.2765, 0.2749, 0.2746, 0.2721, 0.2717,\n",
       "        0.2716, 0.2713, 0.2703, 0.2701, 0.2691, 0.2689, 0.2684, 0.2684, 0.2682,\n",
       "        0.2679, 0.2672, 0.2668, 0.2668, 0.2660, 0.2658, 0.2655, 0.2643, 0.2633,\n",
       "        0.2632, 0.2629, 0.2622, 0.2615, 0.2612, 0.2611, 0.2611, 0.2609, 0.2602,\n",
       "        0.2597, 0.2593, 0.2589, 0.2579, 0.2571, 0.2571, 0.2563, 0.2558, 0.2558,\n",
       "        0.2556, 0.2549, 0.2548, 0.2541, 0.2533, 0.2532, 0.2532, 0.2527, 0.2525,\n",
       "        0.2524, 0.2521, 0.2521, 0.2519, 0.2513, 0.2510, 0.2500, 0.2499, 0.2499,\n",
       "        0.2492, 0.2488, 0.2488, 0.2482, 0.2475, 0.2461, 0.2459, 0.2457, 0.2447,\n",
       "        0.2442, 0.2438, 0.2432, 0.2426, 0.2396, 0.2390, 0.2383, 0.2376, 0.2355,\n",
       "        0.2343, 0.2342, 0.2340, 0.2322, 0.2261, 0.2236, 0.2196, 0.2178, 0.2140,\n",
       "        0.2080])"
      ]
     },
     "execution_count": 9,
     "metadata": {},
     "output_type": "execute_result"
    }
   ],
   "source": [
    "# Nice, seems to be correct\n",
    "np.minimum(self.pred_power[f1][f2][self.neuron_sort[f1]],\n",
    "           self.pred_power[f1][f3][self.neuron_sort[f1]])"
   ]
  },
  {
   "cell_type": "markdown",
   "metadata": {},
   "source": [
    "# Create final function"
   ]
  },
  {
   "cell_type": "code",
   "execution_count": 16,
   "metadata": {},
   "outputs": [],
   "source": [
    "def compute_correlations(self):\n",
    "    \"\"\"\n",
    "    Set `self.neuron_sort`. \n",
    "    \"\"\"\n",
    "    # Set `means_d`, `stdevs_d`\n",
    "    # Set `self.nrepresentations_d` to be normalized. \n",
    "    means_d = {}\n",
    "    stdevs_d = {}\n",
    "    self.nrepresentations_d = {}\n",
    "\n",
    "    for network in tqdm(self.representations_d, desc='mu, sigma'):\n",
    "        t = self.representations_d[network]\n",
    "        means = t.mean(0, keepdim=True)\n",
    "        stdevs = (t - means).pow(2).mean(0, keepdim=True).pow(0.5)\n",
    "\n",
    "        means_d[network] = means\n",
    "        stdevs_d[network] = stdevs\n",
    "        self.nrepresentations_d[network] = (t - means) / stdevs\n",
    "\n",
    "    # Set `self.pred_power`\n",
    "    # If the data is centered, it is the r value. \n",
    "    self.pred_power = {network: {} for network in self.representations_d}\n",
    "    for network, other_network in tqdm(p(self.representations_d,\n",
    "                                         self.representations_d),\n",
    "                                       desc='correlate',\n",
    "                                       total=len(self.representations_d)**2):\n",
    "\n",
    "        if network == other_network:\n",
    "            continue\n",
    "\n",
    "        X = self.nrepresentations_d[other_network].to(self.device)\n",
    "        Y = self.nrepresentations_d[network].to(self.device)\n",
    "\n",
    "        # SVD method of linreg\n",
    "        U, S, V = torch.svd(X) \n",
    "        UtY = torch.mm(U.t(), Y) # b for Ub = Y\n",
    "\n",
    "        bnorms = torch.norm(UtY, dim=0)\n",
    "        ynorms = torch.norm(Y, dim=0)\n",
    "\n",
    "        self.pred_power[network][other_network] = (bnorms / ynorms).cpu()\n",
    "\n",
    "    # Set `self.neuron_sort` : {network: sorted_list}\n",
    "    # Set `self.neuron_notated_sort` : {network: [(neuron, {other_network: pred_power})]}\n",
    "    self.neuron_sort = {}\n",
    "    self.neuron_notated_sort = {}\n",
    "    # Sort neurons by correlation with another network\n",
    "    for network in tqdm(self.nrepresentations_d, desc='annotation'):\n",
    "        self.neuron_sort[network] = sorted(\n",
    "                range(self.num_neurons_d[network]),\n",
    "                key = lambda i: self.op(\n",
    "                    self.pred_power[network][other][i] \n",
    "                    for other in self.pred_power[network]),\n",
    "                reverse=True\n",
    "            )\n",
    "\n",
    "        self.neuron_notated_sort[network] = [\n",
    "            (\n",
    "                neuron,\n",
    "                {\n",
    "                    other: float(self.pred_power[network][other][neuron])\n",
    "                    for other in self.pred_power[network]\n",
    "                }\n",
    "            )\n",
    "            for neuron in self.neuron_sort[network]\n",
    "        ]"
   ]
  },
  {
   "cell_type": "code",
   "execution_count": 17,
   "metadata": {},
   "outputs": [
    {
     "name": "stderr",
     "output_type": "stream",
     "text": [
      "mu, sigma: 100%|█████████████████████████████| 3/3 [00:00<00:00, 1863.86it/s]\n",
      "correlate: 100%|██████████████████████████████| 9/9 [00:00<00:00, 350.53it/s]\n",
      "annotation: 100%|█████████████████████████████| 3/3 [00:00<00:00, 147.39it/s]\n"
     ]
    }
   ],
   "source": [
    "compute_correlations(self)"
   ]
  }
 ],
 "metadata": {
  "kernelspec": {
   "display_name": "Python [conda env:jmw0]",
   "language": "python",
   "name": "conda-env-jmw0-py"
  },
  "language_info": {
   "codemirror_mode": {
    "name": "ipython",
    "version": 3
   },
   "file_extension": ".py",
   "mimetype": "text/x-python",
   "name": "python",
   "nbconvert_exporter": "python",
   "pygments_lexer": "ipython3",
   "version": "3.6.8"
  }
 },
 "nbformat": 4,
 "nbformat_minor": 2
}
