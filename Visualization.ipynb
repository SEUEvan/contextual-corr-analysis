{
 "cells": [
  {
   "cell_type": "code",
   "execution_count": 1,
   "metadata": {},
   "outputs": [],
   "source": [
    "import json\n",
    "import h5py\n",
    "import torch\n",
    "import numpy as np\n",
    "from IPython.display import HTML\n",
    "import matplotlib.pyplot as plt"
   ]
  },
  {
   "cell_type": "code",
   "execution_count": 2,
   "metadata": {},
   "outputs": [
    {
     "data": {
      "text/plain": [
       "{'/data/sls/temp/belinkov/contextual-corr-analysis/contextualizers/bert_large_cased/ptb_pos_dev.hdf5': 1024,\n",
       " '/data/sls/temp/belinkov/contextual-corr-analysis/contextualizers/openai_transformer/ptb_pos_dev.hdf5': 768,\n",
       " '/data/sls/temp/belinkov/contextual-corr-analysis/contextualizers/bert_base_cased/ptb_pos_dev.hdf5': 768,\n",
       " '/data/sls/temp/belinkov/contextual-corr-analysis/contextualizers/elmo_original/ptb_pos_dev.hdf5': 1024,\n",
       " '/data/sls/temp/belinkov/contextual-corr-analysis/contextualizers/calypso_transformer_6_512_base/ptb_pos_dev.hdf5': 1024,\n",
       " '/data/sls/temp/belinkov/contextual-corr-analysis/contextualizers/elmo_4x4096_512/ptb_pos_dev.hdf5': 1024}"
      ]
     },
     "execution_count": 2,
     "metadata": {},
     "output_type": "execute_result"
    }
   ],
   "source": [
    "# Set `res_d`, `network_l`, `num_neurons_d`\n",
    "base = \"/data/sls/temp/johnmwu/contextual-corr-analysis/results1_\"\n",
    "res_fname = {method : base + method for method in \n",
    "                {\"maxcorr\", \"mincorr\", \"linreg\", \"svcca\", \"cka\"}}\n",
    "\n",
    "res_d = {}\n",
    "res_d[\"maxcorr\"] = json.load(open(res_fname[\"maxcorr\"], \"r\"))\n",
    "res_d[\"mincorr\"] = json.load(open(res_fname[\"mincorr\"], \"r\"))\n",
    "res_d[\"linreg\"] = json.load(open(res_fname[\"linreg\"], \"r\"))\n",
    "\n",
    "network_l = [network for network in res_d[\"maxcorr\"]]\n",
    "\n",
    "num_neurons_d = {}\n",
    "for network in network_l:\n",
    "    num_neurons_d[network] = len(res_d[\"maxcorr\"][network])\n",
    "\n",
    "num_neurons_d"
   ]
  },
  {
   "cell_type": "code",
   "execution_count": 3,
   "metadata": {},
   "outputs": [],
   "source": [
    "# set `h5_d` : {network: h5} and `sentence_d`\n",
    "h5_d = {}\n",
    "for network in network_l:\n",
    "    h5_d[network] = h5py.File(network, 'r')\n",
    "\n",
    "sentence_d = json.loads(h5_d[network_l[0]]['sentence_to_index'][0]) # \"sentence dict\": {sentence, str ix}\n",
    "temp = {}\n",
    "for k, v in sentence_d.items():\n",
    "    temp[v] = k\n",
    "sentence_d = temp # now {str ix, sentence}"
   ]
  },
  {
   "cell_type": "code",
   "execution_count": 4,
   "metadata": {},
   "outputs": [],
   "source": [
    "# set `means_d`, `stdevs_d`\n",
    "base = \"/data/sls/temp/johnmwu/contextual-corr-analysis/results3\"\n",
    "means_d = torch.load(base + \"_means\")\n",
    "stdevs_d = torch.load(base + \"_stdevs\")"
   ]
  },
  {
   "cell_type": "code",
   "execution_count": 5,
   "metadata": {},
   "outputs": [],
   "source": [
    "# set `max_d`, `min_d`\n",
    "base = \"/data/sls/temp/johnmwu/contextual-corr-analysis/results4\"\n",
    "max_d = torch.load(base + \"_max\")\n",
    "min_d = torch.load(base + \"_min\")"
   ]
  },
  {
   "cell_type": "code",
   "execution_count": 6,
   "metadata": {},
   "outputs": [],
   "source": [
    "# set `neuron_sorts`\n",
    "rk_methods = {\"maxcorr\", \"mincorr\", \"linreg\"}\n",
    "neuron_sorts = {network: {} for network in network_l}\n",
    "for network in network_l:\n",
    "    for method in rk_methods:\n",
    "        neuron_sorts[network][method] = [neuron[0] for neuron in res_d[method][network]]"
   ]
  },
  {
   "cell_type": "markdown",
   "metadata": {},
   "source": [
    "# Visualizations"
   ]
  },
  {
   "cell_type": "code",
   "execution_count": 7,
   "metadata": {},
   "outputs": [],
   "source": [
    "s_ix = '1' # \"sentence index\"\n",
    "method = \"maxcorr\"\n",
    "layer = -1\n",
    "cmap = plt.get_cmap('bwr')"
   ]
  },
  {
   "cell_type": "code",
   "execution_count": 8,
   "metadata": {},
   "outputs": [],
   "source": [
    "def maxmin_normalize(a, maximum, minimum):\n",
    "    maxabs = max([abs(maximum), abs(minimum)])\n",
    "    return .5 + a/maxabs"
   ]
  },
  {
   "cell_type": "code",
   "execution_count": 9,
   "metadata": {},
   "outputs": [],
   "source": [
    "def meanstd_normalize(a, mean, stdev):\n",
    "    return torch.sigmoid((a-mean) / stdev)"
   ]
  },
  {
   "cell_type": "code",
   "execution_count": 10,
   "metadata": {},
   "outputs": [
    {
     "name": "stdout",
     "output_type": "stream",
     "text": [
      "/data/sls/temp/belinkov/contextual-corr-analysis/contextualizers/bert_large_cased/ptb_pos_dev.hdf5\n",
      "max: 3.135377883911133\n",
      "min: -4.647909164428711\n",
      "mean: 0.5726714134216309\n",
      "stdev: 1.0426321029663086\n",
      "tensor([-1.4042, -0.5098, -0.1468, -0.1872,  1.1011,  0.1693, -0.0055,  0.5523,\n",
      "         0.3086,  0.0995, -0.2505, -0.0295, -0.0315,  0.7511,  0.5612,  1.0882,\n",
      "         0.3285,  1.3335,  1.6679,  1.1726,  0.3050,  1.0779,  0.7184,  0.7909,\n",
      "        -0.0557, -0.0933,  0.4803,  0.3096,  0.0221,  0.6734, -0.3425,  0.1244,\n",
      "         0.1797])\n"
     ]
    },
    {
     "data": {
      "text/html": [
       "<code><span style=\"background-color:#6464ff\">'' </span><span style=\"background-color:#c6c6ff\">Mr. </span><span style=\"background-color:#eeeeff\">Allen </span><span style=\"background-color:#eaeaff\">objected </span><span style=\"background-color:#ff8686\">to </span><span style=\"background-color:#ffecec\">this </span><span style=\"background-color:#fefeff\">analogy </span><span style=\"background-color:#ffc2c2\">because </span><span style=\"background-color:#ffdede\">it </span><span style=\"background-color:#fff4f4\">seems </span><span style=\"background-color:#e4e4ff\">to </span><span style=\"background-color:#fcfcff\">`` </span><span style=\"background-color:#fcfcff\">assimilate </span><span style=\"background-color:#ffacac\">the </span><span style=\"background-color:#ffc2c2\">status </span><span style=\"background-color:#ff8888\">of </span><span style=\"background-color:#ffdada\">blacks </span><span style=\"background-color:#ff6c6c\">to </span><span style=\"background-color:#ff4848\">that </span><span style=\"background-color:#ff7e7e\">of </span><span style=\"background-color:#ffdede\">animals </span><span style=\"background-color:#ff8888\">-- </span><span style=\"background-color:#ffb0b0\">as </span><span style=\"background-color:#ffa8a8\">a </span><span style=\"background-color:#f8f8ff\">mere </span><span style=\"background-color:#f4f4ff\">project </span><span style=\"background-color:#ffcaca\">of </span><span style=\"background-color:#ffdcdc\">charity </span><span style=\"background-color:#fffcfc\">, </span><span style=\"background-color:#ffb4b4\">of </span><span style=\"background-color:#dadaff\">humaneness </span><span style=\"background-color:#fff2f2\">. </span><span style=\"background-color:#ffecec\">'' </span></code>"
      ],
      "text/plain": [
       "<IPython.core.display.HTML object>"
      ]
     },
     "metadata": {},
     "output_type": "display_data"
    },
    {
     "name": "stdout",
     "output_type": "stream",
     "text": [
      "/data/sls/temp/belinkov/contextual-corr-analysis/contextualizers/openai_transformer/ptb_pos_dev.hdf5\n",
      "max: 3.9729957580566406\n",
      "min: -0.4267078936100006\n",
      "mean: 0.4902166426181793\n",
      "stdev: 0.7990235686302185\n",
      "tensor([-1.0765e-01,  1.4278e-01, -3.1138e-02,  1.7465e-01, -1.3418e-01,\n",
      "         1.8859e+00,  2.1342e-01, -1.3952e-02,  1.4539e-03,  3.4046e-02,\n",
      "        -6.4832e-02, -1.6720e-01, -5.1657e-02,  2.2402e+00,  6.3026e-01,\n",
      "        -3.3176e-02,  4.4374e-01, -2.2654e-01,  4.3256e-01, -1.0527e-01,\n",
      "         2.3432e-01, -3.6382e-02, -1.3845e-03,  2.4210e+00,  2.1320e+00,\n",
      "         6.7386e-01, -3.6812e-02,  3.5371e-01,  8.1182e-02,  4.6379e-02,\n",
      "         3.8274e-01,  3.0906e-02, -4.1157e-02])\n"
     ]
    },
    {
     "data": {
      "text/html": [
       "<code><span style=\"background-color:#f2f2ff\">'' </span><span style=\"background-color:#ffecec\">Mr. </span><span style=\"background-color:#fafaff\">Allen </span><span style=\"background-color:#ffe8e8\">objected </span><span style=\"background-color:#eeeeff\">to </span><span style=\"background-color:#ff0c0c\">this </span><span style=\"background-color:#ffe4e4\">analogy </span><span style=\"background-color:#fefeff\">because </span><span style=\"background-color:#fffefe\">it </span><span style=\"background-color:#fffafa\">seems </span><span style=\"background-color:#f6f6ff\">to </span><span style=\"background-color:#eaeaff\">`` </span><span style=\"background-color:#f8f8ff\">assimilate </span><span style=\"background-color:#ff0000\">the </span><span style=\"background-color:#ffaeae\">status </span><span style=\"background-color:#fafaff\">of </span><span style=\"background-color:#ffc6c6\">blacks </span><span style=\"background-color:#e2e2ff\">to </span><span style=\"background-color:#ffc8c8\">that </span><span style=\"background-color:#f2f2ff\">of </span><span style=\"background-color:#ffe0e0\">animals </span><span style=\"background-color:#fafaff\">-- </span><span style=\"background-color:#fefeff\">as </span><span style=\"background-color:#ff0000\">a </span><span style=\"background-color:#ff0000\">mere </span><span style=\"background-color:#ffa8a8\">project </span><span style=\"background-color:#fafaff\">of </span><span style=\"background-color:#ffd2d2\">charity </span><span style=\"background-color:#fff4f4\">, </span><span style=\"background-color:#fffafa\">of </span><span style=\"background-color:#ffcece\">humaneness </span><span style=\"background-color:#fffcfc\">. </span><span style=\"background-color:#fafaff\">'' </span></code>"
      ],
      "text/plain": [
       "<IPython.core.display.HTML object>"
      ]
     },
     "metadata": {},
     "output_type": "display_data"
    },
    {
     "name": "stdout",
     "output_type": "stream",
     "text": [
      "/data/sls/temp/belinkov/contextual-corr-analysis/contextualizers/bert_base_cased/ptb_pos_dev.hdf5\n",
      "max: 7.607119083404541\n",
      "min: -3.04351806640625\n",
      "mean: -0.24966010451316833\n",
      "stdev: 1.2996163368225098\n",
      "tensor([ 4.9270, -0.8953, -0.1468, -0.5739, -1.2971, -0.5889, -0.1586, -0.5013,\n",
      "        -0.4290,  0.2172, -0.4472,  0.4304,  0.0717, -1.2266, -0.4480, -0.9977,\n",
      "        -0.3315, -0.1866, -0.6964, -0.9469, -0.3221, -0.3163, -0.4984, -0.6532,\n",
      "        -0.0902, -0.2661, -0.6157, -0.2840, -0.2526, -0.2441, -0.6593, -1.1276,\n",
      "         0.3877])\n"
     ]
    },
    {
     "data": {
      "text/html": [
       "<code><span style=\"background-color:#ff0000\">'' </span><span style=\"background-color:#c2c2ff\">Mr. </span><span style=\"background-color:#f6f6ff\">Allen </span><span style=\"background-color:#d8d8ff\">objected </span><span style=\"background-color:#a8a8ff\">to </span><span style=\"background-color:#d8d8ff\">this </span><span style=\"background-color:#f4f4ff\">analogy </span><span style=\"background-color:#dedeff\">because </span><span style=\"background-color:#e2e2ff\">it </span><span style=\"background-color:#fff0f0\">seems </span><span style=\"background-color:#e0e0ff\">to </span><span style=\"background-color:#ffe2e2\">`` </span><span style=\"background-color:#fffafa\">assimilate </span><span style=\"background-color:#acacff\">the </span><span style=\"background-color:#e0e0ff\">status </span><span style=\"background-color:#bcbcff\">of </span><span style=\"background-color:#e8e8ff\">blacks </span><span style=\"background-color:#f2f2ff\">to </span><span style=\"background-color:#d0d0ff\">that </span><span style=\"background-color:#c0c0ff\">of </span><span style=\"background-color:#eaeaff\">animals </span><span style=\"background-color:#eaeaff\">-- </span><span style=\"background-color:#dedeff\">as </span><span style=\"background-color:#d4d4ff\">a </span><span style=\"background-color:#f8f8ff\">mere </span><span style=\"background-color:#eeeeff\">project </span><span style=\"background-color:#d6d6ff\">of </span><span style=\"background-color:#ececff\">charity </span><span style=\"background-color:#eeeeff\">, </span><span style=\"background-color:#eeeeff\">of </span><span style=\"background-color:#d2d2ff\">humaneness </span><span style=\"background-color:#b4b4ff\">. </span><span style=\"background-color:#ffe4e4\">'' </span></code>"
      ],
      "text/plain": [
       "<IPython.core.display.HTML object>"
      ]
     },
     "metadata": {},
     "output_type": "display_data"
    },
    {
     "name": "stdout",
     "output_type": "stream",
     "text": [
      "/data/sls/temp/belinkov/contextual-corr-analysis/contextualizers/elmo_original/ptb_pos_dev.hdf5\n",
      "max: 3.630618095397949\n",
      "min: -4.109951019287109\n",
      "mean: -0.23794442415237427\n",
      "stdev: 0.9812765717506409\n",
      "tensor([ 0.4502,  0.3978,  0.1403,  0.3410,  1.2754,  0.5208,  0.4365,  0.6750,\n",
      "         0.2211, -0.1844,  0.3273,  0.2152, -0.0466,  0.3227,  0.7932, -1.2330,\n",
      "        -0.2011,  0.5447,  1.2765, -1.0986,  0.6760, -1.7071,  0.1458,  0.2769,\n",
      "         0.3679,  0.0204, -0.1536,  0.1463, -2.2149, -0.8445,  0.0757, -2.4515,\n",
      "        -0.7987])\n"
     ]
    },
    {
     "data": {
      "text/html": [
       "<code><span style=\"background-color:#ffc6c6\">'' </span><span style=\"background-color:#ffcece\">Mr. </span><span style=\"background-color:#ffeeee\">Allen </span><span style=\"background-color:#ffd4d4\">objected </span><span style=\"background-color:#ff6060\">to </span><span style=\"background-color:#ffbebe\">this </span><span style=\"background-color:#ffc8c8\">analogy </span><span style=\"background-color:#ffaaaa\">because </span><span style=\"background-color:#ffe4e4\">it </span><span style=\"background-color:#e8e8ff\">seems </span><span style=\"background-color:#ffd6d6\">to </span><span style=\"background-color:#ffe4e4\">`` </span><span style=\"background-color:#fafaff\">assimilate </span><span style=\"background-color:#ffd6d6\">the </span><span style=\"background-color:#ff9c9c\">status </span><span style=\"background-color:#6666ff\">of </span><span style=\"background-color:#e6e6ff\">blacks </span><span style=\"background-color:#ffbcbc\">to </span><span style=\"background-color:#ff6060\">that </span><span style=\"background-color:#7676ff\">of </span><span style=\"background-color:#ffaaaa\">animals </span><span style=\"background-color:#2a2aff\">-- </span><span style=\"background-color:#ffecec\">as </span><span style=\"background-color:#ffdcdc\">a </span><span style=\"background-color:#ffd2d2\">mere </span><span style=\"background-color:#fffcfc\">project </span><span style=\"background-color:#ececff\">of </span><span style=\"background-color:#ffecec\">charity </span><span style=\"background-color:#0000ff\">, </span><span style=\"background-color:#9696ff\">of </span><span style=\"background-color:#fff6f6\">humaneness </span><span style=\"background-color:#0000ff\">. </span><span style=\"background-color:#9c9cff\">'' </span></code>"
      ],
      "text/plain": [
       "<IPython.core.display.HTML object>"
      ]
     },
     "metadata": {},
     "output_type": "display_data"
    },
    {
     "name": "stdout",
     "output_type": "stream",
     "text": [
      "/data/sls/temp/belinkov/contextual-corr-analysis/contextualizers/calypso_transformer_6_512_base/ptb_pos_dev.hdf5\n",
      "max: 77.60395050048828\n",
      "min: -27.376157760620117\n",
      "mean: 23.559410095214844\n",
      "stdev: 18.561195373535156\n",
      "tensor([-22.1925, -10.5349,  -6.9982,  10.2975,  44.5821,  40.8334,  12.0367,\n",
      "         24.3710,  18.3488,   5.5101,  12.9640,   7.3270,  32.6779,  47.4005,\n",
      "         39.7565,  50.1618,  53.2039,  43.8871,  37.9692,  38.5588,  33.5960,\n",
      "         16.8663,  26.5091,  35.3433,  30.6271,  31.4712,  35.4988,  21.6795,\n",
      "         15.8895,  43.6504,  31.0775,   2.6383,  -5.2636])\n"
     ]
    },
    {
     "data": {
      "text/html": [
       "<code><span style=\"background-color:#6c6cff\">'' </span><span style=\"background-color:#babaff\">Mr. </span><span style=\"background-color:#d0d0ff\">Allen </span><span style=\"background-color:#ffbcbc\">objected </span><span style=\"background-color:#ff0000\">to </span><span style=\"background-color:#ff0000\">this </span><span style=\"background-color:#ffb0b0\">analogy </span><span style=\"background-color:#ff5e5e\">because </span><span style=\"background-color:#ff8686\">it </span><span style=\"background-color:#ffdada\">seems </span><span style=\"background-color:#ffaaaa\">to </span><span style=\"background-color:#ffcece\">`` </span><span style=\"background-color:#ff2828\">assimilate </span><span style=\"background-color:#ff0000\">the </span><span style=\"background-color:#ff0000\">status </span><span style=\"background-color:#ff0000\">of </span><span style=\"background-color:#ff0000\">blacks </span><span style=\"background-color:#ff0000\">to </span><span style=\"background-color:#ff0404\">that </span><span style=\"background-color:#ff0000\">of </span><span style=\"background-color:#ff2222\">animals </span><span style=\"background-color:#ff9090\">-- </span><span style=\"background-color:#ff5050\">as </span><span style=\"background-color:#ff1616\">a </span><span style=\"background-color:#ff3434\">mere </span><span style=\"background-color:#ff3030\">project </span><span style=\"background-color:#ff1414\">of </span><span style=\"background-color:#ff7070\">charity </span><span style=\"background-color:#ff9696\">, </span><span style=\"background-color:#ff0000\">of </span><span style=\"background-color:#ff3232\">humaneness </span><span style=\"background-color:#ffeeee\">. </span><span style=\"background-color:#dcdcff\">'' </span></code>"
      ],
      "text/plain": [
       "<IPython.core.display.HTML object>"
      ]
     },
     "metadata": {},
     "output_type": "display_data"
    },
    {
     "name": "stdout",
     "output_type": "stream",
     "text": [
      "/data/sls/temp/belinkov/contextual-corr-analysis/contextualizers/elmo_4x4096_512/ptb_pos_dev.hdf5\n",
      "max: 6.005972862243652\n",
      "min: -2.561760425567627\n",
      "mean: 0.6009294986724854\n",
      "stdev: 1.4804160594940186\n",
      "tensor([ 1.1553e+00,  1.6627e-01,  3.3951e-02, -8.8753e-02, -2.4422e-01,\n",
      "         1.0320e+00,  6.3936e-02, -4.2989e-01, -3.1045e-01, -5.8518e-01,\n",
      "        -5.2266e-01, -5.2579e-01,  5.3509e-04,  4.8701e+00, -3.3647e-01,\n",
      "         2.4091e-01,  2.3596e-01, -3.3905e-01,  3.4858e-01, -1.3712e-01,\n",
      "         1.0728e-01, -3.5029e-01, -1.6389e-01,  3.2119e+00,  3.2316e+00,\n",
      "        -6.8168e-01,  5.2616e-02, -3.6585e-02, -1.8119e-01, -2.5466e-01,\n",
      "         1.5551e-01, -2.2400e-01, -3.3051e-01])\n"
     ]
    },
    {
     "data": {
      "text/html": [
       "<code><span style=\"background-color:#ff9c9c\">'' </span><span style=\"background-color:#fff0f0\">Mr. </span><span style=\"background-color:#fffcfc\">Allen </span><span style=\"background-color:#f8f8ff\">objected </span><span style=\"background-color:#eaeaff\">to </span><span style=\"background-color:#ffa8a8\">this </span><span style=\"background-color:#fffafa\">analogy </span><span style=\"background-color:#dadaff\">because </span><span style=\"background-color:#e4e4ff\">it </span><span style=\"background-color:#ceceff\">seems </span><span style=\"background-color:#d2d2ff\">to </span><span style=\"background-color:#d2d2ff\">`` </span><span style=\"background-color:#fffefe\">assimilate </span><span style=\"background-color:#ff0000\">the </span><span style=\"background-color:#e2e2ff\">status </span><span style=\"background-color:#ffeaea\">of </span><span style=\"background-color:#ffeaea\">blacks </span><span style=\"background-color:#e2e2ff\">to </span><span style=\"background-color:#ffe2e2\">that </span><span style=\"background-color:#f4f4ff\">of </span><span style=\"background-color:#fff6f6\">animals </span><span style=\"background-color:#e2e2ff\">-- </span><span style=\"background-color:#f2f2ff\">as </span><span style=\"background-color:#ff0000\">a </span><span style=\"background-color:#ff0000\">mere </span><span style=\"background-color:#c4c4ff\">project </span><span style=\"background-color:#fffafa\">of </span><span style=\"background-color:#fcfcff\">charity </span><span style=\"background-color:#f0f0ff\">, </span><span style=\"background-color:#eaeaff\">of </span><span style=\"background-color:#fff2f2\">humaneness </span><span style=\"background-color:#ececff\">. </span><span style=\"background-color:#e2e2ff\">'' </span></code>"
      ],
      "text/plain": [
       "<IPython.core.display.HTML object>"
      ]
     },
     "metadata": {},
     "output_type": "display_data"
    }
   ],
   "source": [
    "for network in network_l:\n",
    "    # Set `representations`\n",
    "    representations = torch.tensor(h5_d[network][s_ix])\n",
    "    representations = representations[layer] if representations.dim() == 3 else representations\n",
    "    \n",
    "    # Set `activations_mod`\n",
    "    neuron_ix = neuron_sorts[network][method][0]\n",
    "    mean = means_d[network][layer, neuron_ix].item()\n",
    "    stdev = stdevs_d[network][layer, neuron_ix].item()\n",
    "    maximum = max_d[network][layer, neuron_ix].item()\n",
    "    minimum = min_d[network][layer, neuron_ix].item()\n",
    "    \n",
    "    activations = representations[:, neuron_ix]\n",
    "    # activations_mod = meanstd_normalize(activations, mean, stdev)\n",
    "    activations_mod = maxmin_normalize(activations, maximum, minimum)\n",
    "    \n",
    "    # Set `sentence`, `html_str_l`\n",
    "    sentence = sentence_d[s_ix].split(' ')\n",
    "    html_str_l = []\n",
    "    for act, tok in zip(activations_mod, sentence):\n",
    "        # Set `color_str`\n",
    "        act = float(act)\n",
    "        r, g, b, a = cmap(act)\n",
    "        red_str = '{0:02x}'.format(int(255.9*r)) # should be 256, but can't. Some vals became 1. \n",
    "        green_str = '{0:02x}'.format(int(255.9*g))\n",
    "        blue_str = '{0:02x}'.format(int(255.9*b))\n",
    "\n",
    "        color_str = red_str + green_str + blue_str\n",
    "\n",
    "        html_str_l.append('<span style=\"background-color:#{0}\">{1} </span>'.format(color_str, tok))\n",
    "        \n",
    "    print(network)\n",
    "    print(\"max: {0}\".format(maximum))\n",
    "    print(\"min: {0}\".format(minimum))\n",
    "    print(\"mean: {0}\".format(mean))\n",
    "    print(\"stdev: {0}\".format(stdev))\n",
    "    print(activations)\n",
    "    display(HTML('<code>' + ''.join(html_str_l) + '</code>'))"
   ]
  },
  {
   "cell_type": "markdown",
   "metadata": {},
   "source": [
    "### Helper for above"
   ]
  },
  {
   "cell_type": "code",
   "execution_count": 11,
   "metadata": {},
   "outputs": [],
   "source": [
    "network = network_l[0]"
   ]
  },
  {
   "cell_type": "code",
   "execution_count": 12,
   "metadata": {},
   "outputs": [],
   "source": [
    "T = torch.tensor(h5_d[network][s_ix])\n",
    "T = T[-1] if T.dim() == 3 else T # top layer"
   ]
  },
  {
   "cell_type": "code",
   "execution_count": 13,
   "metadata": {},
   "outputs": [
    {
     "data": {
      "text/plain": [
       "tensor([0.1972, 0.3752, 0.4634, 0.4533, 0.7505, 0.5422, 0.4986, 0.6347, 0.5765,\n",
       "        0.5249, 0.4377, 0.4926, 0.4921, 0.6794, 0.6367, 0.7481, 0.5814, 0.7914,\n",
       "        0.8413, 0.7636, 0.5757, 0.7461, 0.6722, 0.6880, 0.4861, 0.4767, 0.6178,\n",
       "        0.5768, 0.5055, 0.6623, 0.4152, 0.5311, 0.5448])"
      ]
     },
     "execution_count": 13,
     "metadata": {},
     "output_type": "execute_result"
    }
   ],
   "source": [
    "neuron_ix = neuron_sorts[network][method][0]\n",
    "activations = T[:, neuron_ix]\n",
    "activations = torch.sigmoid(activations)\n",
    "activations"
   ]
  },
  {
   "cell_type": "code",
   "execution_count": 14,
   "metadata": {},
   "outputs": [
    {
     "data": {
      "text/plain": [
       "[\"''\",\n",
       " 'Mr.',\n",
       " 'Allen',\n",
       " 'objected',\n",
       " 'to',\n",
       " 'this',\n",
       " 'analogy',\n",
       " 'because',\n",
       " 'it',\n",
       " 'seems',\n",
       " 'to',\n",
       " '``',\n",
       " 'assimilate',\n",
       " 'the',\n",
       " 'status',\n",
       " 'of',\n",
       " 'blacks',\n",
       " 'to',\n",
       " 'that',\n",
       " 'of',\n",
       " 'animals',\n",
       " '--',\n",
       " 'as',\n",
       " 'a',\n",
       " 'mere',\n",
       " 'project',\n",
       " 'of',\n",
       " 'charity',\n",
       " ',',\n",
       " 'of',\n",
       " 'humaneness',\n",
       " '.',\n",
       " \"''\"]"
      ]
     },
     "execution_count": 14,
     "metadata": {},
     "output_type": "execute_result"
    }
   ],
   "source": [
    "sentence = sentence_d[s_ix].split(' ')\n",
    "sentence"
   ]
  },
  {
   "cell_type": "code",
   "execution_count": 15,
   "metadata": {},
   "outputs": [],
   "source": [
    "html_str_l = []\n",
    "for act, tok in zip(activations, sentence):\n",
    "    # Set `color_str`\n",
    "    act = float(act)\n",
    "    r, g, b, a = cmap(act)\n",
    "    red_str = '{0:02x}'.format(int(256*r))\n",
    "    green_str = '{0:02x}'.format(int(256*g))\n",
    "    blue_str = '{0:02x}'.format(int(256*b))\n",
    "\n",
    "    color_str = red_str + green_str + blue_str\n",
    "    \n",
    "    html_str_l.append('<span style=\"background-color:#{0}\">{1} </span>'.format(color_str, tok))"
   ]
  },
  {
   "cell_type": "code",
   "execution_count": 16,
   "metadata": {},
   "outputs": [
    {
     "data": {
      "text/plain": [
       "['<span style=\"background-color:#6464100\">\\'\\' </span>',\n",
       " '<span style=\"background-color:#c0c0100\">Mr. </span>',\n",
       " '<span style=\"background-color:#ecec100\">Allen </span>',\n",
       " '<span style=\"background-color:#e8e8100\">objected </span>',\n",
       " '<span style=\"background-color:#1007e7e\">to </span>',\n",
       " '<span style=\"background-color:#100eaea\">this </span>',\n",
       " '<span style=\"background-color:#fefe100\">analogy </span>',\n",
       " '<span style=\"background-color:#100baba\">because </span>',\n",
       " '<span style=\"background-color:#100d8d8\">it </span>',\n",
       " '<span style=\"background-color:#100f2f2\">seems </span>',\n",
       " '<span style=\"background-color:#e0e0100\">to </span>',\n",
       " '<span style=\"background-color:#fcfc100\">`` </span>',\n",
       " '<span style=\"background-color:#fafa100\">assimilate </span>',\n",
       " '<span style=\"background-color:#100a4a4\">the </span>',\n",
       " '<span style=\"background-color:#100b8b8\">status </span>',\n",
       " '<span style=\"background-color:#1008080\">of </span>',\n",
       " '<span style=\"background-color:#100d6d6\">blacks </span>',\n",
       " '<span style=\"background-color:#1006a6a\">to </span>',\n",
       " '<span style=\"background-color:#1005050\">that </span>',\n",
       " '<span style=\"background-color:#1007878\">of </span>',\n",
       " '<span style=\"background-color:#100d8d8\">animals </span>',\n",
       " '<span style=\"background-color:#1008080\">-- </span>',\n",
       " '<span style=\"background-color:#100a6a6\">as </span>',\n",
       " '<span style=\"background-color:#1009e9e\">a </span>',\n",
       " '<span style=\"background-color:#f8f8100\">mere </span>',\n",
       " '<span style=\"background-color:#f4f4100\">project </span>',\n",
       " '<span style=\"background-color:#100c2c2\">of </span>',\n",
       " '<span style=\"background-color:#100d8d8\">charity </span>',\n",
       " '<span style=\"background-color:#100fcfc\">, </span>',\n",
       " '<span style=\"background-color:#100acac\">of </span>',\n",
       " '<span style=\"background-color:#d4d4100\">humaneness </span>',\n",
       " '<span style=\"background-color:#100f0f0\">. </span>',\n",
       " '<span style=\"background-color:#100e8e8\">\\'\\' </span>']"
      ]
     },
     "execution_count": 16,
     "metadata": {},
     "output_type": "execute_result"
    }
   ],
   "source": [
    "html_str_l"
   ]
  },
  {
   "cell_type": "code",
   "execution_count": 17,
   "metadata": {},
   "outputs": [
    {
     "data": {
      "text/html": [
       "<code><span style=\"background-color:#6464100\">'' </span><span style=\"background-color:#c0c0100\">Mr. </span><span style=\"background-color:#ecec100\">Allen </span><span style=\"background-color:#e8e8100\">objected </span><span style=\"background-color:#1007e7e\">to </span><span style=\"background-color:#100eaea\">this </span><span style=\"background-color:#fefe100\">analogy </span><span style=\"background-color:#100baba\">because </span><span style=\"background-color:#100d8d8\">it </span><span style=\"background-color:#100f2f2\">seems </span><span style=\"background-color:#e0e0100\">to </span><span style=\"background-color:#fcfc100\">`` </span><span style=\"background-color:#fafa100\">assimilate </span><span style=\"background-color:#100a4a4\">the </span><span style=\"background-color:#100b8b8\">status </span><span style=\"background-color:#1008080\">of </span><span style=\"background-color:#100d6d6\">blacks </span><span style=\"background-color:#1006a6a\">to </span><span style=\"background-color:#1005050\">that </span><span style=\"background-color:#1007878\">of </span><span style=\"background-color:#100d8d8\">animals </span><span style=\"background-color:#1008080\">-- </span><span style=\"background-color:#100a6a6\">as </span><span style=\"background-color:#1009e9e\">a </span><span style=\"background-color:#f8f8100\">mere </span><span style=\"background-color:#f4f4100\">project </span><span style=\"background-color:#100c2c2\">of </span><span style=\"background-color:#100d8d8\">charity </span><span style=\"background-color:#100fcfc\">, </span><span style=\"background-color:#100acac\">of </span><span style=\"background-color:#d4d4100\">humaneness </span><span style=\"background-color:#100f0f0\">. </span><span style=\"background-color:#100e8e8\">'' </span></code>"
      ],
      "text/plain": [
       "<IPython.core.display.HTML object>"
      ]
     },
     "execution_count": 17,
     "metadata": {},
     "output_type": "execute_result"
    }
   ],
   "source": [
    "HTML('<code>' + ''.join(html_str_l) + '</code>')"
   ]
  },
  {
   "cell_type": "code",
   "execution_count": 18,
   "metadata": {},
   "outputs": [
    {
     "data": {
      "text/html": [
       "<code><span style=\"background-color:#6464100\">'' </span><span style=\"background-color:#c0c0100\">Mr. </span><span style=\"background-color:#ecec100\">Allen </span><span style=\"background-color:#e8e8100\">objected </span><span style=\"background-color:#1007e7e\">to </span><span style=\"background-color:#100eaea\">this </span><span style=\"background-color:#fefe100\">analogy </span><span style=\"background-color:#100baba\">because </span><span style=\"background-color:#100d8d8\">it </span><span style=\"background-color:#100f2f2\">seems </span><span style=\"background-color:#e0e0100\">to </span><span style=\"background-color:#fcfc100\">`` </span><span style=\"background-color:#fafa100\">assimilate </span><span style=\"background-color:#100a4a4\">the </span><span style=\"background-color:#100b8b8\">status </span><span style=\"background-color:#1008080\">of </span><span style=\"background-color:#100d6d6\">blacks </span><span style=\"background-color:#1006a6a\">to </span><span style=\"background-color:#1005050\">that </span><span style=\"background-color:#1007878\">of </span><span style=\"background-color:#100d8d8\">animals </span><span style=\"background-color:#1008080\">-- </span><span style=\"background-color:#100a6a6\">as </span><span style=\"background-color:#1009e9e\">a </span><span style=\"background-color:#f8f8100\">mere </span><span style=\"background-color:#f4f4100\">project </span><span style=\"background-color:#100c2c2\">of </span><span style=\"background-color:#100d8d8\">charity </span><span style=\"background-color:#100fcfc\">, </span><span style=\"background-color:#100acac\">of </span><span style=\"background-color:#d4d4100\">humaneness </span><span style=\"background-color:#100f0f0\">. </span><span style=\"background-color:#100e8e8\">'' </span></code>"
      ],
      "text/plain": [
       "<IPython.core.display.HTML object>"
      ]
     },
     "metadata": {},
     "output_type": "display_data"
    },
    {
     "data": {
      "text/html": [
       "<code><span style=\"background-color:#6464100\">'' </span><span style=\"background-color:#c0c0100\">Mr. </span><span style=\"background-color:#ecec100\">Allen </span><span style=\"background-color:#e8e8100\">objected </span><span style=\"background-color:#1007e7e\">to </span><span style=\"background-color:#100eaea\">this </span><span style=\"background-color:#fefe100\">analogy </span><span style=\"background-color:#100baba\">because </span><span style=\"background-color:#100d8d8\">it </span><span style=\"background-color:#100f2f2\">seems </span><span style=\"background-color:#e0e0100\">to </span><span style=\"background-color:#fcfc100\">`` </span><span style=\"background-color:#fafa100\">assimilate </span><span style=\"background-color:#100a4a4\">the </span><span style=\"background-color:#100b8b8\">status </span><span style=\"background-color:#1008080\">of </span><span style=\"background-color:#100d6d6\">blacks </span><span style=\"background-color:#1006a6a\">to </span><span style=\"background-color:#1005050\">that </span><span style=\"background-color:#1007878\">of </span><span style=\"background-color:#100d8d8\">animals </span><span style=\"background-color:#1008080\">-- </span><span style=\"background-color:#100a6a6\">as </span><span style=\"background-color:#1009e9e\">a </span><span style=\"background-color:#f8f8100\">mere </span><span style=\"background-color:#f4f4100\">project </span><span style=\"background-color:#100c2c2\">of </span><span style=\"background-color:#100d8d8\">charity </span><span style=\"background-color:#100fcfc\">, </span><span style=\"background-color:#100acac\">of </span><span style=\"background-color:#d4d4100\">humaneness </span><span style=\"background-color:#100f0f0\">. </span><span style=\"background-color:#100e8e8\">'' </span></code>"
      ],
      "text/plain": [
       "<IPython.core.display.HTML object>"
      ]
     },
     "metadata": {},
     "output_type": "display_data"
    }
   ],
   "source": [
    "display(HTML('<code>' + ''.join(html_str_l) + '</code>'))\n",
    "display(HTML('<code>' + ''.join(html_str_l) + '</code>'))"
   ]
  }
 ],
 "metadata": {
  "kernelspec": {
   "display_name": "Python 3",
   "language": "python",
   "name": "python3"
  },
  "language_info": {
   "codemirror_mode": {
    "name": "ipython",
    "version": 3
   },
   "file_extension": ".py",
   "mimetype": "text/x-python",
   "name": "python",
   "nbconvert_exporter": "python",
   "pygments_lexer": "ipython3",
   "version": "3.7.3"
  }
 },
 "nbformat": 4,
 "nbformat_minor": 2
}
