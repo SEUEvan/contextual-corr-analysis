{
 "cells": [
  {
   "cell_type": "code",
   "execution_count": 1,
   "metadata": {},
   "outputs": [],
   "source": [
    "import json\n",
    "import h5py\n",
    "import torch\n",
    "import numpy as np\n",
    "from IPython.display import HTML\n",
    "import matplotlib.pyplot as plt"
   ]
  },
  {
   "cell_type": "code",
   "execution_count": 2,
   "metadata": {},
   "outputs": [
    {
     "data": {
      "text/plain": [
       "{'/data/sls/temp/belinkov/contextual-corr-analysis/contextualizers/bert_large_cased/ptb_pos_dev.hdf5': 1024,\n",
       " '/data/sls/temp/belinkov/contextual-corr-analysis/contextualizers/openai_transformer/ptb_pos_dev.hdf5': 768,\n",
       " '/data/sls/temp/belinkov/contextual-corr-analysis/contextualizers/bert_base_cased/ptb_pos_dev.hdf5': 768,\n",
       " '/data/sls/temp/belinkov/contextual-corr-analysis/contextualizers/elmo_original/ptb_pos_dev.hdf5': 1024,\n",
       " '/data/sls/temp/belinkov/contextual-corr-analysis/contextualizers/calypso_transformer_6_512_base/ptb_pos_dev.hdf5': 1024,\n",
       " '/data/sls/temp/belinkov/contextual-corr-analysis/contextualizers/elmo_4x4096_512/ptb_pos_dev.hdf5': 1024}"
      ]
     },
     "execution_count": 2,
     "metadata": {},
     "output_type": "execute_result"
    }
   ],
   "source": [
    "# Set `res_d`, `network_l`, `num_neurons_d`\n",
    "base = \"/data/sls/temp/johnmwu/contextual-corr-analysis/results1_\"\n",
    "res_fname = {method : base + method for method in \n",
    "                {\"maxcorr\", \"mincorr\", \"linreg\", \"svcca\", \"cka\"}}\n",
    "\n",
    "res_d = {}\n",
    "res_d[\"maxcorr\"] = json.load(open(res_fname[\"maxcorr\"], \"r\"))\n",
    "res_d[\"mincorr\"] = json.load(open(res_fname[\"mincorr\"], \"r\"))\n",
    "res_d[\"linreg\"] = json.load(open(res_fname[\"linreg\"], \"r\"))\n",
    "\n",
    "network_l = [network for network in res_d[\"maxcorr\"]]\n",
    "\n",
    "num_neurons_d = {}\n",
    "for network in network_l:\n",
    "    num_neurons_d[network] = len(res_d[\"maxcorr\"][network])\n",
    "\n",
    "num_neurons_d"
   ]
  },
  {
   "cell_type": "code",
   "execution_count": 3,
   "metadata": {},
   "outputs": [],
   "source": [
    "# set `h5_d` : {network: h5} and `sentence_d`\n",
    "h5_d = {}\n",
    "for network in network_l:\n",
    "    h5_d[network] = h5py.File(network, 'r')\n",
    "\n",
    "sentence_d = json.loads(h5_d[network_l[0]]['sentence_to_index'][0]) # \"sentence dict\": {sentence, str ix}\n",
    "temp = {}\n",
    "for k, v in sentence_d.items():\n",
    "    temp[v] = k\n",
    "sentence_d = temp # now {str ix, sentence}"
   ]
  },
  {
   "cell_type": "code",
   "execution_count": 4,
   "metadata": {},
   "outputs": [],
   "source": [
    "# set `means_d`, `stdevs_d`\n",
    "base = \"/data/sls/temp/johnmwu/contextual-corr-analysis/results3\"\n",
    "means_d = torch.load(base + \"_means\")\n",
    "stdevs_d = torch.load(base + \"_stdevs\")"
   ]
  },
  {
   "cell_type": "code",
   "execution_count": 5,
   "metadata": {},
   "outputs": [],
   "source": [
    "# set `neuron_sorts`\n",
    "rk_methods = {\"maxcorr\", \"mincorr\", \"linreg\"}\n",
    "neuron_sorts = {network: {} for network in network_l}\n",
    "for network in network_l:\n",
    "    for method in rk_methods:\n",
    "        neuron_sorts[network][method] = [neuron[0] for neuron in res_d[method][network]]"
   ]
  },
  {
   "cell_type": "markdown",
   "metadata": {},
   "source": [
    "# Visualizations"
   ]
  },
  {
   "cell_type": "code",
   "execution_count": 6,
   "metadata": {},
   "outputs": [],
   "source": [
    "s_ix = '1' # \"sentence index\"\n",
    "method = \"maxcorr\"\n",
    "layer = -1\n",
    "cmap = plt.get_cmap('seismic')"
   ]
  },
  {
   "cell_type": "code",
   "execution_count": 7,
   "metadata": {},
   "outputs": [
    {
     "name": "stdout",
     "output_type": "stream",
     "text": [
      "/data/sls/temp/belinkov/contextual-corr-analysis/contextualizers/bert_large_cased/ptb_pos_dev.hdf5\n",
      "tensor([-1.8960, -1.0382, -0.6900, -0.7288,  0.5068, -0.3869, -0.5546, -0.0195,\n",
      "        -0.2533, -0.4538, -0.7896, -0.5776, -0.5795,  0.1712, -0.0110,  0.4945,\n",
      "        -0.2341,  0.7297,  1.0505,  0.5754, -0.2568,  0.4846,  0.1397,  0.2093,\n",
      "        -0.6027, -0.6387, -0.0886, -0.2523, -0.5281,  0.0966, -0.8778, -0.4300,\n",
      "        -0.3769])\n"
     ]
    },
    {
     "data": {
      "text/html": [
       "<code><span style=\"background-color:#0000a9\">'' </span><span style=\"background-color:#0909ff\">Mr. </span><span style=\"background-color:#5555ff\">Allen </span><span style=\"background-color:#4d4dff\">objected </span><span style=\"background-color:#ff8181\">to </span><span style=\"background-color:#9d9dff\">this </span><span style=\"background-color:#7575ff\">analogy </span><span style=\"background-color:#f9f9ff\">because </span><span style=\"background-color:#bdbdff\">it </span><span style=\"background-color:#8d8dff\">seems </span><span style=\"background-color:#3d3dff\">to </span><span style=\"background-color:#7171ff\">`` </span><span style=\"background-color:#6d6dff\">assimilate </span><span style=\"background-color:#ffd5d5\">the </span><span style=\"background-color:#fdfdff\">status </span><span style=\"background-color:#ff8181\">of </span><span style=\"background-color:#c5c5ff\">blacks </span><span style=\"background-color:#ff4d4d\">to </span><span style=\"background-color:#ff0909\">that </span><span style=\"background-color:#ff7171\">of </span><span style=\"background-color:#bdbdff\">animals </span><span style=\"background-color:#ff8585\">-- </span><span style=\"background-color:#ffdddd\">as </span><span style=\"background-color:#ffc9c9\">a </span><span style=\"background-color:#6969ff\">mere </span><span style=\"background-color:#6161ff\">project </span><span style=\"background-color:#e9e9ff\">of </span><span style=\"background-color:#bdbdff\">charity </span><span style=\"background-color:#7979ff\">, </span><span style=\"background-color:#ffe5e5\">of </span><span style=\"background-color:#2d2dff\">humaneness </span><span style=\"background-color:#9191ff\">. </span><span style=\"background-color:#a1a1ff\">'' </span></code>"
      ],
      "text/plain": [
       "<IPython.core.display.HTML object>"
      ]
     },
     "metadata": {},
     "output_type": "display_data"
    },
    {
     "name": "stdout",
     "output_type": "stream",
     "text": [
      "/data/sls/temp/belinkov/contextual-corr-analysis/contextualizers/openai_transformer/ptb_pos_dev.hdf5\n",
      "tensor([-0.7482, -0.4348, -0.6525, -0.3949, -0.7814,  1.7468, -0.3464, -0.6310,\n",
      "        -0.6117, -0.5709, -0.6947, -0.8228, -0.6782,  2.1902,  0.1753, -0.6550,\n",
      "        -0.0582, -0.8970, -0.0722, -0.7453, -0.3203, -0.6591, -0.6153,  2.4164,\n",
      "         2.0547,  0.2298, -0.6596, -0.1708, -0.5119, -0.5555, -0.1345, -0.5748,\n",
      "        -0.6650])\n"
     ]
    },
    {
     "data": {
      "text/html": [
       "<code><span style=\"background-color:#4949ff\">'' </span><span style=\"background-color:#9191ff\">Mr. </span><span style=\"background-color:#5d5dff\">Allen </span><span style=\"background-color:#9d9dff\">objected </span><span style=\"background-color:#4141ff\">to </span><span style=\"background-color:#cc0000\">this </span><span style=\"background-color:#a9a9ff\">analogy </span><span style=\"background-color:#6161ff\">because </span><span style=\"background-color:#6969ff\">it </span><span style=\"background-color:#7171ff\">seems </span><span style=\"background-color:#5555ff\">to </span><span style=\"background-color:#3939ff\">`` </span><span style=\"background-color:#5959ff\">assimilate </span><span style=\"background-color:#b20000\">the </span><span style=\"background-color:#ffd1d1\">status </span><span style=\"background-color:#5d5dff\">of </span><span style=\"background-color:#f1f1ff\">blacks </span><span style=\"background-color:#2929ff\">to </span><span style=\"background-color:#ededff\">that </span><span style=\"background-color:#4949ff\">of </span><span style=\"background-color:#adadff\">animals </span><span style=\"background-color:#5d5dff\">-- </span><span style=\"background-color:#6565ff\">as </span><span style=\"background-color:#a80000\">a </span><span style=\"background-color:#ba0000\">mere </span><span style=\"background-color:#ffc5c5\">project </span><span style=\"background-color:#5d5dff\">of </span><span style=\"background-color:#d5d5ff\">charity </span><span style=\"background-color:#7d7dff\">, </span><span style=\"background-color:#7575ff\">of </span><span style=\"background-color:#ddddff\">humaneness </span><span style=\"background-color:#7171ff\">. </span><span style=\"background-color:#5959ff\">'' </span></code>"
      ],
      "text/plain": [
       "<IPython.core.display.HTML object>"
      ]
     },
     "metadata": {},
     "output_type": "display_data"
    },
    {
     "name": "stdout",
     "output_type": "stream",
     "text": [
      "/data/sls/temp/belinkov/contextual-corr-analysis/contextualizers/bert_base_cased/ptb_pos_dev.hdf5\n",
      "tensor([ 3.9832e+00, -4.9681e-01,  7.9109e-02, -2.4946e-01, -8.0597e-01,\n",
      "        -2.6101e-01,  7.0035e-02, -1.9363e-01, -1.3799e-01,  3.5925e-01,\n",
      "        -1.5198e-01,  5.2325e-01,  2.4724e-01, -7.5173e-01, -1.5262e-01,\n",
      "        -5.7560e-01, -6.2994e-02,  4.8487e-02, -3.4374e-01, -5.3649e-01,\n",
      "        -5.5713e-02, -5.1273e-02, -1.9140e-01, -3.1050e-01,  1.2270e-01,\n",
      "        -1.2628e-02, -2.8163e-01, -2.6409e-02, -2.2891e-03,  4.2606e-03,\n",
      "        -3.1521e-01, -6.7553e-01,  4.9039e-01])\n"
     ]
    },
    {
     "data": {
      "text/html": [
       "<code><span style=\"background-color:#870000\">'' </span><span style=\"background-color:#8181ff\">Mr. </span><span style=\"background-color:#ffe9e9\">Allen </span><span style=\"background-color:#c1c1ff\">objected </span><span style=\"background-color:#3d3dff\">to </span><span style=\"background-color:#bdbdff\">this </span><span style=\"background-color:#ffeded\">analogy </span><span style=\"background-color:#cdcdff\">because </span><span style=\"background-color:#ddddff\">it </span><span style=\"background-color:#ffa5a5\">seems </span><span style=\"background-color:#d9d9ff\">to </span><span style=\"background-color:#ff7d7d\">`` </span><span style=\"background-color:#ffc1c1\">assimilate </span><span style=\"background-color:#4949ff\">the </span><span style=\"background-color:#d9d9ff\">status </span><span style=\"background-color:#7171ff\">of </span><span style=\"background-color:#ededff\">blacks </span><span style=\"background-color:#fff1f1\">to </span><span style=\"background-color:#a9a9ff\">that </span><span style=\"background-color:#7979ff\">of </span><span style=\"background-color:#f1f1ff\">animals </span><span style=\"background-color:#f1f1ff\">-- </span><span style=\"background-color:#cdcdff\">as </span><span style=\"background-color:#b1b1ff\">a </span><span style=\"background-color:#ffe1e1\">mere </span><span style=\"background-color:#fdfdff\">project </span><span style=\"background-color:#b9b9ff\">of </span><span style=\"background-color:#f9f9ff\">charity </span><span style=\"background-color:#fdfdff\">, </span><span style=\"background-color:#fffdfd\">of </span><span style=\"background-color:#adadff\">humaneness </span><span style=\"background-color:#5959ff\">. </span><span style=\"background-color:#ff8585\">'' </span></code>"
      ],
      "text/plain": [
       "<IPython.core.display.HTML object>"
      ]
     },
     "metadata": {},
     "output_type": "display_data"
    },
    {
     "name": "stdout",
     "output_type": "stream",
     "text": [
      "/data/sls/temp/belinkov/contextual-corr-analysis/contextualizers/elmo_original/ptb_pos_dev.hdf5\n",
      "tensor([ 0.7013,  0.6478,  0.3855,  0.5900,  1.5422,  0.7732,  0.6873,  0.9304,\n",
      "         0.4678,  0.0546,  0.5760,  0.4618,  0.1950,  0.5713,  1.0508, -1.0140,\n",
      "         0.0375,  0.7976,  1.5433, -0.8771,  0.9314, -1.4972,  0.3910,  0.5247,\n",
      "         0.6174,  0.2633,  0.0860,  0.3916, -2.0147, -0.6181,  0.3197, -2.2558,\n",
      "        -0.5714])\n"
     ]
    },
    {
     "data": {
      "text/html": [
       "<code><span style=\"background-color:#ff5151\">'' </span><span style=\"background-color:#ff5d5d\">Mr. </span><span style=\"background-color:#ff9d9d\">Allen </span><span style=\"background-color:#ff6d6d\">objected </span><span style=\"background-color:#da0000\">to </span><span style=\"background-color:#ff4141\">this </span><span style=\"background-color:#ff5555\">analogy </span><span style=\"background-color:#ff2121\">because </span><span style=\"background-color:#ff8989\">it </span><span style=\"background-color:#fff1f1\">seems </span><span style=\"background-color:#ff7171\">to </span><span style=\"background-color:#ff8989\">`` </span><span style=\"background-color:#ffcdcd\">assimilate </span><span style=\"background-color:#ff7171\">the </span><span style=\"background-color:#ff0909\">status </span><span style=\"background-color:#1111ff\">of </span><span style=\"background-color:#fff5f5\">blacks </span><span style=\"background-color:#ff3d3d\">to </span><span style=\"background-color:#da0000\">that </span><span style=\"background-color:#2d2dff\">of </span><span style=\"background-color:#ff2121\">animals </span><span style=\"background-color:#0000ce\">-- </span><span style=\"background-color:#ff9d9d\">as </span><span style=\"background-color:#ff7d7d\">a </span><span style=\"background-color:#ff6565\">mere </span><span style=\"background-color:#ffbdbd\">project </span><span style=\"background-color:#ffe9e9\">of </span><span style=\"background-color:#ff9d9d\">charity </span><span style=\"background-color:#0000a1\">, </span><span style=\"background-color:#6565ff\">of </span><span style=\"background-color:#ffadad\">humaneness </span><span style=\"background-color:#000090\">. </span><span style=\"background-color:#7171ff\">'' </span></code>"
      ],
      "text/plain": [
       "<IPython.core.display.HTML object>"
      ]
     },
     "metadata": {},
     "output_type": "display_data"
    },
    {
     "name": "stdout",
     "output_type": "stream",
     "text": [
      "/data/sls/temp/belinkov/contextual-corr-analysis/contextualizers/calypso_transformer_6_512_base/ptb_pos_dev.hdf5\n",
      "tensor([-2.4649, -1.8369, -1.6463, -0.7145,  1.1326,  0.9307, -0.6208,  0.0437,\n",
      "        -0.2807, -0.9724, -0.5708, -0.8745,  0.4913,  1.2845,  0.8726,  1.4332,\n",
      "         1.5971,  1.0952,  0.7763,  0.8081,  0.5407, -0.3606,  0.1589,  0.6349,\n",
      "         0.3808,  0.4263,  0.6432, -0.1013, -0.4132,  1.0824,  0.4050, -1.1271,\n",
      "        -1.5529])\n"
     ]
    },
    {
     "data": {
      "text/html": [
       "<code><span style=\"background-color:#000084\">'' </span><span style=\"background-color:#0000af\">Mr. </span><span style=\"background-color:#0000bf\">Allen </span><span style=\"background-color:#5151ff\">objected </span><span style=\"background-color:#fc0000\">to </span><span style=\"background-color:#ff2121\">this </span><span style=\"background-color:#6565ff\">analogy </span><span style=\"background-color:#fff5f5\">because </span><span style=\"background-color:#b9b9ff\">it </span><span style=\"background-color:#1919ff\">seems </span><span style=\"background-color:#7171ff\">to </span><span style=\"background-color:#2d2dff\">`` </span><span style=\"background-color:#ff8585\">assimilate </span><span style=\"background-color:#ee0000\">the </span><span style=\"background-color:#ff2d2d\">status </span><span style=\"background-color:#e20000\">of </span><span style=\"background-color:#d60000\">blacks </span><span style=\"background-color:#ff0101\">to </span><span style=\"background-color:#ff4141\">that </span><span style=\"background-color:#ff3939\">of </span><span style=\"background-color:#ff7979\">animals </span><span style=\"background-color:#a5a5ff\">-- </span><span style=\"background-color:#ffd5d5\">as </span><span style=\"background-color:#ff6161\">a </span><span style=\"background-color:#ff9d9d\">mere </span><span style=\"background-color:#ff9595\">project </span><span style=\"background-color:#ff6161\">of </span><span style=\"background-color:#e5e5ff\">charity </span><span style=\"background-color:#9595ff\">, </span><span style=\"background-color:#ff0101\">of </span><span style=\"background-color:#ff9999\">humaneness </span><span style=\"background-color:#0000fa\">. </span><span style=\"background-color:#0000c8\">'' </span></code>"
      ],
      "text/plain": [
       "<IPython.core.display.HTML object>"
      ]
     },
     "metadata": {},
     "output_type": "display_data"
    },
    {
     "name": "stdout",
     "output_type": "stream",
     "text": [
      "/data/sls/temp/belinkov/contextual-corr-analysis/contextualizers/elmo_4x4096_512/ptb_pos_dev.hdf5\n",
      "tensor([ 0.3745, -0.2936, -0.3830, -0.4659, -0.5709,  0.2912, -0.3627, -0.6963,\n",
      "        -0.6156, -0.8012, -0.7590, -0.7611, -0.4056,  2.8838, -0.6332, -0.2432,\n",
      "        -0.2465, -0.6349, -0.1705, -0.4985, -0.3334, -0.6425, -0.5166,  1.7637,\n",
      "         1.7770, -0.8664, -0.3704, -0.4306, -0.5283, -0.5779, -0.3009, -0.5572,\n",
      "        -0.6292])\n"
     ]
    },
    {
     "data": {
      "text/html": [
       "<code><span style=\"background-color:#ffa1a1\">'' </span><span style=\"background-color:#b5b5ff\">Mr. </span><span style=\"background-color:#9d9dff\">Allen </span><span style=\"background-color:#8989ff\">objected </span><span style=\"background-color:#7171ff\">to </span><span style=\"background-color:#ffb5b5\">this </span><span style=\"background-color:#a5a5ff\">analogy </span><span style=\"background-color:#5555ff\">because </span><span style=\"background-color:#6565ff\">it </span><span style=\"background-color:#3d3dff\">seems </span><span style=\"background-color:#4545ff\">to </span><span style=\"background-color:#4545ff\">`` </span><span style=\"background-color:#9999ff\">assimilate </span><span style=\"background-color:#9a0000\">the </span><span style=\"background-color:#6161ff\">status </span><span style=\"background-color:#c1c1ff\">of </span><span style=\"background-color:#c1c1ff\">blacks </span><span style=\"background-color:#6161ff\">to </span><span style=\"background-color:#d5d5ff\">that </span><span style=\"background-color:#8181ff\">of </span><span style=\"background-color:#a9a9ff\">animals </span><span style=\"background-color:#6161ff\">-- </span><span style=\"background-color:#7d7dff\">as </span><span style=\"background-color:#ca0000\">a </span><span style=\"background-color:#ca0000\">mere </span><span style=\"background-color:#2d2dff\">project </span><span style=\"background-color:#a1a1ff\">of </span><span style=\"background-color:#9191ff\">charity </span><span style=\"background-color:#7979ff\">, </span><span style=\"background-color:#7171ff\">of </span><span style=\"background-color:#b1b1ff\">humaneness </span><span style=\"background-color:#7575ff\">. </span><span style=\"background-color:#6565ff\">'' </span></code>"
      ],
      "text/plain": [
       "<IPython.core.display.HTML object>"
      ]
     },
     "metadata": {},
     "output_type": "display_data"
    }
   ],
   "source": [
    "for network in network_l:\n",
    "    # Set `representations`\n",
    "    representations = torch.tensor(h5_d[network][s_ix])\n",
    "    representations = representations[-1] if representations.dim() == 3 else representations # top layer\n",
    "    \n",
    "    # Set `activations_mod`, `sentence`\n",
    "    neuron_ix = neuron_sorts[network][method][0]\n",
    "    mean = means_d[network][layer, neuron_ix].item()\n",
    "    stdev = stdevs_d[network][layer, neuron_ix].item()\n",
    "    \n",
    "    activations = representations[:, neuron_ix]\n",
    "    activations = (activations - mean) / stdev\n",
    "    activations_mod = torch.sigmoid(activations)\n",
    "    sentence = sentence_d[s_ix].split(' ')\n",
    "    \n",
    "    # Set `html_str_l`\n",
    "    html_str_l = []\n",
    "    for act, tok in zip(activations_mod, sentence):\n",
    "        # Set `color_str`\n",
    "        act = float(act)\n",
    "        r, g, b, a = cmap(act)\n",
    "        red_str = '{0:02x}'.format(int(255.9*r)) # should be 256, but can't. Some vals became 1. \n",
    "        green_str = '{0:02x}'.format(int(255.9*g))\n",
    "        blue_str = '{0:02x}'.format(int(255.9*b))\n",
    "\n",
    "        color_str = red_str + green_str + blue_str\n",
    "\n",
    "        html_str_l.append('<span style=\"background-color:#{0}\">{1} </span>'.format(color_str, tok))\n",
    "        \n",
    "    print(network)\n",
    "    print(activations)\n",
    "    display(HTML('<code>' + ''.join(html_str_l) + '</code>'))"
   ]
  },
  {
   "cell_type": "markdown",
   "metadata": {},
   "source": [
    "### Helper for above"
   ]
  },
  {
   "cell_type": "code",
   "execution_count": 8,
   "metadata": {},
   "outputs": [],
   "source": [
    "network = network_l[0]"
   ]
  },
  {
   "cell_type": "code",
   "execution_count": 9,
   "metadata": {},
   "outputs": [],
   "source": [
    "T = torch.tensor(h5_d[network][s_ix])\n",
    "T = T[-1] if T.dim() == 3 else T # top layer"
   ]
  },
  {
   "cell_type": "code",
   "execution_count": 10,
   "metadata": {},
   "outputs": [
    {
     "data": {
      "text/plain": [
       "tensor([0.1972, 0.3752, 0.4634, 0.4533, 0.7505, 0.5422, 0.4986, 0.6347, 0.5765,\n",
       "        0.5249, 0.4377, 0.4926, 0.4921, 0.6794, 0.6367, 0.7481, 0.5814, 0.7914,\n",
       "        0.8413, 0.7636, 0.5757, 0.7461, 0.6722, 0.6880, 0.4861, 0.4767, 0.6178,\n",
       "        0.5768, 0.5055, 0.6623, 0.4152, 0.5311, 0.5448])"
      ]
     },
     "execution_count": 10,
     "metadata": {},
     "output_type": "execute_result"
    }
   ],
   "source": [
    "neuron_ix = neuron_sorts[network][method][0]\n",
    "activations = T[:, neuron_ix]\n",
    "activations = torch.sigmoid(activations)\n",
    "activations"
   ]
  },
  {
   "cell_type": "code",
   "execution_count": 11,
   "metadata": {},
   "outputs": [
    {
     "data": {
      "text/plain": [
       "[\"''\",\n",
       " 'Mr.',\n",
       " 'Allen',\n",
       " 'objected',\n",
       " 'to',\n",
       " 'this',\n",
       " 'analogy',\n",
       " 'because',\n",
       " 'it',\n",
       " 'seems',\n",
       " 'to',\n",
       " '``',\n",
       " 'assimilate',\n",
       " 'the',\n",
       " 'status',\n",
       " 'of',\n",
       " 'blacks',\n",
       " 'to',\n",
       " 'that',\n",
       " 'of',\n",
       " 'animals',\n",
       " '--',\n",
       " 'as',\n",
       " 'a',\n",
       " 'mere',\n",
       " 'project',\n",
       " 'of',\n",
       " 'charity',\n",
       " ',',\n",
       " 'of',\n",
       " 'humaneness',\n",
       " '.',\n",
       " \"''\"]"
      ]
     },
     "execution_count": 11,
     "metadata": {},
     "output_type": "execute_result"
    }
   ],
   "source": [
    "sentence = sentence_d[s_ix].split(' ')\n",
    "sentence"
   ]
  },
  {
   "cell_type": "code",
   "execution_count": 12,
   "metadata": {},
   "outputs": [],
   "source": [
    "html_str_l = []\n",
    "for act, tok in zip(activations, sentence):\n",
    "    # Set `color_str`\n",
    "    act = float(act)\n",
    "    r, g, b, a = cmap(act)\n",
    "    red_str = '{0:02x}'.format(int(256*r))\n",
    "    green_str = '{0:02x}'.format(int(256*g))\n",
    "    blue_str = '{0:02x}'.format(int(256*b))\n",
    "\n",
    "    color_str = red_str + green_str + blue_str\n",
    "    \n",
    "    html_str_l.append('<span style=\"background-color:#{0}\">{1} </span>'.format(color_str, tok))"
   ]
  },
  {
   "cell_type": "code",
   "execution_count": 13,
   "metadata": {},
   "outputs": [
    {
     "data": {
      "text/plain": [
       "['<span style=\"background-color:#0000d9\">\\'\\' </span>',\n",
       " '<span style=\"background-color:#8181100\">Mr. </span>',\n",
       " '<span style=\"background-color:#d9d9100\">Allen </span>',\n",
       " '<span style=\"background-color:#d1d1100\">objected </span>',\n",
       " '<span style=\"background-color:#fe0000\">to </span>',\n",
       " '<span style=\"background-color:#100d5d5\">this </span>',\n",
       " '<span style=\"background-color:#fdfd100\">analogy </span>',\n",
       " '<span style=\"background-color:#1007575\">because </span>',\n",
       " '<span style=\"background-color:#100b1b1\">it </span>',\n",
       " '<span style=\"background-color:#100e5e5\">seems </span>',\n",
       " '<span style=\"background-color:#c1c1100\">to </span>',\n",
       " '<span style=\"background-color:#f9f9100\">`` </span>',\n",
       " '<span style=\"background-color:#f5f5100\">assimilate </span>',\n",
       " '<span style=\"background-color:#1004949\">the </span>',\n",
       " '<span style=\"background-color:#1007171\">status </span>',\n",
       " '<span style=\"background-color:#1000101\">of </span>',\n",
       " '<span style=\"background-color:#100adad\">blacks </span>',\n",
       " '<span style=\"background-color:#ea0000\">to </span>',\n",
       " '<span style=\"background-color:#d00000\">that </span>',\n",
       " '<span style=\"background-color:#f80000\">of </span>',\n",
       " '<span style=\"background-color:#100b1b1\">animals </span>',\n",
       " '<span style=\"background-color:#1000101\">-- </span>',\n",
       " '<span style=\"background-color:#1004d4d\">as </span>',\n",
       " '<span style=\"background-color:#1003d3d\">a </span>',\n",
       " '<span style=\"background-color:#f1f1100\">mere </span>',\n",
       " '<span style=\"background-color:#e9e9100\">project </span>',\n",
       " '<span style=\"background-color:#1008585\">of </span>',\n",
       " '<span style=\"background-color:#100b1b1\">charity </span>',\n",
       " '<span style=\"background-color:#100f9f9\">, </span>',\n",
       " '<span style=\"background-color:#1005959\">of </span>',\n",
       " '<span style=\"background-color:#a9a9100\">humaneness </span>',\n",
       " '<span style=\"background-color:#100e1e1\">. </span>',\n",
       " '<span style=\"background-color:#100d1d1\">\\'\\' </span>']"
      ]
     },
     "execution_count": 13,
     "metadata": {},
     "output_type": "execute_result"
    }
   ],
   "source": [
    "html_str_l"
   ]
  },
  {
   "cell_type": "code",
   "execution_count": 14,
   "metadata": {},
   "outputs": [
    {
     "data": {
      "text/html": [
       "<code><span style=\"background-color:#0000d9\">'' </span><span style=\"background-color:#8181100\">Mr. </span><span style=\"background-color:#d9d9100\">Allen </span><span style=\"background-color:#d1d1100\">objected </span><span style=\"background-color:#fe0000\">to </span><span style=\"background-color:#100d5d5\">this </span><span style=\"background-color:#fdfd100\">analogy </span><span style=\"background-color:#1007575\">because </span><span style=\"background-color:#100b1b1\">it </span><span style=\"background-color:#100e5e5\">seems </span><span style=\"background-color:#c1c1100\">to </span><span style=\"background-color:#f9f9100\">`` </span><span style=\"background-color:#f5f5100\">assimilate </span><span style=\"background-color:#1004949\">the </span><span style=\"background-color:#1007171\">status </span><span style=\"background-color:#1000101\">of </span><span style=\"background-color:#100adad\">blacks </span><span style=\"background-color:#ea0000\">to </span><span style=\"background-color:#d00000\">that </span><span style=\"background-color:#f80000\">of </span><span style=\"background-color:#100b1b1\">animals </span><span style=\"background-color:#1000101\">-- </span><span style=\"background-color:#1004d4d\">as </span><span style=\"background-color:#1003d3d\">a </span><span style=\"background-color:#f1f1100\">mere </span><span style=\"background-color:#e9e9100\">project </span><span style=\"background-color:#1008585\">of </span><span style=\"background-color:#100b1b1\">charity </span><span style=\"background-color:#100f9f9\">, </span><span style=\"background-color:#1005959\">of </span><span style=\"background-color:#a9a9100\">humaneness </span><span style=\"background-color:#100e1e1\">. </span><span style=\"background-color:#100d1d1\">'' </span></code>"
      ],
      "text/plain": [
       "<IPython.core.display.HTML object>"
      ]
     },
     "execution_count": 14,
     "metadata": {},
     "output_type": "execute_result"
    }
   ],
   "source": [
    "HTML('<code>' + ''.join(html_str_l) + '</code>')"
   ]
  },
  {
   "cell_type": "code",
   "execution_count": 15,
   "metadata": {},
   "outputs": [
    {
     "data": {
      "text/html": [
       "<code><span style=\"background-color:#0000d9\">'' </span><span style=\"background-color:#8181100\">Mr. </span><span style=\"background-color:#d9d9100\">Allen </span><span style=\"background-color:#d1d1100\">objected </span><span style=\"background-color:#fe0000\">to </span><span style=\"background-color:#100d5d5\">this </span><span style=\"background-color:#fdfd100\">analogy </span><span style=\"background-color:#1007575\">because </span><span style=\"background-color:#100b1b1\">it </span><span style=\"background-color:#100e5e5\">seems </span><span style=\"background-color:#c1c1100\">to </span><span style=\"background-color:#f9f9100\">`` </span><span style=\"background-color:#f5f5100\">assimilate </span><span style=\"background-color:#1004949\">the </span><span style=\"background-color:#1007171\">status </span><span style=\"background-color:#1000101\">of </span><span style=\"background-color:#100adad\">blacks </span><span style=\"background-color:#ea0000\">to </span><span style=\"background-color:#d00000\">that </span><span style=\"background-color:#f80000\">of </span><span style=\"background-color:#100b1b1\">animals </span><span style=\"background-color:#1000101\">-- </span><span style=\"background-color:#1004d4d\">as </span><span style=\"background-color:#1003d3d\">a </span><span style=\"background-color:#f1f1100\">mere </span><span style=\"background-color:#e9e9100\">project </span><span style=\"background-color:#1008585\">of </span><span style=\"background-color:#100b1b1\">charity </span><span style=\"background-color:#100f9f9\">, </span><span style=\"background-color:#1005959\">of </span><span style=\"background-color:#a9a9100\">humaneness </span><span style=\"background-color:#100e1e1\">. </span><span style=\"background-color:#100d1d1\">'' </span></code>"
      ],
      "text/plain": [
       "<IPython.core.display.HTML object>"
      ]
     },
     "metadata": {},
     "output_type": "display_data"
    },
    {
     "data": {
      "text/html": [
       "<code><span style=\"background-color:#0000d9\">'' </span><span style=\"background-color:#8181100\">Mr. </span><span style=\"background-color:#d9d9100\">Allen </span><span style=\"background-color:#d1d1100\">objected </span><span style=\"background-color:#fe0000\">to </span><span style=\"background-color:#100d5d5\">this </span><span style=\"background-color:#fdfd100\">analogy </span><span style=\"background-color:#1007575\">because </span><span style=\"background-color:#100b1b1\">it </span><span style=\"background-color:#100e5e5\">seems </span><span style=\"background-color:#c1c1100\">to </span><span style=\"background-color:#f9f9100\">`` </span><span style=\"background-color:#f5f5100\">assimilate </span><span style=\"background-color:#1004949\">the </span><span style=\"background-color:#1007171\">status </span><span style=\"background-color:#1000101\">of </span><span style=\"background-color:#100adad\">blacks </span><span style=\"background-color:#ea0000\">to </span><span style=\"background-color:#d00000\">that </span><span style=\"background-color:#f80000\">of </span><span style=\"background-color:#100b1b1\">animals </span><span style=\"background-color:#1000101\">-- </span><span style=\"background-color:#1004d4d\">as </span><span style=\"background-color:#1003d3d\">a </span><span style=\"background-color:#f1f1100\">mere </span><span style=\"background-color:#e9e9100\">project </span><span style=\"background-color:#1008585\">of </span><span style=\"background-color:#100b1b1\">charity </span><span style=\"background-color:#100f9f9\">, </span><span style=\"background-color:#1005959\">of </span><span style=\"background-color:#a9a9100\">humaneness </span><span style=\"background-color:#100e1e1\">. </span><span style=\"background-color:#100d1d1\">'' </span></code>"
      ],
      "text/plain": [
       "<IPython.core.display.HTML object>"
      ]
     },
     "metadata": {},
     "output_type": "display_data"
    }
   ],
   "source": [
    "display(HTML('<code>' + ''.join(html_str_l) + '</code>'))\n",
    "display(HTML('<code>' + ''.join(html_str_l) + '</code>'))"
   ]
  }
 ],
 "metadata": {
  "kernelspec": {
   "display_name": "Python [conda env:jmw0]",
   "language": "python",
   "name": "conda-env-jmw0-py"
  },
  "language_info": {
   "codemirror_mode": {
    "name": "ipython",
    "version": 3
   },
   "file_extension": ".py",
   "mimetype": "text/x-python",
   "name": "python",
   "nbconvert_exporter": "python",
   "pygments_lexer": "ipython3",
   "version": "3.7.3"
  }
 },
 "nbformat": 4,
 "nbformat_minor": 2
}
