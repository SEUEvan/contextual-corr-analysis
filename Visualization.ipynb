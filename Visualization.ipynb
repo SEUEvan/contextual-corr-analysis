{
 "cells": [
  {
   "cell_type": "code",
   "execution_count": 2,
   "metadata": {},
   "outputs": [],
   "source": [
    "import json\n",
    "import h5py\n",
    "import torch\n",
    "import numpy as np\n",
    "from IPython.display import HTML\n",
    "import matplotlib.pyplot as plt"
   ]
  },
  {
   "cell_type": "code",
   "execution_count": 3,
   "metadata": {
    "scrolled": true
   },
   "outputs": [
    {
     "data": {
      "text/plain": [
       "{'/data/sls/temp/belinkov/contextual-corr-analysis/contextualizers/bert_large_cased/ptb_pos_dev.hdf5': 1024,\n",
       " '/data/sls/temp/belinkov/contextual-corr-analysis/contextualizers/openai_transformer/ptb_pos_dev.hdf5': 768,\n",
       " '/data/sls/temp/belinkov/contextual-corr-analysis/contextualizers/bert_base_cased/ptb_pos_dev.hdf5': 768,\n",
       " '/data/sls/temp/belinkov/contextual-corr-analysis/contextualizers/elmo_original/ptb_pos_dev.hdf5': 1024,\n",
       " '/data/sls/temp/belinkov/contextual-corr-analysis/contextualizers/calypso_transformer_6_512_base/ptb_pos_dev.hdf5': 1024,\n",
       " '/data/sls/temp/belinkov/contextual-corr-analysis/contextualizers/elmo_4x4096_512/ptb_pos_dev.hdf5': 1024}"
      ]
     },
     "execution_count": 3,
     "metadata": {},
     "output_type": "execute_result"
    }
   ],
   "source": [
    "# Set `res_d`, `network_l`, `num_neurons_d`\n",
    "base = \"/data/sls/temp/johnmwu/contextual-corr-analysis/results1_\"\n",
    "res_fname = {method : base + method for method in \n",
    "                {\"maxcorr\", \"mincorr\", \"linreg\", \"svcca\", \"cka\"}}\n",
    "\n",
    "res_d = {}\n",
    "res_d[\"maxcorr\"] = json.load(open(res_fname[\"maxcorr\"], \"r\"))\n",
    "res_d[\"mincorr\"] = json.load(open(res_fname[\"mincorr\"], \"r\"))\n",
    "res_d[\"linreg\"] = json.load(open(res_fname[\"linreg\"], \"r\"))\n",
    "\n",
    "network_l = [network for network in res_d[\"maxcorr\"]]\n",
    "\n",
    "num_neurons_d = {}\n",
    "for network in network_l:\n",
    "    num_neurons_d[network] = len(res_d[\"maxcorr\"][network])\n",
    "\n",
    "num_neurons_d"
   ]
  },
  {
   "cell_type": "code",
   "execution_count": 4,
   "metadata": {},
   "outputs": [],
   "source": [
    "# set `h5_d` : {network: h5} and `sentence_d`\n",
    "h5_d = {}\n",
    "for network in network_l:\n",
    "    h5_d[network] = h5py.File(network, 'r')\n",
    "\n",
    "sentence_d = json.loads(h5_d[network_l[0]]['sentence_to_index'][0]) # \"sentence dict\": {sentence, str ix}\n",
    "temp = {}\n",
    "for k, v in sentence_d.items():\n",
    "    temp[v] = k\n",
    "sentence_d = temp # now {str ix, sentence}"
   ]
  },
  {
   "cell_type": "code",
   "execution_count": 5,
   "metadata": {},
   "outputs": [],
   "source": [
    "# set `means_d`, `stdevs_d`\n",
    "base = \"/data/sls/temp/johnmwu/contextual-corr-analysis/results3\"\n",
    "means_d = torch.load(base + \"_means\")\n",
    "stdevs_d = torch.load(base + \"_stdevs\")"
   ]
  },
  {
   "cell_type": "code",
   "execution_count": 6,
   "metadata": {},
   "outputs": [],
   "source": [
    "# set `neuron_sorts`\n",
    "rk_methods = {\"maxcorr\", \"mincorr\", \"linreg\"}\n",
    "neuron_sorts = {network: {} for network in network_l}\n",
    "for network in network_l:\n",
    "    for method in rk_methods:\n",
    "        neuron_sorts[network][method] = [neuron[0] for neuron in res_d[method][network]]"
   ]
  },
  {
   "cell_type": "markdown",
   "metadata": {},
   "source": [
    "# Visualizations"
   ]
  },
  {
   "cell_type": "code",
   "execution_count": 36,
   "metadata": {},
   "outputs": [],
   "source": [
    "s_ix = '1' # \"sentence index\"\n",
    "method = \"maxcorr\"\n",
    "layer = -1\n",
    "cmap = plt.get_cmap('bwr')"
   ]
  },
  {
   "cell_type": "code",
   "execution_count": 37,
   "metadata": {},
   "outputs": [
    {
     "name": "stdout",
     "output_type": "stream",
     "text": [
      "/data/sls/temp/belinkov/contextual-corr-analysis/contextualizers/bert_large_cased/ptb_pos_dev.hdf5\n",
      "tensor([-1.8960, -1.0382, -0.6900, -0.7288,  0.5068, -0.3869, -0.5546, -0.0195,\n",
      "        -0.2533, -0.4538, -0.7896, -0.5776, -0.5795,  0.1712, -0.0110,  0.4945,\n",
      "        -0.2341,  0.7297,  1.0505,  0.5754, -0.2568,  0.4846,  0.1397,  0.2093,\n",
      "        -0.6027, -0.6387, -0.0886, -0.2523, -0.5281,  0.0966, -0.8778, -0.4300,\n",
      "        -0.3769])\n"
     ]
    },
    {
     "data": {
      "text/html": [
       "<code><span style=\"background-color:#4242ff\">'' </span><span style=\"background-color:#8484ff\">Mr. </span><span style=\"background-color:#aaaaff\">Allen </span><span style=\"background-color:#a6a6ff\">objected </span><span style=\"background-color:#ffc0c0\">to </span><span style=\"background-color:#ceceff\">this </span><span style=\"background-color:#babaff\">analogy </span><span style=\"background-color:#fcfcff\">because </span><span style=\"background-color:#dedeff\">it </span><span style=\"background-color:#c6c6ff\">seems </span><span style=\"background-color:#9e9eff\">to </span><span style=\"background-color:#b8b8ff\">`` </span><span style=\"background-color:#b6b6ff\">assimilate </span><span style=\"background-color:#ffeaea\">the </span><span style=\"background-color:#fefeff\">status </span><span style=\"background-color:#ffc0c0\">of </span><span style=\"background-color:#e2e2ff\">blacks </span><span style=\"background-color:#ffa6a6\">to </span><span style=\"background-color:#ff8484\">that </span><span style=\"background-color:#ffb8b8\">of </span><span style=\"background-color:#dedeff\">animals </span><span style=\"background-color:#ffc2c2\">-- </span><span style=\"background-color:#ffeeee\">as </span><span style=\"background-color:#ffe4e4\">a </span><span style=\"background-color:#b4b4ff\">mere </span><span style=\"background-color:#b0b0ff\">project </span><span style=\"background-color:#f4f4ff\">of </span><span style=\"background-color:#dedeff\">charity </span><span style=\"background-color:#bcbcff\">, </span><span style=\"background-color:#fff2f2\">of </span><span style=\"background-color:#9696ff\">humaneness </span><span style=\"background-color:#c8c8ff\">. </span><span style=\"background-color:#d0d0ff\">'' </span></code>"
      ],
      "text/plain": [
       "<IPython.core.display.HTML object>"
      ]
     },
     "metadata": {},
     "output_type": "display_data"
    },
    {
     "name": "stdout",
     "output_type": "stream",
     "text": [
      "/data/sls/temp/belinkov/contextual-corr-analysis/contextualizers/openai_transformer/ptb_pos_dev.hdf5\n",
      "tensor([-0.7482, -0.4348, -0.6525, -0.3949, -0.7814,  1.7468, -0.3464, -0.6310,\n",
      "        -0.6117, -0.5709, -0.6947, -0.8228, -0.6782,  2.1902,  0.1753, -0.6550,\n",
      "        -0.0582, -0.8970, -0.0722, -0.7453, -0.3203, -0.6591, -0.6153,  2.4164,\n",
      "         2.0547,  0.2298, -0.6596, -0.1708, -0.5119, -0.5555, -0.1345, -0.5748,\n",
      "        -0.6650])\n"
     ]
    },
    {
     "data": {
      "text/html": [
       "<code><span style=\"background-color:#a4a4ff\">'' </span><span style=\"background-color:#c8c8ff\">Mr. </span><span style=\"background-color:#aeaeff\">Allen </span><span style=\"background-color:#ceceff\">objected </span><span style=\"background-color:#a0a0ff\">to </span><span style=\"background-color:#ff4c4c\">this </span><span style=\"background-color:#d4d4ff\">analogy </span><span style=\"background-color:#b0b0ff\">because </span><span style=\"background-color:#b4b4ff\">it </span><span style=\"background-color:#b8b8ff\">seems </span><span style=\"background-color:#aaaaff\">to </span><span style=\"background-color:#9c9cff\">`` </span><span style=\"background-color:#acacff\">assimilate </span><span style=\"background-color:#ff3232\">the </span><span style=\"background-color:#ffe8e8\">status </span><span style=\"background-color:#aeaeff\">of </span><span style=\"background-color:#f8f8ff\">blacks </span><span style=\"background-color:#9494ff\">to </span><span style=\"background-color:#f6f6ff\">that </span><span style=\"background-color:#a4a4ff\">of </span><span style=\"background-color:#d6d6ff\">animals </span><span style=\"background-color:#aeaeff\">-- </span><span style=\"background-color:#b2b2ff\">as </span><span style=\"background-color:#ff2828\">a </span><span style=\"background-color:#ff3a3a\">mere </span><span style=\"background-color:#ffe2e2\">project </span><span style=\"background-color:#aeaeff\">of </span><span style=\"background-color:#eaeaff\">charity </span><span style=\"background-color:#bebeff\">, </span><span style=\"background-color:#babaff\">of </span><span style=\"background-color:#eeeeff\">humaneness </span><span style=\"background-color:#b8b8ff\">. </span><span style=\"background-color:#acacff\">'' </span></code>"
      ],
      "text/plain": [
       "<IPython.core.display.HTML object>"
      ]
     },
     "metadata": {},
     "output_type": "display_data"
    },
    {
     "name": "stdout",
     "output_type": "stream",
     "text": [
      "/data/sls/temp/belinkov/contextual-corr-analysis/contextualizers/bert_base_cased/ptb_pos_dev.hdf5\n",
      "tensor([ 3.9832e+00, -4.9681e-01,  7.9109e-02, -2.4946e-01, -8.0597e-01,\n",
      "        -2.6101e-01,  7.0035e-02, -1.9363e-01, -1.3799e-01,  3.5925e-01,\n",
      "        -1.5198e-01,  5.2325e-01,  2.4724e-01, -7.5173e-01, -1.5262e-01,\n",
      "        -5.7560e-01, -6.2994e-02,  4.8487e-02, -3.4374e-01, -5.3649e-01,\n",
      "        -5.5713e-02, -5.1273e-02, -1.9140e-01, -3.1050e-01,  1.2270e-01,\n",
      "        -1.2628e-02, -2.8163e-01, -2.6409e-02, -2.2891e-03,  4.2606e-03,\n",
      "        -3.1521e-01, -6.7553e-01,  4.9039e-01])\n"
     ]
    },
    {
     "data": {
      "text/html": [
       "<code><span style=\"background-color:#ff0808\">'' </span><span style=\"background-color:#c0c0ff\">Mr. </span><span style=\"background-color:#fff4f4\">Allen </span><span style=\"background-color:#e0e0ff\">objected </span><span style=\"background-color:#9e9eff\">to </span><span style=\"background-color:#dedeff\">this </span><span style=\"background-color:#fff6f6\">analogy </span><span style=\"background-color:#e6e6ff\">because </span><span style=\"background-color:#eeeeff\">it </span><span style=\"background-color:#ffd2d2\">seems </span><span style=\"background-color:#ececff\">to </span><span style=\"background-color:#ffbebe\">`` </span><span style=\"background-color:#ffe0e0\">assimilate </span><span style=\"background-color:#a4a4ff\">the </span><span style=\"background-color:#ececff\">status </span><span style=\"background-color:#b8b8ff\">of </span><span style=\"background-color:#f6f6ff\">blacks </span><span style=\"background-color:#fff8f8\">to </span><span style=\"background-color:#d4d4ff\">that </span><span style=\"background-color:#bcbcff\">of </span><span style=\"background-color:#f8f8ff\">animals </span><span style=\"background-color:#f8f8ff\">-- </span><span style=\"background-color:#e6e6ff\">as </span><span style=\"background-color:#d8d8ff\">a </span><span style=\"background-color:#fff0f0\">mere </span><span style=\"background-color:#fefeff\">project </span><span style=\"background-color:#dcdcff\">of </span><span style=\"background-color:#fcfcff\">charity </span><span style=\"background-color:#fefeff\">, </span><span style=\"background-color:#fffefe\">of </span><span style=\"background-color:#d6d6ff\">humaneness </span><span style=\"background-color:#acacff\">. </span><span style=\"background-color:#ffc2c2\">'' </span></code>"
      ],
      "text/plain": [
       "<IPython.core.display.HTML object>"
      ]
     },
     "metadata": {},
     "output_type": "display_data"
    },
    {
     "name": "stdout",
     "output_type": "stream",
     "text": [
      "/data/sls/temp/belinkov/contextual-corr-analysis/contextualizers/elmo_original/ptb_pos_dev.hdf5\n",
      "tensor([ 0.7013,  0.6478,  0.3855,  0.5900,  1.5422,  0.7732,  0.6873,  0.9304,\n",
      "         0.4678,  0.0546,  0.5760,  0.4618,  0.1950,  0.5713,  1.0508, -1.0140,\n",
      "         0.0375,  0.7976,  1.5433, -0.8771,  0.9314, -1.4972,  0.3910,  0.5247,\n",
      "         0.6174,  0.2633,  0.0860,  0.3916, -2.0147, -0.6181,  0.3197, -2.2558,\n",
      "        -0.5714])\n"
     ]
    },
    {
     "data": {
      "text/html": [
       "<code><span style=\"background-color:#ffa8a8\">'' </span><span style=\"background-color:#ffaeae\">Mr. </span><span style=\"background-color:#ffcece\">Allen </span><span style=\"background-color:#ffb6b6\">objected </span><span style=\"background-color:#ff5a5a\">to </span><span style=\"background-color:#ffa0a0\">this </span><span style=\"background-color:#ffaaaa\">analogy </span><span style=\"background-color:#ff9090\">because </span><span style=\"background-color:#ffc4c4\">it </span><span style=\"background-color:#fff8f8\">seems </span><span style=\"background-color:#ffb8b8\">to </span><span style=\"background-color:#ffc4c4\">`` </span><span style=\"background-color:#ffe6e6\">assimilate </span><span style=\"background-color:#ffb8b8\">the </span><span style=\"background-color:#ff8484\">status </span><span style=\"background-color:#8888ff\">of </span><span style=\"background-color:#fffafa\">blacks </span><span style=\"background-color:#ff9e9e\">to </span><span style=\"background-color:#ff5a5a\">that </span><span style=\"background-color:#9696ff\">of </span><span style=\"background-color:#ff9090\">animals </span><span style=\"background-color:#5c5cff\">-- </span><span style=\"background-color:#ffcece\">as </span><span style=\"background-color:#ffbebe\">a </span><span style=\"background-color:#ffb2b2\">mere </span><span style=\"background-color:#ffdede\">project </span><span style=\"background-color:#fff4f4\">of </span><span style=\"background-color:#ffcece\">charity </span><span style=\"background-color:#3c3cff\">, </span><span style=\"background-color:#b2b2ff\">of </span><span style=\"background-color:#ffd6d6\">humaneness </span><span style=\"background-color:#3030ff\">. </span><span style=\"background-color:#b8b8ff\">'' </span></code>"
      ],
      "text/plain": [
       "<IPython.core.display.HTML object>"
      ]
     },
     "metadata": {},
     "output_type": "display_data"
    },
    {
     "name": "stdout",
     "output_type": "stream",
     "text": [
      "/data/sls/temp/belinkov/contextual-corr-analysis/contextualizers/calypso_transformer_6_512_base/ptb_pos_dev.hdf5\n",
      "tensor([-2.4649, -1.8369, -1.6463, -0.7145,  1.1326,  0.9307, -0.6208,  0.0437,\n",
      "        -0.2807, -0.9724, -0.5708, -0.8745,  0.4913,  1.2845,  0.8726,  1.4332,\n",
      "         1.5971,  1.0952,  0.7763,  0.8081,  0.5407, -0.3606,  0.1589,  0.6349,\n",
      "         0.3808,  0.4263,  0.6432, -0.1013, -0.4132,  1.0824,  0.4050, -1.1271,\n",
      "        -1.5529])\n"
     ]
    },
    {
     "data": {
      "text/html": [
       "<code><span style=\"background-color:#2828ff\">'' </span><span style=\"background-color:#4646ff\">Mr. </span><span style=\"background-color:#5252ff\">Allen </span><span style=\"background-color:#a8a8ff\">objected </span><span style=\"background-color:#ff7c7c\">to </span><span style=\"background-color:#ff9090\">this </span><span style=\"background-color:#b2b2ff\">analogy </span><span style=\"background-color:#fffafa\">because </span><span style=\"background-color:#dcdcff\">it </span><span style=\"background-color:#8c8cff\">seems </span><span style=\"background-color:#b8b8ff\">to </span><span style=\"background-color:#9696ff\">`` </span><span style=\"background-color:#ffc2c2\">assimilate </span><span style=\"background-color:#ff6e6e\">the </span><span style=\"background-color:#ff9696\">status </span><span style=\"background-color:#ff6262\">of </span><span style=\"background-color:#ff5656\">blacks </span><span style=\"background-color:#ff8080\">to </span><span style=\"background-color:#ffa0a0\">that </span><span style=\"background-color:#ff9c9c\">of </span><span style=\"background-color:#ffbcbc\">animals </span><span style=\"background-color:#d2d2ff\">-- </span><span style=\"background-color:#ffeaea\">as </span><span style=\"background-color:#ffb0b0\">a </span><span style=\"background-color:#ffcece\">mere </span><span style=\"background-color:#ffcaca\">project </span><span style=\"background-color:#ffb0b0\">of </span><span style=\"background-color:#f2f2ff\">charity </span><span style=\"background-color:#cacaff\">, </span><span style=\"background-color:#ff8080\">of </span><span style=\"background-color:#ffcccc\">humaneness </span><span style=\"background-color:#7c7cff\">. </span><span style=\"background-color:#5858ff\">'' </span></code>"
      ],
      "text/plain": [
       "<IPython.core.display.HTML object>"
      ]
     },
     "metadata": {},
     "output_type": "display_data"
    },
    {
     "name": "stdout",
     "output_type": "stream",
     "text": [
      "/data/sls/temp/belinkov/contextual-corr-analysis/contextualizers/elmo_4x4096_512/ptb_pos_dev.hdf5\n",
      "tensor([ 0.3745, -0.2936, -0.3830, -0.4659, -0.5709,  0.2912, -0.3627, -0.6963,\n",
      "        -0.6156, -0.8012, -0.7590, -0.7611, -0.4056,  2.8838, -0.6332, -0.2432,\n",
      "        -0.2465, -0.6349, -0.1705, -0.4985, -0.3334, -0.6425, -0.5166,  1.7637,\n",
      "         1.7770, -0.8664, -0.3704, -0.4306, -0.5283, -0.5779, -0.3009, -0.5572,\n",
      "        -0.6292])\n"
     ]
    },
    {
     "data": {
      "text/html": [
       "<code><span style=\"background-color:#ffd0d0\">'' </span><span style=\"background-color:#dadaff\">Mr. </span><span style=\"background-color:#ceceff\">Allen </span><span style=\"background-color:#c4c4ff\">objected </span><span style=\"background-color:#b8b8ff\">to </span><span style=\"background-color:#ffdada\">this </span><span style=\"background-color:#d2d2ff\">analogy </span><span style=\"background-color:#aaaaff\">because </span><span style=\"background-color:#b2b2ff\">it </span><span style=\"background-color:#9e9eff\">seems </span><span style=\"background-color:#a2a2ff\">to </span><span style=\"background-color:#a2a2ff\">`` </span><span style=\"background-color:#ccccff\">assimilate </span><span style=\"background-color:#ff1a1a\">the </span><span style=\"background-color:#b0b0ff\">status </span><span style=\"background-color:#e0e0ff\">of </span><span style=\"background-color:#e0e0ff\">blacks </span><span style=\"background-color:#b0b0ff\">to </span><span style=\"background-color:#eaeaff\">that </span><span style=\"background-color:#c0c0ff\">of </span><span style=\"background-color:#d4d4ff\">animals </span><span style=\"background-color:#b0b0ff\">-- </span><span style=\"background-color:#bebeff\">as </span><span style=\"background-color:#ff4a4a\">a </span><span style=\"background-color:#ff4a4a\">mere </span><span style=\"background-color:#9696ff\">project </span><span style=\"background-color:#d0d0ff\">of </span><span style=\"background-color:#c8c8ff\">charity </span><span style=\"background-color:#bcbcff\">, </span><span style=\"background-color:#b8b8ff\">of </span><span style=\"background-color:#d8d8ff\">humaneness </span><span style=\"background-color:#babaff\">. </span><span style=\"background-color:#b2b2ff\">'' </span></code>"
      ],
      "text/plain": [
       "<IPython.core.display.HTML object>"
      ]
     },
     "metadata": {},
     "output_type": "display_data"
    }
   ],
   "source": [
    "for network in network_l:\n",
    "    # Set `representations`\n",
    "    representations = torch.tensor(h5_d[network][s_ix])\n",
    "    representations = representations[-1] if representations.dim() == 3 else representations # top layer\n",
    "    \n",
    "    # Set `activations_mod`, `sentence`\n",
    "    neuron_ix = neuron_sorts[network][method][0]\n",
    "    mean = means_d[network][layer, neuron_ix].item()\n",
    "    stdev = stdevs_d[network][layer, neuron_ix].item()\n",
    "    \n",
    "    activations = representations[:, neuron_ix]\n",
    "    activations = (activations - mean) / stdev\n",
    "    activations_mod = torch.sigmoid(activations)\n",
    "    sentence = sentence_d[s_ix].split(' ')\n",
    "    \n",
    "    # Set `html_str_l`\n",
    "    html_str_l = []\n",
    "    for act, tok in zip(activations_mod, sentence):\n",
    "        # Set `color_str`\n",
    "        act = float(act)\n",
    "        r, g, b, a = cmap(act)\n",
    "        red_str = '{0:02x}'.format(int(255.9*r)) # should be 256, but can't. Some vals became 1. \n",
    "        green_str = '{0:02x}'.format(int(255.9*g))\n",
    "        blue_str = '{0:02x}'.format(int(255.9*b))\n",
    "\n",
    "        color_str = red_str + green_str + blue_str\n",
    "\n",
    "        html_str_l.append('<span style=\"background-color:#{0}\">{1} </span>'.format(color_str, tok))\n",
    "        \n",
    "    print(network)\n",
    "    print(activations)\n",
    "    display(HTML('<code>' + ''.join(html_str_l) + '</code>'))"
   ]
  },
  {
   "cell_type": "markdown",
   "metadata": {},
   "source": [
    "### Helper for above"
   ]
  },
  {
   "cell_type": "code",
   "execution_count": 18,
   "metadata": {},
   "outputs": [],
   "source": [
    "network = network_l[0]"
   ]
  },
  {
   "cell_type": "code",
   "execution_count": 19,
   "metadata": {},
   "outputs": [],
   "source": [
    "T = torch.tensor(h5_d[network][s_ix])\n",
    "T = T[-1] if T.dim() == 3 else T # top layer"
   ]
  },
  {
   "cell_type": "code",
   "execution_count": 20,
   "metadata": {},
   "outputs": [
    {
     "data": {
      "text/plain": [
       "tensor([0.1262, 0.4670, 0.7223, 0.8051, 0.6896, 0.7348, 0.6632, 0.6796, 0.7511,\n",
       "        0.6887, 0.6649, 0.5212, 0.6843, 0.7846, 0.6775, 0.7815, 0.6075, 0.8356,\n",
       "        0.7813, 0.8682, 0.8878, 0.8529, 0.7015, 0.7186, 0.6843, 0.7149, 0.7312,\n",
       "        0.6934])"
      ]
     },
     "execution_count": 20,
     "metadata": {},
     "output_type": "execute_result"
    }
   ],
   "source": [
    "neuron_ix = neuron_sorts[network][method][0]\n",
    "activations = T[:, neuron_ix]\n",
    "activations = torch.sigmoid(activations)\n",
    "activations"
   ]
  },
  {
   "cell_type": "code",
   "execution_count": 21,
   "metadata": {},
   "outputs": [
    {
     "data": {
      "text/plain": [
       "[\"''\",\n",
       " 'None',\n",
       " 'believe',\n",
       " 'the',\n",
       " 'proposed',\n",
       " 'management',\n",
       " 'LBOs',\n",
       " 'will',\n",
       " 'be',\n",
       " 'easy',\n",
       " 'to',\n",
       " 'complete',\n",
       " ',',\n",
       " 'especially',\n",
       " 'at',\n",
       " 'B.',\n",
       " 'Altman',\n",
       " '&',\n",
       " 'Co.',\n",
       " ',',\n",
       " 'which',\n",
       " 'is',\n",
       " 'under',\n",
       " 'Chapter',\n",
       " '11',\n",
       " 'bankruptcy',\n",
       " 'protection',\n",
       " '.']"
      ]
     },
     "execution_count": 21,
     "metadata": {},
     "output_type": "execute_result"
    }
   ],
   "source": [
    "sentence = sentence_d[s_ix].split(' ')\n",
    "sentence"
   ]
  },
  {
   "cell_type": "code",
   "execution_count": 22,
   "metadata": {},
   "outputs": [],
   "source": [
    "html_str_l = []\n",
    "for act, tok in zip(activations, sentence):\n",
    "    # Set `color_str`\n",
    "    act = float(act)\n",
    "    r, g, b, a = cmap(act)\n",
    "    red_str = '{0:02x}'.format(int(256*r))\n",
    "    green_str = '{0:02x}'.format(int(256*g))\n",
    "    blue_str = '{0:02x}'.format(int(256*b))\n",
    "\n",
    "    color_str = red_str + green_str + blue_str\n",
    "    \n",
    "    html_str_l.append('<span style=\"background-color:#{0}\">{1} </span>'.format(color_str, tok))"
   ]
  },
  {
   "cell_type": "code",
   "execution_count": 23,
   "metadata": {},
   "outputs": [
    {
     "data": {
      "text/plain": [
       "['<span style=\"background-color:#0000a6\">\\'\\' </span>',\n",
       " '<span style=\"background-color:#dddd100\">None </span>',\n",
       " '<span style=\"background-color:#1001d1d\">believe </span>',\n",
       " '<span style=\"background-color:#e20000\">the </span>',\n",
       " '<span style=\"background-color:#1003d3d\">proposed </span>',\n",
       " '<span style=\"background-color:#1000d0d\">management </span>',\n",
       " '<span style=\"background-color:#1005959\">LBOs </span>',\n",
       " '<span style=\"background-color:#1004949\">will </span>',\n",
       " '<span style=\"background-color:#fe0000\">be </span>',\n",
       " '<span style=\"background-color:#1003d3d\">easy </span>',\n",
       " '<span style=\"background-color:#1005555\">to </span>',\n",
       " '<span style=\"background-color:#100e9e9\">complete </span>',\n",
       " '<span style=\"background-color:#1004141\">, </span>',\n",
       " '<span style=\"background-color:#ee0000\">especially </span>',\n",
       " '<span style=\"background-color:#1004949\">at </span>',\n",
       " '<span style=\"background-color:#ee0000\">B. </span>',\n",
       " '<span style=\"background-color:#1009191\">Altman </span>',\n",
       " '<span style=\"background-color:#d40000\">& </span>',\n",
       " '<span style=\"background-color:#ee0000\">Co. </span>',\n",
       " '<span style=\"background-color:#c20000\">, </span>',\n",
       " '<span style=\"background-color:#b80000\">which </span>',\n",
       " '<span style=\"background-color:#ca0000\">is </span>',\n",
       " '<span style=\"background-color:#1003131\">under </span>',\n",
       " '<span style=\"background-color:#1002121\">Chapter </span>',\n",
       " '<span style=\"background-color:#1004141\">11 </span>',\n",
       " '<span style=\"background-color:#1002121\">bankruptcy </span>',\n",
       " '<span style=\"background-color:#1001111\">protection </span>',\n",
       " '<span style=\"background-color:#1003939\">. </span>']"
      ]
     },
     "execution_count": 23,
     "metadata": {},
     "output_type": "execute_result"
    }
   ],
   "source": [
    "html_str_l"
   ]
  },
  {
   "cell_type": "code",
   "execution_count": 24,
   "metadata": {},
   "outputs": [
    {
     "data": {
      "text/html": [
       "<code><span style=\"background-color:#0000a6\">'' </span><span style=\"background-color:#dddd100\">None </span><span style=\"background-color:#1001d1d\">believe </span><span style=\"background-color:#e20000\">the </span><span style=\"background-color:#1003d3d\">proposed </span><span style=\"background-color:#1000d0d\">management </span><span style=\"background-color:#1005959\">LBOs </span><span style=\"background-color:#1004949\">will </span><span style=\"background-color:#fe0000\">be </span><span style=\"background-color:#1003d3d\">easy </span><span style=\"background-color:#1005555\">to </span><span style=\"background-color:#100e9e9\">complete </span><span style=\"background-color:#1004141\">, </span><span style=\"background-color:#ee0000\">especially </span><span style=\"background-color:#1004949\">at </span><span style=\"background-color:#ee0000\">B. </span><span style=\"background-color:#1009191\">Altman </span><span style=\"background-color:#d40000\">& </span><span style=\"background-color:#ee0000\">Co. </span><span style=\"background-color:#c20000\">, </span><span style=\"background-color:#b80000\">which </span><span style=\"background-color:#ca0000\">is </span><span style=\"background-color:#1003131\">under </span><span style=\"background-color:#1002121\">Chapter </span><span style=\"background-color:#1004141\">11 </span><span style=\"background-color:#1002121\">bankruptcy </span><span style=\"background-color:#1001111\">protection </span><span style=\"background-color:#1003939\">. </span></code>"
      ],
      "text/plain": [
       "<IPython.core.display.HTML object>"
      ]
     },
     "execution_count": 24,
     "metadata": {},
     "output_type": "execute_result"
    }
   ],
   "source": [
    "HTML('<code>' + ''.join(html_str_l) + '</code>')"
   ]
  },
  {
   "cell_type": "code",
   "execution_count": 25,
   "metadata": {},
   "outputs": [
    {
     "data": {
      "text/html": [
       "<code><span style=\"background-color:#0000a6\">'' </span><span style=\"background-color:#dddd100\">None </span><span style=\"background-color:#1001d1d\">believe </span><span style=\"background-color:#e20000\">the </span><span style=\"background-color:#1003d3d\">proposed </span><span style=\"background-color:#1000d0d\">management </span><span style=\"background-color:#1005959\">LBOs </span><span style=\"background-color:#1004949\">will </span><span style=\"background-color:#fe0000\">be </span><span style=\"background-color:#1003d3d\">easy </span><span style=\"background-color:#1005555\">to </span><span style=\"background-color:#100e9e9\">complete </span><span style=\"background-color:#1004141\">, </span><span style=\"background-color:#ee0000\">especially </span><span style=\"background-color:#1004949\">at </span><span style=\"background-color:#ee0000\">B. </span><span style=\"background-color:#1009191\">Altman </span><span style=\"background-color:#d40000\">& </span><span style=\"background-color:#ee0000\">Co. </span><span style=\"background-color:#c20000\">, </span><span style=\"background-color:#b80000\">which </span><span style=\"background-color:#ca0000\">is </span><span style=\"background-color:#1003131\">under </span><span style=\"background-color:#1002121\">Chapter </span><span style=\"background-color:#1004141\">11 </span><span style=\"background-color:#1002121\">bankruptcy </span><span style=\"background-color:#1001111\">protection </span><span style=\"background-color:#1003939\">. </span></code>"
      ],
      "text/plain": [
       "<IPython.core.display.HTML object>"
      ]
     },
     "metadata": {},
     "output_type": "display_data"
    },
    {
     "data": {
      "text/html": [
       "<code><span style=\"background-color:#0000a6\">'' </span><span style=\"background-color:#dddd100\">None </span><span style=\"background-color:#1001d1d\">believe </span><span style=\"background-color:#e20000\">the </span><span style=\"background-color:#1003d3d\">proposed </span><span style=\"background-color:#1000d0d\">management </span><span style=\"background-color:#1005959\">LBOs </span><span style=\"background-color:#1004949\">will </span><span style=\"background-color:#fe0000\">be </span><span style=\"background-color:#1003d3d\">easy </span><span style=\"background-color:#1005555\">to </span><span style=\"background-color:#100e9e9\">complete </span><span style=\"background-color:#1004141\">, </span><span style=\"background-color:#ee0000\">especially </span><span style=\"background-color:#1004949\">at </span><span style=\"background-color:#ee0000\">B. </span><span style=\"background-color:#1009191\">Altman </span><span style=\"background-color:#d40000\">& </span><span style=\"background-color:#ee0000\">Co. </span><span style=\"background-color:#c20000\">, </span><span style=\"background-color:#b80000\">which </span><span style=\"background-color:#ca0000\">is </span><span style=\"background-color:#1003131\">under </span><span style=\"background-color:#1002121\">Chapter </span><span style=\"background-color:#1004141\">11 </span><span style=\"background-color:#1002121\">bankruptcy </span><span style=\"background-color:#1001111\">protection </span><span style=\"background-color:#1003939\">. </span></code>"
      ],
      "text/plain": [
       "<IPython.core.display.HTML object>"
      ]
     },
     "metadata": {},
     "output_type": "display_data"
    }
   ],
   "source": [
    "display(HTML('<code>' + ''.join(html_str_l) + '</code>'))\n",
    "display(HTML('<code>' + ''.join(html_str_l) + '</code>'))"
   ]
  }
 ],
 "metadata": {
  "kernelspec": {
   "display_name": "Python 3",
   "language": "python",
   "name": "python3"
  },
  "language_info": {
   "codemirror_mode": {
    "name": "ipython",
    "version": 3
   },
   "file_extension": ".py",
   "mimetype": "text/x-python",
   "name": "python",
   "nbconvert_exporter": "python",
   "pygments_lexer": "ipython3",
   "version": "3.6.8"
  }
 },
 "nbformat": 4,
 "nbformat_minor": 2
}
