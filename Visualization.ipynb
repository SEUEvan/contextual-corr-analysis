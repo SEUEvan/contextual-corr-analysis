{
 "cells": [
  {
   "cell_type": "code",
   "execution_count": 1,
   "metadata": {},
   "outputs": [],
   "source": [
    "import json\n",
    "import h5py\n",
    "import torch\n",
    "import numpy as np\n",
    "from IPython.display import HTML"
   ]
  },
  {
   "cell_type": "code",
   "execution_count": 2,
   "metadata": {},
   "outputs": [
    {
     "data": {
      "text/plain": [
       "{'/data/sls/temp/belinkov/contextual-corr-analysis/contextualizers/bert_large_cased/ptb_pos_dev.hdf5': 1024,\n",
       " '/data/sls/temp/belinkov/contextual-corr-analysis/contextualizers/openai_transformer/ptb_pos_dev.hdf5': 768,\n",
       " '/data/sls/temp/belinkov/contextual-corr-analysis/contextualizers/bert_base_cased/ptb_pos_dev.hdf5': 768,\n",
       " '/data/sls/temp/belinkov/contextual-corr-analysis/contextualizers/elmo_original/ptb_pos_dev.hdf5': 1024,\n",
       " '/data/sls/temp/belinkov/contextual-corr-analysis/contextualizers/calypso_transformer_6_512_base/ptb_pos_dev.hdf5': 1024,\n",
       " '/data/sls/temp/belinkov/contextual-corr-analysis/contextualizers/elmo_4x4096_512/ptb_pos_dev.hdf5': 1024}"
      ]
     },
     "execution_count": 2,
     "metadata": {},
     "output_type": "execute_result"
    }
   ],
   "source": [
    "# Set `res_d`, `network_l`, `num_neurons_d`\n",
    "base = \"/data/sls/temp/johnmwu/contextual-corr-analysis/results1_\"\n",
    "res_fname = {method : base + method for method in \n",
    "                {\"maxcorr\", \"mincorr\", \"linreg\", \"svcca\", \"cka\"}}\n",
    "\n",
    "res_d = {}\n",
    "res_d[\"maxcorr\"] = json.load(open(res_fname[\"maxcorr\"], \"r\"))\n",
    "res_d[\"mincorr\"] = json.load(open(res_fname[\"mincorr\"], \"r\"))\n",
    "res_d[\"linreg\"] = json.load(open(res_fname[\"linreg\"], \"r\"))\n",
    "\n",
    "network_l = [network for network in res_d[\"maxcorr\"]]\n",
    "\n",
    "num_neurons_d = {}\n",
    "for network in network_l:\n",
    "    num_neurons_d[network] = len(res_d[\"maxcorr\"][network])\n",
    "\n",
    "num_neurons_d"
   ]
  },
  {
   "cell_type": "code",
   "execution_count": 3,
   "metadata": {},
   "outputs": [],
   "source": [
    "# set `repr_d` : {network: h5} and `sentence_d`\n",
    "repr_d = {}\n",
    "for network in network_l:\n",
    "    repr_d[network] = h5py.File(network)"
   ]
  },
  {
   "cell_type": "code",
   "execution_count": 4,
   "metadata": {},
   "outputs": [],
   "source": [
    "# set `sentence_d`\n",
    "sentence_d = json.loads(repr_d[network_l[0]]['sentence_to_index'][0]) # \"sentence dict\": {sentence, str ix}\n",
    "temp = {}\n",
    "for k, v in sentence_d.items():\n",
    "    temp[v] = k\n",
    "sentence_d = temp # now {str ix, sentence}"
   ]
  },
  {
   "cell_type": "code",
   "execution_count": 5,
   "metadata": {},
   "outputs": [],
   "source": [
    "# set `neuron_sorts`\n",
    "rk_methods = {\"maxcorr\", \"mincorr\", \"linreg\"}\n",
    "neuron_sorts = {network: {} for network in network_l}\n",
    "for network in network_l:\n",
    "    for method in rk_methods:\n",
    "        neuron_sorts[network][method] = [neuron[0] for neuron in res_d[method][network]]"
   ]
  },
  {
   "cell_type": "markdown",
   "metadata": {},
   "source": [
    "# Visualizations"
   ]
  },
  {
   "cell_type": "code",
   "execution_count": 6,
   "metadata": {},
   "outputs": [],
   "source": [
    "def get_color(a: float, zero=[1., 0., 0.], one=[0., 1., 0.]):\n",
    "    \"\"\"\n",
    "    Map from floats to colors. \n",
    "    \n",
    "    Parameters\n",
    "    ----\n",
    "    a : float in [0, 1]\n",
    "        Input float\n",
    "    zero : array_like (3,)\n",
    "        Color zero maps to \n",
    "    one : array_like (3,)\n",
    "        Color one maps to\n",
    "        \n",
    "    Returns\n",
    "    ----\n",
    "    color : array (3,)\n",
    "        Color in [r, g, b] format. Values are out of 1. \n",
    "    \"\"\"\n",
    "    \n",
    "    zero = np.array(zero)\n",
    "    one = np.array(one)\n",
    "    \n",
    "    return a*one + (1-a)*zero"
   ]
  },
  {
   "cell_type": "code",
   "execution_count": 7,
   "metadata": {},
   "outputs": [],
   "source": [
    "s_ix = '0' # \"sentence index\"\n",
    "method = \"maxcorr\""
   ]
  },
  {
   "cell_type": "code",
   "execution_count": 8,
   "metadata": {},
   "outputs": [
    {
     "name": "stdout",
     "output_type": "stream",
     "text": [
      "/data/sls/temp/belinkov/contextual-corr-analysis/contextualizers/bert_large_cased/ptb_pos_dev.hdf5\n",
      "tensor([-3.8095,  0.2694,  0.9530,  0.0565,  0.1418,  1.2517, -0.3645,  0.2179])\n"
     ]
    },
    {
     "data": {
      "text/html": [
       "<code><span style=\"background-color:#fa0500\">' </span><span style=\"background-color:#6e9100\">This </span><span style=\"background-color:#47b800\">is </span><span style=\"background-color:#7c8300\">loyalty </span><span style=\"background-color:#768900\">intelligently </span><span style=\"background-color:#38c600\">bestowed </span><span style=\"background-color:#976800\">. </span><span style=\"background-color:#728d00\">'' </span></code>"
      ],
      "text/plain": [
       "<IPython.core.display.HTML object>"
      ]
     },
     "metadata": {},
     "output_type": "display_data"
    },
    {
     "name": "stdout",
     "output_type": "stream",
     "text": [
      "/data/sls/temp/belinkov/contextual-corr-analysis/contextualizers/openai_transformer/ptb_pos_dev.hdf5\n",
      "tensor([-0.0450,  0.1546, -0.1223,  0.2820,  0.1724,  0.3260, -0.0457, -0.0681])\n"
     ]
    },
    {
     "data": {
      "text/html": [
       "<code><span style=\"background-color:#827d00\">' </span><span style=\"background-color:#768900\">This </span><span style=\"background-color:#877800\">is </span><span style=\"background-color:#6e9100\">loyalty </span><span style=\"background-color:#748a00\">intelligently </span><span style=\"background-color:#6b9400\">bestowed </span><span style=\"background-color:#827d00\">. </span><span style=\"background-color:#847b00\">'' </span></code>"
      ],
      "text/plain": [
       "<IPython.core.display.HTML object>"
      ]
     },
     "metadata": {},
     "output_type": "display_data"
    },
    {
     "name": "stdout",
     "output_type": "stream",
     "text": [
      "/data/sls/temp/belinkov/contextual-corr-analysis/contextualizers/bert_base_cased/ptb_pos_dev.hdf5\n",
      "tensor([ 1.6242,  0.2253, -0.4012, -0.0986, -0.7498, -0.1747, -0.7094,  0.3052])\n"
     ]
    },
    {
     "data": {
      "text/html": [
       "<code><span style=\"background-color:#2ad500\">' </span><span style=\"background-color:#718e00\">This </span><span style=\"background-color:#996600\">is </span><span style=\"background-color:#867900\">loyalty </span><span style=\"background-color:#ad5200\">intelligently </span><span style=\"background-color:#8b7400\">bestowed </span><span style=\"background-color:#ab5400\">. </span><span style=\"background-color:#6c9300\">'' </span></code>"
      ],
      "text/plain": [
       "<IPython.core.display.HTML object>"
      ]
     },
     "metadata": {},
     "output_type": "display_data"
    },
    {
     "name": "stdout",
     "output_type": "stream",
     "text": [
      "/data/sls/temp/belinkov/contextual-corr-analysis/contextualizers/elmo_original/ptb_pos_dev.hdf5\n",
      "tensor([ 0.6523,  0.3578, -0.1278,  0.2331,  0.2859,  0.4615, -2.4180, -0.8720])\n"
     ]
    },
    {
     "data": {
      "text/html": [
       "<code><span style=\"background-color:#57a800\">' </span><span style=\"background-color:#699600\">This </span><span style=\"background-color:#887700\">is </span><span style=\"background-color:#718e00\">loyalty </span><span style=\"background-color:#6d9200\">intelligently </span><span style=\"background-color:#629c00\">bestowed </span><span style=\"background-color:#ea1400\">. </span><span style=\"background-color:#b44b00\">'' </span></code>"
      ],
      "text/plain": [
       "<IPython.core.display.HTML object>"
      ]
     },
     "metadata": {},
     "output_type": "display_data"
    },
    {
     "name": "stdout",
     "output_type": "stream",
     "text": [
      "/data/sls/temp/belinkov/contextual-corr-analysis/contextualizers/calypso_transformer_6_512_base/ptb_pos_dev.hdf5\n",
      "tensor([-17.1190,  -3.6540,  24.2946,  26.8760,  18.2257,  15.8633,   5.1188,\n",
      "         -6.1252])\n"
     ]
    },
    {
     "data": {
      "text/html": [
       "<code><span style=\"background-color:#ff0000\">' </span><span style=\"background-color:#f90600\">This </span><span style=\"background-color:#00ff00\">is </span><span style=\"background-color:#00ff00\">loyalty </span><span style=\"background-color:#00ff00\">intelligently </span><span style=\"background-color:#00ff00\">bestowed </span><span style=\"background-color:#01fe00\">. </span><span style=\"background-color:#ff0000\">'' </span></code>"
      ],
      "text/plain": [
       "<IPython.core.display.HTML object>"
      ]
     },
     "metadata": {},
     "output_type": "display_data"
    },
    {
     "name": "stdout",
     "output_type": "stream",
     "text": [
      "/data/sls/temp/belinkov/contextual-corr-analysis/contextualizers/elmo_4x4096_512/ptb_pos_dev.hdf5\n",
      "tensor([ 0.2807,  1.1419, -0.2633,  0.2461,  0.1581, -0.1117, -0.1084, -0.2763])\n"
     ]
    },
    {
     "data": {
      "text/html": [
       "<code><span style=\"background-color:#6e9100\">' </span><span style=\"background-color:#3dc100\">This </span><span style=\"background-color:#906f00\">is </span><span style=\"background-color:#708f00\">loyalty </span><span style=\"background-color:#758a00\">intelligently </span><span style=\"background-color:#877800\">bestowed </span><span style=\"background-color:#867900\">. </span><span style=\"background-color:#916e00\">'' </span></code>"
      ],
      "text/plain": [
       "<IPython.core.display.HTML object>"
      ]
     },
     "metadata": {},
     "output_type": "display_data"
    }
   ],
   "source": [
    "for network in network_l:\n",
    "    # Set `representations`\n",
    "    representations = torch.tensor(repr_d[network][s_ix])\n",
    "    representations = representations[-1] if representations.dim() == 3 else representations # top layer\n",
    "    \n",
    "    # Set `activations`, `sentence`\n",
    "    neuron_ix = neuron_sorts[network][method][0]\n",
    "    activations = representations[:, neuron_ix]\n",
    "    activations_mod = torch.sigmoid(activations)\n",
    "    sentence = sentence_d[s_ix].split(' ')\n",
    "    \n",
    "    # Set `html_str_l`\n",
    "    html_str_l = []\n",
    "    for act, tok in zip(activations_mod, sentence):\n",
    "        # Set `color_str`\n",
    "        act = float(act)\n",
    "        r, g, b = get_color(act)\n",
    "        red_str = '{0:02x}'.format(int(255.9*r)) # should be 256, but can't. Sigmoi\n",
    "        green_str = '{0:02x}'.format(int(255.9*g))\n",
    "        blue_str = '{0:02x}'.format(int(255.9*b))\n",
    "\n",
    "        color_str = red_str + green_str + blue_str\n",
    "\n",
    "        html_str_l.append('<span style=\"background-color:#{0}\">{1} </span>'.format(color_str, tok))\n",
    "        \n",
    "    print(network)\n",
    "    print(activations)\n",
    "    display(HTML('<code>' + ''.join(html_str_l) + '</code>'))"
   ]
  },
  {
   "cell_type": "markdown",
   "metadata": {},
   "source": [
    "### Helper for above"
   ]
  },
  {
   "cell_type": "code",
   "execution_count": 9,
   "metadata": {},
   "outputs": [],
   "source": [
    "network = network_l[0]"
   ]
  },
  {
   "cell_type": "code",
   "execution_count": 10,
   "metadata": {},
   "outputs": [],
   "source": [
    "T = torch.tensor(repr_d[network][s_ix])\n",
    "T = T[-1] if T.dim() == 3 else T # top layer"
   ]
  },
  {
   "cell_type": "code",
   "execution_count": 11,
   "metadata": {},
   "outputs": [
    {
     "data": {
      "text/plain": [
       "tensor([0.0217, 0.5669, 0.7217, 0.5141, 0.5354, 0.7776, 0.4099, 0.5543])"
      ]
     },
     "execution_count": 11,
     "metadata": {},
     "output_type": "execute_result"
    }
   ],
   "source": [
    "neuron_ix = neuron_sorts[network][method][0]\n",
    "activations = T[:, neuron_ix]\n",
    "activations = torch.sigmoid(activations)\n",
    "activations"
   ]
  },
  {
   "cell_type": "code",
   "execution_count": 12,
   "metadata": {},
   "outputs": [
    {
     "data": {
      "text/plain": [
       "[\"'\", 'This', 'is', 'loyalty', 'intelligently', 'bestowed', '.', \"''\"]"
      ]
     },
     "execution_count": 12,
     "metadata": {},
     "output_type": "execute_result"
    }
   ],
   "source": [
    "sentence = sentence_d[s_ix].split(' ')\n",
    "sentence"
   ]
  },
  {
   "cell_type": "code",
   "execution_count": 13,
   "metadata": {},
   "outputs": [],
   "source": [
    "html_str_l = []\n",
    "for act, tok in zip(activations, sentence):\n",
    "    # Set `color_str`\n",
    "    act = float(act)\n",
    "    r, g, b = get_color(act)\n",
    "    red_str = '{0:02x}'.format(int(256*r))\n",
    "    green_str = '{0:02x}'.format(int(256*g))\n",
    "    blue_str = '{0:02x}'.format(int(256*b))\n",
    "\n",
    "    color_str = red_str + green_str + blue_str\n",
    "    \n",
    "    html_str_l.append('<span style=\"background-color:#{0}\">{1} </span>'.format(color_str, tok))"
   ]
  },
  {
   "cell_type": "code",
   "execution_count": 14,
   "metadata": {},
   "outputs": [
    {
     "data": {
      "text/plain": [
       "['<span style=\"background-color:#fa0500\">\\' </span>',\n",
       " '<span style=\"background-color:#6e9100\">This </span>',\n",
       " '<span style=\"background-color:#47b800\">is </span>',\n",
       " '<span style=\"background-color:#7c8300\">loyalty </span>',\n",
       " '<span style=\"background-color:#768900\">intelligently </span>',\n",
       " '<span style=\"background-color:#38c700\">bestowed </span>',\n",
       " '<span style=\"background-color:#976800\">. </span>',\n",
       " '<span style=\"background-color:#728d00\">\\'\\' </span>']"
      ]
     },
     "execution_count": 14,
     "metadata": {},
     "output_type": "execute_result"
    }
   ],
   "source": [
    "html_str_l"
   ]
  },
  {
   "cell_type": "code",
   "execution_count": 15,
   "metadata": {},
   "outputs": [
    {
     "data": {
      "text/html": [
       "<code><span style=\"background-color:#fa0500\">' </span><span style=\"background-color:#6e9100\">This </span><span style=\"background-color:#47b800\">is </span><span style=\"background-color:#7c8300\">loyalty </span><span style=\"background-color:#768900\">intelligently </span><span style=\"background-color:#38c700\">bestowed </span><span style=\"background-color:#976800\">. </span><span style=\"background-color:#728d00\">'' </span></code>"
      ],
      "text/plain": [
       "<IPython.core.display.HTML object>"
      ]
     },
     "execution_count": 15,
     "metadata": {},
     "output_type": "execute_result"
    }
   ],
   "source": [
    "HTML('<code>' + ''.join(html_str_l) + '</code>')"
   ]
  },
  {
   "cell_type": "code",
   "execution_count": 16,
   "metadata": {},
   "outputs": [
    {
     "data": {
      "text/html": [
       "<code><span style=\"background-color:#fa0500\">' </span><span style=\"background-color:#6e9100\">This </span><span style=\"background-color:#47b800\">is </span><span style=\"background-color:#7c8300\">loyalty </span><span style=\"background-color:#768900\">intelligently </span><span style=\"background-color:#38c700\">bestowed </span><span style=\"background-color:#976800\">. </span><span style=\"background-color:#728d00\">'' </span></code>"
      ],
      "text/plain": [
       "<IPython.core.display.HTML object>"
      ]
     },
     "metadata": {},
     "output_type": "display_data"
    },
    {
     "data": {
      "text/html": [
       "<code><span style=\"background-color:#fa0500\">' </span><span style=\"background-color:#6e9100\">This </span><span style=\"background-color:#47b800\">is </span><span style=\"background-color:#7c8300\">loyalty </span><span style=\"background-color:#768900\">intelligently </span><span style=\"background-color:#38c700\">bestowed </span><span style=\"background-color:#976800\">. </span><span style=\"background-color:#728d00\">'' </span></code>"
      ],
      "text/plain": [
       "<IPython.core.display.HTML object>"
      ]
     },
     "metadata": {},
     "output_type": "display_data"
    }
   ],
   "source": [
    "display(HTML('<code>' + ''.join(html_str_l) + '</code>'))\n",
    "display(HTML('<code>' + ''.join(html_str_l) + '</code>'))"
   ]
  }
 ],
 "metadata": {
  "kernelspec": {
   "display_name": "Python 3",
   "language": "python",
   "name": "python3"
  },
  "language_info": {
   "codemirror_mode": {
    "name": "ipython",
    "version": 3
   },
   "file_extension": ".py",
   "mimetype": "text/x-python",
   "name": "python",
   "nbconvert_exporter": "python",
   "pygments_lexer": "ipython3",
   "version": "3.7.3"
  }
 },
 "nbformat": 4,
 "nbformat_minor": 2
}
