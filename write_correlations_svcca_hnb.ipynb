{
 "cells": [
  {
   "cell_type": "code",
   "execution_count": 3,
   "metadata": {},
   "outputs": [],
   "source": [
    "import torch\n",
    "import json\n",
    "from tqdm import tqdm\n",
    "from itertools import product as p\n",
    "import numpy as np"
   ]
  },
  {
   "cell_type": "markdown",
   "metadata": {},
   "source": [
    "# Load fake activations"
   ]
  },
  {
   "cell_type": "code",
   "execution_count": 4,
   "metadata": {},
   "outputs": [],
   "source": [
    "class A:\n",
    "    pass\n",
    "self = A()"
   ]
  },
  {
   "cell_type": "code",
   "execution_count": 5,
   "metadata": {},
   "outputs": [],
   "source": [
    "self.num_neurons_d = {} # {fname, int}\n",
    "self.representations_d = {} # {fname, tensor}\n",
    "f1, f2, f3 = \"foo\", \"bar\", \"baz\"\n",
    "representation_files = [f1, f2, f3]"
   ]
  },
  {
   "cell_type": "code",
   "execution_count": 6,
   "metadata": {},
   "outputs": [],
   "source": [
    "# initialize `num_neurons_d`, `representations_d` with fake data\n",
    "n1, n2, n3 = 100, 80, 70\n",
    "nword = 1000\n",
    "t1 = torch.randn(nword, n1)\n",
    "t2 = torch.randn(nword, n2)\n",
    "t3 = torch.randn(nword, n3)\n",
    "self.num_neurons_d[f1] = n1\n",
    "self.num_neurons_d[f2] = n2\n",
    "self.num_neurons_d[f3] = n3\n",
    "self.representations_d[f1] = t1\n",
    "self.representations_d[f2] = t2\n",
    "self.representations_d[f3] = t3"
   ]
  },
  {
   "cell_type": "code",
   "execution_count": 7,
   "metadata": {},
   "outputs": [],
   "source": [
    "self.percent_variance = 0.99\n",
    "self.normalize_dimensions = True"
   ]
  },
  {
   "cell_type": "markdown",
   "metadata": {},
   "source": [
    "# Compute Correlations"
   ]
  },
  {
   "cell_type": "code",
   "execution_count": 8,
   "metadata": {},
   "outputs": [],
   "source": [
    "def compute_correlations(self):\n",
    "    \"\"\"\n",
    "    Set `self.transforms` to be the svcca transform matrix M. \n",
    "\n",
    "    If X is the activation tensor, then X M is the svcca tensor. \n",
    "    \"\"\" \n",
    "    # Normalize\n",
    "    if self.normalize_dimensions:\n",
    "        for network in tqdm(self.representations_d, desc='mu, sigma'):\n",
    "            t = self.representations_d[network]\n",
    "            means = t.mean(0, keepdim=True)\n",
    "            stdevs = t.std(0, keepdim=True)\n",
    "\n",
    "            self.representations_d[network] = (t - means) / stdevs\n",
    "\n",
    "    # Set `whitening_transforms`, `pca_directions`\n",
    "    whitening_transforms = {} # {network: whitening_tensor}\n",
    "    pca_directions = {} \n",
    "    for network in tqdm(self.representations_d, desc='pca'):\n",
    "        X = self.representations_d[network]\n",
    "        U, S, V = torch.svd(X)\n",
    "\n",
    "        var_sums = torch.cumsum(S.pow(2), 0)\n",
    "        wanted_size = torch.sum(var_sums.lt(var_sums[-1] * self.percent_variance)).item()\n",
    "\n",
    "        print('For network', network, 'wanted size is', wanted_size)\n",
    "\n",
    "        whitening_transform = torch.mm(V, torch.diag(1/S))\n",
    "        whitening_transforms[network] = whitening_transform[:, :wanted_size]\n",
    "        pca_directions[network] = U[:, :wanted_size]\n",
    "\n",
    "    # Set `self.transforms` to be {network: {other: svcca_transform}}\n",
    "    self.transforms = {network: {} for network in self.representations_d}\n",
    "    for network, other_network in tqdm(p(self.representations_d,\n",
    "                                         self.representations_d), desc='cca',\n",
    "                                       total=len(self.representations_d)**2):\n",
    "\n",
    "        if network == other_network:\n",
    "            continue\n",
    "\n",
    "        if other_network in self.transforms[network].keys(): # TO DO: optimize?\n",
    "            continue\n",
    "\n",
    "        X = pca_directions[network]\n",
    "        Y = pca_directions[other_network]\n",
    "\n",
    "        # Perform SVD for CCA.\n",
    "        # u s vt = Xt Y\n",
    "        # s = ut Xt Y v\n",
    "        u, s, v = torch.svd(torch.mm(X.t(), Y))\n",
    "\n",
    "        self.transforms[network][other_network] = torch.mm(whitening_transforms[network], u)\n",
    "        self.transforms[other_network][network] = torch.mm(whitening_transforms[other_network], v)"
   ]
  },
  {
   "cell_type": "code",
   "execution_count": 9,
   "metadata": {},
   "outputs": [
    {
     "name": "stderr",
     "output_type": "stream",
     "text": [
      "mu, sigma: 100%|█| 3/3 [00:00<00:00, 1081.19it/s]\n",
      "pca: 100%|█| 3/3 [00:00<00:00, 256.29it/s]\n",
      "cca: 100%|█| 9/9 [00:00<00:00, 1364.74it/s]"
     ]
    },
    {
     "name": "stdout",
     "output_type": "stream",
     "text": [
      "For network foo wanted size is 97\n",
      "For network bar wanted size is 78\n",
      "For network baz wanted size is 68\n"
     ]
    },
    {
     "name": "stderr",
     "output_type": "stream",
     "text": [
      "\n"
     ]
    }
   ],
   "source": [
    "compute_correlations(self)"
   ]
  },
  {
   "cell_type": "markdown",
   "metadata": {},
   "source": [
    "# Build function"
   ]
  },
  {
   "cell_type": "code",
   "execution_count": 10,
   "metadata": {},
   "outputs": [],
   "source": [
    "output_file = \"temp\""
   ]
  },
  {
   "cell_type": "code",
   "execution_count": 11,
   "metadata": {},
   "outputs": [],
   "source": [
    "torch.save(self.transforms, output_file)"
   ]
  },
  {
   "cell_type": "code",
   "execution_count": 13,
   "metadata": {
    "collapsed": true
   },
   "outputs": [
    {
     "data": {
      "text/plain": [
       "{'foo': {'bar': tensor([[ 4.3389e-03, -4.0581e-03, -4.2364e-03,  ...,  3.1170e-03,\n",
       "            2.2676e-04,  5.1054e-03],\n",
       "          [-2.8659e-03, -3.0557e-03,  5.2872e-03,  ..., -3.2413e-03,\n",
       "           -4.4404e-03,  6.3419e-06],\n",
       "          [ 4.9767e-03,  1.1773e-05, -2.2116e-03,  ..., -1.4815e-03,\n",
       "           -1.6110e-03,  2.2029e-05],\n",
       "          ...,\n",
       "          [-4.1768e-03, -1.7934e-03, -4.4769e-03,  ...,  3.9952e-03,\n",
       "            1.2988e-03,  4.4865e-03],\n",
       "          [-8.5371e-03, -2.1010e-03,  4.0864e-03,  ..., -4.9519e-04,\n",
       "            1.4108e-03,  1.8515e-03],\n",
       "          [-1.3414e-03, -9.9751e-04,  6.0142e-03,  ..., -1.7713e-03,\n",
       "           -2.3972e-03, -4.3518e-03]]),\n",
       "  'baz': tensor([[ 0.0015, -0.0018,  0.0027,  ...,  0.0008, -0.0025,  0.0014],\n",
       "          [ 0.0057,  0.0086, -0.0023,  ...,  0.0048, -0.0022,  0.0031],\n",
       "          [ 0.0081,  0.0026, -0.0021,  ...,  0.0001, -0.0022, -0.0004],\n",
       "          ...,\n",
       "          [ 0.0046,  0.0046,  0.0002,  ..., -0.0054, -0.0055, -0.0027],\n",
       "          [-0.0006, -0.0030, -0.0038,  ...,  0.0019, -0.0058,  0.0037],\n",
       "          [ 0.0003, -0.0003, -0.0030,  ..., -0.0018,  0.0020,  0.0006]])},\n",
       " 'bar': {'foo': tensor([[-3.4699e-03,  4.8023e-03,  7.2600e-03,  ..., -1.0937e-03,\n",
       "           -3.7943e-03,  3.9118e-03],\n",
       "          [-8.3828e-04, -3.0784e-03,  4.9055e-03,  ...,  1.0976e-03,\n",
       "            2.7513e-03,  4.0534e-04],\n",
       "          [ 6.9761e-03, -3.9411e-03, -7.0066e-03,  ..., -1.1942e-03,\n",
       "            6.5258e-04,  6.3279e-03],\n",
       "          ...,\n",
       "          [ 1.2516e-03, -3.5608e-03, -4.6675e-04,  ...,  4.9686e-03,\n",
       "            1.0484e-03,  3.5444e-03],\n",
       "          [ 3.6044e-03, -4.7851e-03,  9.8299e-05,  ...,  1.2457e-03,\n",
       "           -2.6200e-04, -7.1437e-03],\n",
       "          [ 1.1942e-04, -2.2789e-03,  8.4171e-04,  ...,  1.9960e-03,\n",
       "            3.3007e-03, -6.4452e-04]]),\n",
       "  'baz': tensor([[ 1.2154e-03,  8.2578e-04,  1.1727e-03,  ...,  1.4446e-03,\n",
       "           -5.8637e-03, -3.4681e-03],\n",
       "          [-4.8668e-03,  2.2756e-03, -3.3471e-03,  ...,  8.6187e-03,\n",
       "           -3.0699e-03, -4.7725e-03],\n",
       "          [ 2.8607e-03,  3.3113e-03,  2.6555e-03,  ...,  2.9280e-03,\n",
       "           -5.7056e-03,  5.8124e-03],\n",
       "          ...,\n",
       "          [ 1.2418e-03,  6.4533e-04, -8.0961e-03,  ..., -8.8660e-03,\n",
       "           -7.1111e-03, -3.9893e-03],\n",
       "          [ 2.3928e-03,  7.4679e-03,  8.9671e-04,  ..., -3.1610e-05,\n",
       "           -6.6926e-03,  5.4938e-03],\n",
       "          [-4.5374e-03, -1.3833e-03, -3.7111e-03,  ...,  2.4637e-03,\n",
       "           -5.6718e-03,  1.4757e-03]])},\n",
       " 'baz': {'foo': tensor([[ 2.7735e-03,  9.6840e-03, -3.9404e-03,  ..., -1.2900e-03,\n",
       "            1.6666e-04, -2.7469e-03],\n",
       "          [-8.0975e-04, -3.6509e-03,  4.5649e-03,  ...,  1.9943e-03,\n",
       "            9.6641e-04, -2.5041e-03],\n",
       "          [ 1.3450e-03,  5.2705e-03,  4.6277e-03,  ...,  5.8980e-05,\n",
       "            6.1696e-03, -1.2905e-03],\n",
       "          ...,\n",
       "          [ 2.4776e-03, -1.0153e-02, -3.5961e-03,  ...,  2.2972e-03,\n",
       "           -6.6973e-03, -5.0505e-03],\n",
       "          [ 2.7108e-03, -5.5154e-03, -1.5870e-03,  ..., -5.3547e-03,\n",
       "           -2.5490e-03,  4.8491e-03],\n",
       "          [-3.0064e-03, -2.5750e-03,  4.6026e-03,  ...,  3.5459e-03,\n",
       "            2.1094e-03, -4.2538e-04]]),\n",
       "  'bar': tensor([[-3.0533e-03, -7.5380e-03, -3.7145e-03,  ...,  1.5699e-03,\n",
       "            4.3563e-03,  3.2397e-03],\n",
       "          [ 3.6768e-03, -4.1767e-04, -8.2206e-04,  ..., -1.9441e-03,\n",
       "            2.7546e-03,  4.1525e-03],\n",
       "          [ 3.6803e-03, -4.1553e-03, -4.7637e-03,  ..., -4.1236e-03,\n",
       "            3.3921e-04, -9.9405e-04],\n",
       "          ...,\n",
       "          [-1.8663e-03,  2.8581e-03, -5.9093e-03,  ...,  4.1635e-04,\n",
       "            9.2075e-03,  2.5151e-03],\n",
       "          [-2.0238e-03, -3.8955e-03, -3.6727e-05,  ..., -3.0225e-03,\n",
       "            6.4360e-05, -1.7906e-03],\n",
       "          [-4.8660e-03,  6.4726e-04,  9.3581e-03,  ..., -3.0871e-04,\n",
       "            7.4632e-03, -1.8715e-03]])}}"
      ]
     },
     "execution_count": 13,
     "metadata": {},
     "output_type": "execute_result"
    }
   ],
   "source": [
    "torch.load(output_file)"
   ]
  }
 ],
 "metadata": {
  "kernelspec": {
   "display_name": "Python 3",
   "language": "python",
   "name": "python3"
  },
  "language_info": {
   "codemirror_mode": {
    "name": "ipython",
    "version": 3
   },
   "file_extension": ".py",
   "mimetype": "text/x-python",
   "name": "python",
   "nbconvert_exporter": "python",
   "pygments_lexer": "ipython3",
   "version": "3.7.3"
  }
 },
 "nbformat": 4,
 "nbformat_minor": 2
}
