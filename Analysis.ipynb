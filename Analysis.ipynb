{
 "cells": [
  {
   "cell_type": "code",
   "execution_count": 1,
   "metadata": {},
   "outputs": [],
   "source": [
    "import json\n",
    "import matplotlib.pyplot as plt\n",
    "import numpy as np\n",
    "import pandas as pd\n",
    "from os.path import basename, dirname"
   ]
  },
  {
   "cell_type": "code",
   "execution_count": 2,
   "metadata": {},
   "outputs": [],
   "source": [
    "# Set `res_d`\n",
    "base = \"/data/sls/temp/johnmwu/contextual-corr-analysis/results1_\"\n",
    "res_fname = {method : base + method for method in \n",
    "                {\"maxcorr\", \"mincorr\", \"linreg\", \"svcca\", \"cka\"}}\n",
    "\n",
    "res_d = {}\n",
    "res_d[\"maxcorr\"] = json.load(open(res_fname[\"maxcorr\"], \"r\"))\n",
    "res_d[\"mincorr\"] = json.load(open(res_fname[\"mincorr\"], \"r\"))\n",
    "res_d[\"linreg\"] = json.load(open(res_fname[\"linreg\"], \"r\"))\n",
    "\n",
    "network_l = [network for network in res_d[\"maxcorr\"]]"
   ]
  },
  {
   "cell_type": "code",
   "execution_count": 3,
   "metadata": {},
   "outputs": [
    {
     "data": {
      "text/plain": [
       "{'/data/sls/temp/belinkov/contextual-corr-analysis/contextualizers/bert_large_cased/ptb_pos_dev.hdf5': 1024,\n",
       " '/data/sls/temp/belinkov/contextual-corr-analysis/contextualizers/openai_transformer/ptb_pos_dev.hdf5': 768,\n",
       " '/data/sls/temp/belinkov/contextual-corr-analysis/contextualizers/bert_base_cased/ptb_pos_dev.hdf5': 768,\n",
       " '/data/sls/temp/belinkov/contextual-corr-analysis/contextualizers/elmo_original/ptb_pos_dev.hdf5': 1024,\n",
       " '/data/sls/temp/belinkov/contextual-corr-analysis/contextualizers/calypso_transformer_6_512_base/ptb_pos_dev.hdf5': 1024,\n",
       " '/data/sls/temp/belinkov/contextual-corr-analysis/contextualizers/elmo_4x4096_512/ptb_pos_dev.hdf5': 1024}"
      ]
     },
     "execution_count": 3,
     "metadata": {},
     "output_type": "execute_result"
    }
   ],
   "source": [
    "# Set `network_l`, `num_neurons_d`\n",
    "num_neurons_d = {}\n",
    "for network in network_l:\n",
    "    num_neurons_d[network] = len(res_d[\"maxcorr\"][network])\n",
    "\n",
    "num_neurons_d"
   ]
  },
  {
   "cell_type": "markdown",
   "metadata": {},
   "source": [
    "# Sorts"
   ]
  },
  {
   "cell_type": "code",
   "execution_count": 4,
   "metadata": {},
   "outputs": [],
   "source": [
    "rk_methods = {\"maxcorr\", \"mincorr\", \"linreg\"}"
   ]
  },
  {
   "cell_type": "code",
   "execution_count": 5,
   "metadata": {},
   "outputs": [],
   "source": [
    "neuron_sorts = {network: {} for network in network_l}\n",
    "for network in network_l:\n",
    "    for method in rk_methods:\n",
    "        neuron_sorts[network][method] = [neuron[0] for neuron in res_d[method][network]]"
   ]
  },
  {
   "cell_type": "code",
   "execution_count": 6,
   "metadata": {},
   "outputs": [],
   "source": [
    "# helper\n",
    "# network = network_l[0]\n",
    "\n",
    "# method = \"maxcorr\"\n",
    "# ranks = [neuron_sorts[network][method].index(i) for i in range(len(neuron_sorts[network][method]))]\n",
    "# ranks\n",
    "\n",
    "# rk_ar = np.stack([\n",
    "#             [neuron_sorts[network][method].index(i) for i in range(len(neuron_sorts[network][method]))]\n",
    "#                       for method in rk_methods\n",
    "# ])\n",
    "\n",
    "# rk_ar"
   ]
  },
  {
   "cell_type": "code",
   "execution_count": 7,
   "metadata": {},
   "outputs": [],
   "source": [
    "# Set `rk_ar_d`, `rk_df_d`, `spearman_d`\n",
    "rk_ar_d = {}\n",
    "rk_df_d = {}\n",
    "spearman_d = {}\n",
    "for network in network_l:\n",
    "    # rk_ar[method_ix, neuron] = rank\n",
    "    # need to invert the permutation\n",
    "    rk_ar = np.stack([\n",
    "            [neuron_sorts[network][method].index(neuron) for neuron in range(len(neuron_sorts[network][method]))]\n",
    "                      for method in rk_methods\n",
    "    ]).T\n",
    "    rk_df = pd.DataFrame(rk_ar, columns=list(rk_methods))\n",
    "    \n",
    "    rk_ar_d[network] = rk_ar\n",
    "    rk_df_d[network] = rk_df\n",
    "    spearman_d[network] = rk_df.corr()"
   ]
  },
  {
   "cell_type": "code",
   "execution_count": 8,
   "metadata": {},
   "outputs": [
    {
     "name": "stdout",
     "output_type": "stream",
     "text": [
      "/data/sls/temp/belinkov/contextual-corr-analysis/contextualizers/bert_large_cased/ptb_pos_dev.hdf5\n",
      "[[799 706 644]\n",
      " [ 35  48  32]\n",
      " [436 589 429]\n",
      " ...\n",
      " [508 325 475]\n",
      " [904 912 845]\n",
      " [815 869 799]]\n",
      "           linreg   maxcorr   mincorr\n",
      "linreg   1.000000  0.822364  0.825473\n",
      "maxcorr  0.822364  1.000000  0.833914\n",
      "mincorr  0.825473  0.833914  1.000000\n",
      "/data/sls/temp/belinkov/contextual-corr-analysis/contextualizers/openai_transformer/ptb_pos_dev.hdf5\n",
      "[[ 54  62  54]\n",
      " [728 553 645]\n",
      " [159  80  67]\n",
      " ...\n",
      " [745 695 704]\n",
      " [757 760 722]\n",
      " [358 302 287]]\n",
      "           linreg   maxcorr   mincorr\n",
      "linreg   1.000000  0.807733  0.793264\n",
      "maxcorr  0.807733  1.000000  0.763334\n",
      "mincorr  0.793264  0.763334  1.000000\n",
      "/data/sls/temp/belinkov/contextual-corr-analysis/contextualizers/bert_base_cased/ptb_pos_dev.hdf5\n",
      "[[579 344 510]\n",
      " [196 341 376]\n",
      " [383 409 571]\n",
      " ...\n",
      " [689 350 649]\n",
      " [151 380 215]\n",
      " [272 148  56]]\n",
      "           linreg   maxcorr   mincorr\n",
      "linreg   1.000000  0.769092  0.777040\n",
      "maxcorr  0.769092  1.000000  0.756867\n",
      "mincorr  0.777040  0.756867  1.000000\n",
      "/data/sls/temp/belinkov/contextual-corr-analysis/contextualizers/elmo_original/ptb_pos_dev.hdf5\n",
      "[[251  63 651]\n",
      " [704 888 733]\n",
      " [381 369 182]\n",
      " ...\n",
      " [179 119 120]\n",
      " [834 679 871]\n",
      " [495 260 753]]\n",
      "           linreg   maxcorr   mincorr\n",
      "linreg   1.000000  0.698621  0.753838\n",
      "maxcorr  0.698621  1.000000  0.719712\n",
      "mincorr  0.753838  0.719712  1.000000\n",
      "/data/sls/temp/belinkov/contextual-corr-analysis/contextualizers/calypso_transformer_6_512_base/ptb_pos_dev.hdf5\n",
      "[[ 23  29  42]\n",
      " [846 731 496]\n",
      " [488 689 483]\n",
      " ...\n",
      " [871 435 371]\n",
      " [351 185 478]\n",
      " [925 712 827]]\n",
      "           linreg   maxcorr   mincorr\n",
      "linreg   1.000000  0.561620  0.618887\n",
      "maxcorr  0.561620  1.000000  0.766353\n",
      "mincorr  0.618887  0.766353  1.000000\n",
      "/data/sls/temp/belinkov/contextual-corr-analysis/contextualizers/elmo_4x4096_512/ptb_pos_dev.hdf5\n",
      "[[  8  14  14]\n",
      " [335 788 545]\n",
      " [ 25   8 124]\n",
      " ...\n",
      " [564 307  62]\n",
      " [623 450 519]\n",
      " [148 104 214]]\n",
      "           linreg   maxcorr   mincorr\n",
      "linreg   1.000000  0.708093  0.755254\n",
      "maxcorr  0.708093  1.000000  0.727291\n",
      "mincorr  0.755254  0.727291  1.000000\n"
     ]
    }
   ],
   "source": [
    "for network in network_l:\n",
    "    print(network)\n",
    "    print(rk_ar_d[network])\n",
    "    print(spearman_d[network])"
   ]
  },
  {
   "cell_type": "markdown",
   "metadata": {},
   "source": [
    "# Distributions\n",
    "Currently only for bert large. "
   ]
  },
  {
   "cell_type": "code",
   "execution_count": 9,
   "metadata": {},
   "outputs": [],
   "source": [
    "network = network_l[0] # bert large"
   ]
  },
  {
   "cell_type": "markdown",
   "metadata": {},
   "source": [
    "### MaxMinCorr"
   ]
  },
  {
   "cell_type": "code",
   "execution_count": 10,
   "metadata": {},
   "outputs": [],
   "source": [
    "method = \"maxcorr\""
   ]
  },
  {
   "cell_type": "code",
   "execution_count": 11,
   "metadata": {},
   "outputs": [],
   "source": [
    "corr_ar = np.stack([\n",
    "    list(notated_neuron[1].values())\n",
    "    for notated_neuron in res_d[method][network]\n",
    "])\n",
    "corr_df = pd.DataFrame(np.abs(corr_ar), columns=[basename(dirname(net)) for net in network_l if net != network])"
   ]
  },
  {
   "cell_type": "code",
   "execution_count": 12,
   "metadata": {},
   "outputs": [
    {
     "data": {
      "text/plain": [
       "bert_base_cased                   659\n",
       "openai_transformer                124\n",
       "calypso_transformer_6_512_base     88\n",
       "elmo_4x4096_512                    78\n",
       "elmo_original                      75\n",
       "dtype: int64"
      ]
     },
     "execution_count": 12,
     "metadata": {},
     "output_type": "execute_result"
    }
   ],
   "source": [
    "# Extremely biased for maxcorr\n",
    "corr_df.idxmax(axis=1).value_counts()"
   ]
  },
  {
   "cell_type": "code",
   "execution_count": 13,
   "metadata": {},
   "outputs": [
    {
     "data": {
      "text/plain": [
       "openai_transformer                325\n",
       "calypso_transformer_6_512_base    279\n",
       "elmo_4x4096_512                   199\n",
       "elmo_original                     156\n",
       "bert_base_cased                    65\n",
       "dtype: int64"
      ]
     },
     "execution_count": 13,
     "metadata": {},
     "output_type": "execute_result"
    }
   ],
   "source": [
    "# Not as bad for mincorr\n",
    "corr_df.idxmin(axis=1).value_counts()"
   ]
  },
  {
   "cell_type": "code",
   "execution_count": 14,
   "metadata": {},
   "outputs": [
    {
     "data": {
      "text/html": [
       "<div>\n",
       "<style scoped>\n",
       "    .dataframe tbody tr th:only-of-type {\n",
       "        vertical-align: middle;\n",
       "    }\n",
       "\n",
       "    .dataframe tbody tr th {\n",
       "        vertical-align: top;\n",
       "    }\n",
       "\n",
       "    .dataframe thead th {\n",
       "        text-align: right;\n",
       "    }\n",
       "</style>\n",
       "<table border=\"1\" class=\"dataframe\">\n",
       "  <thead>\n",
       "    <tr style=\"text-align: right;\">\n",
       "      <th></th>\n",
       "      <th>max</th>\n",
       "      <th>min</th>\n",
       "      <th>med</th>\n",
       "    </tr>\n",
       "  </thead>\n",
       "  <tbody>\n",
       "    <tr>\n",
       "      <th>max</th>\n",
       "      <td>1.000000</td>\n",
       "      <td>0.833914</td>\n",
       "      <td>0.886658</td>\n",
       "    </tr>\n",
       "    <tr>\n",
       "      <th>min</th>\n",
       "      <td>0.833914</td>\n",
       "      <td>1.000000</td>\n",
       "      <td>0.933785</td>\n",
       "    </tr>\n",
       "    <tr>\n",
       "      <th>med</th>\n",
       "      <td>0.886658</td>\n",
       "      <td>0.933785</td>\n",
       "      <td>1.000000</td>\n",
       "    </tr>\n",
       "  </tbody>\n",
       "</table>\n",
       "</div>"
      ],
      "text/plain": [
       "          max       min       med\n",
       "max  1.000000  0.833914  0.886658\n",
       "min  0.833914  1.000000  0.933785\n",
       "med  0.886658  0.933785  1.000000"
      ]
     },
     "execution_count": 14,
     "metadata": {},
     "output_type": "execute_result"
    }
   ],
   "source": [
    "# This is not a huge issue\n",
    "corr_df_pctl = pd.DataFrame()\n",
    "corr_df_pctl[\"max\"] = corr_df.max(axis=1)\n",
    "corr_df_pctl[\"min\"] = corr_df.min(axis=1)\n",
    "corr_df_pctl[\"med\"] = corr_df.median(axis=1)\n",
    "\n",
    "corr_df_pctl.rank().corr() # spearman"
   ]
  },
  {
   "cell_type": "code",
   "execution_count": 15,
   "metadata": {},
   "outputs": [
    {
     "data": {
      "text/plain": [
       "<matplotlib.axes._subplots.AxesSubplot at 0x7f00a2135748>"
      ]
     },
     "execution_count": 15,
     "metadata": {},
     "output_type": "execute_result"
    },
    {
     "data": {
      "image/png": "[encoded data removed]",
      "text/plain": [
       "<Figure size 432x288 with 1 Axes>"
      ]
     },
     "metadata": {
      "needs_background": "light"
     },
     "output_type": "display_data"
    }
   ],
   "source": [
    "corr_df.plot()"
   ]
  },
  {
   "cell_type": "code",
   "execution_count": 16,
   "metadata": {},
   "outputs": [
    {
     "data": {
      "image/png": "[encoded data removed]",
      "text/plain": [
       "<Figure size 432x288 with 1 Axes>"
      ]
     },
     "metadata": {
      "needs_background": "light"
     },
     "output_type": "display_data"
    }
   ],
   "source": [
    "plt.hist(corr_ar.ravel(), bins=100)\n",
    "plt.show()"
   ]
  },
  {
   "cell_type": "markdown",
   "metadata": {},
   "source": [
    "### LinReg"
   ]
  },
  {
   "cell_type": "code",
   "execution_count": 17,
   "metadata": {},
   "outputs": [],
   "source": [
    "method = \"linreg\""
   ]
  },
  {
   "cell_type": "code",
   "execution_count": 18,
   "metadata": {},
   "outputs": [],
   "source": [
    "corr_ar = np.stack([\n",
    "    list(notated_neuron[1].values())\n",
    "    for notated_neuron in res_d[method][network]\n",
    "])\n",
    "corr_df = pd.DataFrame(np.abs(corr_ar), columns=[basename(dirname(net)) for net in network_l if net != network])"
   ]
  },
  {
   "cell_type": "code",
   "execution_count": 19,
   "metadata": {},
   "outputs": [
    {
     "data": {
      "text/plain": [
       "openai_transformer    1024\n",
       "dtype: int64"
      ]
     },
     "execution_count": 19,
     "metadata": {},
     "output_type": "execute_result"
    }
   ],
   "source": [
    "corr_df.idxmin(axis=1).value_counts() # bad"
   ]
  },
  {
   "cell_type": "code",
   "execution_count": 20,
   "metadata": {},
   "outputs": [
    {
     "data": {
      "text/plain": [
       "bert_base_cased    1024\n",
       "dtype: int64"
      ]
     },
     "execution_count": 20,
     "metadata": {},
     "output_type": "execute_result"
    }
   ],
   "source": [
    "corr_df.idxmax(axis=1).value_counts() # bad, but doesn't affect rankings"
   ]
  },
  {
   "cell_type": "code",
   "execution_count": 21,
   "metadata": {},
   "outputs": [
    {
     "data": {
      "text/html": [
       "<div>\n",
       "<style scoped>\n",
       "    .dataframe tbody tr th:only-of-type {\n",
       "        vertical-align: middle;\n",
       "    }\n",
       "\n",
       "    .dataframe tbody tr th {\n",
       "        vertical-align: top;\n",
       "    }\n",
       "\n",
       "    .dataframe thead th {\n",
       "        text-align: right;\n",
       "    }\n",
       "</style>\n",
       "<table border=\"1\" class=\"dataframe\">\n",
       "  <thead>\n",
       "    <tr style=\"text-align: right;\">\n",
       "      <th></th>\n",
       "      <th>max</th>\n",
       "      <th>min</th>\n",
       "      <th>med</th>\n",
       "    </tr>\n",
       "  </thead>\n",
       "  <tbody>\n",
       "    <tr>\n",
       "      <th>max</th>\n",
       "      <td>1.000000</td>\n",
       "      <td>0.966028</td>\n",
       "      <td>0.972692</td>\n",
       "    </tr>\n",
       "    <tr>\n",
       "      <th>min</th>\n",
       "      <td>0.966028</td>\n",
       "      <td>1.000000</td>\n",
       "      <td>0.979225</td>\n",
       "    </tr>\n",
       "    <tr>\n",
       "      <th>med</th>\n",
       "      <td>0.972692</td>\n",
       "      <td>0.979225</td>\n",
       "      <td>1.000000</td>\n",
       "    </tr>\n",
       "  </tbody>\n",
       "</table>\n",
       "</div>"
      ],
      "text/plain": [
       "          max       min       med\n",
       "max  1.000000  0.966028  0.972692\n",
       "min  0.966028  1.000000  0.979225\n",
       "med  0.972692  0.979225  1.000000"
      ]
     },
     "execution_count": 21,
     "metadata": {},
     "output_type": "execute_result"
    }
   ],
   "source": [
    "# This is not a huge issue, these are remarkably similar\n",
    "corr_df_pctl = pd.DataFrame()\n",
    "corr_df_pctl[\"max\"] = corr_df.max(axis=1)\n",
    "corr_df_pctl[\"min\"] = corr_df.min(axis=1)\n",
    "corr_df_pctl[\"med\"] = corr_df.median(axis=1)\n",
    "\n",
    "corr_df_pctl.rank().corr() # spearman"
   ]
  },
  {
   "cell_type": "code",
   "execution_count": 22,
   "metadata": {},
   "outputs": [
    {
     "data": {
      "text/plain": [
       "<matplotlib.axes._subplots.AxesSubplot at 0x7f00a1cd64e0>"
      ]
     },
     "execution_count": 22,
     "metadata": {},
     "output_type": "execute_result"
    },
    {
     "data": {
      "image/png": "[encoded data removed]",
      "text/plain": [
       "<Figure size 432x288 with 1 Axes>"
      ]
     },
     "metadata": {
      "needs_background": "light"
     },
     "output_type": "display_data"
    }
   ],
   "source": [
    "corr_df.plot()"
   ]
  },
  {
   "cell_type": "code",
   "execution_count": 23,
   "metadata": {},
   "outputs": [
    {
     "data": {
      "image/png": "[encoded data removed]",
      "text/plain": [
       "<Figure size 432x288 with 1 Axes>"
      ]
     },
     "metadata": {
      "needs_background": "light"
     },
     "output_type": "display_data"
    }
   ],
   "source": [
    "plt.hist(corr_ar.ravel(), bins=100)\n",
    "plt.show()"
   ]
  }
 ],
 "metadata": {
  "kernelspec": {
   "display_name": "Python 3",
   "language": "python",
   "name": "python3"
  },
  "language_info": {
   "codemirror_mode": {
    "name": "ipython",
    "version": 3
   },
   "file_extension": ".py",
   "mimetype": "text/x-python",
   "name": "python",
   "nbconvert_exporter": "python",
   "pygments_lexer": "ipython3",
   "version": "3.7.3"
  }
 },
 "nbformat": 4,
 "nbformat_minor": 2
}
