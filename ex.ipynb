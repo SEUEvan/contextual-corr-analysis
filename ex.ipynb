{
 "cells": [
  {
   "cell_type": "markdown",
   "metadata": {},
   "source": [
    "We use CCA, but all Methods (`Method` is the superclass of `CCA`) are constructed in the same way. "
   ]
  },
  {
   "cell_type": "code",
   "execution_count": 5,
   "metadata": {},
   "outputs": [],
   "source": [
    "from corr_methods import CCA\n",
    "import torch"
   ]
  },
  {
   "cell_type": "code",
   "execution_count": 11,
   "metadata": {},
   "outputs": [],
   "source": [
    "# initialize `num_neurons_d`, `representations_d`\n",
    "# num_neurons_d : {network : num_neuron}\n",
    "# representations_d : {network : }\n",
    "num_neurons_d = {}\n",
    "representations_d = {}\n",
    "net1, net2, net3 = \"foo\", \"bar\", \"baz\"\n",
    "n1, n2, n3 = 100, 80, 70\n",
    "n_word = 1000\n",
    "t1 = torch.randn(n_word, n1)\n",
    "t2 = torch.randn(n_word, n2)\n",
    "t3 = torch.randn(n_word, n3)\n",
    "num_neurons_d[net1] = n1\n",
    "num_neurons_d[net2] = n2\n",
    "num_neurons_d[net3] = n3\n",
    "representations_d[net1] = t1\n",
    "representations_d[net2] = t2\n",
    "representations_d[net3] = t3"
   ]
  },
  {
   "cell_type": "code",
   "execution_count": 12,
   "metadata": {},
   "outputs": [],
   "source": [
    "# create Method object\n",
    "cca = CCA(num_neurons_d, representations_d)"
   ]
  },
  {
   "cell_type": "code",
   "execution_count": 13,
   "metadata": {},
   "outputs": [
    {
     "name": "stderr",
     "output_type": "stream",
     "text": [
      "mu, sigma: 100%|██████████| 3/3 [00:00<00:00, 195.44it/s]\n",
      "pca: 100%|██████████| 3/3 [00:00<00:00, 76.85it/s]\n",
      "cca: 100%|██████████| 9/9 [00:00<00:00, 367.04it/s]"
     ]
    },
    {
     "name": "stdout",
     "output_type": "stream",
     "text": [
      "For network foo wanted size is 98\n",
      "For network bar wanted size is 78\n",
      "For network baz wanted size is 68\n"
     ]
    },
    {
     "name": "stderr",
     "output_type": "stream",
     "text": [
      "\n"
     ]
    }
   ],
   "source": [
    "# compute correlations\n",
    "cca.compute_correlations()"
   ]
  },
  {
   "cell_type": "code",
   "execution_count": 14,
   "metadata": {},
   "outputs": [
    {
     "data": {
      "text/plain": [
       "{'foo': {'bar': 0.27725788950920105, 'baz': 0.28760385513305664},\n",
       " 'bar': {'foo': 0.27725788950920105, 'baz': 0.24533481895923615},\n",
       " 'baz': {'foo': 0.28760385513305664, 'bar': 0.24533481895923615}}"
      ]
     },
     "execution_count": 14,
     "metadata": {},
     "output_type": "execute_result"
    }
   ],
   "source": [
    "cca.sv_similarities"
   ]
  }
 ],
 "metadata": {
  "kernelspec": {
   "display_name": "Python 3",
   "language": "python",
   "name": "python3"
  },
  "language_info": {
   "codemirror_mode": {
    "name": "ipython",
    "version": 3
   },
   "file_extension": ".py",
   "mimetype": "text/x-python",
   "name": "python",
   "nbconvert_exporter": "python",
   "pygments_lexer": "ipython3",
   "version": "3.8.0"
  }
 },
 "nbformat": 4,
 "nbformat_minor": 2
}
