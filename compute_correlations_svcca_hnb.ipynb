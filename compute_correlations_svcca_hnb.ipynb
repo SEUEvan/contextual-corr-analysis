{
 "cells": [
  {
   "cell_type": "code",
   "execution_count": 2,
   "metadata": {},
   "outputs": [],
   "source": [
    "import torch\n",
    "import json\n",
    "from tqdm import tqdm\n",
    "from itertools import product as p\n",
    "import numpy as np"
   ]
  },
  {
   "cell_type": "markdown",
   "metadata": {},
   "source": [
    "# Load fake activations"
   ]
  },
  {
   "cell_type": "code",
   "execution_count": 3,
   "metadata": {},
   "outputs": [],
   "source": [
    "class A:\n",
    "    pass\n",
    "self = A()"
   ]
  },
  {
   "cell_type": "code",
   "execution_count": 4,
   "metadata": {},
   "outputs": [],
   "source": [
    "self.num_neurons_d = {} # {fname, int}\n",
    "self.representations_d = {} # {fname, tensor}\n",
    "f1, f2, f3 = \"foo\", \"bar\", \"baz\"\n",
    "representation_files = [f1, f2, f3]"
   ]
  },
  {
   "cell_type": "code",
   "execution_count": 5,
   "metadata": {},
   "outputs": [],
   "source": [
    "# initialize `num_neurons_d`, `representations_d` with fake data\n",
    "n1, n2, n3 = 100, 80, 70\n",
    "nword = 1000\n",
    "t1 = torch.randn(nword, n1)\n",
    "t2 = torch.randn(nword, n2)\n",
    "t3 = torch.randn(nword, n3)\n",
    "self.num_neurons_d[f1] = n1\n",
    "self.num_neurons_d[f2] = n2\n",
    "self.num_neurons_d[f3] = n3\n",
    "self.representations_d[f1] = t1\n",
    "self.representations_d[f2] = t2\n",
    "self.representations_d[f3] = t3"
   ]
  },
  {
   "cell_type": "code",
   "execution_count": 9,
   "metadata": {},
   "outputs": [],
   "source": [
    "self.percent_variance = 0.99\n",
    "self.normalize_dimensions = True"
   ]
  },
  {
   "cell_type": "markdown",
   "metadata": {},
   "source": [
    "# Build function"
   ]
  },
  {
   "cell_type": "markdown",
   "metadata": {},
   "source": [
    "### Normalize"
   ]
  },
  {
   "cell_type": "code",
   "execution_count": 10,
   "metadata": {},
   "outputs": [
    {
     "name": "stderr",
     "output_type": "stream",
     "text": [
      "mu, sigma: 100%|█| 3/3 [00:00<00:00, 853.25it/s]\n"
     ]
    }
   ],
   "source": [
    "# Normalize\n",
    "if self.normalize_dimensions:\n",
    "    for network in tqdm(self.representations_d, desc='mu, sigma'):\n",
    "        t = self.representations_d[network]\n",
    "        means = t.mean(0, keepdim=True)\n",
    "        stdevs = t.std(0, keepdim=True)\n",
    "\n",
    "        self.representations_d[network] = (t - means) / stdevs"
   ]
  },
  {
   "cell_type": "markdown",
   "metadata": {},
   "source": [
    "### Set `whitening_transforms`"
   ]
  },
  {
   "cell_type": "code",
   "execution_count": 12,
   "metadata": {},
   "outputs": [],
   "source": [
    "# loop variable\n",
    "network = f1"
   ]
  },
  {
   "cell_type": "code",
   "execution_count": 29,
   "metadata": {},
   "outputs": [],
   "source": [
    "whitening_transforms = {} # {network: whitening_tensor}"
   ]
  },
  {
   "cell_type": "code",
   "execution_count": 18,
   "metadata": {},
   "outputs": [
    {
     "data": {
      "text/plain": [
       "(torch.Size([1000, 100]), torch.Size([100]), torch.Size([100, 100]))"
      ]
     },
     "execution_count": 18,
     "metadata": {},
     "output_type": "execute_result"
    }
   ],
   "source": [
    "X = self.representations_d[network]\n",
    "U, S, V = torch.svd(X)\n",
    "U.shape, S.shape, V.shape"
   ]
  },
  {
   "cell_type": "code",
   "execution_count": 20,
   "metadata": {
    "collapsed": true
   },
   "outputs": [
    {
     "data": {
      "text/plain": [
       "tensor([ 1710.9971,  3373.7769,  5013.2178,  6627.2939,  8212.7188,  9770.2158,\n",
       "        11315.7871, 12826.0156, 14323.4873, 15794.5332, 17255.8984, 18709.4844,\n",
       "        20149.7383, 21563.4004, 22964.4492, 24348.6895, 25713.0527, 27054.7852,\n",
       "        28389.6602, 29696.4648, 30998.3535, 32284.4219, 33557.5664, 34821.3711,\n",
       "        36069.5586, 37301.2461, 38527.1406, 39734.8242, 40934.7812, 42115.1719,\n",
       "        43293.6445, 44461.2578, 45624.0352, 46769.0742, 47904.1562, 49035.1484,\n",
       "        50133.7227, 51228.7070, 52311.4922, 53389.5742, 54460.8555, 55517.8711,\n",
       "        56562.3164, 57596.4766, 58618.0703, 59632.5859, 60630.8672, 61617.5469,\n",
       "        62585.3242, 63540.2852, 64486.4531, 65428.7031, 66359.9062, 67278.2891,\n",
       "        68183.9219, 69082.7109, 69977.0625, 70867.1016, 71753.4922, 72624.2500,\n",
       "        73485.2188, 74337.9844, 75179.5234, 76013.7188, 76843.7422, 77664.4297,\n",
       "        78469.3906, 79267.1172, 80051.6797, 80835.2109, 81606.8203, 82369.3359,\n",
       "        83128.5781, 83873.6328, 84613.2812, 85344.8438, 86054.2344, 86754.1875,\n",
       "        87449.0312, 88129.5625, 88807.1406, 89480.1641, 90144.8828, 90797.1172,\n",
       "        91438.6172, 92070.9453, 92698.7109, 93316.9531, 93919.1172, 94510.1797,\n",
       "        95100.0859, 95678.4141, 96238.9844, 96796.2266, 97344.0859, 97884.0859,\n",
       "        98413.8672, 98935.6094, 99429.8047, 99900.0000])"
      ]
     },
     "execution_count": 20,
     "metadata": {},
     "output_type": "execute_result"
    }
   ],
   "source": [
    "var_sums = torch.cumsum(S.pow(2), 0)\n",
    "var_sums"
   ]
  },
  {
   "cell_type": "code",
   "execution_count": 23,
   "metadata": {},
   "outputs": [
    {
     "data": {
      "text/plain": [
       "97"
      ]
     },
     "execution_count": 23,
     "metadata": {},
     "output_type": "execute_result"
    }
   ],
   "source": [
    "wanted_size = torch.sum(var_sums.lt(var_sums[-1] * self.percent_variance)).item()\n",
    "wanted_size"
   ]
  },
  {
   "cell_type": "code",
   "execution_count": 24,
   "metadata": {},
   "outputs": [
    {
     "name": "stdout",
     "output_type": "stream",
     "text": [
      "For network foo wanted size is 97\n"
     ]
    }
   ],
   "source": [
    "print('For network', network, 'wanted size is', wanted_size)"
   ]
  },
  {
   "cell_type": "code",
   "execution_count": 27,
   "metadata": {},
   "outputs": [
    {
     "data": {
      "text/plain": [
       "torch.Size([100, 100])"
      ]
     },
     "execution_count": 27,
     "metadata": {},
     "output_type": "execute_result"
    }
   ],
   "source": [
    "whitening_transform = torch.mm(V, torch.diag(1/S))\n",
    "whitening_transform.shape"
   ]
  },
  {
   "cell_type": "code",
   "execution_count": 30,
   "metadata": {},
   "outputs": [],
   "source": [
    "whitening_transforms[network] = whitening_transform[:, :wanted_size]"
   ]
  },
  {
   "cell_type": "code",
   "execution_count": 37,
   "metadata": {},
   "outputs": [
    {
     "name": "stderr",
     "output_type": "stream",
     "text": [
      "pca: 100%|█| 3/3 [00:00<00:00, 158.11it/s]"
     ]
    },
    {
     "name": "stdout",
     "output_type": "stream",
     "text": [
      "For network foo wanted size is 97\n",
      "For network bar wanted size is 78\n",
      "For network baz wanted size is 68\n"
     ]
    },
    {
     "name": "stderr",
     "output_type": "stream",
     "text": [
      "\n"
     ]
    }
   ],
   "source": [
    "# full\n",
    "# Set `whitening_transforms`, `pca_directions`\n",
    "whitening_transforms = {} # {network: whitening_tensor}\n",
    "pca_directions = {} \n",
    "for network in tqdm(self.representations_d, desc='pca'):\n",
    "    X = self.representations_d[network]\n",
    "    U, S, V = torch.svd(X)\n",
    "\n",
    "    var_sums = torch.cumsum(S.pow(2), 0)\n",
    "    wanted_size = torch.sum(var_sums.lt(var_sums[-1] * self.percent_variance)).item()\n",
    "\n",
    "    print('For network', network, 'wanted size is', wanted_size)\n",
    "\n",
    "    whitening_transform = torch.mm(V, torch.diag(1/S))\n",
    "    whitening_transforms[network] = whitening_transform[:, :wanted_size]\n",
    "    pca_directions[network] = U[:, :wanted_size]"
   ]
  },
  {
   "cell_type": "markdown",
   "metadata": {},
   "source": [
    "### Set `self.transforms`"
   ]
  },
  {
   "cell_type": "code",
   "execution_count": 35,
   "metadata": {},
   "outputs": [],
   "source": [
    "# {network: {other: svcca_transform}}\n",
    "self.transforms = {network: {} for network in self.representations_d}"
   ]
  },
  {
   "cell_type": "code",
   "execution_count": 38,
   "metadata": {},
   "outputs": [],
   "source": [
    "# loop variables\n",
    "network = f1\n",
    "other_network = f2"
   ]
  },
  {
   "cell_type": "code",
   "execution_count": null,
   "metadata": {},
   "outputs": [],
   "source": [
    "# if network == other_network:\n",
    "#     continue\n",
    "\n",
    "# if other_network in self.transforms[network].keys(): # TO DO: optimize?\n",
    "#     continue"
   ]
  },
  {
   "cell_type": "code",
   "execution_count": 40,
   "metadata": {},
   "outputs": [],
   "source": [
    "X = pca_directions[network]\n",
    "Y = pca_directions[other_network]"
   ]
  },
  {
   "cell_type": "code",
   "execution_count": 41,
   "metadata": {},
   "outputs": [],
   "source": [
    "# Perform SVD for CCA.\n",
    "# u s vt = Xt Y\n",
    "# s = ut Xt Y v\n",
    "u, s, v = torch.svd(torch.mm(X.t(), Y))"
   ]
  },
  {
   "cell_type": "code",
   "execution_count": 47,
   "metadata": {},
   "outputs": [],
   "source": [
    "self.transforms[network][other_network] = torch.mm(whitening_transforms[network], u)\n",
    "self.transforms[other_network][network] = torch.mm(whitening_transforms[other_network], v)"
   ]
  },
  {
   "cell_type": "code",
   "execution_count": 50,
   "metadata": {
    "collapsed": true
   },
   "outputs": [
    {
     "name": "stderr",
     "output_type": "stream",
     "text": [
      "cca: 100%|█| 9/9 [00:00<00:00, 962.83it/s]\n"
     ]
    },
    {
     "data": {
      "text/plain": [
       "{'foo': {'bar': tensor([[ 2.8799e-04,  2.6425e-03, -5.9800e-03,  ...,  1.5790e-03,\n",
       "            1.0699e-03,  7.6494e-04],\n",
       "          [ 3.0322e-03,  3.9201e-04, -1.4865e-03,  ..., -2.4446e-03,\n",
       "           -2.3550e-04, -3.5492e-03],\n",
       "          [-1.0548e-03, -1.3683e-03,  2.7049e-04,  ...,  2.5806e-03,\n",
       "            5.1039e-03,  3.2589e-03],\n",
       "          ...,\n",
       "          [-9.4123e-05,  8.6863e-04, -4.1224e-03,  ..., -4.7492e-03,\n",
       "            2.5494e-03, -7.9301e-05],\n",
       "          [-3.0804e-03,  1.5640e-03,  2.7552e-03,  ...,  5.2576e-04,\n",
       "            4.0630e-03,  7.6578e-04],\n",
       "          [-3.8764e-04,  4.6201e-03, -1.4311e-03,  ..., -9.4200e-04,\n",
       "           -4.7955e-04, -3.8509e-04]]),\n",
       "  'baz': tensor([[ 0.0051, -0.0008, -0.0013,  ..., -0.0081,  0.0017, -0.0008],\n",
       "          [-0.0052, -0.0016, -0.0005,  ..., -0.0012,  0.0043, -0.0056],\n",
       "          [-0.0048, -0.0056,  0.0001,  ...,  0.0030, -0.0002, -0.0026],\n",
       "          ...,\n",
       "          [-0.0004,  0.0013,  0.0010,  ..., -0.0019,  0.0014,  0.0066],\n",
       "          [ 0.0005,  0.0007, -0.0069,  ..., -0.0006,  0.0012, -0.0010],\n",
       "          [ 0.0012,  0.0021,  0.0040,  ...,  0.0009,  0.0027, -0.0055]])},\n",
       " 'bar': {'foo': tensor([[-0.0006,  0.0021, -0.0009,  ..., -0.0039, -0.0067, -0.0035],\n",
       "          [-0.0023,  0.0028,  0.0048,  ..., -0.0002, -0.0011,  0.0014],\n",
       "          [-0.0051,  0.0016, -0.0021,  ..., -0.0022, -0.0009, -0.0035],\n",
       "          ...,\n",
       "          [ 0.0061,  0.0008,  0.0044,  ..., -0.0017,  0.0002,  0.0044],\n",
       "          [ 0.0032, -0.0054,  0.0047,  ...,  0.0054,  0.0011,  0.0061],\n",
       "          [-0.0018,  0.0070,  0.0016,  ...,  0.0033, -0.0020, -0.0035]]),\n",
       "  'baz': tensor([[-0.0005,  0.0003, -0.0071,  ...,  0.0023,  0.0006,  0.0029],\n",
       "          [ 0.0022, -0.0038, -0.0036,  ...,  0.0005,  0.0003, -0.0095],\n",
       "          [ 0.0027, -0.0053, -0.0019,  ...,  0.0015, -0.0088, -0.0075],\n",
       "          ...,\n",
       "          [ 0.0061,  0.0007,  0.0070,  ..., -0.0037, -0.0001, -0.0013],\n",
       "          [-0.0042, -0.0041,  0.0075,  ...,  0.0009, -0.0025, -0.0010],\n",
       "          [ 0.0002, -0.0003,  0.0006,  ...,  0.0015, -0.0018,  0.0058]])},\n",
       " 'baz': {'foo': tensor([[ 1.8581e-03, -8.6767e-04,  7.8210e-03,  ...,  5.7812e-03,\n",
       "            4.0990e-03,  1.5867e-03],\n",
       "          [-1.1280e-05, -8.2565e-03,  3.4435e-03,  ...,  5.1353e-04,\n",
       "            2.2520e-03,  1.2561e-03],\n",
       "          [ 4.3424e-03,  4.9100e-03,  1.4638e-03,  ..., -2.9318e-03,\n",
       "           -6.1658e-04,  7.9311e-03],\n",
       "          ...,\n",
       "          [ 2.0984e-03,  2.8533e-03,  1.1828e-03,  ..., -1.6464e-04,\n",
       "            4.2939e-03,  4.2404e-03],\n",
       "          [ 2.9729e-03,  4.9256e-04, -1.8000e-03,  ...,  8.2456e-04,\n",
       "           -3.4167e-03, -2.7479e-03],\n",
       "          [-3.2944e-03,  1.6977e-03,  2.4763e-03,  ...,  8.1324e-04,\n",
       "            8.7797e-03, -4.4167e-03]]),\n",
       "  'bar': tensor([[ 2.0341e-03, -1.9925e-03, -4.2724e-04,  ..., -8.5331e-04,\n",
       "            3.3141e-03,  3.1455e-03],\n",
       "          [-3.2084e-03,  1.5598e-03,  8.2315e-03,  ...,  7.6436e-03,\n",
       "            4.3859e-03,  5.3080e-03],\n",
       "          [-7.1648e-03,  1.5976e-03,  4.0073e-03,  ...,  2.6605e-03,\n",
       "           -4.6930e-03,  2.9464e-03],\n",
       "          ...,\n",
       "          [ 8.2176e-04, -1.9506e-03,  1.1453e-05,  ..., -1.0088e-03,\n",
       "           -1.1098e-03,  1.9409e-03],\n",
       "          [ 4.0220e-03, -5.1283e-03, -3.5717e-04,  ..., -9.0863e-04,\n",
       "            9.9218e-03,  7.4589e-03],\n",
       "          [-2.0787e-03,  4.9200e-05, -6.6094e-03,  ...,  1.6340e-03,\n",
       "            2.6642e-03, -9.1996e-04]])}}"
      ]
     },
     "execution_count": 50,
     "metadata": {},
     "output_type": "execute_result"
    }
   ],
   "source": [
    "# full \n",
    "# Set `self.transforms` to be {network: {other: svcca_transform}}\n",
    "self.transforms = {network: {} for network in self.representations_d}\n",
    "for network, other_network in tqdm(p(self.representations_d,\n",
    "                                     self.representations_d), desc='cca',\n",
    "                                   total=len(self.representations_d)**2):\n",
    "\n",
    "    if network == other_network:\n",
    "        continue\n",
    "\n",
    "    if other_network in self.transforms[network].keys(): # TO DO: optimize?\n",
    "        continue\n",
    "\n",
    "    X = pca_directions[network]\n",
    "    Y = pca_directions[other_network]\n",
    "\n",
    "    # Perform SVD for CCA.\n",
    "    # u s vt = Xt Y\n",
    "    # s = ut Xt Y v\n",
    "    u, s, v = torch.svd(torch.mm(X.t(), Y))\n",
    "\n",
    "    self.transforms[network][other_network] = torch.mm(whitening_transforms[network], u)\n",
    "    self.transforms[other_network][network] = torch.mm(whitening_transforms[other_network], v)\n",
    "\n",
    "self.transforms"
   ]
  },
  {
   "cell_type": "markdown",
   "metadata": {},
   "source": [
    "# Build full function"
   ]
  },
  {
   "cell_type": "code",
   "execution_count": 51,
   "metadata": {},
   "outputs": [],
   "source": [
    "def compute_correlations(self):\n",
    "    \"\"\"\n",
    "    Set `self.transforms` to be the svcca transform matrix M. \n",
    "    \n",
    "    If X is the activation tensor, then X M is the svcca tensor. \n",
    "    \"\"\"\n",
    "    # Normalize\n",
    "    if self.normalize_dimensions:\n",
    "        for network in tqdm(self.representations_d, desc='mu, sigma'):\n",
    "            t = self.representations_d[network]\n",
    "            means = t.mean(0, keepdim=True)\n",
    "            stdevs = t.std(0, keepdim=True)\n",
    "\n",
    "            self.representations_d[network] = (t - means) / stdevs\n",
    "\n",
    "    # Set `whitening_transforms`, `pca_directions`\n",
    "    whitening_transforms = {} # {network: whitening_tensor}\n",
    "    pca_directions = {} \n",
    "    for network in tqdm(self.representations_d, desc='pca'):\n",
    "        X = self.representations_d[network]\n",
    "        U, S, V = torch.svd(X)\n",
    "\n",
    "        var_sums = torch.cumsum(S.pow(2), 0)\n",
    "        wanted_size = torch.sum(var_sums.lt(var_sums[-1] * self.percent_variance)).item()\n",
    "\n",
    "        print('For network', network, 'wanted size is', wanted_size)\n",
    "\n",
    "        whitening_transform = torch.mm(V, torch.diag(1/S))\n",
    "        whitening_transforms[network] = whitening_transform[:, :wanted_size]\n",
    "        pca_directions[network] = U[:, :wanted_size]\n",
    "\n",
    "    # Set `self.transforms` to be {network: {other: svcca_transform}}\n",
    "    self.transforms = {network: {} for network in self.representations_d}\n",
    "    for network, other_network in tqdm(p(self.representations_d,\n",
    "                                         self.representations_d), desc='cca',\n",
    "                                       total=len(self.representations_d)**2):\n",
    "\n",
    "        if network == other_network:\n",
    "            continue\n",
    "\n",
    "        if other_network in self.transforms[network].keys(): # TO DO: optimize?\n",
    "            continue\n",
    "\n",
    "        X = pca_directions[network]\n",
    "        Y = pca_directions[other_network]\n",
    "\n",
    "        # Perform SVD for CCA.\n",
    "        # u s vt = Xt Y\n",
    "        # s = ut Xt Y v\n",
    "        u, s, v = torch.svd(torch.mm(X.t(), Y))\n",
    "\n",
    "        self.transforms[network][other_network] = torch.mm(whitening_transforms[network], u)\n",
    "        self.transforms[other_network][network] = torch.mm(whitening_transforms[other_network], v)"
   ]
  }
 ],
 "metadata": {
  "kernelspec": {
   "display_name": "Python 3",
   "language": "python",
   "name": "python3"
  },
  "language_info": {
   "codemirror_mode": {
    "name": "ipython",
    "version": 3
   },
   "file_extension": ".py",
   "mimetype": "text/x-python",
   "name": "python",
   "nbconvert_exporter": "python",
   "pygments_lexer": "ipython3",
   "version": "3.7.3"
  }
 },
 "nbformat": 4,
 "nbformat_minor": 2
}
