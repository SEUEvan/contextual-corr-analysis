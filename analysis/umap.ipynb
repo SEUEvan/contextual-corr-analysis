{
 "cells": [
  {
   "cell_type": "code",
   "execution_count": 22,
   "metadata": {},
   "outputs": [],
   "source": [
    "import numpy as np\n",
    "#from sklearn.datasets import load_iris, load_digits\n",
    "#from sklearn.model_selection import train_test_split\n",
    "import matplotlib.pyplot as plt\n",
    "import seaborn as sns\n",
    "import pandas as pd\n",
    "%matplotlib inline\n",
    "sns.set(style='white', context='notebook', rc={'figure.figsize':(14,10)})\n",
    "\n",
    "import umap\n",
    "\n",
    "import sys\n",
    "sys.path.append('..')\n",
    "from corr_methods import load_representations"
   ]
  },
  {
   "cell_type": "markdown",
   "metadata": {},
   "source": [
    "# Load data"
   ]
  },
  {
   "cell_type": "code",
   "execution_count": 34,
   "metadata": {},
   "outputs": [
    {
     "name": "stderr",
     "output_type": "stream",
     "text": [
      "4it [00:02,  1.46it/s]"
     ]
    },
    {
     "name": "stdout",
     "output_type": "stream",
     "text": [
      "bert_large_cased-ptb_pos_dev.hdf5_0 torch.Size([1000, 1024])\n",
      "bert_large_cased-ptb_pos_dev.hdf5_1 torch.Size([1000, 1024])\n",
      "bert_large_cased-ptb_pos_dev.hdf5_2 torch.Size([1000, 1024])\n",
      "bert_large_cased-ptb_pos_dev.hdf5_3 torch.Size([1000, 1024])\n",
      "bert_large_cased-ptb_pos_dev.hdf5_4 torch.Size([1000, 1024])\n",
      "bert_large_cased-ptb_pos_dev.hdf5_5 torch.Size([1000, 1024])\n",
      "bert_large_cased-ptb_pos_dev.hdf5_6 torch.Size([1000, 1024])\n",
      "bert_large_cased-ptb_pos_dev.hdf5_7 torch.Size([1000, 1024])\n",
      "bert_large_cased-ptb_pos_dev.hdf5_8 torch.Size([1000, 1024])\n",
      "bert_large_cased-ptb_pos_dev.hdf5_9 torch.Size([1000, 1024])\n",
      "bert_large_cased-ptb_pos_dev.hdf5_10 torch.Size([1000, 1024])\n",
      "bert_large_cased-ptb_pos_dev.hdf5_11 torch.Size([1000, 1024])\n",
      "bert_large_cased-ptb_pos_dev.hdf5_12 torch.Size([1000, 1024])\n",
      "bert_large_cased-ptb_pos_dev.hdf5_13 torch.Size([1000, 1024])\n",
      "bert_large_cased-ptb_pos_dev.hdf5_14 torch.Size([1000, 1024])\n",
      "bert_large_cased-ptb_pos_dev.hdf5_15 torch.Size([1000, 1024])\n",
      "bert_large_cased-ptb_pos_dev.hdf5_16 torch.Size([1000, 1024])\n",
      "bert_large_cased-ptb_pos_dev.hdf5_17 torch.Size([1000, 1024])\n",
      "bert_large_cased-ptb_pos_dev.hdf5_18 torch.Size([1000, 1024])\n",
      "bert_large_cased-ptb_pos_dev.hdf5_19 torch.Size([1000, 1024])\n",
      "bert_large_cased-ptb_pos_dev.hdf5_20 torch.Size([1000, 1024])\n",
      "bert_large_cased-ptb_pos_dev.hdf5_21 torch.Size([1000, 1024])\n",
      "bert_large_cased-ptb_pos_dev.hdf5_22 torch.Size([1000, 1024])\n",
      "bert_large_cased-ptb_pos_dev.hdf5_23 torch.Size([1000, 1024])\n",
      "bert_large_cased-ptb_pos_dev.hdf5_24 torch.Size([1000, 1024])\n",
      "elmo_original-ptb_pos_dev.hdf5_0 torch.Size([1000, 1024])\n",
      "elmo_original-ptb_pos_dev.hdf5_1 torch.Size([1000, 1024])\n",
      "elmo_original-ptb_pos_dev.hdf5_2 torch.Size([1000, 1024])\n",
      "calypso_transformer_6_512_base-ptb_pos_dev.hdf5_0 torch.Size([1000, 1024])\n",
      "calypso_transformer_6_512_base-ptb_pos_dev.hdf5_1 torch.Size([1000, 1024])\n",
      "calypso_transformer_6_512_base-ptb_pos_dev.hdf5_2 torch.Size([1000, 1024])\n",
      "calypso_transformer_6_512_base-ptb_pos_dev.hdf5_3 torch.Size([1000, 1024])\n",
      "calypso_transformer_6_512_base-ptb_pos_dev.hdf5_4 torch.Size([1000, 1024])\n",
      "calypso_transformer_6_512_base-ptb_pos_dev.hdf5_5 torch.Size([1000, 1024])\n",
      "calypso_transformer_6_512_base-ptb_pos_dev.hdf5_6 torch.Size([1000, 1024])\n",
      "elmo_4x4096_512-ptb_pos_dev.hdf5_0 torch.Size([1000, 1024])\n",
      "elmo_4x4096_512-ptb_pos_dev.hdf5_1 torch.Size([1000, 1024])\n",
      "elmo_4x4096_512-ptb_pos_dev.hdf5_2 torch.Size([1000, 1024])\n",
      "elmo_4x4096_512-ptb_pos_dev.hdf5_3 torch.Size([1000, 1024])\n",
      "elmo_4x4096_512-ptb_pos_dev.hdf5_4 torch.Size([1000, 1024])\n",
      "dict_keys(['bert_large_cased-ptb_pos_dev.hdf5_0', 'bert_large_cased-ptb_pos_dev.hdf5_1', 'bert_large_cased-ptb_pos_dev.hdf5_2', 'bert_large_cased-ptb_pos_dev.hdf5_3', 'bert_large_cased-ptb_pos_dev.hdf5_4', 'bert_large_cased-ptb_pos_dev.hdf5_5', 'bert_large_cased-ptb_pos_dev.hdf5_6', 'bert_large_cased-ptb_pos_dev.hdf5_7', 'bert_large_cased-ptb_pos_dev.hdf5_8', 'bert_large_cased-ptb_pos_dev.hdf5_9', 'bert_large_cased-ptb_pos_dev.hdf5_10', 'bert_large_cased-ptb_pos_dev.hdf5_11', 'bert_large_cased-ptb_pos_dev.hdf5_12', 'bert_large_cased-ptb_pos_dev.hdf5_13', 'bert_large_cased-ptb_pos_dev.hdf5_14', 'bert_large_cased-ptb_pos_dev.hdf5_15', 'bert_large_cased-ptb_pos_dev.hdf5_16', 'bert_large_cased-ptb_pos_dev.hdf5_17', 'bert_large_cased-ptb_pos_dev.hdf5_18', 'bert_large_cased-ptb_pos_dev.hdf5_19', 'bert_large_cased-ptb_pos_dev.hdf5_20', 'bert_large_cased-ptb_pos_dev.hdf5_21', 'bert_large_cased-ptb_pos_dev.hdf5_22', 'bert_large_cased-ptb_pos_dev.hdf5_23', 'bert_large_cased-ptb_pos_dev.hdf5_24', 'elmo_original-ptb_pos_dev.hdf5_0', 'elmo_original-ptb_pos_dev.hdf5_1', 'elmo_original-ptb_pos_dev.hdf5_2', 'calypso_transformer_6_512_base-ptb_pos_dev.hdf5_0', 'calypso_transformer_6_512_base-ptb_pos_dev.hdf5_1', 'calypso_transformer_6_512_base-ptb_pos_dev.hdf5_2', 'calypso_transformer_6_512_base-ptb_pos_dev.hdf5_3', 'calypso_transformer_6_512_base-ptb_pos_dev.hdf5_4', 'calypso_transformer_6_512_base-ptb_pos_dev.hdf5_5', 'calypso_transformer_6_512_base-ptb_pos_dev.hdf5_6', 'elmo_4x4096_512-ptb_pos_dev.hdf5_0', 'elmo_4x4096_512-ptb_pos_dev.hdf5_1', 'elmo_4x4096_512-ptb_pos_dev.hdf5_2', 'elmo_4x4096_512-ptb_pos_dev.hdf5_3', 'elmo_4x4096_512-ptb_pos_dev.hdf5_4'])\n",
      "elmo_original-ptb_pos_dev.hdf5_0\n",
      "<class 'torch.Tensor'>\n",
      "[ 0.057588  0.143463 -0.233118 ... -0.476547  0.536495  0.147734]\n",
      "40\n",
      "<class 'numpy.ndarray'>\n",
      "<class 'numpy.ndarray'>\n"
     ]
    },
    {
     "name": "stderr",
     "output_type": "stream",
     "text": [
      "\n"
     ]
    },
    {
     "data": {
      "text/plain": [
       "array([[ 0.057588  ,  0.143463  , -0.233118  , ..., -0.476547  ,\n",
       "         0.536495  ,  0.147734  ],\n",
       "       [-0.642156  , -0.195135  , -0.525937  , ..., -0.342514  ,\n",
       "         1.194185  , -0.028162  ],\n",
       "       [-0.678111  ,  0.125957  , -0.284816  , ..., -0.319928  ,\n",
       "         1.076722  ,  0.471648  ],\n",
       "       ...,\n",
       "       [ 0.26213256,  0.31311023,  0.09826735, ..., -0.4247445 ,\n",
       "         0.36423844, -0.90221554],\n",
       "       [ 0.6483705 ,  0.46798313,  0.39654824, ..., -0.50654024,\n",
       "         0.8912646 , -0.5108322 ],\n",
       "       [ 1.7352113 ,  0.6479087 ,  0.16177091, ..., -0.4671501 ,\n",
       "         1.490413  , -0.499735  ]], dtype=float32)"
      ]
     },
     "execution_count": 34,
     "metadata": {},
     "output_type": "execute_result"
    }
   ],
   "source": [
    "representations_filename_l = [\n",
    "\"/data/sls/temp/belinkov/contextual-corr-analysis/contextualizers/bert_large_cased/ptb_pos_dev.hdf5\", \n",
    "#\"/data/sls/temp/belinkov/contextual-corr-analysis/contextualizers/openai_transformer/ptb_pos_dev.hdf5\",\n",
    "#\"/data/sls/temp/belinkov/contextual-corr-analysis/contextualizers/bert_base_cased/ptb_pos_dev.hdf5\",\n",
    "\"/data/sls/temp/belinkov/contextual-corr-analysis/contextualizers/elmo_original/ptb_pos_dev.hdf5\",\n",
    "\"/data/sls/temp/belinkov/contextual-corr-analysis/contextualizers/calypso_transformer_6_512_base/ptb_pos_dev.hdf5\",\n",
    "\"/data/sls/temp/belinkov/contextual-corr-analysis/contextualizers/elmo_4x4096_512/ptb_pos_dev.hdf5\",\n",
    "\"/data/sls/temp/belinkov/contextual-corr-analysis/contextualizers/xlnet_large_cased/ptb_pos_dev.hdf5\"\n",
    "]\n",
    "layerspec_l = [\"all\" for x in representations_filename_l]\n",
    "first_half_only_l = [False for x in representations_filename_l]\n",
    "second_half_only_l = [False for x in representations_filename_l]\n",
    "a = load_representations(representations_filename_l, limit=1000, layerspec_l=layerspec_l, \n",
    "                         first_half_only_l=first_half_only_l, second_half_only_l=second_half_only_l)\n",
    "num_neurons_d, representations_d = a\n",
    "for name in representations_d:\n",
    "    print(name, representations_d[name].shape)\n",
    "print(representations_d.keys())\n",
    "print(list(representations_d.keys())[25])\n",
    "#print(representations_d['openai_transformer-ptb_pos_dev.hdf5_6'].numpy().flatten().shape)\n",
    "representations_a = [representations_d[name] for name in representations_d]\n",
    "print(type(representations_a[0]))\n",
    "print(representations_a[0].numpy().flatten())\n",
    "representations_a = [representations.numpy().flatten() for representations in representations_a]\n",
    "print(len(representations_a))\n",
    "print(type(representations_a[0]))\n",
    "representations_a = np.array(representations_a, dtype='float32')\n",
    "print(type(representations_a))\n",
    "representations_a"
   ]
  },
  {
   "cell_type": "markdown",
   "metadata": {},
   "source": [
    "# Run UMAP"
   ]
  },
  {
   "cell_type": "code",
   "execution_count": 35,
   "metadata": {},
   "outputs": [
    {
     "data": {
      "text/plain": [
       "(40, 2)"
      ]
     },
     "execution_count": 35,
     "metadata": {},
     "output_type": "execute_result"
    }
   ],
   "source": [
    "reducer = umap.UMAP()\n",
    "embedding = reducer.fit_transform(representations_a)\n",
    "embedding.shape"
   ]
  },
  {
   "cell_type": "markdown",
   "metadata": {},
   "source": [
    "# Plot"
   ]
  },
  {
   "cell_type": "code",
   "execution_count": 36,
   "metadata": {},
   "outputs": [
    {
     "name": "stdout",
     "output_type": "stream",
     "text": [
      "{'bert_large_cased': 0, 'elmo_original': 1, 'calypso_transformer_6_512_base': 2, 'elmo_4x4096_512': 3}\n",
      "[0, 0, 0, 0, 0, 0, 0, 0, 0, 0, 0, 0, 0, 0, 0, 0, 0, 0, 0, 0, 0, 0, 0, 0, 0, 1, 1, 1, 2, 2, 2, 2, 2, 2, 2, 3, 3, 3, 3, 3]\n",
      "['bert_large_cased', 'bert_large_cased', 'bert_large_cased', 'bert_large_cased', 'bert_large_cased', 'bert_large_cased', 'bert_large_cased', 'bert_large_cased', 'bert_large_cased', 'bert_large_cased', 'bert_large_cased', 'bert_large_cased', 'bert_large_cased', 'bert_large_cased', 'bert_large_cased', 'bert_large_cased', 'bert_large_cased', 'bert_large_cased', 'bert_large_cased', 'bert_large_cased', 'bert_large_cased', 'bert_large_cased', 'bert_large_cased', 'bert_large_cased', 'bert_large_cased', 'elmo_original', 'elmo_original', 'elmo_original', 'calypso_transformer_6_512_base', 'calypso_transformer_6_512_base', 'calypso_transformer_6_512_base', 'calypso_transformer_6_512_base', 'calypso_transformer_6_512_base', 'calypso_transformer_6_512_base', 'calypso_transformer_6_512_base', 'elmo_4x4096_512', 'elmo_4x4096_512', 'elmo_4x4096_512', 'elmo_4x4096_512', 'elmo_4x4096_512']\n",
      "    layer                           model          x         y\n",
      "0       0                bert_large_cased -15.882357  6.933782\n",
      "1       1                bert_large_cased -15.263671  7.267139\n",
      "2       2                bert_large_cased -15.051304  7.109677\n",
      "3       3                bert_large_cased -14.735657  6.922503\n",
      "4       4                bert_large_cased -14.851207  6.611028\n",
      "5       5                bert_large_cased -15.325808  6.426700\n",
      "6       6                bert_large_cased -15.056051  6.105013\n",
      "7       7                bert_large_cased -15.283017  5.846268\n",
      "8       8                bert_large_cased -15.475792  5.538371\n",
      "9       9                bert_large_cased -14.776508  5.706896\n",
      "10     10                bert_large_cased -14.238275  5.719421\n",
      "11     11                bert_large_cased -13.872365  5.330220\n",
      "12     12                bert_large_cased -14.149914  4.982892\n",
      "13     13                bert_large_cased -13.490709  4.936560\n",
      "14     14                bert_large_cased -13.715434  5.094143\n",
      "15     15                bert_large_cased -13.608292  4.760868\n",
      "16     16                bert_large_cased -13.982903  4.338717\n",
      "17     17                bert_large_cased -14.511084  4.290863\n",
      "18     18                bert_large_cased -14.901062  4.125652\n",
      "19     19                bert_large_cased -15.334112  4.294685\n",
      "20     20                bert_large_cased -15.617839  3.890704\n",
      "21     21                bert_large_cased -15.427066  3.710868\n",
      "22     22                bert_large_cased -15.184755  3.628359\n",
      "23     23                bert_large_cased -15.375455  3.402369\n",
      "24     24                bert_large_cased -15.956983  4.238995\n",
      "25      0                   elmo_original -17.272520  6.495040\n",
      "26      1                   elmo_original -16.810764  6.510408\n",
      "27      2                   elmo_original -16.483479  6.495875\n",
      "28      0  calypso_transformer_6_512_base -17.607462  6.041666\n",
      "29      1  calypso_transformer_6_512_base -18.237106  5.425831\n",
      "30      2  calypso_transformer_6_512_base -18.095306  4.798266\n",
      "31      3  calypso_transformer_6_512_base -17.728237  4.706025\n",
      "32      4  calypso_transformer_6_512_base -17.626549  5.122836\n",
      "33      5  calypso_transformer_6_512_base -17.614952  5.183199\n",
      "34      6  calypso_transformer_6_512_base -18.137905  5.089802\n",
      "35      0                 elmo_4x4096_512 -16.597054  5.991621\n",
      "36      1                 elmo_4x4096_512 -16.714434  5.919787\n",
      "37      2                 elmo_4x4096_512 -17.074844  6.129534\n",
      "38      3                 elmo_4x4096_512 -17.097174  5.620385\n",
      "39      4                 elmo_4x4096_512 -16.771877  5.538385\n"
     ]
    },
    {
     "data": {
      "image/png": "[encoded data removed]",
      "text/plain": [
       "<Figure size 1008x720 with 1 Axes>"
      ]
     },
     "metadata": {},
     "output_type": "display_data"
    }
   ],
   "source": [
    "model_names = [name.split('-')[0] for name in representations_d]\n",
    "layers = [int(name.split('_')[-1]) for name in representations_d]\n",
    "model_names_unique = list(set(model_names))\n",
    "name_idx_d = dict(zip(model_names_unique, range(len(model_names_unique))))\n",
    "model_idx = [name_idx_d[name] for name in model_names]\n",
    "print(name_idx_d)\n",
    "print(model_idx)\n",
    "print(model_names)\n",
    "\n",
    "\n",
    "df = pd.DataFrame({'layer': layers, 'model': model_names, \n",
    "                   'x': embedding[:, 0], 'y': embedding[:, 1]})\n",
    "print(df)\n",
    "\n",
    "scatter = sns.scatterplot(x='x', y='y', hue='model', data=df)\n",
    "for i, layer in enumerate(layers):\n",
    "    scatter.annotate(layer, (embedding[i, 0], embedding[i, 1]))\n",
    "#scatter = plt.scatter(embedding[:, 0], embedding[:, 1], c=[sns.color_palette()[x] for x in model_idx])\n",
    "plt.gca().set_aspect('equal', 'datalim')\n",
    "#plt.title('UMAP projection of activations', fontsize=24);\n"
   ]
  },
  {
   "cell_type": "code",
   "execution_count": null,
   "metadata": {},
   "outputs": [],
   "source": []
  }
 ],
 "metadata": {
  "kernelspec": {
   "display_name": "Python 3",
   "language": "python",
   "name": "python3"
  },
  "language_info": {
   "codemirror_mode": {
    "name": "ipython",
    "version": 3
   },
   "file_extension": ".py",
   "mimetype": "text/x-python",
   "name": "python",
   "nbconvert_exporter": "python",
   "pygments_lexer": "ipython3",
   "version": "3.7.3"
  }
 },
 "nbformat": 4,
 "nbformat_minor": 2
}
