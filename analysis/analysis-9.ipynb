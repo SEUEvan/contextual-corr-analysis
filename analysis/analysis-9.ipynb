{
 "cells": [
  {
   "cell_type": "markdown",
   "metadata": {},
   "source": [
    "# Summary\n",
    "Note that this is RBF CKA for limit=10000"
   ]
  },
  {
   "cell_type": "code",
   "execution_count": 21,
   "metadata": {},
   "outputs": [],
   "source": [
    "import json\n",
    "import matplotlib.pyplot as plt\n",
    "import numpy as np\n",
    "import pandas as pd\n",
    "from os.path import basename, dirname\n",
    "import torch\n",
    "import seaborn as sns\n",
    "from scipy import stats"
   ]
  },
  {
   "cell_type": "code",
   "execution_count": 2,
   "metadata": {},
   "outputs": [],
   "source": [
    "base = \"/data/sls/temp/johnmwu/contextual-corr-analysis/results9_\"\n",
    "res_fname = {method : base + method for method in \n",
    "                {\"rbfcka\"}}"
   ]
  },
  {
   "cell_type": "code",
   "execution_count": 3,
   "metadata": {},
   "outputs": [],
   "source": [
    "base = \"/data/sls/temp/johnmwu/contextual-corr-analysis/results1_\"\n",
    "res_fname[\"lincka\"] = base + \"lincka\""
   ]
  },
  {
   "cell_type": "markdown",
   "metadata": {},
   "source": [
    "# CKA"
   ]
  },
  {
   "cell_type": "markdown",
   "metadata": {},
   "source": [
    "### RBF"
   ]
  },
  {
   "cell_type": "code",
   "execution_count": 4,
   "metadata": {},
   "outputs": [],
   "source": [
    "rbfcka_d = torch.load(res_fname[\"rbfcka\"])"
   ]
  },
  {
   "cell_type": "code",
   "execution_count": 5,
   "metadata": {},
   "outputs": [
    {
     "data": {
      "text/html": [
       "<div>\n",
       "<style scoped>\n",
       "    .dataframe tbody tr th:only-of-type {\n",
       "        vertical-align: middle;\n",
       "    }\n",
       "\n",
       "    .dataframe tbody tr th {\n",
       "        vertical-align: top;\n",
       "    }\n",
       "\n",
       "    .dataframe thead th {\n",
       "        text-align: right;\n",
       "    }\n",
       "</style>\n",
       "<table border=\"1\" class=\"dataframe\">\n",
       "  <thead>\n",
       "    <tr style=\"text-align: right;\">\n",
       "      <th></th>\n",
       "      <th>bert_large_cased_-1</th>\n",
       "      <th>openai_transformer_-1</th>\n",
       "      <th>bert_base_cased_-1</th>\n",
       "      <th>elmo_original_-1</th>\n",
       "      <th>calypso_transformer_6_512_base_-1</th>\n",
       "      <th>elmo_4x4096_512_-1</th>\n",
       "      <th>xlnet_large_cased_-1</th>\n",
       "    </tr>\n",
       "  </thead>\n",
       "  <tbody>\n",
       "    <tr>\n",
       "      <th>bert_base_cased_-1</th>\n",
       "      <td>0.709486</td>\n",
       "      <td>0.298603</td>\n",
       "      <td>NaN</td>\n",
       "      <td>0.474945</td>\n",
       "      <td>0.354185</td>\n",
       "      <td>0.473483</td>\n",
       "      <td>0.146934</td>\n",
       "    </tr>\n",
       "    <tr>\n",
       "      <th>bert_large_cased_-1</th>\n",
       "      <td>NaN</td>\n",
       "      <td>0.288245</td>\n",
       "      <td>0.709486</td>\n",
       "      <td>0.441565</td>\n",
       "      <td>0.322859</td>\n",
       "      <td>0.439906</td>\n",
       "      <td>0.149107</td>\n",
       "    </tr>\n",
       "    <tr>\n",
       "      <th>calypso_transformer_6_512_base_-1</th>\n",
       "      <td>0.322859</td>\n",
       "      <td>0.483783</td>\n",
       "      <td>0.354185</td>\n",
       "      <td>0.671512</td>\n",
       "      <td>NaN</td>\n",
       "      <td>0.671275</td>\n",
       "      <td>0.161147</td>\n",
       "    </tr>\n",
       "    <tr>\n",
       "      <th>elmo_4x4096_512_-1</th>\n",
       "      <td>0.439906</td>\n",
       "      <td>0.604584</td>\n",
       "      <td>0.473483</td>\n",
       "      <td>0.923622</td>\n",
       "      <td>0.671275</td>\n",
       "      <td>NaN</td>\n",
       "      <td>0.221985</td>\n",
       "    </tr>\n",
       "    <tr>\n",
       "      <th>elmo_original_-1</th>\n",
       "      <td>0.441565</td>\n",
       "      <td>0.602372</td>\n",
       "      <td>0.474945</td>\n",
       "      <td>NaN</td>\n",
       "      <td>0.671512</td>\n",
       "      <td>0.923622</td>\n",
       "      <td>0.224945</td>\n",
       "    </tr>\n",
       "    <tr>\n",
       "      <th>openai_transformer_-1</th>\n",
       "      <td>0.288245</td>\n",
       "      <td>NaN</td>\n",
       "      <td>0.298603</td>\n",
       "      <td>0.602372</td>\n",
       "      <td>0.483783</td>\n",
       "      <td>0.604584</td>\n",
       "      <td>0.186527</td>\n",
       "    </tr>\n",
       "    <tr>\n",
       "      <th>xlnet_large_cased_-1</th>\n",
       "      <td>0.149107</td>\n",
       "      <td>0.186527</td>\n",
       "      <td>0.146934</td>\n",
       "      <td>0.224945</td>\n",
       "      <td>0.161147</td>\n",
       "      <td>0.221985</td>\n",
       "      <td>NaN</td>\n",
       "    </tr>\n",
       "  </tbody>\n",
       "</table>\n",
       "</div>"
      ],
      "text/plain": [
       "                                   bert_large_cased_-1  openai_transformer_-1  \\\n",
       "bert_base_cased_-1                            0.709486               0.298603   \n",
       "bert_large_cased_-1                                NaN               0.288245   \n",
       "calypso_transformer_6_512_base_-1             0.322859               0.483783   \n",
       "elmo_4x4096_512_-1                            0.439906               0.604584   \n",
       "elmo_original_-1                              0.441565               0.602372   \n",
       "openai_transformer_-1                         0.288245                    NaN   \n",
       "xlnet_large_cased_-1                          0.149107               0.186527   \n",
       "\n",
       "                                   bert_base_cased_-1  elmo_original_-1  \\\n",
       "bert_base_cased_-1                                NaN          0.474945   \n",
       "bert_large_cased_-1                          0.709486          0.441565   \n",
       "calypso_transformer_6_512_base_-1            0.354185          0.671512   \n",
       "elmo_4x4096_512_-1                           0.473483          0.923622   \n",
       "elmo_original_-1                             0.474945               NaN   \n",
       "openai_transformer_-1                        0.298603          0.602372   \n",
       "xlnet_large_cased_-1                         0.146934          0.224945   \n",
       "\n",
       "                                   calypso_transformer_6_512_base_-1  \\\n",
       "bert_base_cased_-1                                          0.354185   \n",
       "bert_large_cased_-1                                         0.322859   \n",
       "calypso_transformer_6_512_base_-1                                NaN   \n",
       "elmo_4x4096_512_-1                                          0.671275   \n",
       "elmo_original_-1                                            0.671512   \n",
       "openai_transformer_-1                                       0.483783   \n",
       "xlnet_large_cased_-1                                        0.161147   \n",
       "\n",
       "                                   elmo_4x4096_512_-1  xlnet_large_cased_-1  \n",
       "bert_base_cased_-1                           0.473483              0.146934  \n",
       "bert_large_cased_-1                          0.439906              0.149107  \n",
       "calypso_transformer_6_512_base_-1            0.671275              0.161147  \n",
       "elmo_4x4096_512_-1                                NaN              0.221985  \n",
       "elmo_original_-1                             0.923622              0.224945  \n",
       "openai_transformer_-1                        0.604584              0.186527  \n",
       "xlnet_large_cased_-1                         0.221985                   NaN  "
      ]
     },
     "execution_count": 5,
     "metadata": {},
     "output_type": "execute_result"
    }
   ],
   "source": [
    "rbfcka_df = pd.DataFrame(rbfcka_d)\n",
    "rbfcka_df"
   ]
  },
  {
   "cell_type": "code",
   "execution_count": 6,
   "metadata": {},
   "outputs": [
    {
     "data": {
      "text/html": [
       "<div>\n",
       "<style scoped>\n",
       "    .dataframe tbody tr th:only-of-type {\n",
       "        vertical-align: middle;\n",
       "    }\n",
       "\n",
       "    .dataframe tbody tr th {\n",
       "        vertical-align: top;\n",
       "    }\n",
       "\n",
       "    .dataframe thead th {\n",
       "        text-align: right;\n",
       "    }\n",
       "</style>\n",
       "<table border=\"1\" class=\"dataframe\">\n",
       "  <thead>\n",
       "    <tr style=\"text-align: right;\">\n",
       "      <th></th>\n",
       "      <th>bert_large_cased_-1</th>\n",
       "      <th>openai_transformer_-1</th>\n",
       "      <th>bert_base_cased_-1</th>\n",
       "      <th>elmo_original_-1</th>\n",
       "      <th>calypso_transformer_6_512_base_-1</th>\n",
       "      <th>elmo_4x4096_512_-1</th>\n",
       "      <th>xlnet_large_cased_-1</th>\n",
       "    </tr>\n",
       "  </thead>\n",
       "  <tbody>\n",
       "    <tr>\n",
       "      <th>bert_base_cased_-1</th>\n",
       "      <td>1.0</td>\n",
       "      <td>4.0</td>\n",
       "      <td>NaN</td>\n",
       "      <td>4.0</td>\n",
       "      <td>4.0</td>\n",
       "      <td>4.0</td>\n",
       "      <td>6.0</td>\n",
       "    </tr>\n",
       "    <tr>\n",
       "      <th>bert_large_cased_-1</th>\n",
       "      <td>NaN</td>\n",
       "      <td>5.0</td>\n",
       "      <td>1.0</td>\n",
       "      <td>5.0</td>\n",
       "      <td>5.0</td>\n",
       "      <td>5.0</td>\n",
       "      <td>5.0</td>\n",
       "    </tr>\n",
       "    <tr>\n",
       "      <th>calypso_transformer_6_512_base_-1</th>\n",
       "      <td>4.0</td>\n",
       "      <td>3.0</td>\n",
       "      <td>4.0</td>\n",
       "      <td>2.0</td>\n",
       "      <td>NaN</td>\n",
       "      <td>2.0</td>\n",
       "      <td>4.0</td>\n",
       "    </tr>\n",
       "    <tr>\n",
       "      <th>elmo_4x4096_512_-1</th>\n",
       "      <td>3.0</td>\n",
       "      <td>1.0</td>\n",
       "      <td>3.0</td>\n",
       "      <td>1.0</td>\n",
       "      <td>2.0</td>\n",
       "      <td>NaN</td>\n",
       "      <td>2.0</td>\n",
       "    </tr>\n",
       "    <tr>\n",
       "      <th>elmo_original_-1</th>\n",
       "      <td>2.0</td>\n",
       "      <td>2.0</td>\n",
       "      <td>2.0</td>\n",
       "      <td>NaN</td>\n",
       "      <td>1.0</td>\n",
       "      <td>1.0</td>\n",
       "      <td>1.0</td>\n",
       "    </tr>\n",
       "    <tr>\n",
       "      <th>openai_transformer_-1</th>\n",
       "      <td>5.0</td>\n",
       "      <td>NaN</td>\n",
       "      <td>5.0</td>\n",
       "      <td>3.0</td>\n",
       "      <td>3.0</td>\n",
       "      <td>3.0</td>\n",
       "      <td>3.0</td>\n",
       "    </tr>\n",
       "    <tr>\n",
       "      <th>xlnet_large_cased_-1</th>\n",
       "      <td>6.0</td>\n",
       "      <td>6.0</td>\n",
       "      <td>6.0</td>\n",
       "      <td>6.0</td>\n",
       "      <td>6.0</td>\n",
       "      <td>6.0</td>\n",
       "      <td>NaN</td>\n",
       "    </tr>\n",
       "  </tbody>\n",
       "</table>\n",
       "</div>"
      ],
      "text/plain": [
       "                                   bert_large_cased_-1  openai_transformer_-1  \\\n",
       "bert_base_cased_-1                                 1.0                    4.0   \n",
       "bert_large_cased_-1                                NaN                    5.0   \n",
       "calypso_transformer_6_512_base_-1                  4.0                    3.0   \n",
       "elmo_4x4096_512_-1                                 3.0                    1.0   \n",
       "elmo_original_-1                                   2.0                    2.0   \n",
       "openai_transformer_-1                              5.0                    NaN   \n",
       "xlnet_large_cased_-1                               6.0                    6.0   \n",
       "\n",
       "                                   bert_base_cased_-1  elmo_original_-1  \\\n",
       "bert_base_cased_-1                                NaN               4.0   \n",
       "bert_large_cased_-1                               1.0               5.0   \n",
       "calypso_transformer_6_512_base_-1                 4.0               2.0   \n",
       "elmo_4x4096_512_-1                                3.0               1.0   \n",
       "elmo_original_-1                                  2.0               NaN   \n",
       "openai_transformer_-1                             5.0               3.0   \n",
       "xlnet_large_cased_-1                              6.0               6.0   \n",
       "\n",
       "                                   calypso_transformer_6_512_base_-1  \\\n",
       "bert_base_cased_-1                                               4.0   \n",
       "bert_large_cased_-1                                              5.0   \n",
       "calypso_transformer_6_512_base_-1                                NaN   \n",
       "elmo_4x4096_512_-1                                               2.0   \n",
       "elmo_original_-1                                                 1.0   \n",
       "openai_transformer_-1                                            3.0   \n",
       "xlnet_large_cased_-1                                             6.0   \n",
       "\n",
       "                                   elmo_4x4096_512_-1  xlnet_large_cased_-1  \n",
       "bert_base_cased_-1                                4.0                   6.0  \n",
       "bert_large_cased_-1                               5.0                   5.0  \n",
       "calypso_transformer_6_512_base_-1                 2.0                   4.0  \n",
       "elmo_4x4096_512_-1                                NaN                   2.0  \n",
       "elmo_original_-1                                  1.0                   1.0  \n",
       "openai_transformer_-1                             3.0                   3.0  \n",
       "xlnet_large_cased_-1                              6.0                   NaN  "
      ]
     },
     "execution_count": 6,
     "metadata": {},
     "output_type": "execute_result"
    }
   ],
   "source": [
    "rbfcka_df.rank(ascending=False)"
   ]
  },
  {
   "cell_type": "markdown",
   "metadata": {},
   "source": [
    "### Lin"
   ]
  },
  {
   "cell_type": "code",
   "execution_count": 7,
   "metadata": {},
   "outputs": [],
   "source": [
    "lincka_d = torch.load(res_fname[\"lincka\"])"
   ]
  },
  {
   "cell_type": "code",
   "execution_count": 8,
   "metadata": {},
   "outputs": [
    {
     "data": {
      "text/html": [
       "<div>\n",
       "<style scoped>\n",
       "    .dataframe tbody tr th:only-of-type {\n",
       "        vertical-align: middle;\n",
       "    }\n",
       "\n",
       "    .dataframe tbody tr th {\n",
       "        vertical-align: top;\n",
       "    }\n",
       "\n",
       "    .dataframe thead th {\n",
       "        text-align: right;\n",
       "    }\n",
       "</style>\n",
       "<table border=\"1\" class=\"dataframe\">\n",
       "  <thead>\n",
       "    <tr style=\"text-align: right;\">\n",
       "      <th></th>\n",
       "      <th>bert_large_cased_-1</th>\n",
       "      <th>openai_transformer_-1</th>\n",
       "      <th>bert_base_cased_-1</th>\n",
       "      <th>elmo_original_-1</th>\n",
       "      <th>calypso_transformer_6_512_base_-1</th>\n",
       "      <th>elmo_4x4096_512_-1</th>\n",
       "      <th>xlnet_large_cased_-1</th>\n",
       "    </tr>\n",
       "  </thead>\n",
       "  <tbody>\n",
       "    <tr>\n",
       "      <th>bert_base_cased_-1</th>\n",
       "      <td>0.618881</td>\n",
       "      <td>0.231544</td>\n",
       "      <td>NaN</td>\n",
       "      <td>0.398434</td>\n",
       "      <td>0.283797</td>\n",
       "      <td>0.395670</td>\n",
       "      <td>0.111919</td>\n",
       "    </tr>\n",
       "    <tr>\n",
       "      <th>bert_large_cased_-1</th>\n",
       "      <td>NaN</td>\n",
       "      <td>0.222714</td>\n",
       "      <td>0.618881</td>\n",
       "      <td>0.355637</td>\n",
       "      <td>0.265154</td>\n",
       "      <td>0.353370</td>\n",
       "      <td>0.121464</td>\n",
       "    </tr>\n",
       "    <tr>\n",
       "      <th>calypso_transformer_6_512_base_-1</th>\n",
       "      <td>0.265154</td>\n",
       "      <td>0.453536</td>\n",
       "      <td>0.283797</td>\n",
       "      <td>0.652646</td>\n",
       "      <td>NaN</td>\n",
       "      <td>0.654422</td>\n",
       "      <td>0.139940</td>\n",
       "    </tr>\n",
       "    <tr>\n",
       "      <th>elmo_4x4096_512_-1</th>\n",
       "      <td>0.353370</td>\n",
       "      <td>0.579255</td>\n",
       "      <td>0.395670</td>\n",
       "      <td>0.900539</td>\n",
       "      <td>0.654422</td>\n",
       "      <td>NaN</td>\n",
       "      <td>0.196502</td>\n",
       "    </tr>\n",
       "    <tr>\n",
       "      <th>elmo_original_-1</th>\n",
       "      <td>0.355637</td>\n",
       "      <td>0.576218</td>\n",
       "      <td>0.398434</td>\n",
       "      <td>NaN</td>\n",
       "      <td>0.652646</td>\n",
       "      <td>0.900539</td>\n",
       "      <td>0.196594</td>\n",
       "    </tr>\n",
       "    <tr>\n",
       "      <th>openai_transformer_-1</th>\n",
       "      <td>0.222714</td>\n",
       "      <td>NaN</td>\n",
       "      <td>0.231544</td>\n",
       "      <td>0.576218</td>\n",
       "      <td>0.453536</td>\n",
       "      <td>0.579255</td>\n",
       "      <td>0.168407</td>\n",
       "    </tr>\n",
       "    <tr>\n",
       "      <th>xlnet_large_cased_-1</th>\n",
       "      <td>0.121464</td>\n",
       "      <td>0.168407</td>\n",
       "      <td>0.111919</td>\n",
       "      <td>0.196594</td>\n",
       "      <td>0.139940</td>\n",
       "      <td>0.196502</td>\n",
       "      <td>NaN</td>\n",
       "    </tr>\n",
       "  </tbody>\n",
       "</table>\n",
       "</div>"
      ],
      "text/plain": [
       "                                   bert_large_cased_-1  openai_transformer_-1  \\\n",
       "bert_base_cased_-1                            0.618881               0.231544   \n",
       "bert_large_cased_-1                                NaN               0.222714   \n",
       "calypso_transformer_6_512_base_-1             0.265154               0.453536   \n",
       "elmo_4x4096_512_-1                            0.353370               0.579255   \n",
       "elmo_original_-1                              0.355637               0.576218   \n",
       "openai_transformer_-1                         0.222714                    NaN   \n",
       "xlnet_large_cased_-1                          0.121464               0.168407   \n",
       "\n",
       "                                   bert_base_cased_-1  elmo_original_-1  \\\n",
       "bert_base_cased_-1                                NaN          0.398434   \n",
       "bert_large_cased_-1                          0.618881          0.355637   \n",
       "calypso_transformer_6_512_base_-1            0.283797          0.652646   \n",
       "elmo_4x4096_512_-1                           0.395670          0.900539   \n",
       "elmo_original_-1                             0.398434               NaN   \n",
       "openai_transformer_-1                        0.231544          0.576218   \n",
       "xlnet_large_cased_-1                         0.111919          0.196594   \n",
       "\n",
       "                                   calypso_transformer_6_512_base_-1  \\\n",
       "bert_base_cased_-1                                          0.283797   \n",
       "bert_large_cased_-1                                         0.265154   \n",
       "calypso_transformer_6_512_base_-1                                NaN   \n",
       "elmo_4x4096_512_-1                                          0.654422   \n",
       "elmo_original_-1                                            0.652646   \n",
       "openai_transformer_-1                                       0.453536   \n",
       "xlnet_large_cased_-1                                        0.139940   \n",
       "\n",
       "                                   elmo_4x4096_512_-1  xlnet_large_cased_-1  \n",
       "bert_base_cased_-1                           0.395670              0.111919  \n",
       "bert_large_cased_-1                          0.353370              0.121464  \n",
       "calypso_transformer_6_512_base_-1            0.654422              0.139940  \n",
       "elmo_4x4096_512_-1                                NaN              0.196502  \n",
       "elmo_original_-1                             0.900539              0.196594  \n",
       "openai_transformer_-1                        0.579255              0.168407  \n",
       "xlnet_large_cased_-1                         0.196502                   NaN  "
      ]
     },
     "execution_count": 8,
     "metadata": {},
     "output_type": "execute_result"
    }
   ],
   "source": [
    "lincka_df = pd.DataFrame(lincka_d)\n",
    "lincka_df"
   ]
  },
  {
   "cell_type": "code",
   "execution_count": 9,
   "metadata": {},
   "outputs": [
    {
     "data": {
      "text/html": [
       "<div>\n",
       "<style scoped>\n",
       "    .dataframe tbody tr th:only-of-type {\n",
       "        vertical-align: middle;\n",
       "    }\n",
       "\n",
       "    .dataframe tbody tr th {\n",
       "        vertical-align: top;\n",
       "    }\n",
       "\n",
       "    .dataframe thead th {\n",
       "        text-align: right;\n",
       "    }\n",
       "</style>\n",
       "<table border=\"1\" class=\"dataframe\">\n",
       "  <thead>\n",
       "    <tr style=\"text-align: right;\">\n",
       "      <th></th>\n",
       "      <th>bert_large_cased_-1</th>\n",
       "      <th>openai_transformer_-1</th>\n",
       "      <th>bert_base_cased_-1</th>\n",
       "      <th>elmo_original_-1</th>\n",
       "      <th>calypso_transformer_6_512_base_-1</th>\n",
       "      <th>elmo_4x4096_512_-1</th>\n",
       "      <th>xlnet_large_cased_-1</th>\n",
       "    </tr>\n",
       "  </thead>\n",
       "  <tbody>\n",
       "    <tr>\n",
       "      <th>bert_base_cased_-1</th>\n",
       "      <td>1.0</td>\n",
       "      <td>4.0</td>\n",
       "      <td>NaN</td>\n",
       "      <td>4.0</td>\n",
       "      <td>4.0</td>\n",
       "      <td>4.0</td>\n",
       "      <td>6.0</td>\n",
       "    </tr>\n",
       "    <tr>\n",
       "      <th>bert_large_cased_-1</th>\n",
       "      <td>NaN</td>\n",
       "      <td>5.0</td>\n",
       "      <td>1.0</td>\n",
       "      <td>5.0</td>\n",
       "      <td>5.0</td>\n",
       "      <td>5.0</td>\n",
       "      <td>5.0</td>\n",
       "    </tr>\n",
       "    <tr>\n",
       "      <th>calypso_transformer_6_512_base_-1</th>\n",
       "      <td>4.0</td>\n",
       "      <td>3.0</td>\n",
       "      <td>4.0</td>\n",
       "      <td>2.0</td>\n",
       "      <td>NaN</td>\n",
       "      <td>2.0</td>\n",
       "      <td>4.0</td>\n",
       "    </tr>\n",
       "    <tr>\n",
       "      <th>elmo_4x4096_512_-1</th>\n",
       "      <td>3.0</td>\n",
       "      <td>1.0</td>\n",
       "      <td>3.0</td>\n",
       "      <td>1.0</td>\n",
       "      <td>1.0</td>\n",
       "      <td>NaN</td>\n",
       "      <td>2.0</td>\n",
       "    </tr>\n",
       "    <tr>\n",
       "      <th>elmo_original_-1</th>\n",
       "      <td>2.0</td>\n",
       "      <td>2.0</td>\n",
       "      <td>2.0</td>\n",
       "      <td>NaN</td>\n",
       "      <td>2.0</td>\n",
       "      <td>1.0</td>\n",
       "      <td>1.0</td>\n",
       "    </tr>\n",
       "    <tr>\n",
       "      <th>openai_transformer_-1</th>\n",
       "      <td>5.0</td>\n",
       "      <td>NaN</td>\n",
       "      <td>5.0</td>\n",
       "      <td>3.0</td>\n",
       "      <td>3.0</td>\n",
       "      <td>3.0</td>\n",
       "      <td>3.0</td>\n",
       "    </tr>\n",
       "    <tr>\n",
       "      <th>xlnet_large_cased_-1</th>\n",
       "      <td>6.0</td>\n",
       "      <td>6.0</td>\n",
       "      <td>6.0</td>\n",
       "      <td>6.0</td>\n",
       "      <td>6.0</td>\n",
       "      <td>6.0</td>\n",
       "      <td>NaN</td>\n",
       "    </tr>\n",
       "  </tbody>\n",
       "</table>\n",
       "</div>"
      ],
      "text/plain": [
       "                                   bert_large_cased_-1  openai_transformer_-1  \\\n",
       "bert_base_cased_-1                                 1.0                    4.0   \n",
       "bert_large_cased_-1                                NaN                    5.0   \n",
       "calypso_transformer_6_512_base_-1                  4.0                    3.0   \n",
       "elmo_4x4096_512_-1                                 3.0                    1.0   \n",
       "elmo_original_-1                                   2.0                    2.0   \n",
       "openai_transformer_-1                              5.0                    NaN   \n",
       "xlnet_large_cased_-1                               6.0                    6.0   \n",
       "\n",
       "                                   bert_base_cased_-1  elmo_original_-1  \\\n",
       "bert_base_cased_-1                                NaN               4.0   \n",
       "bert_large_cased_-1                               1.0               5.0   \n",
       "calypso_transformer_6_512_base_-1                 4.0               2.0   \n",
       "elmo_4x4096_512_-1                                3.0               1.0   \n",
       "elmo_original_-1                                  2.0               NaN   \n",
       "openai_transformer_-1                             5.0               3.0   \n",
       "xlnet_large_cased_-1                              6.0               6.0   \n",
       "\n",
       "                                   calypso_transformer_6_512_base_-1  \\\n",
       "bert_base_cased_-1                                               4.0   \n",
       "bert_large_cased_-1                                              5.0   \n",
       "calypso_transformer_6_512_base_-1                                NaN   \n",
       "elmo_4x4096_512_-1                                               1.0   \n",
       "elmo_original_-1                                                 2.0   \n",
       "openai_transformer_-1                                            3.0   \n",
       "xlnet_large_cased_-1                                             6.0   \n",
       "\n",
       "                                   elmo_4x4096_512_-1  xlnet_large_cased_-1  \n",
       "bert_base_cased_-1                                4.0                   6.0  \n",
       "bert_large_cased_-1                               5.0                   5.0  \n",
       "calypso_transformer_6_512_base_-1                 2.0                   4.0  \n",
       "elmo_4x4096_512_-1                                NaN                   2.0  \n",
       "elmo_original_-1                                  1.0                   1.0  \n",
       "openai_transformer_-1                             3.0                   3.0  \n",
       "xlnet_large_cased_-1                              6.0                   NaN  "
      ]
     },
     "execution_count": 9,
     "metadata": {},
     "output_type": "execute_result"
    }
   ],
   "source": [
    "lincka_df.rank(ascending=False)"
   ]
  },
  {
   "cell_type": "markdown",
   "metadata": {},
   "source": [
    "### Comparison"
   ]
  },
  {
   "cell_type": "code",
   "execution_count": 25,
   "metadata": {},
   "outputs": [
    {
     "name": "stdout",
     "output_type": "stream",
     "text": [
      "DescribeResult(nobs=42, minmax=(masked_array(data=0.01685224,\n",
      "             mask=False,\n",
      "       fill_value=1e+20), masked_array(data=0.09060572,\n",
      "             mask=False,\n",
      "       fill_value=1e+20)), mean=0.04640122345136186, variance=0.000706631474369195, skewness=masked_array(data=0.41839655,\n",
      "             mask=False,\n",
      "       fill_value=1e+20), kurtosis=-1.5128843085681094)\n"
     ]
    }
   ],
   "source": [
    "# lincka and rbfcka are pretty close..\n",
    "stats.describe(rbfcka_df.to_numpy().ravel() - lincka_df.to_numpy().ravel(), nan_policy='omit')"
   ]
  },
  {
   "cell_type": "markdown",
   "metadata": {},
   "source": [
    "# Heatmap"
   ]
  },
  {
   "cell_type": "code",
   "execution_count": 28,
   "metadata": {},
   "outputs": [
    {
     "data": {
      "text/plain": [
       "<Figure size 1440x576 with 0 Axes>"
      ]
     },
     "execution_count": 28,
     "metadata": {},
     "output_type": "execute_result"
    },
    {
     "data": {
      "text/plain": [
       "<Figure size 1440x576 with 0 Axes>"
      ]
     },
     "metadata": {},
     "output_type": "display_data"
    }
   ],
   "source": [
    "plt.figure(figsize=(20, 8))"
   ]
  },
  {
   "cell_type": "code",
   "execution_count": 29,
   "metadata": {},
   "outputs": [
    {
     "data": {
      "text/plain": [
       "<matplotlib.axes._subplots.AxesSubplot at 0x7f42b973a208>"
      ]
     },
     "execution_count": 29,
     "metadata": {},
     "output_type": "execute_result"
    },
    {
     "data": {
      "image/png": "[encoded data removed]",
      "text/plain": [
       "<Figure size 432x288 with 2 Axes>"
      ]
     },
     "metadata": {
      "needs_background": "light"
     },
     "output_type": "display_data"
    }
   ],
   "source": [
    "sns.heatmap(rbfcka_df)"
   ]
  },
  {
   "cell_type": "code",
   "execution_count": 11,
   "metadata": {},
   "outputs": [
    {
     "data": {
      "text/plain": [
       "<matplotlib.axes._subplots.AxesSubplot at 0x7f42b9bc6ac8>"
      ]
     },
     "execution_count": 11,
     "metadata": {},
     "output_type": "execute_result"
    },
    {
     "data": {
      "image/png": "[encoded data removed]",
      "text/plain": [
       "<Figure size 432x288 with 2 Axes>"
      ]
     },
     "metadata": {
      "needs_background": "light"
     },
     "output_type": "display_data"
    }
   ],
   "source": [
    "sns.heatmap(lincka_df)"
   ]
  }
 ],
 "metadata": {
  "kernelspec": {
   "display_name": "Python [conda env:jmw0]",
   "language": "python",
   "name": "conda-env-jmw0-py"
  },
  "language_info": {
   "codemirror_mode": {
    "name": "ipython",
    "version": 3
   },
   "file_extension": ".py",
   "mimetype": "text/x-python",
   "name": "python",
   "nbconvert_exporter": "python",
   "pygments_lexer": "ipython3",
   "version": "3.7.3"
  }
 },
 "nbformat": 4,
 "nbformat_minor": 2
}
