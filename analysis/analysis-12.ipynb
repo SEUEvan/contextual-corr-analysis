{
 "cells": [
  {
   "cell_type": "code",
   "execution_count": 1,
   "metadata": {},
   "outputs": [],
   "source": [
    "import pickle\n",
    "import matplotlib.pyplot as plt\n",
    "import numpy as np\n",
    "import pandas as pd\n",
    "import seaborn as sns\n",
    "from ipywidgets import interactive, IntSlider"
   ]
  },
  {
   "cell_type": "code",
   "execution_count": 2,
   "metadata": {},
   "outputs": [],
   "source": [
    "size_l = [\n",
    "    5000,\n",
    "    10000,\n",
    "    15000,\n",
    "    20000,\n",
    "]"
   ]
  },
  {
   "cell_type": "code",
   "execution_count": 3,
   "metadata": {},
   "outputs": [],
   "source": [
    "# Set `res_d`, `network_l`, `num_neurons_d`\n",
    "base = \"/data/sls/temp/johnmwu/contextual-corr-analysis/results12-\"\n",
    "res_fname = {size : \"{0}{1}_rbfcka\".format(base, size) for size in \n",
    "                size_l}\n",
    "\n",
    "res_d = {}\n",
    "for size in size_l:\n",
    "    with open(res_fname[size], 'rb') as f:\n",
    "        res_d[size] = pickle.load(f)"
   ]
  },
  {
   "cell_type": "markdown",
   "metadata": {},
   "source": [
    "# RBFCKA"
   ]
  },
  {
   "cell_type": "code",
   "execution_count": 4,
   "metadata": {},
   "outputs": [],
   "source": [
    "res_df_d = {}\n",
    "for size in size_l:\n",
    "    res_df_d[size] = pd.DataFrame(res_d[size][\"similarities\"])\n",
    "    res_df_d[size] = res_df_d[size].reindex(res_df_d[size].columns)"
   ]
  },
  {
   "cell_type": "code",
   "execution_count": 5,
   "metadata": {},
   "outputs": [],
   "source": [
    "def rbfcka_update(size):\n",
    "    fname = \"temp_rbfcka_{0}\".format(size)\n",
    "    try:\n",
    "        plt.imshow(fname)\n",
    "    except:\n",
    "        df = res_df_d[size]\n",
    "        sns.heatmap(df.fillna(1), vmin=0, vmax=1)\n",
    "        # sns.heatmap(df.fillna(1), )\n",
    "        plt.savefig(fname)\n",
    "    \n",
    "    plt.show()"
   ]
  },
  {
   "cell_type": "code",
   "execution_count": 6,
   "metadata": {},
   "outputs": [
    {
     "data": {
      "application/vnd.jupyter.widget-view+json": {
       "model_id": "1b000a87cf8b47618ccf87d73fd8dca3",
       "version_major": 2,
       "version_minor": 0
      },
      "text/plain": [
       "interactive(children=(IntSlider(value=5000, description='size', max=20000, min=5000, step=5000), Output()), _d…"
      ]
     },
     "metadata": {},
     "output_type": "display_data"
    }
   ],
   "source": [
    "plt.rcParams[\"figure.figsize\"] = (20,15)\n",
    "slider = IntSlider(5000, 5000, 20000, 5000)\n",
    "interactive(rbfcka_update, size=slider)"
   ]
  }
 ],
 "metadata": {
  "kernelspec": {
   "display_name": "Python [conda env:jmw0]",
   "language": "python",
   "name": "conda-env-jmw0-py"
  },
  "language_info": {
   "codemirror_mode": {
    "name": "ipython",
    "version": 3
   },
   "file_extension": ".py",
   "mimetype": "text/x-python",
   "name": "python",
   "nbconvert_exporter": "python",
   "pygments_lexer": "ipython3",
   "version": "3.6.8"
  }
 },
 "nbformat": 4,
 "nbformat_minor": 2
}
