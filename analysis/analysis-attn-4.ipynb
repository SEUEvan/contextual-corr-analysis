{
 "cells": [
  {
   "cell_type": "code",
   "execution_count": 1,
   "metadata": {},
   "outputs": [
    {
     "ename": "ModuleNotFoundError",
     "evalue": "No module named 'torch'",
     "output_type": "error",
     "traceback": [
      "\u001b[0;31m---------------------------------------------------------------------------\u001b[0m",
      "\u001b[0;31mModuleNotFoundError\u001b[0m                       Traceback (most recent call last)",
      "\u001b[0;32m<ipython-input-1-57a72c0550f3>\u001b[0m in \u001b[0;36m<module>\u001b[0;34m\u001b[0m\n\u001b[1;32m      4\u001b[0m \u001b[0;32mimport\u001b[0m \u001b[0mpandas\u001b[0m \u001b[0;32mas\u001b[0m \u001b[0mpd\u001b[0m\u001b[0;34m\u001b[0m\u001b[0;34m\u001b[0m\u001b[0m\n\u001b[1;32m      5\u001b[0m \u001b[0;32mfrom\u001b[0m \u001b[0mos\u001b[0m\u001b[0;34m.\u001b[0m\u001b[0mpath\u001b[0m \u001b[0;32mimport\u001b[0m \u001b[0mbasename\u001b[0m\u001b[0;34m,\u001b[0m \u001b[0mdirname\u001b[0m\u001b[0;34m\u001b[0m\u001b[0;34m\u001b[0m\u001b[0m\n\u001b[0;32m----> 6\u001b[0;31m \u001b[0;32mimport\u001b[0m \u001b[0mtorch\u001b[0m\u001b[0;34m\u001b[0m\u001b[0;34m\u001b[0m\u001b[0m\n\u001b[0m\u001b[1;32m      7\u001b[0m \u001b[0;32mimport\u001b[0m \u001b[0mseaborn\u001b[0m \u001b[0;32mas\u001b[0m \u001b[0msns\u001b[0m\u001b[0;34m\u001b[0m\u001b[0;34m\u001b[0m\u001b[0m\n\u001b[1;32m      8\u001b[0m \u001b[0;32mfrom\u001b[0m \u001b[0mipywidgets\u001b[0m \u001b[0;32mimport\u001b[0m \u001b[0mFloatSlider\u001b[0m\u001b[0;34m,\u001b[0m \u001b[0minteractive\u001b[0m\u001b[0;34m\u001b[0m\u001b[0;34m\u001b[0m\u001b[0m\n",
      "\u001b[0;31mModuleNotFoundError\u001b[0m: No module named 'torch'"
     ]
    }
   ],
   "source": [
    "import pickle\n",
    "import matplotlib.pyplot as plt\n",
    "import numpy as np\n",
    "import pandas as pd\n",
    "from os.path import basename, dirname\n",
    "import torch\n",
    "import seaborn as sns\n",
    "from ipywidgets import FloatSlider, interactive\n",
    "from var import fname2mname, network2pair, network_sort_key"
   ]
  },
  {
   "cell_type": "code",
   "execution_count": null,
   "metadata": {},
   "outputs": [],
   "source": [
    "method_l = [\n",
    "    \"maxcorr\", \n",
    "    \"mincorr\", \n",
    "    # \"maxlinreg\", \n",
    "    # \"minlinreg\", \n",
    "    # \"cca\", \n",
    "    # \"lincka\", \n",
    "    # \"rbfcka\",\n",
    "]"
   ]
  },
  {
   "cell_type": "code",
   "execution_count": null,
   "metadata": {},
   "outputs": [],
   "source": [
    "# Set `res_d`, `network_l`, `num_neurons_d`\n",
    "base = \"/data/sls/temp/belinkov/contextual-corr-analysis/attn_results4_\"\n",
    "res_fname = {method : base + method for method in \n",
    "                method_l}\n",
    "\n",
    "res_d = {}\n",
    "for method in method_l:\n",
    "    with open(res_fname[method], 'rb') as f:\n",
    "        res_d[method] = pickle.load(f)\n",
    "\n",
    "network_l = [network for network in res_d[\"maxcorr\"][\"corrs\"]]\n",
    "\n",
    "num_heads_d = {}\n",
    "for network in network_l:\n",
    "    num_heads_d[network] = len(next(iter(res_d[\"maxcorr\"][\"corrs\"][network].values()))) # god this is a hack"
   ]
  },
  {
   "cell_type": "markdown",
   "metadata": {},
   "source": [
    "# DataFrames"
   ]
  },
  {
   "cell_type": "code",
   "execution_count": null,
   "metadata": {},
   "outputs": [],
   "source": [
    "maxcorr_df = pd.DataFrame(res_d[\"maxcorr\"][\"similarities\"])\n",
    "maxcorr_df = maxcorr_df.reindex(maxcorr_df.columns)"
   ]
  },
  {
   "cell_type": "code",
   "execution_count": null,
   "metadata": {},
   "outputs": [],
   "source": [
    "mincorr_df = pd.DataFrame(res_d[\"mincorr\"][\"similarities\"])\n",
    "mincorr_df = mincorr_df.reindex(mincorr_df.columns)"
   ]
  },
  {
   "cell_type": "markdown",
   "metadata": {},
   "source": [
    "# Heatmaps"
   ]
  },
  {
   "cell_type": "code",
   "execution_count": null,
   "metadata": {},
   "outputs": [],
   "source": [
    "plt.rcParams[\"figure.figsize\"] = (20,15)"
   ]
  },
  {
   "cell_type": "code",
   "execution_count": null,
   "metadata": {},
   "outputs": [],
   "source": [
    "sns.heatmap(maxcorr_df.fillna(1), vmin=0, vmax=1)"
   ]
  },
  {
   "cell_type": "code",
   "execution_count": null,
   "metadata": {},
   "outputs": [],
   "source": [
    "torch.norm?"
   ]
  },
  {
   "cell_type": "code",
   "execution_count": null,
   "metadata": {},
   "outputs": [],
   "source": [
    "def corrs_update(fl, corr_df, fname_prefix, weights_df=None):\n",
    "    fname = \"{0}{1:.2f}.png\".format(fname_prefix, fl)\n",
    "    try:\n",
    "        im = plt.imread(fname)\n",
    "        plt.imshow(im)\n",
    "    except:\n",
    "        if weights_df is None: # eg. svcca, don't need to do special division\n",
    "            df = corr_df.applymap(lambda t: float('nan') if type(t) is float else \n",
    "                                              t[:int(fl*len(t))].mean())\n",
    "        else:\n",
    "            denominator_df = weights_df.applymap(lambda t: float('nan') if type(t) is float else \n",
    "                                                             t[:int(fl*len(t))].sum())\n",
    "            df = corr_df.applymap(lambda t: float('nan') if type(t) is float else\n",
    "                                            t[:int(fl*len(t))].sum())\n",
    "            df /= denominator_df\n",
    "        sns.heatmap(df.fillna(1), vmin=0, vmax=1)\n",
    "        # sns.heatmap(df.fillna(1), )\n",
    "        plt.savefig(fname, transparent=True)\n",
    "        plt.show()"
   ]
  },
  {
   "cell_type": "code",
   "execution_count": null,
   "metadata": {},
   "outputs": [],
   "source": [
    "# interactive for maxmincorr\n",
    "maxmin_corrs = res_d['maxcorr']['corrs']\n",
    "maxmin_corrs_df = pd.DataFrame(maxmin_corrs).applymap(lambda a: float('nan') if type(a) is float else -np.sort(-a)) # np sort has no reverse keyword\n",
    "maxmin_corrs_df = maxmin_corrs_df.reindex(maxmin_corrs_df.columns)\n",
    "def maxmincorr_update(fl):\n",
    "    corrs_update(fl, maxmin_corrs_df, \"temp_maxmincorr_attn_8_\", weights_df=None)\n",
    "slider = FloatSlider(min=0, max=1, step=0.2)\n",
    "interactive(maxmincorr_update, fl=slider)"
   ]
  }
 ],
 "metadata": {
  "kernelspec": {
   "display_name": "Python 3",
   "language": "python",
   "name": "python3"
  },
  "language_info": {
   "codemirror_mode": {
    "name": "ipython",
    "version": 3
   },
   "file_extension": ".py",
   "mimetype": "text/x-python",
   "name": "python",
   "nbconvert_exporter": "python",
   "pygments_lexer": "ipython3",
   "version": "3.7.3"
  }
 },
 "nbformat": 4,
 "nbformat_minor": 2
}
